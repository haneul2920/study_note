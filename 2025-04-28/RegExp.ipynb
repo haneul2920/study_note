{
 "cells": [
  {
   "cell_type": "code",
   "execution_count": 10,
   "id": "ffbb920c-0178-4c0c-b3f8-389aae6e5c84",
   "metadata": {},
   "outputs": [
    {
     "name": "stdout",
     "output_type": "stream",
     "text": [
      "\n",
      "park 800905-*******\n",
      "kim 700905-*******\n",
      "\n"
     ]
    },
    {
     "name": "stderr",
     "output_type": "stream",
     "text": [
      "<>:8: SyntaxWarning: invalid escape sequence '\\d'\n",
      "<>:10: SyntaxWarning: invalid escape sequence '\\g'\n",
      "<>:8: SyntaxWarning: invalid escape sequence '\\d'\n",
      "<>:10: SyntaxWarning: invalid escape sequence '\\g'\n",
      "C:\\Users\\admin\\AppData\\Local\\Temp\\ipykernel_6832\\3102030966.py:8: SyntaxWarning: invalid escape sequence '\\d'\n",
      "  pat = re.compile(\"(\\d{6})[-]\\d{7}\")\n",
      "C:\\Users\\admin\\AppData\\Local\\Temp\\ipykernel_6832\\3102030966.py:10: SyntaxWarning: invalid escape sequence '\\g'\n",
      "  print(pat.sub(\"\\g<1>-*******\", data))\n"
     ]
    }
   ],
   "source": [
    "import re\n",
    "\n",
    "data = \"\"\"\n",
    "park 800905-1049118\n",
    "kim 700905-1059119\n",
    "\"\"\"\n",
    "\n",
    "pat = re.compile(\"(\\d{6})[-]\\d{7}\")\n",
    "\n",
    "print(pat.sub(\"\\g<1>-*******\", data))"
   ]
  }
 ],
 "metadata": {
  "kernelspec": {
   "display_name": "Python 3 (ipykernel)",
   "language": "python",
   "name": "python3"
  },
  "language_info": {
   "codemirror_mode": {
    "name": "ipython",
    "version": 3
   },
   "file_extension": ".py",
   "mimetype": "text/x-python",
   "name": "python",
   "nbconvert_exporter": "python",
   "pygments_lexer": "ipython3",
   "version": "3.12.7"
  }
 },
 "nbformat": 4,
 "nbformat_minor": 5
}
