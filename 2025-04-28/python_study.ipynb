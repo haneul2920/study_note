{
 "cells": [
  {
   "cell_type": "code",
   "execution_count": 1,
   "id": "56de3262-9e2b-42de-acf5-e56e4416befc",
   "metadata": {},
   "outputs": [
    {
     "data": {
      "text/plain": [
       "2"
      ]
     },
     "execution_count": 1,
     "metadata": {},
     "output_type": "execute_result"
    }
   ],
   "source": [
    "a = \"hobby\"\n",
    "a.count('b')"
   ]
  },
  {
   "cell_type": "code",
   "execution_count": 6,
   "id": "c2a88731-04bf-4c73-b595-3be27ee02991",
   "metadata": {},
   "outputs": [
    {
     "data": {
      "text/plain": [
       "14"
      ]
     },
     "execution_count": 6,
     "metadata": {},
     "output_type": "execute_result"
    }
   ],
   "source": [
    "a = \"Python is the best choice\"\n",
    "a.find('b')\n"
   ]
  },
  {
   "cell_type": "code",
   "execution_count": 7,
   "id": "86148fd6-38d4-4f35-be1d-7eb441486d85",
   "metadata": {},
   "outputs": [
    {
     "data": {
      "text/plain": [
       "-1"
      ]
     },
     "execution_count": 7,
     "metadata": {},
     "output_type": "execute_result"
    }
   ],
   "source": [
    "a = \"Python is the best choice\"\n",
    "\n",
    "\n",
    "a.find('k')"
   ]
  },
  {
   "cell_type": "code",
   "execution_count": 8,
   "id": "22d9a4fc-83e0-42d7-88dd-53d9547e5a06",
   "metadata": {},
   "outputs": [
    {
     "data": {
      "text/plain": [
       "8"
      ]
     },
     "execution_count": 8,
     "metadata": {},
     "output_type": "execute_result"
    }
   ],
   "source": [
    "a = \"Life is too short\"\n",
    "a.index('t')"
   ]
  },
  {
   "cell_type": "code",
   "execution_count": 9,
   "id": "ba172301-ca4b-4f53-8ae1-29f658231a04",
   "metadata": {},
   "outputs": [
    {
     "ename": "ValueError",
     "evalue": "substring not found",
     "output_type": "error",
     "traceback": [
      "\u001b[1;31m---------------------------------------------------------------------------\u001b[0m",
      "\u001b[1;31mValueError\u001b[0m                                Traceback (most recent call last)",
      "Cell \u001b[1;32mIn[9], line 2\u001b[0m\n\u001b[0;32m      1\u001b[0m a \u001b[38;5;241m=\u001b[39m \u001b[38;5;124m\"\u001b[39m\u001b[38;5;124mLife is too short\u001b[39m\u001b[38;5;124m\"\u001b[39m\n\u001b[1;32m----> 2\u001b[0m a\u001b[38;5;241m.\u001b[39mindex(\u001b[38;5;124m'\u001b[39m\u001b[38;5;124mk\u001b[39m\u001b[38;5;124m'\u001b[39m)\n",
      "\u001b[1;31mValueError\u001b[0m: substring not found"
     ]
    }
   ],
   "source": [
    "a = \"Life is too short\"\n",
    "a.index('k')"
   ]
  },
  {
   "cell_type": "code",
   "execution_count": 11,
   "id": "b03d28be-8b9c-48d5-840f-ece3f1d5bd6e",
   "metadata": {},
   "outputs": [],
   "source": [
    "a = {'name': 'pey', 'phone': '010-2222-2222', 'birth': '1118'}\n"
   ]
  },
  {
   "cell_type": "code",
   "execution_count": 14,
   "id": "daf0e032-a201-4b08-8901-4232c2ebb661",
   "metadata": {},
   "outputs": [
    {
     "data": {
      "text/plain": [
       "dict_keys(['name', 'phone', 'birth'])"
      ]
     },
     "execution_count": 14,
     "metadata": {},
     "output_type": "execute_result"
    }
   ],
   "source": [
    "a.keys()"
   ]
  },
  {
   "cell_type": "code",
   "execution_count": 16,
   "id": "d8b7913e-eda8-4a64-a9e0-afd4f194a626",
   "metadata": {},
   "outputs": [
    {
     "name": "stdout",
     "output_type": "stream",
     "text": [
      "name\n",
      "phone\n",
      "birth\n"
     ]
    }
   ],
   "source": [
    "for i in a.keys():\n",
    "    print(i)"
   ]
  },
  {
   "cell_type": "code",
   "execution_count": 17,
   "id": "dd4d6d2f-7d7b-4360-975e-a88e9d7b1e6c",
   "metadata": {},
   "outputs": [
    {
     "data": {
      "text/plain": [
       "dict_values(['pey', '010-2222-2222', '1118'])"
      ]
     },
     "execution_count": 17,
     "metadata": {},
     "output_type": "execute_result"
    }
   ],
   "source": [
    "a.values()"
   ]
  },
  {
   "cell_type": "code",
   "execution_count": 18,
   "id": "087538a7-0723-4cd1-b661-a447aaca41e1",
   "metadata": {},
   "outputs": [
    {
     "name": "stdout",
     "output_type": "stream",
     "text": [
      "pey\n",
      "010-2222-2222\n",
      "1118\n"
     ]
    }
   ],
   "source": [
    "for j in a.values():\n",
    "    print(j)"
   ]
  },
  {
   "cell_type": "code",
   "execution_count": 3,
   "id": "cc4761b6-af51-4233-bdea-1ec206983c7e",
   "metadata": {},
   "outputs": [
    {
     "data": {
      "text/plain": [
       "[1, 2, 3]"
      ]
     },
     "execution_count": 3,
     "metadata": {},
     "output_type": "execute_result"
    }
   ],
   "source": [
    "s1 = ([1,2,3])\n",
    "s1\n"
   ]
  },
  {
   "cell_type": "code",
   "execution_count": 12,
   "id": "3374ef29-c7bd-4e1b-9350-8e57f32528e5",
   "metadata": {},
   "outputs": [
    {
     "name": "stdout",
     "output_type": "stream",
     "text": [
      "C:/Users/admin/Documents/카카오톡 받은 파일/Prosthesis_CAPA_분석2.xlsx 파일에 저장되었습니다.\n"
     ]
    }
   ],
   "source": [
    "import pandas as pd\n",
    "\n",
    "def process_prosthesis_capa(input_file, output_file, 정규시간=8, 월단위_워킹데이=17):\n",
    "\n",
    "    xls = pd.ExcelFile(input_file)\n",
    "    df_production = pd.read_excel(xls, sheet_name=\"생산 실적 현황(20250130)\")\n",
    "    \n",
    "\n",
    "    df_prosthesis = df_production[df_production[\"품목구분\"] == \"Prosthesis\"].copy()\n",
    "    \n",
    "\n",
    "    df_prosthesis_grouped = df_prosthesis.groupby(\"공정\").agg(\n",
    "        설비배정=(\"설비 고유번호\", \"nunique\"),  \n",
    "        인원수=(\"작업자-1\", \"nunique\"),  \n",
    "        총작업시간=(\"총작업(H)\", \"sum\"),  \n",
    "        비가동시간=(\"비가동(H)\", \"sum\"),  \n",
    "        C_T=(\"C.T\", \"mean\")  \n",
    "    ).reset_index()\n",
    "    \n",
    "\n",
    "    df_prosthesis_grouped.rename(columns={\n",
    "        \"공정\": \"구분\",\n",
    "        \"설비배정\": \"설비 배정\",\n",
    "        \"인원수\": \"인원수\",\n",
    "        \"총작업시간\": \"총 작업 시간(H)\",\n",
    "        \"비가동시간\": \"비가동 시간(H)\",\n",
    "        \"C_T\": \"평균 C.T\"\n",
    "    }, inplace=True)\n",
    "    \n",
    "    df_prosthesis_grouped[\"1H CAPA\"] = (3600 / df_prosthesis_grouped[\"평균 C.T\"]) * df_prosthesis_grouped[\"설비 배정\"]\n",
    "    df_prosthesis_grouped[\"일일 CAPA\"] = df_prosthesis_grouped[\"1H CAPA\"] * 정규시간\n",
    "    df_prosthesis_grouped[\"월간 CAPA\"] = df_prosthesis_grouped[\"일일 CAPA\"] * 월단위_워킹데이\n",
    "    \n",
    "\n",
    "    with pd.ExcelWriter(output_file, engine='xlsxwriter') as writer:\n",
    "        df_prosthesis_grouped.to_excel(writer, sheet_name=\"Prosthesis_CAPA\", index=False)\n",
    "    \n",
    "    print(f\"{output_file} 파일에 저장되었습니다.\")\n",
    "\n",
    "input_excel = \"C:/Users/admin/Documents/카카오톡 받은 파일/25년 01월 실적 기준_CAPACITY 분석.xlsx\"\n",
    "output_excel = \"C:/Users/admin/Documents/카카오톡 받은 파일/Prosthesis_CAPA_분석2.xlsx\"\n",
    "process_prosthesis_capa(input_excel, output_excel)\n"
   ]
  },
  {
   "cell_type": "code",
   "execution_count": null,
   "id": "c916e30e-40b4-4740-8453-5c80217402f7",
   "metadata": {},
   "outputs": [],
   "source": []
  }
 ],
 "metadata": {
  "kernelspec": {
   "display_name": "Python 3 (ipykernel)",
   "language": "python",
   "name": "python3"
  },
  "language_info": {
   "codemirror_mode": {
    "name": "ipython",
    "version": 3
   },
   "file_extension": ".py",
   "mimetype": "text/x-python",
   "name": "python",
   "nbconvert_exporter": "python",
   "pygments_lexer": "ipython3",
   "version": "3.12.7"
  }
 },
 "nbformat": 4,
 "nbformat_minor": 5
}
