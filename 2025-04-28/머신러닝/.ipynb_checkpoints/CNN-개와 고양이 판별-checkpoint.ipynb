{
 "cells": [
  {
   "cell_type": "markdown",
   "id": "cf1f5204-c662-494d-b137-eb45d34d9cb8",
   "metadata": {},
   "source": [
    "## Data for cats vs. dogs\n",
    "- 2013년 Kaggle의 computer vision competition data 활용 https://www.kaggle.com/c/dogs-vs-cats/data\n",
    "- 개와 고양이를 구분하기 위한 문제로 각 12,500개의 이미지를 포함\n",
    "- Medium-resolution color JPEGs\n",
    "- 25000장의 사진 중 4000장의 cats/dogs 사진(2000 cats, 2000 dogs) 만을 사용하여 학습하여 좋은 모형을 만들어 낼 수 있을까?\n",
    "    - 2000 for training, 1000 for validation, 1000 for testing \n",
    "- `git pull` 실행 후 `data` folder에서 `unzip cats_and_dogs_small.zip -d ./cats_and_dogs_small` 명령어 실행하면 `cats_and dogs_small` 폴더에 데이터 압축이 해제됨\n",
    "![cats_vs_dogs_samples](https://s3.amazonaws.com/book.keras.io/img/ch5/cats_vs_dogs_samples.jpg)"
   ]
  },
  {
   "cell_type": "markdown",
   "id": "83467f0b-9951-4b41-840b-fc9f85b40490",
   "metadata": {},
   "source": [
    "## Build a network\n",
    "\n",
    "- Input: $150 \\times 150$ 픽셀의 RGB layer \n",
    "- Output: cat or dog (binary classification with sigmoid activation) \n",
    "- Hidden layers:  `Conv2D`(with `relu` activation) + `MaxPooling2D`"
   ]
  },
  {
   "cell_type": "markdown",
   "id": "ac4a9323-0e0d-45cf-ba66-539f210d5d84",
   "metadata": {},
   "source": [
    "## Data preprocessing\n",
    "\n",
    "- CNN 입력을 위한 이미지 전처리 단계 \n",
    "    * 사진 파일 읽기\n",
    "    * JPEG content를 RBG 픽셀 값으로 디코딩\n",
    "    * floating point tensor 형태로 변환 \n",
    "    * 0-255 사이의 값을 가지는 픽셀 값을 [0,1] 사이 값으로 변환\n",
    "\n",
    "- `tensorflow.keras.preprocessing.image.ImageDataGenerator`를 사용하여 자동으로 입력 가능한 형태로 변환할 수 있음"
   ]
  },
  {
   "cell_type": "code",
   "execution_count": null,
   "id": "3ab4bccd-cb63-4eaf-9889-e141dff14608",
   "metadata": {},
   "outputs": [],
   "source": [
    "import tensorflow as tf\n",
    "from tensorflow.keras import layers, models\n",
    "from tensorflow.keras.preprocessing.image import ImageDataGenerator\n",
    "from tensorflow.keras.preprocessing import image\n",
    "import numpy as np\n",
    "import matplotlib.pyplot as plt"
   ]
  },
  {
   "cell_type": "markdown",
   "id": "caef0bf9-6b6f-4c78-a990-d511420c4750",
   "metadata": {},
   "source": [
    "### 데이터 로드 및 전처리"
   ]
  },
  {
   "cell_type": "code",
   "execution_count": null,
   "id": "03e9ca1c-30d3-4bc1-b7da-0674b8b69304",
   "metadata": {},
   "outputs": [],
   "source": [
    "# train, validation, test 이미지가 들어있는 폴더 경로를 지정\n",
    "train_dir = './data/cats_and_dogs_small/train'\n",
    "validation_dir = './data/cats_and_dogs_small/validation'\n",
    "test_dir = './data/cats_and_dogs_small/test'"
   ]
  },
  {
   "cell_type": "markdown",
   "id": "a79fa96e-0a50-4a39-acb2-d896caa38f74",
   "metadata": {},
   "source": [
    "### 훈련 데이터 전처리 및 증강"
   ]
  },
  {
   "cell_type": "code",
   "execution_count": null,
   "id": "5e9f414b-71df-446e-8c44-ac7c1a641582",
   "metadata": {},
   "outputs": [],
   "source": [
    "train_datagen = ImageDataGenerator(\n",
    "    rescale=1./255,          # 픽셀 값을 0과 1 사이로 정규화\n",
    "    shear_range=0.2,         # 이미지 기울이기\n",
    "    zoom_range=0.2,          # 이미지 확대/축소\n",
    "    horizontal_flip=True     # 수평 반전\n",
    ")\n",
    "\n",
    "# 검증 및 테스트 데이터 전처리\n",
    "test_datagen = ImageDataGenerator(rescale=1./255)\n",
    "\n",
    "# 훈련 데이터 생성\n",
    "train_generator = train_datagen.flow_from_directory(\n",
    "    train_dir,\n",
    "    target_size=(150, 150),  # 이미지 크기 변경\n",
    "    batch_size=32,\n",
    "    class_mode='binary'      # 개와 고양이를 구별하므로 이진 분류\n",
    ")\n",
    "\n",
    "# 검증 데이터 생성\n",
    "validation_generator = test_datagen.flow_from_directory(\n",
    "    validation_dir,\n",
    "    target_size=(150, 150),\n",
    "    batch_size=32,\n",
    "    class_mode='binary'\n",
    ")\n",
    "\n",
    "# 테스트 데이터 생성\n",
    "test_generator = test_datagen.flow_from_directory(\n",
    "    test_dir,\n",
    "    target_size=(150, 150),\n",
    "    batch_size=32,\n",
    "    class_mode='binary'\n",
    ")"
   ]
  },
  {
   "cell_type": "markdown",
   "id": "cbb44309-4d94-44ef-92eb-3b9ef45b8c65",
   "metadata": {},
   "source": [
    "- `train_generator`의 output\n",
    "    - Batches of 150x150 RGB images (shape `(20, 150, 150, 3)`)\n",
    "    - Binary labels (shape `(20,)`)\n",
    "    - Batch size=20: the number of samples in each batch\n",
    "- `ImageDataGenerator`는 이미지를 끝없이 생성하기 때문에 원하는 단계에서 `break`가 필요 "
   ]
  },
  {
   "cell_type": "code",
   "execution_count": null,
   "id": "e50c653e-d345-42b6-9709-8dcba769122f",
   "metadata": {},
   "outputs": [],
   "source": [
    "# 생성된 iterator로 batch 생성 후 확인\n",
    "batch=next(train_generator)"
   ]
  },
  {
   "cell_type": "code",
   "execution_count": null,
   "id": "f2cd0244-270c-461b-9843-226d6d9d8a9f",
   "metadata": {},
   "outputs": [],
   "source": [
    "# 2개의 요소를 가지는 tuple 형태가 생성됨\n",
    "print(type(batch))\n",
    "len(batch)"
   ]
  },
  {
   "cell_type": "code",
   "execution_count": null,
   "id": "4b94925d-3419-4f48-80fe-5975e04dd8be",
   "metadata": {},
   "outputs": [],
   "source": [
    "batch[0].shape # 생성된 tuple의 첫 번째 요소는 150*150*3의 이미지 20개"
   ]
  },
  {
   "cell_type": "code",
   "execution_count": null,
   "id": "ad3751f6-e4c9-4372-aaa7-033e1f8fd8ae",
   "metadata": {},
   "outputs": [],
   "source": [
    "batch[1] # 생성된 tuple의 두 번째 요소는 binary label"
   ]
  },
  {
   "cell_type": "code",
   "execution_count": null,
   "id": "3543aa6d-6598-452a-826d-2c8e9bb36eae",
   "metadata": {},
   "outputs": [],
   "source": [
    "# 생성된 tuple의 이미지 확인 \n",
    "for i in range(4):\n",
    "    plt.figure(i)\n",
    "    plt.imshow(batch[0][i])"
   ]
  },
  {
   "cell_type": "code",
   "execution_count": null,
   "id": "f88f4c54-e4c3-4cf5-9d3c-49e4199f639e",
   "metadata": {},
   "outputs": [],
   "source": [
    "for data_batch, labels_batch in train_generator:\n",
    "    print('data batch shape:', data_batch.shape)\n",
    "    print('labels batch shape:', labels_batch.shape)\n",
    "    break"
   ]
  },
  {
   "cell_type": "code",
   "execution_count": null,
   "id": "a44baf62-550a-4b2b-91f0-c94e9aaf8d49",
   "metadata": {},
   "outputs": [],
   "source": [
    "# CNN 모델 구축\n",
    "model = models.Sequential([\n",
    "    # 첫 번째 합성곱 층\n",
    "    layers.Conv2D(32, (3, 3), activation='relu', input_shape=(150, 150, 3)),\n",
    "    layers.MaxPooling2D(2, 2),\n",
    "\n",
    "    # 두 번째 합성곱 층\n",
    "    layers.Conv2D(64, (3, 3), activation='relu'),\n",
    "    layers.MaxPooling2D(2, 2),\n",
    "\n",
    "    # 세 번째 합성곱 층\n",
    "    layers.Conv2D(128, (3, 3), activation='relu'),\n",
    "    layers.MaxPooling2D(2, 2),\n",
    "\n",
    "    # 네 번째 합성곱 층\n",
    "    layers.Conv2D(128, (3, 3), activation='relu'),\n",
    "    layers.MaxPooling2D(2, 2),\n",
    "\n",
    "    # Flatten 층\n",
    "    layers.Flatten(),\n",
    "\n",
    "    # 완전 연결층\n",
    "    layers.Dense(512, activation='relu'),\n",
    "    \n",
    "    # 출력층 (이진 분류)\n",
    "    layers.Dense(1, activation='sigmoid')\n",
    "])\n",
    "\n",
    "# 모델 컴파일\n",
    "model.compile(\n",
    "    loss='binary_crossentropy',      # 이진 교차 엔트로피 손실 함수\n",
    "    optimizer='adam',                # Adam 최적화 알고리즘\n",
    "    metrics=['accuracy']             # 정확도 평가\n",
    ")\n",
    "\n",
    "# 모델 요약\n",
    "model.summary()\n"
   ]
  },
  {
   "cell_type": "code",
   "execution_count": null,
   "id": "32354ebf-b62a-49f6-bec4-005d7fb52f56",
   "metadata": {},
   "outputs": [],
   "source": [
    "# 모델 훈련\n",
    "history = model.fit(\n",
    "    train_generator,\n",
    "    steps_per_epoch=100,              # 한 에폭마다 훈련할 배치 수\n",
    "    epochs=20,                        # 훈련할 에폭 수\n",
    "    validation_data=validation_generator,\n",
    "    validation_steps=50              # 검증할 배치 수\n",
    ")"
   ]
  },
  {
   "cell_type": "code",
   "execution_count": null,
   "id": "0f016ae5-5a8e-4905-8735-ab895b5b114b",
   "metadata": {},
   "outputs": [],
   "source": [
    "model.save('cats_and_dogs_small_1.h5')"
   ]
  },
  {
   "cell_type": "code",
   "execution_count": null,
   "id": "e83604dc-c6bf-411b-b4ac-9b1cf662b0ab",
   "metadata": {},
   "outputs": [],
   "source": [
    "# 테스트 데이터로 모델 평가\n",
    "test_loss, test_acc = model.evaluate(test_generator, steps=50)\n",
    "print(f\"Test Accuracy: {test_acc * 100:.2f}%\")"
   ]
  },
  {
   "cell_type": "markdown",
   "id": "7abe99ce-737a-4bca-9689-0f92b6f72acb",
   "metadata": {},
   "source": [
    "- Overfitting 발생 \n",
    "    - Training accuracy는 계속 증가하지만 validation accuracy는 70-72%에서 움직임\n",
    "    - Training sample이 2000개 "
   ]
  },
  {
   "cell_type": "code",
   "execution_count": null,
   "id": "b442efce-39db-4d6c-a6b8-0254073fb563",
   "metadata": {},
   "outputs": [],
   "source": [
    "from keras.models import load_model"
   ]
  },
  {
   "cell_type": "code",
   "execution_count": null,
   "id": "08806b29-dd98-43e3-af63-ccaed54efebd",
   "metadata": {},
   "outputs": [],
   "source": [
    "model=load_model('cats_and_dogs_small_1.h5')"
   ]
  },
  {
   "cell_type": "markdown",
   "id": "21ddb7f6-a966-4be0-a4cd-db7c47d4f677",
   "metadata": {},
   "source": [
    "### 모델 예측"
   ]
  },
  {
   "cell_type": "code",
   "execution_count": null,
   "id": "5cde06c4-9aa9-46f2-b532-2c7a84ef89f3",
   "metadata": {},
   "outputs": [],
   "source": [
    "# 예측 예시\n",
    "import numpy as np\n",
    "from tensorflow.keras.preprocessing import image\n",
    "\n",
    "# 이미지 로드\n",
    "img_path = 'figures/leo2.jpg'\n",
    "img = image.load_img(img_path, target_size=(150, 150))\n",
    "\n",
    "# 이미지를 배열로 변환하고 정규화\n",
    "img_array = image.img_to_array(img) / 255.0\n",
    "img_array = np.expand_dims(img_array, axis=0)\n",
    "\n",
    "# 예측\n",
    "prediction = model.predict(img_array)\n",
    "print(\"Prediction:\", \"Cat\" if prediction[0] < 0.5 else \"Dog\")\n"
   ]
  },
  {
   "cell_type": "code",
   "execution_count": null,
   "id": "23d3683b-4e6f-4bb2-acae-2b00832728a7",
   "metadata": {},
   "outputs": [],
   "source": [
    "import matplotlib.pyplot as plt\n",
    "img_path = 'figures/leo2.jpg'\n",
    "img = image.load_img(img_path, target_size=(150, 150))\n",
    "plt.imshow(img)\n",
    "\n",
    "x = image.img_to_array(img)\n",
    "x = np.expand_dims(x, axis=0)\n",
    "x = x/255.\n",
    "\n",
    "pred=model.predict(x)\n",
    "print('Prob(dog): %f'%(pred))"
   ]
  },
  {
   "cell_type": "code",
   "execution_count": null,
   "id": "8f1af3f0-2c29-4b6e-b522-c8dde7afa875",
   "metadata": {},
   "outputs": [],
   "source": []
  },
  {
   "cell_type": "code",
   "execution_count": null,
   "id": "9522dac6-54ca-42a5-a97f-22e5abec2c82",
   "metadata": {},
   "outputs": [],
   "source": []
  }
 ],
 "metadata": {
  "kernelspec": {
   "display_name": "Python 3 (ipykernel)",
   "language": "python",
   "name": "python3"
  },
  "language_info": {
   "codemirror_mode": {
    "name": "ipython",
    "version": 3
   },
   "file_extension": ".py",
   "mimetype": "text/x-python",
   "name": "python",
   "nbconvert_exporter": "python",
   "pygments_lexer": "ipython3",
   "version": "3.12.3"
  }
 },
 "nbformat": 4,
 "nbformat_minor": 5
}
