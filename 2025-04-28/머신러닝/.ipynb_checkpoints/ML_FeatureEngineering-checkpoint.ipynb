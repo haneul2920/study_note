{
 "cells": [
  {
   "cell_type": "markdown",
   "metadata": {
    "colab_type": "text",
    "id": "9G90gssa6Htj"
   },
   "source": [
    "<br><font color = \"#CC3D3D\">\n",
    "# Feature Engineering"
   ]
  },
  {
   "cell_type": "markdown",
   "metadata": {},
   "source": [
    "* [Handling Missing Values](#Handling-Missing-Values)\n",
    "* [Handling Categorical Variables](#Handling-Categorical-Variables)\n",
    "* [Feature Scaling](#Feature-Scaling)\n",
    "* [Feature Selection](#Feature-Selection)\n",
    "* [Feature Generation](#Feature-Generation)"
   ]
  },
  {
   "cell_type": "code",
   "execution_count": 1,
   "metadata": {
    "colab": {
     "autoexec": {
      "startup": false,
      "wait_interval": 0
     }
    },
    "colab_type": "code",
    "id": "--DI-teF6Htl"
   },
   "outputs": [],
   "source": [
    "import pandas as pd\n",
    "import copy\n",
    "import numpy as np\n",
    "import matplotlib.pyplot as plt\n",
    "%matplotlib inline"
   ]
  },
  {
   "cell_type": "markdown",
   "metadata": {},
   "source": [
    "**[Allstate Purchase Prediction Challenge](https://www.kaggle.com/c/allstate-purchase-prediction-challenge/data)**\n",
    "- 고객이 자동차 보험상품을 구매하기까지의 transaction 기록 \n",
    "- 각 customer ID 별로 quote history 포함\n",
    "- 각 customer ID 별 마지막 행이 구매 포인트 (record_type=1)"
   ]
  },
  {
   "cell_type": "code",
   "execution_count": 2,
   "metadata": {
    "colab": {
     "autoexec": {
      "startup": false,
      "wait_interval": 0
     }
    },
    "colab_type": "code",
    "id": "--DI-teF6Htl"
   },
   "outputs": [
    {
     "data": {
      "text/html": [
       "<div>\n",
       "<style scoped>\n",
       "    .dataframe tbody tr th:only-of-type {\n",
       "        vertical-align: middle;\n",
       "    }\n",
       "\n",
       "    .dataframe tbody tr th {\n",
       "        vertical-align: top;\n",
       "    }\n",
       "\n",
       "    .dataframe thead th {\n",
       "        text-align: right;\n",
       "    }\n",
       "</style>\n",
       "<table border=\"1\" class=\"dataframe\">\n",
       "  <thead>\n",
       "    <tr style=\"text-align: right;\">\n",
       "      <th></th>\n",
       "      <th>customer_ID</th>\n",
       "      <th>shopping_pt</th>\n",
       "      <th>record_type</th>\n",
       "      <th>day</th>\n",
       "      <th>time</th>\n",
       "      <th>state</th>\n",
       "      <th>location</th>\n",
       "      <th>group_size</th>\n",
       "      <th>homeowner</th>\n",
       "      <th>car_age</th>\n",
       "      <th>...</th>\n",
       "      <th>C_previous</th>\n",
       "      <th>duration_previous</th>\n",
       "      <th>A</th>\n",
       "      <th>B</th>\n",
       "      <th>C</th>\n",
       "      <th>D</th>\n",
       "      <th>E</th>\n",
       "      <th>F</th>\n",
       "      <th>G</th>\n",
       "      <th>cost</th>\n",
       "    </tr>\n",
       "  </thead>\n",
       "  <tbody>\n",
       "    <tr>\n",
       "      <th>0</th>\n",
       "      <td>10000000</td>\n",
       "      <td>1</td>\n",
       "      <td>0</td>\n",
       "      <td>0</td>\n",
       "      <td>08:35</td>\n",
       "      <td>IN</td>\n",
       "      <td>10001</td>\n",
       "      <td>2</td>\n",
       "      <td>0</td>\n",
       "      <td>2</td>\n",
       "      <td>...</td>\n",
       "      <td>1.0</td>\n",
       "      <td>2.0</td>\n",
       "      <td>1</td>\n",
       "      <td>0</td>\n",
       "      <td>2</td>\n",
       "      <td>2</td>\n",
       "      <td>1</td>\n",
       "      <td>2</td>\n",
       "      <td>2</td>\n",
       "      <td>633</td>\n",
       "    </tr>\n",
       "    <tr>\n",
       "      <th>1</th>\n",
       "      <td>10000000</td>\n",
       "      <td>2</td>\n",
       "      <td>0</td>\n",
       "      <td>0</td>\n",
       "      <td>08:38</td>\n",
       "      <td>IN</td>\n",
       "      <td>10001</td>\n",
       "      <td>2</td>\n",
       "      <td>0</td>\n",
       "      <td>2</td>\n",
       "      <td>...</td>\n",
       "      <td>1.0</td>\n",
       "      <td>2.0</td>\n",
       "      <td>1</td>\n",
       "      <td>0</td>\n",
       "      <td>2</td>\n",
       "      <td>2</td>\n",
       "      <td>1</td>\n",
       "      <td>2</td>\n",
       "      <td>1</td>\n",
       "      <td>630</td>\n",
       "    </tr>\n",
       "    <tr>\n",
       "      <th>2</th>\n",
       "      <td>10000000</td>\n",
       "      <td>3</td>\n",
       "      <td>0</td>\n",
       "      <td>0</td>\n",
       "      <td>08:38</td>\n",
       "      <td>IN</td>\n",
       "      <td>10001</td>\n",
       "      <td>2</td>\n",
       "      <td>0</td>\n",
       "      <td>2</td>\n",
       "      <td>...</td>\n",
       "      <td>1.0</td>\n",
       "      <td>2.0</td>\n",
       "      <td>1</td>\n",
       "      <td>0</td>\n",
       "      <td>2</td>\n",
       "      <td>2</td>\n",
       "      <td>1</td>\n",
       "      <td>2</td>\n",
       "      <td>1</td>\n",
       "      <td>630</td>\n",
       "    </tr>\n",
       "    <tr>\n",
       "      <th>3</th>\n",
       "      <td>10000000</td>\n",
       "      <td>4</td>\n",
       "      <td>0</td>\n",
       "      <td>0</td>\n",
       "      <td>08:39</td>\n",
       "      <td>IN</td>\n",
       "      <td>10001</td>\n",
       "      <td>2</td>\n",
       "      <td>0</td>\n",
       "      <td>2</td>\n",
       "      <td>...</td>\n",
       "      <td>1.0</td>\n",
       "      <td>2.0</td>\n",
       "      <td>1</td>\n",
       "      <td>0</td>\n",
       "      <td>2</td>\n",
       "      <td>2</td>\n",
       "      <td>1</td>\n",
       "      <td>2</td>\n",
       "      <td>1</td>\n",
       "      <td>630</td>\n",
       "    </tr>\n",
       "    <tr>\n",
       "      <th>4</th>\n",
       "      <td>10000000</td>\n",
       "      <td>5</td>\n",
       "      <td>0</td>\n",
       "      <td>0</td>\n",
       "      <td>11:55</td>\n",
       "      <td>IN</td>\n",
       "      <td>10001</td>\n",
       "      <td>2</td>\n",
       "      <td>0</td>\n",
       "      <td>2</td>\n",
       "      <td>...</td>\n",
       "      <td>1.0</td>\n",
       "      <td>2.0</td>\n",
       "      <td>1</td>\n",
       "      <td>0</td>\n",
       "      <td>2</td>\n",
       "      <td>2</td>\n",
       "      <td>1</td>\n",
       "      <td>2</td>\n",
       "      <td>1</td>\n",
       "      <td>630</td>\n",
       "    </tr>\n",
       "  </tbody>\n",
       "</table>\n",
       "<p>5 rows × 25 columns</p>\n",
       "</div>"
      ],
      "text/plain": [
       "   customer_ID  shopping_pt  record_type  day   time state  location  \\\n",
       "0     10000000            1            0    0  08:35    IN     10001   \n",
       "1     10000000            2            0    0  08:38    IN     10001   \n",
       "2     10000000            3            0    0  08:38    IN     10001   \n",
       "3     10000000            4            0    0  08:39    IN     10001   \n",
       "4     10000000            5            0    0  11:55    IN     10001   \n",
       "\n",
       "   group_size  homeowner  car_age  ... C_previous  duration_previous  A  B  C  \\\n",
       "0           2          0        2  ...        1.0                2.0  1  0  2   \n",
       "1           2          0        2  ...        1.0                2.0  1  0  2   \n",
       "2           2          0        2  ...        1.0                2.0  1  0  2   \n",
       "3           2          0        2  ...        1.0                2.0  1  0  2   \n",
       "4           2          0        2  ...        1.0                2.0  1  0  2   \n",
       "\n",
       "   D  E  F  G  cost  \n",
       "0  2  1  2  2   633  \n",
       "1  2  1  2  1   630  \n",
       "2  2  1  2  1   630  \n",
       "3  2  1  2  1   630  \n",
       "4  2  1  2  1   630  \n",
       "\n",
       "[5 rows x 25 columns]"
      ]
     },
     "execution_count": 2,
     "metadata": {},
     "output_type": "execute_result"
    }
   ],
   "source": [
    "data = pd.read_csv('Allstate_train.csv')\n",
    "data.head()"
   ]
  },
  {
   "cell_type": "code",
   "execution_count": 3,
   "metadata": {},
   "outputs": [
    {
     "data": {
      "text/html": [
       "<div>\n",
       "<style scoped>\n",
       "    .dataframe tbody tr th:only-of-type {\n",
       "        vertical-align: middle;\n",
       "    }\n",
       "\n",
       "    .dataframe tbody tr th {\n",
       "        vertical-align: top;\n",
       "    }\n",
       "\n",
       "    .dataframe thead th {\n",
       "        text-align: right;\n",
       "    }\n",
       "</style>\n",
       "<table border=\"1\" class=\"dataframe\">\n",
       "  <thead>\n",
       "    <tr style=\"text-align: right;\">\n",
       "      <th></th>\n",
       "      <th>customer_ID</th>\n",
       "      <th>shopping_pt</th>\n",
       "      <th>record_type</th>\n",
       "      <th>day</th>\n",
       "      <th>time</th>\n",
       "      <th>state</th>\n",
       "      <th>location</th>\n",
       "      <th>group_size</th>\n",
       "      <th>homeowner</th>\n",
       "      <th>car_age</th>\n",
       "      <th>...</th>\n",
       "      <th>C_previous</th>\n",
       "      <th>duration_previous</th>\n",
       "      <th>A</th>\n",
       "      <th>B</th>\n",
       "      <th>C</th>\n",
       "      <th>D</th>\n",
       "      <th>E</th>\n",
       "      <th>F</th>\n",
       "      <th>G</th>\n",
       "      <th>cost</th>\n",
       "    </tr>\n",
       "  </thead>\n",
       "  <tbody>\n",
       "    <tr>\n",
       "      <th>0</th>\n",
       "      <td>10000000</td>\n",
       "      <td>1</td>\n",
       "      <td>0</td>\n",
       "      <td>0</td>\n",
       "      <td>08:35</td>\n",
       "      <td>IN</td>\n",
       "      <td>10001</td>\n",
       "      <td>2</td>\n",
       "      <td>0</td>\n",
       "      <td>2</td>\n",
       "      <td>...</td>\n",
       "      <td>1.0</td>\n",
       "      <td>2.0</td>\n",
       "      <td>1</td>\n",
       "      <td>0</td>\n",
       "      <td>2</td>\n",
       "      <td>2</td>\n",
       "      <td>1</td>\n",
       "      <td>2</td>\n",
       "      <td>2</td>\n",
       "      <td>633</td>\n",
       "    </tr>\n",
       "    <tr>\n",
       "      <th>1</th>\n",
       "      <td>10000000</td>\n",
       "      <td>2</td>\n",
       "      <td>0</td>\n",
       "      <td>0</td>\n",
       "      <td>08:38</td>\n",
       "      <td>IN</td>\n",
       "      <td>10001</td>\n",
       "      <td>2</td>\n",
       "      <td>0</td>\n",
       "      <td>2</td>\n",
       "      <td>...</td>\n",
       "      <td>1.0</td>\n",
       "      <td>2.0</td>\n",
       "      <td>1</td>\n",
       "      <td>0</td>\n",
       "      <td>2</td>\n",
       "      <td>2</td>\n",
       "      <td>1</td>\n",
       "      <td>2</td>\n",
       "      <td>1</td>\n",
       "      <td>630</td>\n",
       "    </tr>\n",
       "    <tr>\n",
       "      <th>2</th>\n",
       "      <td>10000000</td>\n",
       "      <td>3</td>\n",
       "      <td>0</td>\n",
       "      <td>0</td>\n",
       "      <td>08:38</td>\n",
       "      <td>IN</td>\n",
       "      <td>10001</td>\n",
       "      <td>2</td>\n",
       "      <td>0</td>\n",
       "      <td>2</td>\n",
       "      <td>...</td>\n",
       "      <td>1.0</td>\n",
       "      <td>2.0</td>\n",
       "      <td>1</td>\n",
       "      <td>0</td>\n",
       "      <td>2</td>\n",
       "      <td>2</td>\n",
       "      <td>1</td>\n",
       "      <td>2</td>\n",
       "      <td>1</td>\n",
       "      <td>630</td>\n",
       "    </tr>\n",
       "    <tr>\n",
       "      <th>3</th>\n",
       "      <td>10000000</td>\n",
       "      <td>4</td>\n",
       "      <td>0</td>\n",
       "      <td>0</td>\n",
       "      <td>08:39</td>\n",
       "      <td>IN</td>\n",
       "      <td>10001</td>\n",
       "      <td>2</td>\n",
       "      <td>0</td>\n",
       "      <td>2</td>\n",
       "      <td>...</td>\n",
       "      <td>1.0</td>\n",
       "      <td>2.0</td>\n",
       "      <td>1</td>\n",
       "      <td>0</td>\n",
       "      <td>2</td>\n",
       "      <td>2</td>\n",
       "      <td>1</td>\n",
       "      <td>2</td>\n",
       "      <td>1</td>\n",
       "      <td>630</td>\n",
       "    </tr>\n",
       "    <tr>\n",
       "      <th>4</th>\n",
       "      <td>10000000</td>\n",
       "      <td>5</td>\n",
       "      <td>0</td>\n",
       "      <td>0</td>\n",
       "      <td>11:55</td>\n",
       "      <td>IN</td>\n",
       "      <td>10001</td>\n",
       "      <td>2</td>\n",
       "      <td>0</td>\n",
       "      <td>2</td>\n",
       "      <td>...</td>\n",
       "      <td>1.0</td>\n",
       "      <td>2.0</td>\n",
       "      <td>1</td>\n",
       "      <td>0</td>\n",
       "      <td>2</td>\n",
       "      <td>2</td>\n",
       "      <td>1</td>\n",
       "      <td>2</td>\n",
       "      <td>1</td>\n",
       "      <td>630</td>\n",
       "    </tr>\n",
       "    <tr>\n",
       "      <th>5</th>\n",
       "      <td>10000000</td>\n",
       "      <td>6</td>\n",
       "      <td>0</td>\n",
       "      <td>0</td>\n",
       "      <td>11:57</td>\n",
       "      <td>IN</td>\n",
       "      <td>10001</td>\n",
       "      <td>2</td>\n",
       "      <td>0</td>\n",
       "      <td>2</td>\n",
       "      <td>...</td>\n",
       "      <td>1.0</td>\n",
       "      <td>2.0</td>\n",
       "      <td>1</td>\n",
       "      <td>0</td>\n",
       "      <td>2</td>\n",
       "      <td>2</td>\n",
       "      <td>1</td>\n",
       "      <td>2</td>\n",
       "      <td>1</td>\n",
       "      <td>638</td>\n",
       "    </tr>\n",
       "    <tr>\n",
       "      <th>6</th>\n",
       "      <td>10000000</td>\n",
       "      <td>7</td>\n",
       "      <td>0</td>\n",
       "      <td>0</td>\n",
       "      <td>11:58</td>\n",
       "      <td>IN</td>\n",
       "      <td>10001</td>\n",
       "      <td>2</td>\n",
       "      <td>0</td>\n",
       "      <td>2</td>\n",
       "      <td>...</td>\n",
       "      <td>1.0</td>\n",
       "      <td>2.0</td>\n",
       "      <td>1</td>\n",
       "      <td>0</td>\n",
       "      <td>2</td>\n",
       "      <td>2</td>\n",
       "      <td>1</td>\n",
       "      <td>2</td>\n",
       "      <td>1</td>\n",
       "      <td>638</td>\n",
       "    </tr>\n",
       "    <tr>\n",
       "      <th>7</th>\n",
       "      <td>10000000</td>\n",
       "      <td>8</td>\n",
       "      <td>0</td>\n",
       "      <td>0</td>\n",
       "      <td>12:03</td>\n",
       "      <td>IN</td>\n",
       "      <td>10001</td>\n",
       "      <td>2</td>\n",
       "      <td>0</td>\n",
       "      <td>2</td>\n",
       "      <td>...</td>\n",
       "      <td>1.0</td>\n",
       "      <td>2.0</td>\n",
       "      <td>1</td>\n",
       "      <td>0</td>\n",
       "      <td>2</td>\n",
       "      <td>2</td>\n",
       "      <td>1</td>\n",
       "      <td>2</td>\n",
       "      <td>1</td>\n",
       "      <td>638</td>\n",
       "    </tr>\n",
       "    <tr>\n",
       "      <th>8</th>\n",
       "      <td>10000000</td>\n",
       "      <td>9</td>\n",
       "      <td>1</td>\n",
       "      <td>0</td>\n",
       "      <td>12:07</td>\n",
       "      <td>IN</td>\n",
       "      <td>10001</td>\n",
       "      <td>2</td>\n",
       "      <td>0</td>\n",
       "      <td>2</td>\n",
       "      <td>...</td>\n",
       "      <td>1.0</td>\n",
       "      <td>2.0</td>\n",
       "      <td>1</td>\n",
       "      <td>0</td>\n",
       "      <td>2</td>\n",
       "      <td>2</td>\n",
       "      <td>1</td>\n",
       "      <td>2</td>\n",
       "      <td>1</td>\n",
       "      <td>634</td>\n",
       "    </tr>\n",
       "  </tbody>\n",
       "</table>\n",
       "<p>9 rows × 25 columns</p>\n",
       "</div>"
      ],
      "text/plain": [
       "   customer_ID  shopping_pt  record_type  day   time state  location  \\\n",
       "0     10000000            1            0    0  08:35    IN     10001   \n",
       "1     10000000            2            0    0  08:38    IN     10001   \n",
       "2     10000000            3            0    0  08:38    IN     10001   \n",
       "3     10000000            4            0    0  08:39    IN     10001   \n",
       "4     10000000            5            0    0  11:55    IN     10001   \n",
       "5     10000000            6            0    0  11:57    IN     10001   \n",
       "6     10000000            7            0    0  11:58    IN     10001   \n",
       "7     10000000            8            0    0  12:03    IN     10001   \n",
       "8     10000000            9            1    0  12:07    IN     10001   \n",
       "\n",
       "   group_size  homeowner  car_age  ... C_previous  duration_previous  A  B  C  \\\n",
       "0           2          0        2  ...        1.0                2.0  1  0  2   \n",
       "1           2          0        2  ...        1.0                2.0  1  0  2   \n",
       "2           2          0        2  ...        1.0                2.0  1  0  2   \n",
       "3           2          0        2  ...        1.0                2.0  1  0  2   \n",
       "4           2          0        2  ...        1.0                2.0  1  0  2   \n",
       "5           2          0        2  ...        1.0                2.0  1  0  2   \n",
       "6           2          0        2  ...        1.0                2.0  1  0  2   \n",
       "7           2          0        2  ...        1.0                2.0  1  0  2   \n",
       "8           2          0        2  ...        1.0                2.0  1  0  2   \n",
       "\n",
       "   D  E  F  G  cost  \n",
       "0  2  1  2  2   633  \n",
       "1  2  1  2  1   630  \n",
       "2  2  1  2  1   630  \n",
       "3  2  1  2  1   630  \n",
       "4  2  1  2  1   630  \n",
       "5  2  1  2  1   638  \n",
       "6  2  1  2  1   638  \n",
       "7  2  1  2  1   638  \n",
       "8  2  1  2  1   634  \n",
       "\n",
       "[9 rows x 25 columns]"
      ]
     },
     "execution_count": 3,
     "metadata": {},
     "output_type": "execute_result"
    }
   ],
   "source": [
    "data[data.customer_ID == 10000000]"
   ]
  },
  {
   "cell_type": "code",
   "execution_count": 4,
   "metadata": {},
   "outputs": [
    {
     "name": "stdout",
     "output_type": "stream",
     "text": [
      "<class 'pandas.core.frame.DataFrame'>\n",
      "RangeIndex: 665249 entries, 0 to 665248\n",
      "Data columns (total 25 columns):\n",
      " #   Column             Non-Null Count   Dtype  \n",
      "---  ------             --------------   -----  \n",
      " 0   customer_ID        665249 non-null  int64  \n",
      " 1   shopping_pt        665249 non-null  int64  \n",
      " 2   record_type        665249 non-null  int64  \n",
      " 3   day                665249 non-null  int64  \n",
      " 4   time               665249 non-null  object \n",
      " 5   state              665249 non-null  object \n",
      " 6   location           665249 non-null  int64  \n",
      " 7   group_size         665249 non-null  int64  \n",
      " 8   homeowner          665249 non-null  int64  \n",
      " 9   car_age            665249 non-null  int64  \n",
      " 10  car_value          663718 non-null  object \n",
      " 11  risk_factor        424831 non-null  float64\n",
      " 12  age_oldest         665249 non-null  int64  \n",
      " 13  age_youngest       665249 non-null  int64  \n",
      " 14  married_couple     665249 non-null  int64  \n",
      " 15  C_previous         646538 non-null  float64\n",
      " 16  duration_previous  646538 non-null  float64\n",
      " 17  A                  665249 non-null  int64  \n",
      " 18  B                  665249 non-null  int64  \n",
      " 19  C                  665249 non-null  int64  \n",
      " 20  D                  665249 non-null  int64  \n",
      " 21  E                  665249 non-null  int64  \n",
      " 22  F                  665249 non-null  int64  \n",
      " 23  G                  665249 non-null  int64  \n",
      " 24  cost               665249 non-null  int64  \n",
      "dtypes: float64(3), int64(19), object(3)\n",
      "memory usage: 126.9+ MB\n"
     ]
    }
   ],
   "source": [
    "data.info()"
   ]
  },
  {
   "cell_type": "code",
   "execution_count": 7,
   "metadata": {
    "colab": {
     "autoexec": {
      "startup": false,
      "wait_interval": 0
     }
    },
    "colab_type": "code",
    "id": "LTvUrK1l6Hts"
   },
   "outputs": [],
   "source": [
    "dataP = data.loc[data.record_type == 1].copy()\n",
    "con = ['group_size','car_age','age_oldest','age_youngest','duration_previous','cost']\n",
    "cat = ['day','homeowner','car_value','risk_factor','married_couple','C_previous','state', 'location','shopping_pt']"
   ]
  },
  {
   "cell_type": "code",
   "execution_count": 8,
   "metadata": {},
   "outputs": [
    {
     "data": {
      "text/html": [
       "<div>\n",
       "<style scoped>\n",
       "    .dataframe tbody tr th:only-of-type {\n",
       "        vertical-align: middle;\n",
       "    }\n",
       "\n",
       "    .dataframe tbody tr th {\n",
       "        vertical-align: top;\n",
       "    }\n",
       "\n",
       "    .dataframe thead th {\n",
       "        text-align: right;\n",
       "    }\n",
       "</style>\n",
       "<table border=\"1\" class=\"dataframe\">\n",
       "  <thead>\n",
       "    <tr style=\"text-align: right;\">\n",
       "      <th></th>\n",
       "      <th>customer_ID</th>\n",
       "      <th>shopping_pt</th>\n",
       "      <th>record_type</th>\n",
       "      <th>day</th>\n",
       "      <th>time</th>\n",
       "      <th>state</th>\n",
       "      <th>location</th>\n",
       "      <th>group_size</th>\n",
       "      <th>homeowner</th>\n",
       "      <th>car_age</th>\n",
       "      <th>...</th>\n",
       "      <th>C_previous</th>\n",
       "      <th>duration_previous</th>\n",
       "      <th>A</th>\n",
       "      <th>B</th>\n",
       "      <th>C</th>\n",
       "      <th>D</th>\n",
       "      <th>E</th>\n",
       "      <th>F</th>\n",
       "      <th>G</th>\n",
       "      <th>cost</th>\n",
       "    </tr>\n",
       "  </thead>\n",
       "  <tbody>\n",
       "    <tr>\n",
       "      <th>8</th>\n",
       "      <td>10000000</td>\n",
       "      <td>9</td>\n",
       "      <td>1</td>\n",
       "      <td>0</td>\n",
       "      <td>12:07</td>\n",
       "      <td>IN</td>\n",
       "      <td>10001</td>\n",
       "      <td>2</td>\n",
       "      <td>0</td>\n",
       "      <td>2</td>\n",
       "      <td>...</td>\n",
       "      <td>1.0</td>\n",
       "      <td>2.0</td>\n",
       "      <td>1</td>\n",
       "      <td>0</td>\n",
       "      <td>2</td>\n",
       "      <td>2</td>\n",
       "      <td>1</td>\n",
       "      <td>2</td>\n",
       "      <td>1</td>\n",
       "      <td>634</td>\n",
       "    </tr>\n",
       "    <tr>\n",
       "      <th>14</th>\n",
       "      <td>10000005</td>\n",
       "      <td>6</td>\n",
       "      <td>1</td>\n",
       "      <td>3</td>\n",
       "      <td>09:09</td>\n",
       "      <td>NY</td>\n",
       "      <td>10006</td>\n",
       "      <td>1</td>\n",
       "      <td>0</td>\n",
       "      <td>10</td>\n",
       "      <td>...</td>\n",
       "      <td>3.0</td>\n",
       "      <td>13.0</td>\n",
       "      <td>0</td>\n",
       "      <td>0</td>\n",
       "      <td>3</td>\n",
       "      <td>2</td>\n",
       "      <td>0</td>\n",
       "      <td>0</td>\n",
       "      <td>2</td>\n",
       "      <td>731</td>\n",
       "    </tr>\n",
       "    <tr>\n",
       "      <th>22</th>\n",
       "      <td>10000007</td>\n",
       "      <td>8</td>\n",
       "      <td>1</td>\n",
       "      <td>4</td>\n",
       "      <td>14:26</td>\n",
       "      <td>PA</td>\n",
       "      <td>10008</td>\n",
       "      <td>1</td>\n",
       "      <td>0</td>\n",
       "      <td>11</td>\n",
       "      <td>...</td>\n",
       "      <td>2.0</td>\n",
       "      <td>4.0</td>\n",
       "      <td>0</td>\n",
       "      <td>0</td>\n",
       "      <td>1</td>\n",
       "      <td>2</td>\n",
       "      <td>0</td>\n",
       "      <td>0</td>\n",
       "      <td>1</td>\n",
       "      <td>602</td>\n",
       "    </tr>\n",
       "    <tr>\n",
       "      <th>26</th>\n",
       "      <td>10000013</td>\n",
       "      <td>4</td>\n",
       "      <td>1</td>\n",
       "      <td>4</td>\n",
       "      <td>09:31</td>\n",
       "      <td>WV</td>\n",
       "      <td>10014</td>\n",
       "      <td>2</td>\n",
       "      <td>1</td>\n",
       "      <td>3</td>\n",
       "      <td>...</td>\n",
       "      <td>3.0</td>\n",
       "      <td>3.0</td>\n",
       "      <td>1</td>\n",
       "      <td>1</td>\n",
       "      <td>3</td>\n",
       "      <td>2</td>\n",
       "      <td>1</td>\n",
       "      <td>1</td>\n",
       "      <td>3</td>\n",
       "      <td>626</td>\n",
       "    </tr>\n",
       "    <tr>\n",
       "      <th>32</th>\n",
       "      <td>10000014</td>\n",
       "      <td>6</td>\n",
       "      <td>1</td>\n",
       "      <td>1</td>\n",
       "      <td>17:50</td>\n",
       "      <td>MO</td>\n",
       "      <td>10015</td>\n",
       "      <td>1</td>\n",
       "      <td>0</td>\n",
       "      <td>5</td>\n",
       "      <td>...</td>\n",
       "      <td>1.0</td>\n",
       "      <td>2.0</td>\n",
       "      <td>1</td>\n",
       "      <td>1</td>\n",
       "      <td>1</td>\n",
       "      <td>1</td>\n",
       "      <td>0</td>\n",
       "      <td>2</td>\n",
       "      <td>2</td>\n",
       "      <td>614</td>\n",
       "    </tr>\n",
       "  </tbody>\n",
       "</table>\n",
       "<p>5 rows × 25 columns</p>\n",
       "</div>"
      ],
      "text/plain": [
       "    customer_ID  shopping_pt  record_type  day   time state  location  \\\n",
       "8      10000000            9            1    0  12:07    IN     10001   \n",
       "14     10000005            6            1    3  09:09    NY     10006   \n",
       "22     10000007            8            1    4  14:26    PA     10008   \n",
       "26     10000013            4            1    4  09:31    WV     10014   \n",
       "32     10000014            6            1    1  17:50    MO     10015   \n",
       "\n",
       "    group_size  homeowner  car_age  ... C_previous  duration_previous  A  B  \\\n",
       "8            2          0        2  ...        1.0                2.0  1  0   \n",
       "14           1          0       10  ...        3.0               13.0  0  0   \n",
       "22           1          0       11  ...        2.0                4.0  0  0   \n",
       "26           2          1        3  ...        3.0                3.0  1  1   \n",
       "32           1          0        5  ...        1.0                2.0  1  1   \n",
       "\n",
       "    C  D  E  F  G  cost  \n",
       "8   2  2  1  2  1   634  \n",
       "14  3  2  0  0  2   731  \n",
       "22  1  2  0  0  1   602  \n",
       "26  3  2  1  1  3   626  \n",
       "32  1  1  0  2  2   614  \n",
       "\n",
       "[5 rows x 25 columns]"
      ]
     },
     "execution_count": 8,
     "metadata": {},
     "output_type": "execute_result"
    }
   ],
   "source": [
    "dataP.head()"
   ]
  },
  {
   "cell_type": "markdown",
   "metadata": {
    "colab_type": "text",
    "id": "a5l5uI_86Hty"
   },
   "source": [
    "***\n",
    "## Handling Missing Values"
   ]
  },
  {
   "cell_type": "code",
   "execution_count": 9,
   "metadata": {},
   "outputs": [
    {
     "name": "stdout",
     "output_type": "stream",
     "text": [
      "<class 'pandas.core.frame.DataFrame'>\n",
      "Int64Index: 97009 entries, 8 to 665248\n",
      "Data columns (total 25 columns):\n",
      " #   Column             Non-Null Count  Dtype  \n",
      "---  ------             --------------  -----  \n",
      " 0   customer_ID        97009 non-null  int64  \n",
      " 1   shopping_pt        97009 non-null  int64  \n",
      " 2   record_type        97009 non-null  int64  \n",
      " 3   day                97009 non-null  int64  \n",
      " 4   time               97009 non-null  object \n",
      " 5   state              97009 non-null  object \n",
      " 6   location           97009 non-null  int64  \n",
      " 7   group_size         97009 non-null  int64  \n",
      " 8   homeowner          97009 non-null  int64  \n",
      " 9   car_age            97009 non-null  int64  \n",
      " 10  car_value          97009 non-null  object \n",
      " 11  risk_factor        62663 non-null  float64\n",
      " 12  age_oldest         97009 non-null  int64  \n",
      " 13  age_youngest       97009 non-null  int64  \n",
      " 14  married_couple     97009 non-null  int64  \n",
      " 15  C_previous         96173 non-null  float64\n",
      " 16  duration_previous  96173 non-null  float64\n",
      " 17  A                  97009 non-null  int64  \n",
      " 18  B                  97009 non-null  int64  \n",
      " 19  C                  97009 non-null  int64  \n",
      " 20  D                  97009 non-null  int64  \n",
      " 21  E                  97009 non-null  int64  \n",
      " 22  F                  97009 non-null  int64  \n",
      " 23  G                  97009 non-null  int64  \n",
      " 24  cost               97009 non-null  int64  \n",
      "dtypes: float64(3), int64(19), object(3)\n",
      "memory usage: 19.2+ MB\n"
     ]
    }
   ],
   "source": [
    "dataP.info()"
   ]
  },
  {
   "cell_type": "markdown",
   "metadata": {
    "colab_type": "text",
    "id": "ntZwZjJF6Ht0"
   },
   "source": [
    "##### Check missing values"
   ]
  },
  {
   "cell_type": "code",
   "execution_count": 10,
   "metadata": {
    "colab": {
     "autoexec": {
      "startup": false,
      "wait_interval": 0
     }
    },
    "colab_type": "code",
    "id": "DA6XSglS6Ht1",
    "outputId": "45cf247b-75c4-42b7-e4e8-03339c727f48"
   },
   "outputs": [
    {
     "data": {
      "text/plain": [
       "customer_ID              0\n",
       "shopping_pt              0\n",
       "record_type              0\n",
       "day                      0\n",
       "time                     0\n",
       "state                    0\n",
       "location                 0\n",
       "group_size               0\n",
       "homeowner                0\n",
       "car_age                  0\n",
       "car_value                0\n",
       "risk_factor          34346\n",
       "age_oldest               0\n",
       "age_youngest             0\n",
       "married_couple           0\n",
       "C_previous             836\n",
       "duration_previous      836\n",
       "A                        0\n",
       "B                        0\n",
       "C                        0\n",
       "D                        0\n",
       "E                        0\n",
       "F                        0\n",
       "G                        0\n",
       "cost                     0\n",
       "dtype: int64"
      ]
     },
     "execution_count": 10,
     "metadata": {},
     "output_type": "execute_result"
    }
   ],
   "source": [
    "dataP.isnull().sum()"
   ]
  },
  {
   "cell_type": "markdown",
   "metadata": {
    "colab_type": "text",
    "id": "o3uPhSNZ6HuA"
   },
   "source": [
    "### 1. Drop"
   ]
  },
  {
   "cell_type": "code",
   "execution_count": 11,
   "metadata": {
    "colab": {
     "autoexec": {
      "startup": false,
      "wait_interval": 0
     }
    },
    "colab_type": "code",
    "id": "oq61Q2E36HuC",
    "outputId": "e59fc2a0-a6fb-4b6b-d396-9766632b4c9f"
   },
   "outputs": [
    {
     "data": {
      "text/plain": [
       "(97009, 25)"
      ]
     },
     "execution_count": 11,
     "metadata": {},
     "output_type": "execute_result"
    }
   ],
   "source": [
    "dataP.shape"
   ]
  },
  {
   "cell_type": "code",
   "execution_count": 12,
   "metadata": {
    "colab": {
     "autoexec": {
      "startup": false,
      "wait_interval": 0
     }
    },
    "colab_type": "code",
    "id": "oq61Q2E36HuC",
    "outputId": "e59fc2a0-a6fb-4b6b-d396-9766632b4c9f"
   },
   "outputs": [
    {
     "data": {
      "text/plain": [
       "(62255, 25)"
      ]
     },
     "execution_count": 12,
     "metadata": {},
     "output_type": "execute_result"
    }
   ],
   "source": [
    "dataP_drop = dataP.dropna(subset=['risk_factor','C_previous','duration_previous'])\n",
    "dataP_drop.shape"
   ]
  },
  {
   "cell_type": "code",
   "execution_count": 14,
   "metadata": {
    "colab": {
     "autoexec": {
      "startup": false,
      "wait_interval": 0
     }
    },
    "colab_type": "code",
    "id": "jZQ8nO276HuR",
    "outputId": "6d9f0a79-c9eb-45a5-cb0d-6b62c3aff9da"
   },
   "outputs": [
    {
     "data": {
      "text/plain": [
       "0"
      ]
     },
     "execution_count": 14,
     "metadata": {},
     "output_type": "execute_result"
    }
   ],
   "source": [
    "dataP_drop.isnull().sum().sum()"
   ]
  },
  {
   "cell_type": "markdown",
   "metadata": {
    "colab_type": "text",
    "id": "QZYe1ijJ6HuX"
   },
   "source": [
    "### 2. Impute"
   ]
  },
  {
   "cell_type": "markdown",
   "metadata": {
    "colab_type": "text",
    "id": "O7aXg5Fb6HuZ"
   },
   "source": [
    "##### Continuous feature의 결측값 대체"
   ]
  },
  {
   "cell_type": "code",
   "execution_count": 15,
   "metadata": {},
   "outputs": [
    {
     "data": {
      "text/html": [
       "<div>\n",
       "<style scoped>\n",
       "    .dataframe tbody tr th:only-of-type {\n",
       "        vertical-align: middle;\n",
       "    }\n",
       "\n",
       "    .dataframe tbody tr th {\n",
       "        vertical-align: top;\n",
       "    }\n",
       "\n",
       "    .dataframe thead th {\n",
       "        text-align: right;\n",
       "    }\n",
       "</style>\n",
       "<table border=\"1\" class=\"dataframe\">\n",
       "  <thead>\n",
       "    <tr style=\"text-align: right;\">\n",
       "      <th></th>\n",
       "      <th>group_size</th>\n",
       "      <th>car_age</th>\n",
       "      <th>age_oldest</th>\n",
       "      <th>age_youngest</th>\n",
       "      <th>duration_previous</th>\n",
       "      <th>cost</th>\n",
       "    </tr>\n",
       "  </thead>\n",
       "  <tbody>\n",
       "    <tr>\n",
       "      <th>8</th>\n",
       "      <td>2</td>\n",
       "      <td>2</td>\n",
       "      <td>46</td>\n",
       "      <td>42</td>\n",
       "      <td>2.0</td>\n",
       "      <td>634</td>\n",
       "    </tr>\n",
       "    <tr>\n",
       "      <th>14</th>\n",
       "      <td>1</td>\n",
       "      <td>10</td>\n",
       "      <td>28</td>\n",
       "      <td>28</td>\n",
       "      <td>13.0</td>\n",
       "      <td>731</td>\n",
       "    </tr>\n",
       "    <tr>\n",
       "      <th>22</th>\n",
       "      <td>1</td>\n",
       "      <td>11</td>\n",
       "      <td>43</td>\n",
       "      <td>43</td>\n",
       "      <td>4.0</td>\n",
       "      <td>602</td>\n",
       "    </tr>\n",
       "  </tbody>\n",
       "</table>\n",
       "</div>"
      ],
      "text/plain": [
       "    group_size  car_age  age_oldest  age_youngest  duration_previous  cost\n",
       "8            2        2          46            42                2.0   634\n",
       "14           1       10          28            28               13.0   731\n",
       "22           1       11          43            43                4.0   602"
      ]
     },
     "execution_count": 15,
     "metadata": {},
     "output_type": "execute_result"
    }
   ],
   "source": [
    "dataP[con].head(3)"
   ]
  },
  {
   "cell_type": "code",
   "execution_count": 16,
   "metadata": {},
   "outputs": [
    {
     "name": "stdout",
     "output_type": "stream",
     "text": [
      "<class 'pandas.core.frame.DataFrame'>\n",
      "Int64Index: 97009 entries, 8 to 665248\n",
      "Data columns (total 6 columns):\n",
      " #   Column             Non-Null Count  Dtype  \n",
      "---  ------             --------------  -----  \n",
      " 0   group_size         97009 non-null  int64  \n",
      " 1   car_age            97009 non-null  int64  \n",
      " 2   age_oldest         97009 non-null  int64  \n",
      " 3   age_youngest       97009 non-null  int64  \n",
      " 4   duration_previous  96173 non-null  float64\n",
      " 5   cost               97009 non-null  int64  \n",
      "dtypes: float64(1), int64(5)\n",
      "memory usage: 5.2 MB\n"
     ]
    }
   ],
   "source": [
    "dataP[con].info()"
   ]
  },
  {
   "cell_type": "code",
   "execution_count": 9,
   "metadata": {
    "colab": {
     "autoexec": {
      "startup": false,
      "wait_interval": 0
     }
    },
    "colab_type": "code",
    "id": "1kYZ_t4D6Hub",
    "outputId": "249c932d-313d-4eaf-997d-a5e8ef1a4406"
   },
   "outputs": [
    {
     "data": {
      "text/plain": [
       "group_size             int64\n",
       "car_age                int64\n",
       "age_oldest             int64\n",
       "age_youngest           int64\n",
       "duration_previous    float64\n",
       "cost                   int64\n",
       "dtype: object"
      ]
     },
     "execution_count": 9,
     "metadata": {},
     "output_type": "execute_result"
    }
   ],
   "source": [
    "dataP[con].dtypes"
   ]
  },
  {
   "cell_type": "code",
   "execution_count": 18,
   "metadata": {
    "colab": {
     "autoexec": {
      "startup": false,
      "wait_interval": 0
     }
    },
    "colab_type": "code",
    "id": "2tvn_evS6Hui",
    "outputId": "b9ab6683-9bf2-4d14-ffb3-9b7378df4275"
   },
   "outputs": [
    {
     "data": {
      "text/plain": [
       "SimpleImputer(strategy='median')"
      ]
     },
     "execution_count": 18,
     "metadata": {},
     "output_type": "execute_result"
    }
   ],
   "source": [
    "#from sklearn.preprocessing import Imputer\n",
    "#imputer_con = Imputer(strategy=\"median\")  \n",
    "#imputer_con.fit(dataP[con])\n",
    "from sklearn.impute import SimpleImputer\n",
    "imputer_con = SimpleImputer(missing_values=np.nan, strategy='median')\n",
    "imputer_con.fit(dataP[con])"
   ]
  },
  {
   "cell_type": "markdown",
   "metadata": {
    "colab_type": "text",
    "id": "VBRVJ8lf6Hus"
   },
   "source": [
    "<div class=\"alert alert-block alert-warning\">\n",
    "- strategy=\"mean\": 평균 대체\n",
    "\n",
    "- strategy=\"median\": 중위수 대체\n",
    "- strategy=\"most_frequent\":최빈값 대체\n"
   ]
  },
  {
   "cell_type": "code",
   "execution_count": 19,
   "metadata": {
    "colab": {
     "autoexec": {
      "startup": false,
      "wait_interval": 0
     }
    },
    "colab_type": "code",
    "id": "KjM7IX0k6Hu7"
   },
   "outputs": [
    {
     "data": {
      "text/plain": [
       "array([[  2.,   2.,  46.,  42.,   2., 634.],\n",
       "       [  1.,  10.,  28.,  28.,  13., 731.],\n",
       "       [  1.,  11.,  43.,  43.,   4., 602.],\n",
       "       ...,\n",
       "       [  1.,   8.,  23.,  23.,   5., 716.],\n",
       "       [  1.,   0.,  39.,  39.,   7., 651.],\n",
       "       [  1.,   1.,  20.,  20.,   4., 681.]])"
      ]
     },
     "execution_count": 19,
     "metadata": {},
     "output_type": "execute_result"
    }
   ],
   "source": [
    "x = imputer_con.transform(dataP[con]); x"
   ]
  },
  {
   "cell_type": "code",
   "execution_count": 20,
   "metadata": {
    "colab": {
     "autoexec": {
      "startup": false,
      "wait_interval": 0
     }
    },
    "colab_type": "code",
    "id": "llIuBZPL6Hu_"
   },
   "outputs": [
    {
     "data": {
      "text/html": [
       "<div>\n",
       "<style scoped>\n",
       "    .dataframe tbody tr th:only-of-type {\n",
       "        vertical-align: middle;\n",
       "    }\n",
       "\n",
       "    .dataframe tbody tr th {\n",
       "        vertical-align: top;\n",
       "    }\n",
       "\n",
       "    .dataframe thead th {\n",
       "        text-align: right;\n",
       "    }\n",
       "</style>\n",
       "<table border=\"1\" class=\"dataframe\">\n",
       "  <thead>\n",
       "    <tr style=\"text-align: right;\">\n",
       "      <th></th>\n",
       "      <th>customer_ID</th>\n",
       "      <th>shopping_pt</th>\n",
       "      <th>record_type</th>\n",
       "      <th>day</th>\n",
       "      <th>time</th>\n",
       "      <th>state</th>\n",
       "      <th>location</th>\n",
       "      <th>group_size</th>\n",
       "      <th>homeowner</th>\n",
       "      <th>car_age</th>\n",
       "      <th>...</th>\n",
       "      <th>C_previous</th>\n",
       "      <th>duration_previous</th>\n",
       "      <th>A</th>\n",
       "      <th>B</th>\n",
       "      <th>C</th>\n",
       "      <th>D</th>\n",
       "      <th>E</th>\n",
       "      <th>F</th>\n",
       "      <th>G</th>\n",
       "      <th>cost</th>\n",
       "    </tr>\n",
       "  </thead>\n",
       "  <tbody>\n",
       "    <tr>\n",
       "      <th>8</th>\n",
       "      <td>10000000</td>\n",
       "      <td>9</td>\n",
       "      <td>1</td>\n",
       "      <td>0</td>\n",
       "      <td>12:07</td>\n",
       "      <td>IN</td>\n",
       "      <td>10001</td>\n",
       "      <td>2.0</td>\n",
       "      <td>0</td>\n",
       "      <td>2.0</td>\n",
       "      <td>...</td>\n",
       "      <td>1.0</td>\n",
       "      <td>2.0</td>\n",
       "      <td>1</td>\n",
       "      <td>0</td>\n",
       "      <td>2</td>\n",
       "      <td>2</td>\n",
       "      <td>1</td>\n",
       "      <td>2</td>\n",
       "      <td>1</td>\n",
       "      <td>634.0</td>\n",
       "    </tr>\n",
       "    <tr>\n",
       "      <th>14</th>\n",
       "      <td>10000005</td>\n",
       "      <td>6</td>\n",
       "      <td>1</td>\n",
       "      <td>3</td>\n",
       "      <td>09:09</td>\n",
       "      <td>NY</td>\n",
       "      <td>10006</td>\n",
       "      <td>1.0</td>\n",
       "      <td>0</td>\n",
       "      <td>10.0</td>\n",
       "      <td>...</td>\n",
       "      <td>3.0</td>\n",
       "      <td>13.0</td>\n",
       "      <td>0</td>\n",
       "      <td>0</td>\n",
       "      <td>3</td>\n",
       "      <td>2</td>\n",
       "      <td>0</td>\n",
       "      <td>0</td>\n",
       "      <td>2</td>\n",
       "      <td>731.0</td>\n",
       "    </tr>\n",
       "    <tr>\n",
       "      <th>22</th>\n",
       "      <td>10000007</td>\n",
       "      <td>8</td>\n",
       "      <td>1</td>\n",
       "      <td>4</td>\n",
       "      <td>14:26</td>\n",
       "      <td>PA</td>\n",
       "      <td>10008</td>\n",
       "      <td>1.0</td>\n",
       "      <td>0</td>\n",
       "      <td>11.0</td>\n",
       "      <td>...</td>\n",
       "      <td>2.0</td>\n",
       "      <td>4.0</td>\n",
       "      <td>0</td>\n",
       "      <td>0</td>\n",
       "      <td>1</td>\n",
       "      <td>2</td>\n",
       "      <td>0</td>\n",
       "      <td>0</td>\n",
       "      <td>1</td>\n",
       "      <td>602.0</td>\n",
       "    </tr>\n",
       "    <tr>\n",
       "      <th>26</th>\n",
       "      <td>10000013</td>\n",
       "      <td>4</td>\n",
       "      <td>1</td>\n",
       "      <td>4</td>\n",
       "      <td>09:31</td>\n",
       "      <td>WV</td>\n",
       "      <td>10014</td>\n",
       "      <td>2.0</td>\n",
       "      <td>1</td>\n",
       "      <td>3.0</td>\n",
       "      <td>...</td>\n",
       "      <td>3.0</td>\n",
       "      <td>3.0</td>\n",
       "      <td>1</td>\n",
       "      <td>1</td>\n",
       "      <td>3</td>\n",
       "      <td>2</td>\n",
       "      <td>1</td>\n",
       "      <td>1</td>\n",
       "      <td>3</td>\n",
       "      <td>626.0</td>\n",
       "    </tr>\n",
       "    <tr>\n",
       "      <th>32</th>\n",
       "      <td>10000014</td>\n",
       "      <td>6</td>\n",
       "      <td>1</td>\n",
       "      <td>1</td>\n",
       "      <td>17:50</td>\n",
       "      <td>MO</td>\n",
       "      <td>10015</td>\n",
       "      <td>1.0</td>\n",
       "      <td>0</td>\n",
       "      <td>5.0</td>\n",
       "      <td>...</td>\n",
       "      <td>1.0</td>\n",
       "      <td>2.0</td>\n",
       "      <td>1</td>\n",
       "      <td>1</td>\n",
       "      <td>1</td>\n",
       "      <td>1</td>\n",
       "      <td>0</td>\n",
       "      <td>2</td>\n",
       "      <td>2</td>\n",
       "      <td>614.0</td>\n",
       "    </tr>\n",
       "  </tbody>\n",
       "</table>\n",
       "<p>5 rows × 25 columns</p>\n",
       "</div>"
      ],
      "text/plain": [
       "    customer_ID  shopping_pt  record_type  day   time state  location  \\\n",
       "8      10000000            9            1    0  12:07    IN     10001   \n",
       "14     10000005            6            1    3  09:09    NY     10006   \n",
       "22     10000007            8            1    4  14:26    PA     10008   \n",
       "26     10000013            4            1    4  09:31    WV     10014   \n",
       "32     10000014            6            1    1  17:50    MO     10015   \n",
       "\n",
       "    group_size  homeowner  car_age  ... C_previous  duration_previous  A  B  \\\n",
       "8          2.0          0      2.0  ...        1.0                2.0  1  0   \n",
       "14         1.0          0     10.0  ...        3.0               13.0  0  0   \n",
       "22         1.0          0     11.0  ...        2.0                4.0  0  0   \n",
       "26         2.0          1      3.0  ...        3.0                3.0  1  1   \n",
       "32         1.0          0      5.0  ...        1.0                2.0  1  1   \n",
       "\n",
       "    C  D  E  F  G   cost  \n",
       "8   2  2  1  2  1  634.0  \n",
       "14  3  2  0  0  2  731.0  \n",
       "22  1  2  0  0  1  602.0  \n",
       "26  3  2  1  1  3  626.0  \n",
       "32  1  1  0  2  2  614.0  \n",
       "\n",
       "[5 rows x 25 columns]"
      ]
     },
     "execution_count": 20,
     "metadata": {},
     "output_type": "execute_result"
    }
   ],
   "source": [
    "dataP_imp = dataP.copy()\n",
    "dataP_imp[con] = x\n",
    "dataP_imp.head()"
   ]
  },
  {
   "cell_type": "markdown",
   "metadata": {
    "colab": {
     "autoexec": {
      "startup": false,
      "wait_interval": 0
     }
    },
    "colab_type": "code",
    "id": "llIuBZPL6Hu_"
   },
   "source": [
    "<font color='red'>\n",
    "- sklearn.preprocessing.Imputer 클래스는 사이킷런 0.22 버전에서 삭제되기 때문에\n",
    "- 0.20 버전에서 추가된 sklearn.impute.SimpleImputer 클래스를 사용해야 함."
   ]
  },
  {
   "cell_type": "markdown",
   "metadata": {
    "colab_type": "text",
    "id": "JJ8Ek6516HvJ"
   },
   "source": [
    "##### Categorical feature 의 결측값 대체"
   ]
  },
  {
   "cell_type": "code",
   "execution_count": 21,
   "metadata": {
    "colab": {
     "autoexec": {
      "startup": false,
      "wait_interval": 0
     }
    },
    "colab_type": "code",
    "id": "d6Hl87I26HvM",
    "outputId": "99c35826-1bdb-4115-9e55-c41492898fd4"
   },
   "outputs": [
    {
     "data": {
      "text/plain": [
       "day                 int64\n",
       "homeowner           int64\n",
       "car_value          object\n",
       "risk_factor       float64\n",
       "married_couple      int64\n",
       "C_previous        float64\n",
       "state              object\n",
       "location            int64\n",
       "shopping_pt         int64\n",
       "dtype: object"
      ]
     },
     "execution_count": 21,
     "metadata": {},
     "output_type": "execute_result"
    }
   ],
   "source": [
    "dataP_imp[cat].dtypes"
   ]
  },
  {
   "cell_type": "code",
   "execution_count": 22,
   "metadata": {
    "colab": {
     "autoexec": {
      "startup": false,
      "wait_interval": 0
     }
    },
    "colab_type": "code",
    "id": "u2IEp9L_6HvT",
    "outputId": "d68975bf-d8c7-432c-e8da-ebef2695f2a5"
   },
   "outputs": [
    {
     "name": "stdout",
     "output_type": "stream",
     "text": [
      "Index(['a', 'b', 'c', 'd', 'e', 'f', 'g', 'h', 'i'], dtype='object')\n",
      "Index(['AL', 'AR', 'CO', 'CT', 'DC', 'DE', 'FL', 'GA', 'IA', 'ID', 'IN', 'KS',\n",
      "       'KY', 'MD', 'ME', 'MO', 'MS', 'MT', 'ND', 'NE', 'NH', 'NM', 'NV', 'NY',\n",
      "       'OH', 'OK', 'OR', 'PA', 'RI', 'SD', 'TN', 'UT', 'WA', 'WI', 'WV', 'WY'],\n",
      "      dtype='object')\n"
     ]
    }
   ],
   "source": [
    "obj=['car_value','state'] \n",
    "print(dataP['car_value'].astype('category').cat.categories)\n",
    "print(dataP['state'].astype('category').cat.categories)"
   ]
  },
  {
   "cell_type": "code",
   "execution_count": 24,
   "metadata": {},
   "outputs": [
    {
     "name": "stdout",
     "output_type": "stream",
     "text": [
      "<class 'pandas.core.frame.DataFrame'>\n",
      "Int64Index: 97009 entries, 8 to 665248\n",
      "Data columns (total 9 columns):\n",
      " #   Column          Non-Null Count  Dtype  \n",
      "---  ------          --------------  -----  \n",
      " 0   day             97009 non-null  int64  \n",
      " 1   homeowner       97009 non-null  int64  \n",
      " 2   car_value       97009 non-null  object \n",
      " 3   risk_factor     62663 non-null  float64\n",
      " 4   married_couple  97009 non-null  int64  \n",
      " 5   C_previous      96173 non-null  float64\n",
      " 6   state           97009 non-null  object \n",
      " 7   location        97009 non-null  int64  \n",
      " 8   shopping_pt     97009 non-null  int64  \n",
      "dtypes: float64(2), int64(5), object(2)\n",
      "memory usage: 7.4+ MB\n"
     ]
    }
   ],
   "source": [
    "dataP[cat].info()"
   ]
  },
  {
   "cell_type": "markdown",
   "metadata": {
    "colab_type": "text",
    "id": "huBol7yW6Hvb"
   },
   "source": [
    "<font color='blue'>\n",
    "* object type의 feature만 추출"
   ]
  },
  {
   "cell_type": "code",
   "execution_count": 25,
   "metadata": {},
   "outputs": [
    {
     "data": {
      "text/html": [
       "<div>\n",
       "<style scoped>\n",
       "    .dataframe tbody tr th:only-of-type {\n",
       "        vertical-align: middle;\n",
       "    }\n",
       "\n",
       "    .dataframe tbody tr th {\n",
       "        vertical-align: top;\n",
       "    }\n",
       "\n",
       "    .dataframe thead th {\n",
       "        text-align: right;\n",
       "    }\n",
       "</style>\n",
       "<table border=\"1\" class=\"dataframe\">\n",
       "  <thead>\n",
       "    <tr style=\"text-align: right;\">\n",
       "      <th></th>\n",
       "      <th>car_value</th>\n",
       "      <th>state</th>\n",
       "    </tr>\n",
       "  </thead>\n",
       "  <tbody>\n",
       "    <tr>\n",
       "      <th>8</th>\n",
       "      <td>g</td>\n",
       "      <td>IN</td>\n",
       "    </tr>\n",
       "    <tr>\n",
       "      <th>14</th>\n",
       "      <td>e</td>\n",
       "      <td>NY</td>\n",
       "    </tr>\n",
       "    <tr>\n",
       "      <th>22</th>\n",
       "      <td>c</td>\n",
       "      <td>PA</td>\n",
       "    </tr>\n",
       "    <tr>\n",
       "      <th>26</th>\n",
       "      <td>d</td>\n",
       "      <td>WV</td>\n",
       "    </tr>\n",
       "    <tr>\n",
       "      <th>32</th>\n",
       "      <td>d</td>\n",
       "      <td>MO</td>\n",
       "    </tr>\n",
       "    <tr>\n",
       "      <th>...</th>\n",
       "      <td>...</td>\n",
       "      <td>...</td>\n",
       "    </tr>\n",
       "    <tr>\n",
       "      <th>665225</th>\n",
       "      <td>e</td>\n",
       "      <td>FL</td>\n",
       "    </tr>\n",
       "    <tr>\n",
       "      <th>665233</th>\n",
       "      <td>g</td>\n",
       "      <td>FL</td>\n",
       "    </tr>\n",
       "    <tr>\n",
       "      <th>665239</th>\n",
       "      <td>e</td>\n",
       "      <td>CT</td>\n",
       "    </tr>\n",
       "    <tr>\n",
       "      <th>665242</th>\n",
       "      <td>g</td>\n",
       "      <td>FL</td>\n",
       "    </tr>\n",
       "    <tr>\n",
       "      <th>665248</th>\n",
       "      <td>d</td>\n",
       "      <td>KY</td>\n",
       "    </tr>\n",
       "  </tbody>\n",
       "</table>\n",
       "<p>97009 rows × 2 columns</p>\n",
       "</div>"
      ],
      "text/plain": [
       "       car_value state\n",
       "8              g    IN\n",
       "14             e    NY\n",
       "22             c    PA\n",
       "26             d    WV\n",
       "32             d    MO\n",
       "...          ...   ...\n",
       "665225         e    FL\n",
       "665233         g    FL\n",
       "665239         e    CT\n",
       "665242         g    FL\n",
       "665248         d    KY\n",
       "\n",
       "[97009 rows x 2 columns]"
      ]
     },
     "execution_count": 25,
     "metadata": {},
     "output_type": "execute_result"
    }
   ],
   "source": [
    "dataP_imp[obj]"
   ]
  },
  {
   "cell_type": "code",
   "execution_count": 26,
   "metadata": {},
   "outputs": [
    {
     "data": {
      "text/plain": [
       "0    2\n",
       "1    3\n",
       "2    4\n",
       "dtype: int64"
      ]
     },
     "execution_count": 26,
     "metadata": {},
     "output_type": "execute_result"
    }
   ],
   "source": [
    "def f(x):\n",
    "    return x+1\n",
    "\n",
    "pd.Series([1,2,3]).apply(lambda x: x+1)\n",
    "#pd.Series([1,2,3]).apply(f)\n",
    "# lambda : 익명의 함수"
   ]
  },
  {
   "cell_type": "code",
   "execution_count": 27,
   "metadata": {
    "colab": {
     "autoexec": {
      "startup": false,
      "wait_interval": 0
     }
    },
    "colab_type": "code",
    "id": "KsHhKF366Hvc"
   },
   "outputs": [],
   "source": [
    "dataP_imp[obj] = dataP_imp[obj].apply(lambda x: x.astype('category').cat.codes) \n",
    "# cat.code : 문자가 범주형으로 바뀌면 생기는 코드"
   ]
  },
  {
   "cell_type": "code",
   "execution_count": 30,
   "metadata": {},
   "outputs": [
    {
     "data": {
      "text/html": [
       "<div>\n",
       "<style scoped>\n",
       "    .dataframe tbody tr th:only-of-type {\n",
       "        vertical-align: middle;\n",
       "    }\n",
       "\n",
       "    .dataframe tbody tr th {\n",
       "        vertical-align: top;\n",
       "    }\n",
       "\n",
       "    .dataframe thead th {\n",
       "        text-align: right;\n",
       "    }\n",
       "</style>\n",
       "<table border=\"1\" class=\"dataframe\">\n",
       "  <thead>\n",
       "    <tr style=\"text-align: right;\">\n",
       "      <th></th>\n",
       "      <th>car_value</th>\n",
       "      <th>state</th>\n",
       "    </tr>\n",
       "  </thead>\n",
       "  <tbody>\n",
       "    <tr>\n",
       "      <th>8</th>\n",
       "      <td>6</td>\n",
       "      <td>10</td>\n",
       "    </tr>\n",
       "    <tr>\n",
       "      <th>14</th>\n",
       "      <td>4</td>\n",
       "      <td>23</td>\n",
       "    </tr>\n",
       "    <tr>\n",
       "      <th>22</th>\n",
       "      <td>2</td>\n",
       "      <td>27</td>\n",
       "    </tr>\n",
       "    <tr>\n",
       "      <th>26</th>\n",
       "      <td>3</td>\n",
       "      <td>34</td>\n",
       "    </tr>\n",
       "    <tr>\n",
       "      <th>32</th>\n",
       "      <td>3</td>\n",
       "      <td>15</td>\n",
       "    </tr>\n",
       "    <tr>\n",
       "      <th>42</th>\n",
       "      <td>3</td>\n",
       "      <td>24</td>\n",
       "    </tr>\n",
       "    <tr>\n",
       "      <th>50</th>\n",
       "      <td>3</td>\n",
       "      <td>25</td>\n",
       "    </tr>\n",
       "    <tr>\n",
       "      <th>57</th>\n",
       "      <td>5</td>\n",
       "      <td>27</td>\n",
       "    </tr>\n",
       "    <tr>\n",
       "      <th>64</th>\n",
       "      <td>3</td>\n",
       "      <td>24</td>\n",
       "    </tr>\n",
       "    <tr>\n",
       "      <th>68</th>\n",
       "      <td>3</td>\n",
       "      <td>24</td>\n",
       "    </tr>\n",
       "  </tbody>\n",
       "</table>\n",
       "</div>"
      ],
      "text/plain": [
       "    car_value  state\n",
       "8           6     10\n",
       "14          4     23\n",
       "22          2     27\n",
       "26          3     34\n",
       "32          3     15\n",
       "42          3     24\n",
       "50          3     25\n",
       "57          5     27\n",
       "64          3     24\n",
       "68          3     24"
      ]
     },
     "execution_count": 30,
     "metadata": {},
     "output_type": "execute_result"
    }
   ],
   "source": [
    "dataP_imp[obj].head(10)"
   ]
  },
  {
   "cell_type": "code",
   "execution_count": 28,
   "metadata": {
    "colab": {
     "autoexec": {
      "startup": false,
      "wait_interval": 0
     }
    },
    "colab_type": "code",
    "id": "SOLDIfS_6Hvh",
    "outputId": "b9af9416-5c60-4a5b-f91a-409f04ab6169"
   },
   "outputs": [
    {
     "data": {
      "text/plain": [
       "customer_ID            int64\n",
       "shopping_pt            int64\n",
       "record_type            int64\n",
       "day                    int64\n",
       "time                  object\n",
       "state                   int8\n",
       "location               int64\n",
       "group_size           float64\n",
       "homeowner              int64\n",
       "car_age              float64\n",
       "car_value               int8\n",
       "risk_factor          float64\n",
       "age_oldest           float64\n",
       "age_youngest         float64\n",
       "married_couple         int64\n",
       "C_previous           float64\n",
       "duration_previous    float64\n",
       "A                      int64\n",
       "B                      int64\n",
       "C                      int64\n",
       "D                      int64\n",
       "E                      int64\n",
       "F                      int64\n",
       "G                      int64\n",
       "cost                 float64\n",
       "dtype: object"
      ]
     },
     "execution_count": 28,
     "metadata": {},
     "output_type": "execute_result"
    }
   ],
   "source": [
    "dataP_imp.dtypes"
   ]
  },
  {
   "cell_type": "markdown",
   "metadata": {
    "colab_type": "text",
    "id": "-TWCys7M6Hvo"
   },
   "source": [
    "<font color='blue'>\n",
    "* object type을 category type으로 바꾼 후 숫자로 encoding"
   ]
  },
  {
   "cell_type": "markdown",
   "metadata": {
    "colab_type": "text",
    "id": "X6sv_iFs6Hvq"
   },
   "source": [
    "<font color=green>\n",
    "(strategy=\"most_frequent\"을 사용하여 impute)"
   ]
  },
  {
   "cell_type": "code",
   "execution_count": 33,
   "metadata": {
    "colab": {
     "autoexec": {
      "startup": false,
      "wait_interval": 0
     }
    },
    "colab_type": "code",
    "id": "42sDpEcB6Hvq"
   },
   "outputs": [],
   "source": [
    "imputer_cat = SimpleImputer(strategy=\"most_frequent\")\n",
    "dataP_imp[cat] = imputer_cat.fit_transform(dataP_imp[cat])"
   ]
  },
  {
   "cell_type": "code",
   "execution_count": 34,
   "metadata": {
    "colab": {
     "autoexec": {
      "startup": false,
      "wait_interval": 0
     }
    },
    "colab_type": "code",
    "id": "2G298udr6Hvw",
    "outputId": "6c30c735-743e-4cba-aeab-48a9cbbc72fd"
   },
   "outputs": [
    {
     "data": {
      "text/html": [
       "<div>\n",
       "<style scoped>\n",
       "    .dataframe tbody tr th:only-of-type {\n",
       "        vertical-align: middle;\n",
       "    }\n",
       "\n",
       "    .dataframe tbody tr th {\n",
       "        vertical-align: top;\n",
       "    }\n",
       "\n",
       "    .dataframe thead th {\n",
       "        text-align: right;\n",
       "    }\n",
       "</style>\n",
       "<table border=\"1\" class=\"dataframe\">\n",
       "  <thead>\n",
       "    <tr style=\"text-align: right;\">\n",
       "      <th></th>\n",
       "      <th>day</th>\n",
       "      <th>homeowner</th>\n",
       "      <th>car_value</th>\n",
       "      <th>risk_factor</th>\n",
       "      <th>married_couple</th>\n",
       "      <th>C_previous</th>\n",
       "      <th>state</th>\n",
       "      <th>location</th>\n",
       "      <th>shopping_pt</th>\n",
       "    </tr>\n",
       "  </thead>\n",
       "  <tbody>\n",
       "    <tr>\n",
       "      <th>8</th>\n",
       "      <td>0.0</td>\n",
       "      <td>0.0</td>\n",
       "      <td>6.0</td>\n",
       "      <td>3.0</td>\n",
       "      <td>1.0</td>\n",
       "      <td>1.0</td>\n",
       "      <td>10.0</td>\n",
       "      <td>10001.0</td>\n",
       "      <td>9.0</td>\n",
       "    </tr>\n",
       "    <tr>\n",
       "      <th>14</th>\n",
       "      <td>3.0</td>\n",
       "      <td>0.0</td>\n",
       "      <td>4.0</td>\n",
       "      <td>4.0</td>\n",
       "      <td>0.0</td>\n",
       "      <td>3.0</td>\n",
       "      <td>23.0</td>\n",
       "      <td>10006.0</td>\n",
       "      <td>6.0</td>\n",
       "    </tr>\n",
       "    <tr>\n",
       "      <th>22</th>\n",
       "      <td>4.0</td>\n",
       "      <td>0.0</td>\n",
       "      <td>2.0</td>\n",
       "      <td>3.0</td>\n",
       "      <td>0.0</td>\n",
       "      <td>2.0</td>\n",
       "      <td>27.0</td>\n",
       "      <td>10008.0</td>\n",
       "      <td>8.0</td>\n",
       "    </tr>\n",
       "    <tr>\n",
       "      <th>26</th>\n",
       "      <td>4.0</td>\n",
       "      <td>1.0</td>\n",
       "      <td>3.0</td>\n",
       "      <td>3.0</td>\n",
       "      <td>1.0</td>\n",
       "      <td>3.0</td>\n",
       "      <td>34.0</td>\n",
       "      <td>10014.0</td>\n",
       "      <td>4.0</td>\n",
       "    </tr>\n",
       "    <tr>\n",
       "      <th>32</th>\n",
       "      <td>1.0</td>\n",
       "      <td>0.0</td>\n",
       "      <td>3.0</td>\n",
       "      <td>3.0</td>\n",
       "      <td>1.0</td>\n",
       "      <td>1.0</td>\n",
       "      <td>15.0</td>\n",
       "      <td>10015.0</td>\n",
       "      <td>6.0</td>\n",
       "    </tr>\n",
       "  </tbody>\n",
       "</table>\n",
       "</div>"
      ],
      "text/plain": [
       "    day  homeowner  car_value  risk_factor  married_couple  C_previous  state  \\\n",
       "8   0.0        0.0        6.0          3.0             1.0         1.0   10.0   \n",
       "14  3.0        0.0        4.0          4.0             0.0         3.0   23.0   \n",
       "22  4.0        0.0        2.0          3.0             0.0         2.0   27.0   \n",
       "26  4.0        1.0        3.0          3.0             1.0         3.0   34.0   \n",
       "32  1.0        0.0        3.0          3.0             1.0         1.0   15.0   \n",
       "\n",
       "    location  shopping_pt  \n",
       "8    10001.0          9.0  \n",
       "14   10006.0          6.0  \n",
       "22   10008.0          8.0  \n",
       "26   10014.0          4.0  \n",
       "32   10015.0          6.0  "
      ]
     },
     "execution_count": 34,
     "metadata": {},
     "output_type": "execute_result"
    }
   ],
   "source": [
    "dataP_imp[cat].head()"
   ]
  },
  {
   "cell_type": "markdown",
   "metadata": {
    "colab_type": "text",
    "id": "OWobt4jI6Hv2"
   },
   "source": [
    "<font color='blue'>\n",
    "- 모든 categorical feature에 대해 결측치를 최빈값으로 대체 후 data frame으로 변환"
   ]
  },
  {
   "cell_type": "markdown",
   "metadata": {
    "colab_type": "text",
    "id": "DZsbeKtz6Hv2"
   },
   "source": [
    "***\n",
    "## Handling Categorical Variables"
   ]
  },
  {
   "cell_type": "code",
   "execution_count": 22,
   "metadata": {
    "colab": {
     "autoexec": {
      "startup": false,
      "wait_interval": 0
     }
    },
    "colab_type": "code",
    "id": "Pt0NA6gj6Hv4",
    "outputId": "b9871d9d-ef5f-4bf2-d7a2-0cbdc4c63feb"
   },
   "outputs": [],
   "source": [
    "dataP_imp[cat] = dataP_imp[cat].astype(int)"
   ]
  },
  {
   "cell_type": "code",
   "execution_count": 23,
   "metadata": {
    "colab": {
     "autoexec": {
      "startup": false,
      "wait_interval": 0
     }
    },
    "colab_type": "code",
    "id": "5u3VXQPX6Hv-",
    "outputId": "462c6bd0-7d91-4ffb-b650-b15ceaee86f8"
   },
   "outputs": [
    {
     "data": {
      "text/html": [
       "<div>\n",
       "<style scoped>\n",
       "    .dataframe tbody tr th:only-of-type {\n",
       "        vertical-align: middle;\n",
       "    }\n",
       "\n",
       "    .dataframe tbody tr th {\n",
       "        vertical-align: top;\n",
       "    }\n",
       "\n",
       "    .dataframe thead th {\n",
       "        text-align: right;\n",
       "    }\n",
       "</style>\n",
       "<table border=\"1\" class=\"dataframe\">\n",
       "  <thead>\n",
       "    <tr style=\"text-align: right;\">\n",
       "      <th></th>\n",
       "      <th>day</th>\n",
       "      <th>homeowner</th>\n",
       "      <th>car_value</th>\n",
       "      <th>risk_factor</th>\n",
       "      <th>married_couple</th>\n",
       "      <th>C_previous</th>\n",
       "      <th>state</th>\n",
       "      <th>location</th>\n",
       "      <th>shopping_pt</th>\n",
       "    </tr>\n",
       "  </thead>\n",
       "  <tbody>\n",
       "    <tr>\n",
       "      <th>8</th>\n",
       "      <td>0</td>\n",
       "      <td>0</td>\n",
       "      <td>6</td>\n",
       "      <td>3</td>\n",
       "      <td>1</td>\n",
       "      <td>1</td>\n",
       "      <td>10</td>\n",
       "      <td>10001</td>\n",
       "      <td>9</td>\n",
       "    </tr>\n",
       "    <tr>\n",
       "      <th>14</th>\n",
       "      <td>3</td>\n",
       "      <td>0</td>\n",
       "      <td>4</td>\n",
       "      <td>4</td>\n",
       "      <td>0</td>\n",
       "      <td>3</td>\n",
       "      <td>23</td>\n",
       "      <td>10006</td>\n",
       "      <td>6</td>\n",
       "    </tr>\n",
       "    <tr>\n",
       "      <th>22</th>\n",
       "      <td>4</td>\n",
       "      <td>0</td>\n",
       "      <td>2</td>\n",
       "      <td>3</td>\n",
       "      <td>0</td>\n",
       "      <td>2</td>\n",
       "      <td>27</td>\n",
       "      <td>10008</td>\n",
       "      <td>8</td>\n",
       "    </tr>\n",
       "    <tr>\n",
       "      <th>26</th>\n",
       "      <td>4</td>\n",
       "      <td>1</td>\n",
       "      <td>3</td>\n",
       "      <td>3</td>\n",
       "      <td>1</td>\n",
       "      <td>3</td>\n",
       "      <td>34</td>\n",
       "      <td>10014</td>\n",
       "      <td>4</td>\n",
       "    </tr>\n",
       "    <tr>\n",
       "      <th>32</th>\n",
       "      <td>1</td>\n",
       "      <td>0</td>\n",
       "      <td>3</td>\n",
       "      <td>3</td>\n",
       "      <td>1</td>\n",
       "      <td>1</td>\n",
       "      <td>15</td>\n",
       "      <td>10015</td>\n",
       "      <td>6</td>\n",
       "    </tr>\n",
       "  </tbody>\n",
       "</table>\n",
       "</div>"
      ],
      "text/plain": [
       "    day  homeowner  car_value  risk_factor  married_couple  C_previous  state  \\\n",
       "8     0          0          6            3               1           1     10   \n",
       "14    3          0          4            4               0           3     23   \n",
       "22    4          0          2            3               0           2     27   \n",
       "26    4          1          3            3               1           3     34   \n",
       "32    1          0          3            3               1           1     15   \n",
       "\n",
       "    location  shopping_pt  \n",
       "8      10001            9  \n",
       "14     10006            6  \n",
       "22     10008            8  \n",
       "26     10014            4  \n",
       "32     10015            6  "
      ]
     },
     "execution_count": 23,
     "metadata": {},
     "output_type": "execute_result"
    }
   ],
   "source": [
    "dataP_imp[cat].head()"
   ]
  },
  {
   "cell_type": "markdown",
   "metadata": {
    "colab_type": "text",
    "id": "gXUiyWe96HwD"
   },
   "source": [
    "### 1. One-Hot Encoding"
   ]
  },
  {
   "cell_type": "code",
   "execution_count": 24,
   "metadata": {},
   "outputs": [
    {
     "data": {
      "text/plain": [
       "8         0\n",
       "14        3\n",
       "22        4\n",
       "26        4\n",
       "32        1\n",
       "42        3\n",
       "50        1\n",
       "57        1\n",
       "64        0\n",
       "68        3\n",
       "74        2\n",
       "80        6\n",
       "88        4\n",
       "95        1\n",
       "102       0\n",
       "109       2\n",
       "120       0\n",
       "126       1\n",
       "133       2\n",
       "142       2\n",
       "146       4\n",
       "154       0\n",
       "158       0\n",
       "165       2\n",
       "173       0\n",
       "182       0\n",
       "192       3\n",
       "200       0\n",
       "203       2\n",
       "210       4\n",
       "         ..\n",
       "665040    4\n",
       "665048    4\n",
       "665057    4\n",
       "665062    0\n",
       "665070    4\n",
       "665081    4\n",
       "665089    4\n",
       "665093    0\n",
       "665103    3\n",
       "665108    2\n",
       "665116    4\n",
       "665124    0\n",
       "665131    4\n",
       "665141    2\n",
       "665149    3\n",
       "665158    4\n",
       "665162    1\n",
       "665168    2\n",
       "665174    1\n",
       "665180    3\n",
       "665190    3\n",
       "665195    4\n",
       "665204    2\n",
       "665209    0\n",
       "665216    2\n",
       "665225    2\n",
       "665233    4\n",
       "665239    4\n",
       "665242    1\n",
       "665248    1\n",
       "Name: day, Length: 97009, dtype: int64"
      ]
     },
     "execution_count": 24,
     "metadata": {},
     "output_type": "execute_result"
    }
   ],
   "source": [
    "dataP['day']"
   ]
  },
  {
   "cell_type": "code",
   "execution_count": 25,
   "metadata": {
    "colab": {
     "autoexec": {
      "startup": false,
      "wait_interval": 0
     }
    },
    "colab_type": "code",
    "id": "sUvfMbMa6HwE"
   },
   "outputs": [],
   "source": [
    "dataP_imp = pd.get_dummies(dataP_imp,columns=['day'])\n",
    "# get_dummies : 판다스에서 제공하는 메소드, 넘파이로 바뀌면 필드가 안보여서 이것을 많이 쓴다.\n",
    "# 쪼개기 전에 실행한다. 아니면 학습시 달라질 수 있어 또는 합친후 다시 실행한다."
   ]
  },
  {
   "cell_type": "code",
   "execution_count": 26,
   "metadata": {
    "colab": {
     "autoexec": {
      "startup": false,
      "wait_interval": 0
     }
    },
    "colab_type": "code",
    "id": "b5byLV5N6HwH",
    "outputId": "1a48eaf0-10ea-4a34-b765-a7a54828cf79"
   },
   "outputs": [
    {
     "data": {
      "text/html": [
       "<div>\n",
       "<style scoped>\n",
       "    .dataframe tbody tr th:only-of-type {\n",
       "        vertical-align: middle;\n",
       "    }\n",
       "\n",
       "    .dataframe tbody tr th {\n",
       "        vertical-align: top;\n",
       "    }\n",
       "\n",
       "    .dataframe thead th {\n",
       "        text-align: right;\n",
       "    }\n",
       "</style>\n",
       "<table border=\"1\" class=\"dataframe\">\n",
       "  <thead>\n",
       "    <tr style=\"text-align: right;\">\n",
       "      <th></th>\n",
       "      <th>customer_ID</th>\n",
       "      <th>shopping_pt</th>\n",
       "      <th>record_type</th>\n",
       "      <th>time</th>\n",
       "      <th>state</th>\n",
       "      <th>location</th>\n",
       "      <th>group_size</th>\n",
       "      <th>homeowner</th>\n",
       "      <th>car_age</th>\n",
       "      <th>car_value</th>\n",
       "      <th>...</th>\n",
       "      <th>F</th>\n",
       "      <th>G</th>\n",
       "      <th>cost</th>\n",
       "      <th>day_0</th>\n",
       "      <th>day_1</th>\n",
       "      <th>day_2</th>\n",
       "      <th>day_3</th>\n",
       "      <th>day_4</th>\n",
       "      <th>day_5</th>\n",
       "      <th>day_6</th>\n",
       "    </tr>\n",
       "  </thead>\n",
       "  <tbody>\n",
       "    <tr>\n",
       "      <th>8</th>\n",
       "      <td>10000000</td>\n",
       "      <td>9</td>\n",
       "      <td>1</td>\n",
       "      <td>12:07</td>\n",
       "      <td>10</td>\n",
       "      <td>10001</td>\n",
       "      <td>2.0</td>\n",
       "      <td>0</td>\n",
       "      <td>2.0</td>\n",
       "      <td>6</td>\n",
       "      <td>...</td>\n",
       "      <td>2</td>\n",
       "      <td>1</td>\n",
       "      <td>634.0</td>\n",
       "      <td>1</td>\n",
       "      <td>0</td>\n",
       "      <td>0</td>\n",
       "      <td>0</td>\n",
       "      <td>0</td>\n",
       "      <td>0</td>\n",
       "      <td>0</td>\n",
       "    </tr>\n",
       "    <tr>\n",
       "      <th>14</th>\n",
       "      <td>10000005</td>\n",
       "      <td>6</td>\n",
       "      <td>1</td>\n",
       "      <td>09:09</td>\n",
       "      <td>23</td>\n",
       "      <td>10006</td>\n",
       "      <td>1.0</td>\n",
       "      <td>0</td>\n",
       "      <td>10.0</td>\n",
       "      <td>4</td>\n",
       "      <td>...</td>\n",
       "      <td>0</td>\n",
       "      <td>2</td>\n",
       "      <td>731.0</td>\n",
       "      <td>0</td>\n",
       "      <td>0</td>\n",
       "      <td>0</td>\n",
       "      <td>1</td>\n",
       "      <td>0</td>\n",
       "      <td>0</td>\n",
       "      <td>0</td>\n",
       "    </tr>\n",
       "    <tr>\n",
       "      <th>22</th>\n",
       "      <td>10000007</td>\n",
       "      <td>8</td>\n",
       "      <td>1</td>\n",
       "      <td>14:26</td>\n",
       "      <td>27</td>\n",
       "      <td>10008</td>\n",
       "      <td>1.0</td>\n",
       "      <td>0</td>\n",
       "      <td>11.0</td>\n",
       "      <td>2</td>\n",
       "      <td>...</td>\n",
       "      <td>0</td>\n",
       "      <td>1</td>\n",
       "      <td>602.0</td>\n",
       "      <td>0</td>\n",
       "      <td>0</td>\n",
       "      <td>0</td>\n",
       "      <td>0</td>\n",
       "      <td>1</td>\n",
       "      <td>0</td>\n",
       "      <td>0</td>\n",
       "    </tr>\n",
       "    <tr>\n",
       "      <th>26</th>\n",
       "      <td>10000013</td>\n",
       "      <td>4</td>\n",
       "      <td>1</td>\n",
       "      <td>09:31</td>\n",
       "      <td>34</td>\n",
       "      <td>10014</td>\n",
       "      <td>2.0</td>\n",
       "      <td>1</td>\n",
       "      <td>3.0</td>\n",
       "      <td>3</td>\n",
       "      <td>...</td>\n",
       "      <td>1</td>\n",
       "      <td>3</td>\n",
       "      <td>626.0</td>\n",
       "      <td>0</td>\n",
       "      <td>0</td>\n",
       "      <td>0</td>\n",
       "      <td>0</td>\n",
       "      <td>1</td>\n",
       "      <td>0</td>\n",
       "      <td>0</td>\n",
       "    </tr>\n",
       "    <tr>\n",
       "      <th>32</th>\n",
       "      <td>10000014</td>\n",
       "      <td>6</td>\n",
       "      <td>1</td>\n",
       "      <td>17:50</td>\n",
       "      <td>15</td>\n",
       "      <td>10015</td>\n",
       "      <td>1.0</td>\n",
       "      <td>0</td>\n",
       "      <td>5.0</td>\n",
       "      <td>3</td>\n",
       "      <td>...</td>\n",
       "      <td>2</td>\n",
       "      <td>2</td>\n",
       "      <td>614.0</td>\n",
       "      <td>0</td>\n",
       "      <td>1</td>\n",
       "      <td>0</td>\n",
       "      <td>0</td>\n",
       "      <td>0</td>\n",
       "      <td>0</td>\n",
       "      <td>0</td>\n",
       "    </tr>\n",
       "  </tbody>\n",
       "</table>\n",
       "<p>5 rows × 31 columns</p>\n",
       "</div>"
      ],
      "text/plain": [
       "    customer_ID  shopping_pt  record_type   time  state  location  group_size  \\\n",
       "8      10000000            9            1  12:07     10     10001         2.0   \n",
       "14     10000005            6            1  09:09     23     10006         1.0   \n",
       "22     10000007            8            1  14:26     27     10008         1.0   \n",
       "26     10000013            4            1  09:31     34     10014         2.0   \n",
       "32     10000014            6            1  17:50     15     10015         1.0   \n",
       "\n",
       "    homeowner  car_age  car_value  ...    F  G   cost  day_0  day_1  day_2  \\\n",
       "8           0      2.0          6  ...    2  1  634.0      1      0      0   \n",
       "14          0     10.0          4  ...    0  2  731.0      0      0      0   \n",
       "22          0     11.0          2  ...    0  1  602.0      0      0      0   \n",
       "26          1      3.0          3  ...    1  3  626.0      0      0      0   \n",
       "32          0      5.0          3  ...    2  2  614.0      0      1      0   \n",
       "\n",
       "    day_3  day_4  day_5  day_6  \n",
       "8       0      0      0      0  \n",
       "14      1      0      0      0  \n",
       "22      0      1      0      0  \n",
       "26      0      1      0      0  \n",
       "32      0      0      0      0  \n",
       "\n",
       "[5 rows x 31 columns]"
      ]
     },
     "execution_count": 26,
     "metadata": {},
     "output_type": "execute_result"
    }
   ],
   "source": [
    "dataP_imp.head()"
   ]
  },
  {
   "cell_type": "code",
   "execution_count": 27,
   "metadata": {
    "colab": {
     "autoexec": {
      "startup": false,
      "wait_interval": 0
     }
    },
    "colab_type": "code",
    "id": "UVobaQB36HwL",
    "outputId": "492360cd-6b9e-4d14-c9ce-8748932d74e4"
   },
   "outputs": [
    {
     "data": {
      "text/html": [
       "<div>\n",
       "<style scoped>\n",
       "    .dataframe tbody tr th:only-of-type {\n",
       "        vertical-align: middle;\n",
       "    }\n",
       "\n",
       "    .dataframe tbody tr th {\n",
       "        vertical-align: top;\n",
       "    }\n",
       "\n",
       "    .dataframe thead th {\n",
       "        text-align: right;\n",
       "    }\n",
       "</style>\n",
       "<table border=\"1\" class=\"dataframe\">\n",
       "  <thead>\n",
       "    <tr style=\"text-align: right;\">\n",
       "      <th></th>\n",
       "      <th>day_0</th>\n",
       "      <th>day_1</th>\n",
       "      <th>day_2</th>\n",
       "      <th>day_3</th>\n",
       "      <th>day_4</th>\n",
       "      <th>day_5</th>\n",
       "      <th>day_6</th>\n",
       "    </tr>\n",
       "  </thead>\n",
       "  <tbody>\n",
       "    <tr>\n",
       "      <th>8</th>\n",
       "      <td>1</td>\n",
       "      <td>0</td>\n",
       "      <td>0</td>\n",
       "      <td>0</td>\n",
       "      <td>0</td>\n",
       "      <td>0</td>\n",
       "      <td>0</td>\n",
       "    </tr>\n",
       "    <tr>\n",
       "      <th>14</th>\n",
       "      <td>0</td>\n",
       "      <td>0</td>\n",
       "      <td>0</td>\n",
       "      <td>1</td>\n",
       "      <td>0</td>\n",
       "      <td>0</td>\n",
       "      <td>0</td>\n",
       "    </tr>\n",
       "    <tr>\n",
       "      <th>22</th>\n",
       "      <td>0</td>\n",
       "      <td>0</td>\n",
       "      <td>0</td>\n",
       "      <td>0</td>\n",
       "      <td>1</td>\n",
       "      <td>0</td>\n",
       "      <td>0</td>\n",
       "    </tr>\n",
       "    <tr>\n",
       "      <th>26</th>\n",
       "      <td>0</td>\n",
       "      <td>0</td>\n",
       "      <td>0</td>\n",
       "      <td>0</td>\n",
       "      <td>1</td>\n",
       "      <td>0</td>\n",
       "      <td>0</td>\n",
       "    </tr>\n",
       "    <tr>\n",
       "      <th>32</th>\n",
       "      <td>0</td>\n",
       "      <td>1</td>\n",
       "      <td>0</td>\n",
       "      <td>0</td>\n",
       "      <td>0</td>\n",
       "      <td>0</td>\n",
       "      <td>0</td>\n",
       "    </tr>\n",
       "  </tbody>\n",
       "</table>\n",
       "</div>"
      ],
      "text/plain": [
       "    day_0  day_1  day_2  day_3  day_4  day_5  day_6\n",
       "8       1      0      0      0      0      0      0\n",
       "14      0      0      0      1      0      0      0\n",
       "22      0      0      0      0      1      0      0\n",
       "26      0      0      0      0      1      0      0\n",
       "32      0      1      0      0      0      0      0"
      ]
     },
     "execution_count": 27,
     "metadata": {},
     "output_type": "execute_result"
    }
   ],
   "source": [
    "dataP_imp.filter(like='day').head()"
   ]
  },
  {
   "cell_type": "markdown",
   "metadata": {
    "colab_type": "text",
    "id": "wsmxYY4s6HwN"
   },
   "source": [
    "### 2. Label Encoding"
   ]
  },
  {
   "cell_type": "code",
   "execution_count": 28,
   "metadata": {
    "colab": {
     "autoexec": {
      "startup": false,
      "wait_interval": 0
     }
    },
    "colab_type": "code",
    "id": "QnlZY3Al6HwN",
    "outputId": "963c1184-cfac-41ee-f2f7-00057b1eb0bb"
   },
   "outputs": [
    {
     "data": {
      "text/plain": [
       "e    32161\n",
       "f    25943\n",
       "d    16402\n",
       "g    14387\n",
       "h     4158\n",
       "c     3072\n",
       "i      502\n",
       "b      210\n",
       "a      174\n",
       "Name: car_value, dtype: int64"
      ]
     },
     "execution_count": 28,
     "metadata": {},
     "output_type": "execute_result"
    }
   ],
   "source": [
    "dataP['car_value'].value_counts()"
   ]
  },
  {
   "cell_type": "code",
   "execution_count": 29,
   "metadata": {
    "colab": {
     "autoexec": {
      "startup": false,
      "wait_interval": 0
     }
    },
    "colab_type": "code",
    "id": "QVeVfZQf6HwQ"
   },
   "outputs": [],
   "source": [
    "dataP['car_value'] = dataP['car_value'].astype('category')"
   ]
  },
  {
   "cell_type": "code",
   "execution_count": 30,
   "metadata": {
    "colab": {
     "autoexec": {
      "startup": false,
      "wait_interval": 0
     }
    },
    "colab_type": "code",
    "id": "bzxlas1F6HwS"
   },
   "outputs": [],
   "source": [
    "dataP['car_value'] = dataP['car_value'].cat.codes"
   ]
  },
  {
   "cell_type": "code",
   "execution_count": 31,
   "metadata": {
    "colab": {
     "autoexec": {
      "startup": false,
      "wait_interval": 0
     }
    },
    "colab_type": "code",
    "id": "9S_Acb_J6HwU",
    "outputId": "ad824e4b-bfd1-4726-ba7f-1ec4f254d97d"
   },
   "outputs": [
    {
     "data": {
      "text/plain": [
       "4    32161\n",
       "5    25943\n",
       "3    16402\n",
       "6    14387\n",
       "7     4158\n",
       "2     3072\n",
       "8      502\n",
       "1      210\n",
       "0      174\n",
       "Name: car_value, dtype: int64"
      ]
     },
     "execution_count": 31,
     "metadata": {},
     "output_type": "execute_result"
    }
   ],
   "source": [
    "dataP['car_value'].value_counts()"
   ]
  },
  {
   "cell_type": "markdown",
   "metadata": {
    "colab_type": "text",
    "id": "nAyJs-Sq6HxA"
   },
   "source": [
    "****\n",
    "## Feature Scaling"
   ]
  },
  {
   "cell_type": "markdown",
   "metadata": {
    "colab_type": "text",
    "id": "cZxv6Ehz6HxA"
   },
   "source": [
    "### 1. Min-max scaling"
   ]
  },
  {
   "cell_type": "code",
   "execution_count": 32,
   "metadata": {
    "colab": {
     "autoexec": {
      "startup": false,
      "wait_interval": 0
     }
    },
    "colab_type": "code",
    "id": "veZzSZZ96HxC"
   },
   "outputs": [],
   "source": [
    "dataP_imp = dataP_imp.drop(['customer_ID', 'record_type', 'time','location'], axis=1)"
   ]
  },
  {
   "cell_type": "code",
   "execution_count": 33,
   "metadata": {
    "colab": {
     "autoexec": {
      "startup": false,
      "wait_interval": 0
     }
    },
    "colab_type": "code",
    "id": "7aZu6zBa6HxH",
    "outputId": "ab6f85b9-8a47-440f-f972-fc72378927b3"
   },
   "outputs": [
    {
     "data": {
      "text/html": [
       "<div>\n",
       "<style scoped>\n",
       "    .dataframe tbody tr th:only-of-type {\n",
       "        vertical-align: middle;\n",
       "    }\n",
       "\n",
       "    .dataframe tbody tr th {\n",
       "        vertical-align: top;\n",
       "    }\n",
       "\n",
       "    .dataframe thead th {\n",
       "        text-align: right;\n",
       "    }\n",
       "</style>\n",
       "<table border=\"1\" class=\"dataframe\">\n",
       "  <thead>\n",
       "    <tr style=\"text-align: right;\">\n",
       "      <th></th>\n",
       "      <th>shopping_pt</th>\n",
       "      <th>state</th>\n",
       "      <th>group_size</th>\n",
       "      <th>homeowner</th>\n",
       "      <th>car_age</th>\n",
       "      <th>car_value</th>\n",
       "      <th>risk_factor</th>\n",
       "      <th>age_oldest</th>\n",
       "      <th>age_youngest</th>\n",
       "      <th>married_couple</th>\n",
       "      <th>...</th>\n",
       "      <th>F</th>\n",
       "      <th>G</th>\n",
       "      <th>cost</th>\n",
       "      <th>day_0</th>\n",
       "      <th>day_1</th>\n",
       "      <th>day_2</th>\n",
       "      <th>day_3</th>\n",
       "      <th>day_4</th>\n",
       "      <th>day_5</th>\n",
       "      <th>day_6</th>\n",
       "    </tr>\n",
       "  </thead>\n",
       "  <tbody>\n",
       "    <tr>\n",
       "      <th>8</th>\n",
       "      <td>9</td>\n",
       "      <td>10</td>\n",
       "      <td>2.0</td>\n",
       "      <td>0</td>\n",
       "      <td>2.0</td>\n",
       "      <td>6</td>\n",
       "      <td>3</td>\n",
       "      <td>46.0</td>\n",
       "      <td>42.0</td>\n",
       "      <td>1</td>\n",
       "      <td>...</td>\n",
       "      <td>2</td>\n",
       "      <td>1</td>\n",
       "      <td>634.0</td>\n",
       "      <td>1</td>\n",
       "      <td>0</td>\n",
       "      <td>0</td>\n",
       "      <td>0</td>\n",
       "      <td>0</td>\n",
       "      <td>0</td>\n",
       "      <td>0</td>\n",
       "    </tr>\n",
       "    <tr>\n",
       "      <th>14</th>\n",
       "      <td>6</td>\n",
       "      <td>23</td>\n",
       "      <td>1.0</td>\n",
       "      <td>0</td>\n",
       "      <td>10.0</td>\n",
       "      <td>4</td>\n",
       "      <td>4</td>\n",
       "      <td>28.0</td>\n",
       "      <td>28.0</td>\n",
       "      <td>0</td>\n",
       "      <td>...</td>\n",
       "      <td>0</td>\n",
       "      <td>2</td>\n",
       "      <td>731.0</td>\n",
       "      <td>0</td>\n",
       "      <td>0</td>\n",
       "      <td>0</td>\n",
       "      <td>1</td>\n",
       "      <td>0</td>\n",
       "      <td>0</td>\n",
       "      <td>0</td>\n",
       "    </tr>\n",
       "    <tr>\n",
       "      <th>22</th>\n",
       "      <td>8</td>\n",
       "      <td>27</td>\n",
       "      <td>1.0</td>\n",
       "      <td>0</td>\n",
       "      <td>11.0</td>\n",
       "      <td>2</td>\n",
       "      <td>3</td>\n",
       "      <td>43.0</td>\n",
       "      <td>43.0</td>\n",
       "      <td>0</td>\n",
       "      <td>...</td>\n",
       "      <td>0</td>\n",
       "      <td>1</td>\n",
       "      <td>602.0</td>\n",
       "      <td>0</td>\n",
       "      <td>0</td>\n",
       "      <td>0</td>\n",
       "      <td>0</td>\n",
       "      <td>1</td>\n",
       "      <td>0</td>\n",
       "      <td>0</td>\n",
       "    </tr>\n",
       "    <tr>\n",
       "      <th>26</th>\n",
       "      <td>4</td>\n",
       "      <td>34</td>\n",
       "      <td>2.0</td>\n",
       "      <td>1</td>\n",
       "      <td>3.0</td>\n",
       "      <td>3</td>\n",
       "      <td>3</td>\n",
       "      <td>62.0</td>\n",
       "      <td>60.0</td>\n",
       "      <td>1</td>\n",
       "      <td>...</td>\n",
       "      <td>1</td>\n",
       "      <td>3</td>\n",
       "      <td>626.0</td>\n",
       "      <td>0</td>\n",
       "      <td>0</td>\n",
       "      <td>0</td>\n",
       "      <td>0</td>\n",
       "      <td>1</td>\n",
       "      <td>0</td>\n",
       "      <td>0</td>\n",
       "    </tr>\n",
       "    <tr>\n",
       "      <th>32</th>\n",
       "      <td>6</td>\n",
       "      <td>15</td>\n",
       "      <td>1.0</td>\n",
       "      <td>0</td>\n",
       "      <td>5.0</td>\n",
       "      <td>3</td>\n",
       "      <td>3</td>\n",
       "      <td>32.0</td>\n",
       "      <td>28.0</td>\n",
       "      <td>1</td>\n",
       "      <td>...</td>\n",
       "      <td>2</td>\n",
       "      <td>2</td>\n",
       "      <td>614.0</td>\n",
       "      <td>0</td>\n",
       "      <td>1</td>\n",
       "      <td>0</td>\n",
       "      <td>0</td>\n",
       "      <td>0</td>\n",
       "      <td>0</td>\n",
       "      <td>0</td>\n",
       "    </tr>\n",
       "  </tbody>\n",
       "</table>\n",
       "<p>5 rows × 27 columns</p>\n",
       "</div>"
      ],
      "text/plain": [
       "    shopping_pt  state  group_size  homeowner  car_age  car_value  \\\n",
       "8             9     10         2.0          0      2.0          6   \n",
       "14            6     23         1.0          0     10.0          4   \n",
       "22            8     27         1.0          0     11.0          2   \n",
       "26            4     34         2.0          1      3.0          3   \n",
       "32            6     15         1.0          0      5.0          3   \n",
       "\n",
       "    risk_factor  age_oldest  age_youngest  married_couple  ...    F  G   cost  \\\n",
       "8             3        46.0          42.0               1  ...    2  1  634.0   \n",
       "14            4        28.0          28.0               0  ...    0  2  731.0   \n",
       "22            3        43.0          43.0               0  ...    0  1  602.0   \n",
       "26            3        62.0          60.0               1  ...    1  3  626.0   \n",
       "32            3        32.0          28.0               1  ...    2  2  614.0   \n",
       "\n",
       "    day_0  day_1  day_2  day_3  day_4  day_5  day_6  \n",
       "8       1      0      0      0      0      0      0  \n",
       "14      0      0      0      1      0      0      0  \n",
       "22      0      0      0      0      1      0      0  \n",
       "26      0      0      0      0      1      0      0  \n",
       "32      0      1      0      0      0      0      0  \n",
       "\n",
       "[5 rows x 27 columns]"
      ]
     },
     "execution_count": 33,
     "metadata": {},
     "output_type": "execute_result"
    }
   ],
   "source": [
    "dataP_imp.head()"
   ]
  },
  {
   "cell_type": "code",
   "execution_count": 34,
   "metadata": {
    "colab": {
     "autoexec": {
      "startup": false,
      "wait_interval": 0
     }
    },
    "colab_type": "code",
    "id": "cAypuisL6HxL",
    "outputId": "05a5f81e-f586-4ba6-f54d-419ce9c8b90f"
   },
   "outputs": [
    {
     "name": "stderr",
     "output_type": "stream",
     "text": [
      "c:\\users\\kduar_000\\anaconda3\\lib\\site-packages\\sklearn\\preprocessing\\data.py:323: DataConversionWarning: Data with input dtype uint8, int32, int64, float64 were all converted to float64 by MinMaxScaler.\n",
      "  return self.partial_fit(X, y)\n"
     ]
    },
    {
     "data": {
      "text/plain": [
       "MinMaxScaler(copy=True, feature_range=(0, 1))"
      ]
     },
     "execution_count": 34,
     "metadata": {},
     "output_type": "execute_result"
    }
   ],
   "source": [
    "from sklearn.preprocessing import MinMaxScaler\n",
    "scaler = MinMaxScaler()\n",
    "scaler.fit(dataP_imp)"
   ]
  },
  {
   "cell_type": "code",
   "execution_count": 35,
   "metadata": {
    "colab": {
     "autoexec": {
      "startup": false,
      "wait_interval": 0
     }
    },
    "colab_type": "code",
    "id": "TvKUkhQo6HxN"
   },
   "outputs": [],
   "source": [
    "x = scaler.transform(dataP_imp)\n",
    "dataP_imp_s = pd.DataFrame(x, columns=dataP_imp.columns)"
   ]
  },
  {
   "cell_type": "code",
   "execution_count": 36,
   "metadata": {
    "colab": {
     "autoexec": {
      "startup": false,
      "wait_interval": 0
     }
    },
    "colab_type": "code",
    "id": "R4nzMXQb6HxP",
    "outputId": "ef32a2ac-7c4a-4795-9fdc-1b3126fe9f84"
   },
   "outputs": [
    {
     "data": {
      "text/html": [
       "<div>\n",
       "<style scoped>\n",
       "    .dataframe tbody tr th:only-of-type {\n",
       "        vertical-align: middle;\n",
       "    }\n",
       "\n",
       "    .dataframe tbody tr th {\n",
       "        vertical-align: top;\n",
       "    }\n",
       "\n",
       "    .dataframe thead th {\n",
       "        text-align: right;\n",
       "    }\n",
       "</style>\n",
       "<table border=\"1\" class=\"dataframe\">\n",
       "  <thead>\n",
       "    <tr style=\"text-align: right;\">\n",
       "      <th></th>\n",
       "      <th>shopping_pt</th>\n",
       "      <th>state</th>\n",
       "      <th>group_size</th>\n",
       "      <th>homeowner</th>\n",
       "      <th>car_age</th>\n",
       "      <th>car_value</th>\n",
       "      <th>risk_factor</th>\n",
       "      <th>age_oldest</th>\n",
       "      <th>age_youngest</th>\n",
       "      <th>married_couple</th>\n",
       "      <th>...</th>\n",
       "      <th>F</th>\n",
       "      <th>G</th>\n",
       "      <th>cost</th>\n",
       "      <th>day_0</th>\n",
       "      <th>day_1</th>\n",
       "      <th>day_2</th>\n",
       "      <th>day_3</th>\n",
       "      <th>day_4</th>\n",
       "      <th>day_5</th>\n",
       "      <th>day_6</th>\n",
       "    </tr>\n",
       "  </thead>\n",
       "  <tbody>\n",
       "    <tr>\n",
       "      <th>count</th>\n",
       "      <td>97009.000000</td>\n",
       "      <td>97009.000000</td>\n",
       "      <td>97009.000000</td>\n",
       "      <td>97009.000000</td>\n",
       "      <td>97009.000000</td>\n",
       "      <td>97009.000000</td>\n",
       "      <td>97009.000000</td>\n",
       "      <td>97009.000000</td>\n",
       "      <td>97009.000000</td>\n",
       "      <td>97009.000000</td>\n",
       "      <td>...</td>\n",
       "      <td>97009.000000</td>\n",
       "      <td>97009.000000</td>\n",
       "      <td>97009.000000</td>\n",
       "      <td>97009.00000</td>\n",
       "      <td>97009.000000</td>\n",
       "      <td>97009.000000</td>\n",
       "      <td>97009.000000</td>\n",
       "      <td>97009.000000</td>\n",
       "      <td>97009.000000</td>\n",
       "      <td>97009.000000</td>\n",
       "    </tr>\n",
       "    <tr>\n",
       "      <th>mean</th>\n",
       "      <td>0.385760</td>\n",
       "      <td>0.483866</td>\n",
       "      <td>0.078539</td>\n",
       "      <td>0.545485</td>\n",
       "      <td>0.096248</td>\n",
       "      <td>0.558406</td>\n",
       "      <td>0.572363</td>\n",
       "      <td>0.476871</td>\n",
       "      <td>0.452247</td>\n",
       "      <td>0.211692</td>\n",
       "      <td>...</td>\n",
       "      <td>0.388954</td>\n",
       "      <td>0.426088</td>\n",
       "      <td>0.644911</td>\n",
       "      <td>0.19156</td>\n",
       "      <td>0.198373</td>\n",
       "      <td>0.194054</td>\n",
       "      <td>0.185076</td>\n",
       "      <td>0.214939</td>\n",
       "      <td>0.014772</td>\n",
       "      <td>0.001227</td>\n",
       "    </tr>\n",
       "    <tr>\n",
       "      <th>std</th>\n",
       "      <td>0.199836</td>\n",
       "      <td>0.288620</td>\n",
       "      <td>0.153932</td>\n",
       "      <td>0.497929</td>\n",
       "      <td>0.068194</td>\n",
       "      <td>0.150770</td>\n",
       "      <td>0.307027</td>\n",
       "      <td>0.305082</td>\n",
       "      <td>0.296423</td>\n",
       "      <td>0.408510</td>\n",
       "      <td>...</td>\n",
       "      <td>0.316110</td>\n",
       "      <td>0.296107</td>\n",
       "      <td>0.074767</td>\n",
       "      <td>0.39353</td>\n",
       "      <td>0.398777</td>\n",
       "      <td>0.395473</td>\n",
       "      <td>0.388361</td>\n",
       "      <td>0.410782</td>\n",
       "      <td>0.120639</td>\n",
       "      <td>0.035003</td>\n",
       "    </tr>\n",
       "    <tr>\n",
       "      <th>min</th>\n",
       "      <td>0.000000</td>\n",
       "      <td>0.000000</td>\n",
       "      <td>0.000000</td>\n",
       "      <td>0.000000</td>\n",
       "      <td>0.000000</td>\n",
       "      <td>0.000000</td>\n",
       "      <td>0.000000</td>\n",
       "      <td>0.000000</td>\n",
       "      <td>0.000000</td>\n",
       "      <td>0.000000</td>\n",
       "      <td>...</td>\n",
       "      <td>0.000000</td>\n",
       "      <td>0.000000</td>\n",
       "      <td>0.000000</td>\n",
       "      <td>0.00000</td>\n",
       "      <td>0.000000</td>\n",
       "      <td>0.000000</td>\n",
       "      <td>0.000000</td>\n",
       "      <td>0.000000</td>\n",
       "      <td>0.000000</td>\n",
       "      <td>0.000000</td>\n",
       "    </tr>\n",
       "    <tr>\n",
       "      <th>25%</th>\n",
       "      <td>0.200000</td>\n",
       "      <td>0.171429</td>\n",
       "      <td>0.000000</td>\n",
       "      <td>0.000000</td>\n",
       "      <td>0.035294</td>\n",
       "      <td>0.500000</td>\n",
       "      <td>0.333333</td>\n",
       "      <td>0.192982</td>\n",
       "      <td>0.169492</td>\n",
       "      <td>0.000000</td>\n",
       "      <td>...</td>\n",
       "      <td>0.000000</td>\n",
       "      <td>0.333333</td>\n",
       "      <td>0.593750</td>\n",
       "      <td>0.00000</td>\n",
       "      <td>0.000000</td>\n",
       "      <td>0.000000</td>\n",
       "      <td>0.000000</td>\n",
       "      <td>0.000000</td>\n",
       "      <td>0.000000</td>\n",
       "      <td>0.000000</td>\n",
       "    </tr>\n",
       "    <tr>\n",
       "      <th>50%</th>\n",
       "      <td>0.400000</td>\n",
       "      <td>0.571429</td>\n",
       "      <td>0.000000</td>\n",
       "      <td>1.000000</td>\n",
       "      <td>0.094118</td>\n",
       "      <td>0.500000</td>\n",
       "      <td>0.666667</td>\n",
       "      <td>0.456140</td>\n",
       "      <td>0.406780</td>\n",
       "      <td>0.000000</td>\n",
       "      <td>...</td>\n",
       "      <td>0.333333</td>\n",
       "      <td>0.333333</td>\n",
       "      <td>0.644097</td>\n",
       "      <td>0.00000</td>\n",
       "      <td>0.000000</td>\n",
       "      <td>0.000000</td>\n",
       "      <td>0.000000</td>\n",
       "      <td>0.000000</td>\n",
       "      <td>0.000000</td>\n",
       "      <td>0.000000</td>\n",
       "    </tr>\n",
       "    <tr>\n",
       "      <th>75%</th>\n",
       "      <td>0.500000</td>\n",
       "      <td>0.714286</td>\n",
       "      <td>0.000000</td>\n",
       "      <td>1.000000</td>\n",
       "      <td>0.141176</td>\n",
       "      <td>0.625000</td>\n",
       "      <td>0.666667</td>\n",
       "      <td>0.736842</td>\n",
       "      <td>0.694915</td>\n",
       "      <td>0.000000</td>\n",
       "      <td>...</td>\n",
       "      <td>0.666667</td>\n",
       "      <td>0.666667</td>\n",
       "      <td>0.694444</td>\n",
       "      <td>0.00000</td>\n",
       "      <td>0.000000</td>\n",
       "      <td>0.000000</td>\n",
       "      <td>0.000000</td>\n",
       "      <td>0.000000</td>\n",
       "      <td>0.000000</td>\n",
       "      <td>0.000000</td>\n",
       "    </tr>\n",
       "    <tr>\n",
       "      <th>max</th>\n",
       "      <td>1.000000</td>\n",
       "      <td>1.000000</td>\n",
       "      <td>1.000000</td>\n",
       "      <td>1.000000</td>\n",
       "      <td>1.000000</td>\n",
       "      <td>1.000000</td>\n",
       "      <td>1.000000</td>\n",
       "      <td>1.000000</td>\n",
       "      <td>1.000000</td>\n",
       "      <td>1.000000</td>\n",
       "      <td>...</td>\n",
       "      <td>1.000000</td>\n",
       "      <td>1.000000</td>\n",
       "      <td>1.000000</td>\n",
       "      <td>1.00000</td>\n",
       "      <td>1.000000</td>\n",
       "      <td>1.000000</td>\n",
       "      <td>1.000000</td>\n",
       "      <td>1.000000</td>\n",
       "      <td>1.000000</td>\n",
       "      <td>1.000000</td>\n",
       "    </tr>\n",
       "  </tbody>\n",
       "</table>\n",
       "<p>8 rows × 27 columns</p>\n",
       "</div>"
      ],
      "text/plain": [
       "        shopping_pt         state    group_size     homeowner       car_age  \\\n",
       "count  97009.000000  97009.000000  97009.000000  97009.000000  97009.000000   \n",
       "mean       0.385760      0.483866      0.078539      0.545485      0.096248   \n",
       "std        0.199836      0.288620      0.153932      0.497929      0.068194   \n",
       "min        0.000000      0.000000      0.000000      0.000000      0.000000   \n",
       "25%        0.200000      0.171429      0.000000      0.000000      0.035294   \n",
       "50%        0.400000      0.571429      0.000000      1.000000      0.094118   \n",
       "75%        0.500000      0.714286      0.000000      1.000000      0.141176   \n",
       "max        1.000000      1.000000      1.000000      1.000000      1.000000   \n",
       "\n",
       "          car_value   risk_factor    age_oldest  age_youngest  married_couple  \\\n",
       "count  97009.000000  97009.000000  97009.000000  97009.000000    97009.000000   \n",
       "mean       0.558406      0.572363      0.476871      0.452247        0.211692   \n",
       "std        0.150770      0.307027      0.305082      0.296423        0.408510   \n",
       "min        0.000000      0.000000      0.000000      0.000000        0.000000   \n",
       "25%        0.500000      0.333333      0.192982      0.169492        0.000000   \n",
       "50%        0.500000      0.666667      0.456140      0.406780        0.000000   \n",
       "75%        0.625000      0.666667      0.736842      0.694915        0.000000   \n",
       "max        1.000000      1.000000      1.000000      1.000000        1.000000   \n",
       "\n",
       "           ...                  F             G          cost        day_0  \\\n",
       "count      ...       97009.000000  97009.000000  97009.000000  97009.00000   \n",
       "mean       ...           0.388954      0.426088      0.644911      0.19156   \n",
       "std        ...           0.316110      0.296107      0.074767      0.39353   \n",
       "min        ...           0.000000      0.000000      0.000000      0.00000   \n",
       "25%        ...           0.000000      0.333333      0.593750      0.00000   \n",
       "50%        ...           0.333333      0.333333      0.644097      0.00000   \n",
       "75%        ...           0.666667      0.666667      0.694444      0.00000   \n",
       "max        ...           1.000000      1.000000      1.000000      1.00000   \n",
       "\n",
       "              day_1         day_2         day_3         day_4         day_5  \\\n",
       "count  97009.000000  97009.000000  97009.000000  97009.000000  97009.000000   \n",
       "mean       0.198373      0.194054      0.185076      0.214939      0.014772   \n",
       "std        0.398777      0.395473      0.388361      0.410782      0.120639   \n",
       "min        0.000000      0.000000      0.000000      0.000000      0.000000   \n",
       "25%        0.000000      0.000000      0.000000      0.000000      0.000000   \n",
       "50%        0.000000      0.000000      0.000000      0.000000      0.000000   \n",
       "75%        0.000000      0.000000      0.000000      0.000000      0.000000   \n",
       "max        1.000000      1.000000      1.000000      1.000000      1.000000   \n",
       "\n",
       "              day_6  \n",
       "count  97009.000000  \n",
       "mean       0.001227  \n",
       "std        0.035003  \n",
       "min        0.000000  \n",
       "25%        0.000000  \n",
       "50%        0.000000  \n",
       "75%        0.000000  \n",
       "max        1.000000  \n",
       "\n",
       "[8 rows x 27 columns]"
      ]
     },
     "execution_count": 36,
     "metadata": {},
     "output_type": "execute_result"
    }
   ],
   "source": [
    "dataP_imp_s.describe()"
   ]
  },
  {
   "cell_type": "markdown",
   "metadata": {
    "colab_type": "text",
    "id": "HzQJTlBt6HxS"
   },
   "source": [
    "### 2. Standardization"
   ]
  },
  {
   "cell_type": "markdown",
   "metadata": {
    "colab_type": "text",
    "id": "ZbbRKI-d6HxS"
   },
   "source": [
    "<font color=green>\n",
    "(MinMaxScaler 대신 StandardScaler를 사용하여 위와 동일하게 진행)"
   ]
  },
  {
   "cell_type": "code",
   "execution_count": 37,
   "metadata": {
    "colab": {
     "autoexec": {
      "startup": false,
      "wait_interval": 0
     }
    },
    "colab_type": "code",
    "id": "9M4fM9jN6HxU"
   },
   "outputs": [
    {
     "name": "stderr",
     "output_type": "stream",
     "text": [
      "c:\\users\\kduar_000\\anaconda3\\lib\\site-packages\\sklearn\\preprocessing\\data.py:617: DataConversionWarning: Data with input dtype uint8, int32, int64, float64 were all converted to float64 by StandardScaler.\n",
      "  return self.partial_fit(X, y)\n",
      "c:\\users\\kduar_000\\anaconda3\\lib\\site-packages\\ipykernel_launcher.py:4: DataConversionWarning: Data with input dtype uint8, int32, int64, float64 were all converted to float64 by StandardScaler.\n",
      "  after removing the cwd from sys.path.\n"
     ]
    }
   ],
   "source": [
    "from sklearn.preprocessing import StandardScaler\n",
    "scaler = StandardScaler()\n",
    "scaler.fit(dataP_imp)\n",
    "x = scaler.transform(dataP_imp)\n",
    "dataP_imp_s = pd.DataFrame(x, columns=dataP_imp.columns)"
   ]
  },
  {
   "cell_type": "code",
   "execution_count": 38,
   "metadata": {
    "colab": {
     "autoexec": {
      "startup": false,
      "wait_interval": 0
     }
    },
    "colab_type": "code",
    "id": "qP7jyrKN6HxW",
    "outputId": "d0ac47f4-8745-4e8e-91b7-2aa0c6dbf254"
   },
   "outputs": [
    {
     "data": {
      "text/html": [
       "<div>\n",
       "<style scoped>\n",
       "    .dataframe tbody tr th:only-of-type {\n",
       "        vertical-align: middle;\n",
       "    }\n",
       "\n",
       "    .dataframe tbody tr th {\n",
       "        vertical-align: top;\n",
       "    }\n",
       "\n",
       "    .dataframe thead th {\n",
       "        text-align: right;\n",
       "    }\n",
       "</style>\n",
       "<table border=\"1\" class=\"dataframe\">\n",
       "  <thead>\n",
       "    <tr style=\"text-align: right;\">\n",
       "      <th></th>\n",
       "      <th>shopping_pt</th>\n",
       "      <th>state</th>\n",
       "      <th>group_size</th>\n",
       "      <th>homeowner</th>\n",
       "      <th>car_age</th>\n",
       "      <th>car_value</th>\n",
       "      <th>risk_factor</th>\n",
       "      <th>age_oldest</th>\n",
       "      <th>age_youngest</th>\n",
       "      <th>married_couple</th>\n",
       "      <th>...</th>\n",
       "      <th>F</th>\n",
       "      <th>G</th>\n",
       "      <th>cost</th>\n",
       "      <th>day_0</th>\n",
       "      <th>day_1</th>\n",
       "      <th>day_2</th>\n",
       "      <th>day_3</th>\n",
       "      <th>day_4</th>\n",
       "      <th>day_5</th>\n",
       "      <th>day_6</th>\n",
       "    </tr>\n",
       "  </thead>\n",
       "  <tbody>\n",
       "    <tr>\n",
       "      <th>count</th>\n",
       "      <td>9.700900e+04</td>\n",
       "      <td>9.700900e+04</td>\n",
       "      <td>9.700900e+04</td>\n",
       "      <td>9.700900e+04</td>\n",
       "      <td>9.700900e+04</td>\n",
       "      <td>9.700900e+04</td>\n",
       "      <td>9.700900e+04</td>\n",
       "      <td>9.700900e+04</td>\n",
       "      <td>9.700900e+04</td>\n",
       "      <td>9.700900e+04</td>\n",
       "      <td>...</td>\n",
       "      <td>9.700900e+04</td>\n",
       "      <td>9.700900e+04</td>\n",
       "      <td>9.700900e+04</td>\n",
       "      <td>9.700900e+04</td>\n",
       "      <td>9.700900e+04</td>\n",
       "      <td>9.700900e+04</td>\n",
       "      <td>9.700900e+04</td>\n",
       "      <td>9.700900e+04</td>\n",
       "      <td>9.700900e+04</td>\n",
       "      <td>9.700900e+04</td>\n",
       "    </tr>\n",
       "    <tr>\n",
       "      <th>mean</th>\n",
       "      <td>-1.134155e-15</td>\n",
       "      <td>1.294966e-16</td>\n",
       "      <td>3.469409e-15</td>\n",
       "      <td>-1.152506e-15</td>\n",
       "      <td>1.387513e-16</td>\n",
       "      <td>-1.462664e-15</td>\n",
       "      <td>-8.593073e-16</td>\n",
       "      <td>4.946145e-16</td>\n",
       "      <td>-2.303648e-16</td>\n",
       "      <td>-1.236307e-15</td>\n",
       "      <td>...</td>\n",
       "      <td>-9.529476e-16</td>\n",
       "      <td>1.698140e-16</td>\n",
       "      <td>1.010825e-15</td>\n",
       "      <td>2.277425e-15</td>\n",
       "      <td>-1.974228e-15</td>\n",
       "      <td>-1.524056e-15</td>\n",
       "      <td>2.801313e-16</td>\n",
       "      <td>-3.211245e-16</td>\n",
       "      <td>1.612565e-15</td>\n",
       "      <td>-6.357584e-16</td>\n",
       "    </tr>\n",
       "    <tr>\n",
       "      <th>std</th>\n",
       "      <td>1.000005e+00</td>\n",
       "      <td>1.000005e+00</td>\n",
       "      <td>1.000005e+00</td>\n",
       "      <td>1.000005e+00</td>\n",
       "      <td>1.000005e+00</td>\n",
       "      <td>1.000005e+00</td>\n",
       "      <td>1.000005e+00</td>\n",
       "      <td>1.000005e+00</td>\n",
       "      <td>1.000005e+00</td>\n",
       "      <td>1.000005e+00</td>\n",
       "      <td>...</td>\n",
       "      <td>1.000005e+00</td>\n",
       "      <td>1.000005e+00</td>\n",
       "      <td>1.000005e+00</td>\n",
       "      <td>1.000005e+00</td>\n",
       "      <td>1.000005e+00</td>\n",
       "      <td>1.000005e+00</td>\n",
       "      <td>1.000005e+00</td>\n",
       "      <td>1.000005e+00</td>\n",
       "      <td>1.000005e+00</td>\n",
       "      <td>1.000005e+00</td>\n",
       "    </tr>\n",
       "    <tr>\n",
       "      <th>min</th>\n",
       "      <td>-1.930396e+00</td>\n",
       "      <td>-1.676491e+00</td>\n",
       "      <td>-5.102221e-01</td>\n",
       "      <td>-1.095513e+00</td>\n",
       "      <td>-1.411386e+00</td>\n",
       "      <td>-3.703701e+00</td>\n",
       "      <td>-1.864221e+00</td>\n",
       "      <td>-1.563100e+00</td>\n",
       "      <td>-1.525688e+00</td>\n",
       "      <td>-5.182077e-01</td>\n",
       "      <td>...</td>\n",
       "      <td>-1.230445e+00</td>\n",
       "      <td>-1.438971e+00</td>\n",
       "      <td>-8.625614e+00</td>\n",
       "      <td>-4.867746e-01</td>\n",
       "      <td>-4.974570e-01</td>\n",
       "      <td>-4.906915e-01</td>\n",
       "      <td>-4.765582e-01</td>\n",
       "      <td>-5.232457e-01</td>\n",
       "      <td>-1.224471e-01</td>\n",
       "      <td>-3.504564e-02</td>\n",
       "    </tr>\n",
       "    <tr>\n",
       "      <th>25%</th>\n",
       "      <td>-9.295686e-01</td>\n",
       "      <td>-1.082528e+00</td>\n",
       "      <td>-5.102221e-01</td>\n",
       "      <td>-1.095513e+00</td>\n",
       "      <td>-8.938305e-01</td>\n",
       "      <td>-3.873834e-01</td>\n",
       "      <td>-7.785336e-01</td>\n",
       "      <td>-9.305367e-01</td>\n",
       "      <td>-9.538954e-01</td>\n",
       "      <td>-5.182077e-01</td>\n",
       "      <td>...</td>\n",
       "      <td>-1.230445e+00</td>\n",
       "      <td>-3.132471e-01</td>\n",
       "      <td>-6.842685e-01</td>\n",
       "      <td>-4.867746e-01</td>\n",
       "      <td>-4.974570e-01</td>\n",
       "      <td>-4.906915e-01</td>\n",
       "      <td>-4.765582e-01</td>\n",
       "      <td>-5.232457e-01</td>\n",
       "      <td>-1.224471e-01</td>\n",
       "      <td>-3.504564e-02</td>\n",
       "    </tr>\n",
       "    <tr>\n",
       "      <th>50%</th>\n",
       "      <td>7.125847e-02</td>\n",
       "      <td>3.033859e-01</td>\n",
       "      <td>-5.102221e-01</td>\n",
       "      <td>9.128140e-01</td>\n",
       "      <td>-3.123721e-02</td>\n",
       "      <td>-3.873834e-01</td>\n",
       "      <td>3.071539e-01</td>\n",
       "      <td>-6.795011e-02</td>\n",
       "      <td>-1.533859e-01</td>\n",
       "      <td>-5.182077e-01</td>\n",
       "      <td>...</td>\n",
       "      <td>-1.759533e-01</td>\n",
       "      <td>-3.132471e-01</td>\n",
       "      <td>-1.087950e-02</td>\n",
       "      <td>-4.867746e-01</td>\n",
       "      <td>-4.974570e-01</td>\n",
       "      <td>-4.906915e-01</td>\n",
       "      <td>-4.765582e-01</td>\n",
       "      <td>-5.232457e-01</td>\n",
       "      <td>-1.224471e-01</td>\n",
       "      <td>-3.504564e-02</td>\n",
       "    </tr>\n",
       "    <tr>\n",
       "      <th>75%</th>\n",
       "      <td>5.716720e-01</td>\n",
       "      <td>7.983550e-01</td>\n",
       "      <td>-5.102221e-01</td>\n",
       "      <td>9.128140e-01</td>\n",
       "      <td>6.588374e-01</td>\n",
       "      <td>4.416959e-01</td>\n",
       "      <td>3.071539e-01</td>\n",
       "      <td>8.521423e-01</td>\n",
       "      <td>8.186613e-01</td>\n",
       "      <td>-5.182077e-01</td>\n",
       "      <td>...</td>\n",
       "      <td>8.785383e-01</td>\n",
       "      <td>8.124766e-01</td>\n",
       "      <td>6.625095e-01</td>\n",
       "      <td>-4.867746e-01</td>\n",
       "      <td>-4.974570e-01</td>\n",
       "      <td>-4.906915e-01</td>\n",
       "      <td>-4.765582e-01</td>\n",
       "      <td>-5.232457e-01</td>\n",
       "      <td>-1.224471e-01</td>\n",
       "      <td>-3.504564e-02</td>\n",
       "    </tr>\n",
       "    <tr>\n",
       "      <th>max</th>\n",
       "      <td>3.073740e+00</td>\n",
       "      <td>1.788293e+00</td>\n",
       "      <td>5.986186e+00</td>\n",
       "      <td>9.128140e-01</td>\n",
       "      <td>1.325270e+01</td>\n",
       "      <td>2.928934e+00</td>\n",
       "      <td>1.392841e+00</td>\n",
       "      <td>1.714729e+00</td>\n",
       "      <td>1.847888e+00</td>\n",
       "      <td>1.929728e+00</td>\n",
       "      <td>...</td>\n",
       "      <td>1.933030e+00</td>\n",
       "      <td>1.938200e+00</td>\n",
       "      <td>4.749284e+00</td>\n",
       "      <td>2.054339e+00</td>\n",
       "      <td>2.010224e+00</td>\n",
       "      <td>2.037940e+00</td>\n",
       "      <td>2.098380e+00</td>\n",
       "      <td>1.911148e+00</td>\n",
       "      <td>8.166789e+00</td>\n",
       "      <td>2.853422e+01</td>\n",
       "    </tr>\n",
       "  </tbody>\n",
       "</table>\n",
       "<p>8 rows × 27 columns</p>\n",
       "</div>"
      ],
      "text/plain": [
       "        shopping_pt         state    group_size     homeowner       car_age  \\\n",
       "count  9.700900e+04  9.700900e+04  9.700900e+04  9.700900e+04  9.700900e+04   \n",
       "mean  -1.134155e-15  1.294966e-16  3.469409e-15 -1.152506e-15  1.387513e-16   \n",
       "std    1.000005e+00  1.000005e+00  1.000005e+00  1.000005e+00  1.000005e+00   \n",
       "min   -1.930396e+00 -1.676491e+00 -5.102221e-01 -1.095513e+00 -1.411386e+00   \n",
       "25%   -9.295686e-01 -1.082528e+00 -5.102221e-01 -1.095513e+00 -8.938305e-01   \n",
       "50%    7.125847e-02  3.033859e-01 -5.102221e-01  9.128140e-01 -3.123721e-02   \n",
       "75%    5.716720e-01  7.983550e-01 -5.102221e-01  9.128140e-01  6.588374e-01   \n",
       "max    3.073740e+00  1.788293e+00  5.986186e+00  9.128140e-01  1.325270e+01   \n",
       "\n",
       "          car_value   risk_factor    age_oldest  age_youngest  married_couple  \\\n",
       "count  9.700900e+04  9.700900e+04  9.700900e+04  9.700900e+04    9.700900e+04   \n",
       "mean  -1.462664e-15 -8.593073e-16  4.946145e-16 -2.303648e-16   -1.236307e-15   \n",
       "std    1.000005e+00  1.000005e+00  1.000005e+00  1.000005e+00    1.000005e+00   \n",
       "min   -3.703701e+00 -1.864221e+00 -1.563100e+00 -1.525688e+00   -5.182077e-01   \n",
       "25%   -3.873834e-01 -7.785336e-01 -9.305367e-01 -9.538954e-01   -5.182077e-01   \n",
       "50%   -3.873834e-01  3.071539e-01 -6.795011e-02 -1.533859e-01   -5.182077e-01   \n",
       "75%    4.416959e-01  3.071539e-01  8.521423e-01  8.186613e-01   -5.182077e-01   \n",
       "max    2.928934e+00  1.392841e+00  1.714729e+00  1.847888e+00    1.929728e+00   \n",
       "\n",
       "           ...                  F             G          cost         day_0  \\\n",
       "count      ...       9.700900e+04  9.700900e+04  9.700900e+04  9.700900e+04   \n",
       "mean       ...      -9.529476e-16  1.698140e-16  1.010825e-15  2.277425e-15   \n",
       "std        ...       1.000005e+00  1.000005e+00  1.000005e+00  1.000005e+00   \n",
       "min        ...      -1.230445e+00 -1.438971e+00 -8.625614e+00 -4.867746e-01   \n",
       "25%        ...      -1.230445e+00 -3.132471e-01 -6.842685e-01 -4.867746e-01   \n",
       "50%        ...      -1.759533e-01 -3.132471e-01 -1.087950e-02 -4.867746e-01   \n",
       "75%        ...       8.785383e-01  8.124766e-01  6.625095e-01 -4.867746e-01   \n",
       "max        ...       1.933030e+00  1.938200e+00  4.749284e+00  2.054339e+00   \n",
       "\n",
       "              day_1         day_2         day_3         day_4         day_5  \\\n",
       "count  9.700900e+04  9.700900e+04  9.700900e+04  9.700900e+04  9.700900e+04   \n",
       "mean  -1.974228e-15 -1.524056e-15  2.801313e-16 -3.211245e-16  1.612565e-15   \n",
       "std    1.000005e+00  1.000005e+00  1.000005e+00  1.000005e+00  1.000005e+00   \n",
       "min   -4.974570e-01 -4.906915e-01 -4.765582e-01 -5.232457e-01 -1.224471e-01   \n",
       "25%   -4.974570e-01 -4.906915e-01 -4.765582e-01 -5.232457e-01 -1.224471e-01   \n",
       "50%   -4.974570e-01 -4.906915e-01 -4.765582e-01 -5.232457e-01 -1.224471e-01   \n",
       "75%   -4.974570e-01 -4.906915e-01 -4.765582e-01 -5.232457e-01 -1.224471e-01   \n",
       "max    2.010224e+00  2.037940e+00  2.098380e+00  1.911148e+00  8.166789e+00   \n",
       "\n",
       "              day_6  \n",
       "count  9.700900e+04  \n",
       "mean  -6.357584e-16  \n",
       "std    1.000005e+00  \n",
       "min   -3.504564e-02  \n",
       "25%   -3.504564e-02  \n",
       "50%   -3.504564e-02  \n",
       "75%   -3.504564e-02  \n",
       "max    2.853422e+01  \n",
       "\n",
       "[8 rows x 27 columns]"
      ]
     },
     "execution_count": 38,
     "metadata": {},
     "output_type": "execute_result"
    }
   ],
   "source": [
    "dataP_imp_s.describe()"
   ]
  },
  {
   "cell_type": "markdown",
   "metadata": {},
   "source": [
    "<font color='darkgreen'>\n",
    "### *The effect of preprocessing on supervised learning* #####"
   ]
  },
  {
   "cell_type": "code",
   "execution_count": 39,
   "metadata": {},
   "outputs": [],
   "source": [
    "from sklearn.datasets import load_breast_cancer\n",
    "from sklearn.model_selection import train_test_split\n",
    "cancer = load_breast_cancer()\n",
    "X_train, X_test, y_train, y_test = train_test_split(\n",
    "    cancer.data, cancer.target, random_state=0)   "
   ]
  },
  {
   "cell_type": "code",
   "execution_count": 40,
   "metadata": {},
   "outputs": [
    {
     "name": "stderr",
     "output_type": "stream",
     "text": [
      "c:\\users\\kduar_000\\anaconda3\\lib\\site-packages\\sklearn\\svm\\base.py:196: FutureWarning: The default value of gamma will change from 'auto' to 'scale' in version 0.22 to account better for unscaled features. Set gamma explicitly to 'auto' or 'scale' to avoid this warning.\n",
      "  \"avoid this warning.\", FutureWarning)\n"
     ]
    },
    {
     "data": {
      "text/plain": [
       "0.6293706293706294"
      ]
     },
     "execution_count": 40,
     "metadata": {},
     "output_type": "execute_result"
    }
   ],
   "source": [
    "from sklearn.svm import SVC\n",
    "svm = SVC(C=100)\n",
    "svm.fit(X_train, y_train).score(X_test, y_test)"
   ]
  },
  {
   "cell_type": "code",
   "execution_count": 41,
   "metadata": {},
   "outputs": [
    {
     "name": "stderr",
     "output_type": "stream",
     "text": [
      "c:\\users\\kduar_000\\anaconda3\\lib\\site-packages\\sklearn\\svm\\base.py:196: FutureWarning: The default value of gamma will change from 'auto' to 'scale' in version 0.22 to account better for unscaled features. Set gamma explicitly to 'auto' or 'scale' to avoid this warning.\n",
      "  \"avoid this warning.\", FutureWarning)\n"
     ]
    },
    {
     "data": {
      "text/plain": [
       "0.965034965034965"
      ]
     },
     "execution_count": 41,
     "metadata": {},
     "output_type": "execute_result"
    }
   ],
   "source": [
    "# preprocessing using 0-1 scaling\n",
    "from sklearn.preprocessing import MinMaxScaler\n",
    "scaler = MinMaxScaler()\n",
    "X_train_scaled = scaler.fit(X_train).transform(X_train)\n",
    "# Scaling training and test data the same way\n",
    "#X_test_scaled = scaler.fit(X_test).transform(X_test)\n",
    "X_test_scaled = scaler.transform(X_test) \n",
    "svm.fit(X_train_scaled, y_train).score(X_test_scaled, y_test)"
   ]
  },
  {
   "cell_type": "code",
   "execution_count": 42,
   "metadata": {},
   "outputs": [
    {
     "data": {
      "text/plain": [
       "0.958041958041958"
      ]
     },
     "execution_count": 42,
     "metadata": {},
     "output_type": "execute_result"
    }
   ],
   "source": [
    "# preprocessing using zero mean and unit variance scaling\n",
    "from sklearn.preprocessing import StandardScaler\n",
    "scaler = StandardScaler()\n",
    "X_train_scaled = scaler.fit_transform(X_train)\n",
    "#X_test_scaled = scaler.fit_transform(X_test)\n",
    "X_test_scaled = scaler.transform(X_test)\n",
    "svm.fit(X_train_scaled, y_train).score(X_test_scaled, y_test)"
   ]
  },
  {
   "cell_type": "markdown",
   "metadata": {},
   "source": [
    "****\n",
    "## Feature Selection ###"
   ]
  },
  {
   "cell_type": "markdown",
   "metadata": {},
   "source": [
    "### 1. Model based feature selection #####"
   ]
  },
  {
   "cell_type": "code",
   "execution_count": 43,
   "metadata": {},
   "outputs": [],
   "source": [
    "from sklearn.feature_selection import SelectFromModel\n",
    "\n",
    "from sklearn.ensemble import RandomForestClassifier\n",
    "\n",
    "select = SelectFromModel(RandomForestClassifier(), threshold=None) # threshold=None 스스로 알아서 처리\n",
    "# select 는 전처리기"
   ]
  },
  {
   "cell_type": "code",
   "execution_count": 44,
   "metadata": {},
   "outputs": [
    {
     "name": "stdout",
     "output_type": "stream",
     "text": [
      "X_train.shape: (426, 30), X_train_fs.shape: (426, 8)\n"
     ]
    },
    {
     "name": "stderr",
     "output_type": "stream",
     "text": [
      "c:\\users\\kduar_000\\anaconda3\\lib\\site-packages\\sklearn\\ensemble\\forest.py:248: FutureWarning: The default value of n_estimators will change from 10 in version 0.20 to 100 in 0.22.\n",
      "  \"10 in version 0.20 to 100 in 0.22.\", FutureWarning)\n"
     ]
    }
   ],
   "source": [
    "X_train_fs = select.fit(X_train, y_train).transform(X_train)\n",
    "# 변수의 중요도가 나온다.\n",
    "print(\"X_train.shape: {}, X_train_fs.shape: {}\".format(\n",
    "    X_train.shape, X_train_fs.shape))"
   ]
  },
  {
   "cell_type": "code",
   "execution_count": 45,
   "metadata": {},
   "outputs": [
    {
     "data": {
      "text/plain": [
       "array([[4.327e+02, 5.642e-02, 2.688e-02, ..., 8.435e+01, 5.178e+02,\n",
       "        9.140e-02],\n",
       "       [3.873e+02, 6.779e-02, 5.006e-03, ..., 7.691e+01, 4.361e+02,\n",
       "        2.022e-02],\n",
       "       [1.261e+03, 1.034e-01, 1.440e-01, ..., 1.550e+02, 1.731e+03,\n",
       "        1.628e-01],\n",
       "       ...,\n",
       "       [2.786e+02, 5.956e-02, 2.710e-02, ..., 7.579e+01, 4.396e+02,\n",
       "        5.052e-02],\n",
       "       [2.881e+02, 2.344e-02, 0.000e+00, ..., 6.225e+01, 3.038e+02,\n",
       "        0.000e+00],\n",
       "       [4.035e+02, 1.021e-01, 1.112e-01, ..., 8.228e+01, 4.742e+02,\n",
       "        9.653e-02]])"
      ]
     },
     "execution_count": 45,
     "metadata": {},
     "output_type": "execute_result"
    }
   ],
   "source": [
    "X_train_fs\n"
   ]
  },
  {
   "cell_type": "code",
   "execution_count": 53,
   "metadata": {},
   "outputs": [
    {
     "data": {
      "text/plain": [
       "<matplotlib.image.AxesImage at 0x17d08f89f98>"
      ]
     },
     "execution_count": 53,
     "metadata": {},
     "output_type": "execute_result"
    },
    {
     "data": {
      "image/png": "[encoded data removed]",
      "text/plain": [
       "<matplotlib.figure.Figure at 0x17d08ca4be0>"
      ]
     },
     "metadata": {},
     "output_type": "display_data"
    }
   ],
   "source": [
    "mask = select.get_support()\n",
    "plt.matshow(mask.reshape(1,-1), cmap=\"gray_r\")"
   ]
  },
  {
   "cell_type": "markdown",
   "metadata": {},
   "source": [
    "<font color = \"blue\">\n",
    "In **numpy.reshape()**, one shape dimension can be **-1**. In this case, the value is inferred from the length of the array and remaining dimensions."
   ]
  },
  {
   "cell_type": "markdown",
   "metadata": {},
   "source": [
    "<font color = \"blue\">\n",
    "All built-in colormaps can be reversed by appending **_r**: For instance, **gray_r** is the reverse of **gray**.<br>\n",
    "See [color map](https://matplotlib.org/2.0.2/api/pyplot_summary.html#matplotlib.pyplot.colormaps)."
   ]
  },
  {
   "cell_type": "code",
   "execution_count": 54,
   "metadata": {},
   "outputs": [
    {
     "data": {
      "text/plain": [
       "0.6293706293706294"
      ]
     },
     "execution_count": 54,
     "metadata": {},
     "output_type": "execute_result"
    }
   ],
   "source": [
    "X_test_fs = select.transform(X_test)\n",
    "svm.fit(X_train_fs, y_train).score(X_test_fs, y_test)"
   ]
  },
  {
   "cell_type": "markdown",
   "metadata": {},
   "source": [
    "### 2. Univariate feature selection"
   ]
  },
  {
   "cell_type": "code",
   "execution_count": 55,
   "metadata": {},
   "outputs": [
    {
     "name": "stdout",
     "output_type": "stream",
     "text": [
      "(426, 30)\n"
     ]
    },
    {
     "data": {
      "text/plain": [
       "(426, 5)"
      ]
     },
     "execution_count": 55,
     "metadata": {},
     "output_type": "execute_result"
    }
   ],
   "source": [
    "from sklearn.feature_selection import SelectKBest\n",
    "\n",
    "print(X_train.shape)\n",
    "X_train_new = SelectKBest(k=5).fit_transform(X_train, y_train) # 5개를 선택해 fit, transform을 동시에 해야함.\n",
    "X_train_new.shape"
   ]
  },
  {
   "cell_type": "markdown",
   "metadata": {},
   "source": [
    "****\n",
    "## Feature Generation ###"
   ]
  },
  {
   "cell_type": "markdown",
   "metadata": {},
   "source": [
    "### Automatic generating polynomial and interaction features\n",
    "입력값  x 를 다항식으로 변환한다.\n",
    "$$ x →[1,x,x^2,x^3,⋯] $$\n",
    "\n",
    "만약 열의 갯수가 두 개이고 2차 다항식으로 변환하는 경우에는 다음처럼 변환한다.\n",
    "$$ [x_1,x_2]→[1,x_1,x_2,x_1^2,x_1x_2,x_2^2] $$\n",
    "\n",
    "다음과 같은 파라미터를 가진다.\n",
    "- degree : 차수\n",
    "- interaction_only: interaction 항 생성 여부\n",
    "- include_bias : 상수항 생성 여부"
   ]
  },
  {
   "cell_type": "code",
   "execution_count": 56,
   "metadata": {},
   "outputs": [
    {
     "data": {
      "text/plain": [
       "array([[1, 2],\n",
       "       [3, 4],\n",
       "       [5, 6]])"
      ]
     },
     "execution_count": 56,
     "metadata": {},
     "output_type": "execute_result"
    }
   ],
   "source": [
    "from sklearn.preprocessing import PolynomialFeatures\n",
    "\n",
    "X = np.arange(1,7).reshape(3, 2)\n",
    "X"
   ]
  },
  {
   "cell_type": "code",
   "execution_count": 57,
   "metadata": {},
   "outputs": [
    {
     "data": {
      "text/plain": [
       "array([[ 1.,  1.,  2.,  1.,  2.,  4.],\n",
       "       [ 1.,  3.,  4.,  9., 12., 16.],\n",
       "       [ 1.,  5.,  6., 25., 30., 36.]])"
      ]
     },
     "execution_count": 57,
     "metadata": {},
     "output_type": "execute_result"
    }
   ],
   "source": [
    "poly = PolynomialFeatures(2)\n",
    "poly.fit_transform(X)"
   ]
  },
  {
   "cell_type": "code",
   "execution_count": 58,
   "metadata": {},
   "outputs": [
    {
     "data": {
      "text/plain": [
       "array([[ 1.,  1.,  2.,  2.],\n",
       "       [ 1.,  3.,  4., 12.],\n",
       "       [ 1.,  5.,  6., 30.]])"
      ]
     },
     "execution_count": 58,
     "metadata": {},
     "output_type": "execute_result"
    }
   ],
   "source": [
    "poly = PolynomialFeatures(interaction_only=True)\n",
    "poly.fit_transform(X)"
   ]
  },
  {
   "cell_type": "code",
   "execution_count": 59,
   "metadata": {},
   "outputs": [
    {
     "name": "stdout",
     "output_type": "stream",
     "text": [
      "(426, 30)\n"
     ]
    },
    {
     "data": {
      "text/plain": [
       "(426, 496)"
      ]
     },
     "execution_count": 59,
     "metadata": {},
     "output_type": "execute_result"
    }
   ],
   "source": [
    "print(X_train.shape)\n",
    "\n",
    "poly = PolynomialFeatures(2)\n",
    "poly.fit_transform(X_train).shape"
   ]
  },
  {
   "cell_type": "markdown",
   "metadata": {},
   "source": [
    "<font color='blue'>\n",
    "#### 기타 [Discretization](http://scikit-learn.org/stable/modules/preprocessing.html#discretization)과 [Dimensionality reduction](http://scikit-learn.org/stable/modules/unsupervised_reduction.html) 등도 Feature Engineering에서 자주 사용되는 방법이다."
   ]
  }
 ],
 "metadata": {
  "colab": {
   "default_view": {},
   "name": "M4T2_Feature_Engineering_0921.ipynb",
   "provenance": [],
   "version": "0.3.2",
   "views": {}
  },
  "kernelspec": {
   "display_name": "Python 3 (ipykernel)",
   "language": "python",
   "name": "python3"
  },
  "language_info": {
   "codemirror_mode": {
    "name": "ipython",
    "version": 3
   },
   "file_extension": ".py",
   "mimetype": "text/x-python",
   "name": "python",
   "nbconvert_exporter": "python",
   "pygments_lexer": "ipython3",
   "version": "3.12.7"
  }
 },
 "nbformat": 4,
 "nbformat_minor": 4
}
