{
 "cells": [
  {
   "cell_type": "markdown",
   "metadata": {},
   "source": [
    "## 만들어진 모델을 활용한 음식 분류기"
   ]
  },
  {
   "cell_type": "code",
   "execution_count": 1,
   "metadata": {},
   "outputs": [],
   "source": [
    "import sys, os\n",
    "from keras.models import Sequential\n",
    "from keras.layers import Convolution2D, MaxPooling2D\n",
    "from keras.layers import Activation, Dropout, Flatten, Dense\n",
    "#from keras.utils import np_utils\n",
    "from tensorflow.keras.utils import to_categorical \n",
    "from keras.models import load_model\n",
    "from PIL import Image\n",
    "import numpy as np"
   ]
  },
  {
   "cell_type": "code",
   "execution_count": 2,
   "metadata": {},
   "outputs": [],
   "source": [
    "# 테스트 이미지 목록 (1)\n",
    "image_files = [\"kfood/Testdata/Chicken/chicken_11.jpg\",\n",
    "               \"kfood/Testdata/Chicken/chicken_12.jpg\",\n",
    "               \"kfood/Testdata/Kimchi/kimchi11.jpg\",\n",
    "               \"kfood/Testdata/Kimchi/kimchi12.jpg\",\n",
    "               \"kfood/Testdata/Samgyeobsal/Samgyeobsal11.jpg\"]\n",
    "image_size = 64\n",
    "nb_classes = len(image_files)\n",
    "categories = [\"Chicken\", \"Dolsotbab\", \"Jeyugbokk-eum\", \"Kimchi\",\n",
    "              \"Samgyeobsal\", \"SoybeanPasteStew\"]"
   ]
  },
  {
   "cell_type": "code",
   "execution_count": 3,
   "metadata": {},
   "outputs": [],
   "source": [
    "X = []\n",
    "files = []\n",
    "# 이미지 불러오기 (2)\n",
    "for fname in image_files:\n",
    "    img = Image.open(fname)\n",
    "    img = img.convert(\"RGB\")\n",
    "    img = img.resize((image_size, image_size))\n",
    "    in_data = np.asarray(img)\n",
    "    in_data = in_data.astype(\"float\") / 256\n",
    "    X.append(in_data)\n",
    "    files.append(fname)\n",
    "\n",
    "X = np.array(X)"
   ]
  },
  {
   "cell_type": "code",
   "execution_count": 4,
   "metadata": {},
   "outputs": [
    {
     "name": "stderr",
     "output_type": "stream",
     "text": [
      "WARNING:absl:Compiled the loaded model, but the compiled metrics have yet to be built. `model.compile_metrics` will be empty until you train or evaluate the model.\n"
     ]
    }
   ],
   "source": [
    "# 모델 파일 읽어오기  (3)\n",
    "model = load_model('./kfood/kfood_model.h5')"
   ]
  },
  {
   "cell_type": "code",
   "execution_count": 5,
   "metadata": {},
   "outputs": [
    {
     "name": "stdout",
     "output_type": "stream",
     "text": [
      "\u001b[1m1/1\u001b[0m \u001b[32m━━━━━━━━━━━━━━━━━━━━\u001b[0m\u001b[37m\u001b[0m \u001b[1m0s\u001b[0m 95ms/step\n"
     ]
    }
   ],
   "source": [
    "# 예측 실행  (4)\n",
    "pre = model.predict(X)"
   ]
  },
  {
   "cell_type": "code",
   "execution_count": 6,
   "metadata": {},
   "outputs": [
    {
     "name": "stdout",
     "output_type": "stream",
     "text": [
      "입력: kfood/Testdata/Chicken/chicken_11.jpg\n",
      "예측: [ 0 ] Chicken / Score 0.9735735\n",
      "입력: kfood/Testdata/Chicken/chicken_12.jpg\n",
      "예측: [ 0 ] Chicken / Score 0.8149441\n",
      "입력: kfood/Testdata/Kimchi/kimchi11.jpg\n",
      "예측: [ 3 ] Kimchi / Score 0.9948664\n",
      "입력: kfood/Testdata/Kimchi/kimchi12.jpg\n",
      "예측: [ 3 ] Kimchi / Score 0.94197273\n",
      "입력: kfood/Testdata/Samgyeobsal/Samgyeobsal11.jpg\n",
      "예측: [ 4 ] Samgyeobsal / Score 0.9101191\n"
     ]
    }
   ],
   "source": [
    "# 예측 결과 출력 (5)\n",
    "for i, p in enumerate(pre):\n",
    "    y = p.argmax()\n",
    "    print(\"입력:\", files[i])\n",
    "    print(\"예측:\", \"[\", y, \"]\", categories[y], \"/ Score\",p[y])"
   ]
  },
  {
   "cell_type": "code",
   "execution_count": null,
   "metadata": {},
   "outputs": [],
   "source": []
  }
 ],
 "metadata": {
  "kernelspec": {
   "display_name": "Python 3 (ipykernel)",
   "language": "python",
   "name": "python3"
  },
  "language_info": {
   "codemirror_mode": {
    "name": "ipython",
    "version": 3
   },
   "file_extension": ".py",
   "mimetype": "text/x-python",
   "name": "python",
   "nbconvert_exporter": "python",
   "pygments_lexer": "ipython3",
   "version": "3.12.3"
  }
 },
 "nbformat": 4,
 "nbformat_minor": 4
}
