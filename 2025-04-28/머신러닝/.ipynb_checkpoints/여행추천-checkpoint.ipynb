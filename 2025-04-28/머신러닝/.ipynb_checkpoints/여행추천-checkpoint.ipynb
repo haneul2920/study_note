{
 "cells": [
  {
   "cell_type": "code",
   "execution_count": 1,
   "id": "32f947d7-7c7f-4c20-8edf-b3dabc03daba",
   "metadata": {},
   "outputs": [],
   "source": [
    "import pandas as pd\n",
    "import mysql.connector"
   ]
  },
  {
   "cell_type": "code",
   "execution_count": 2,
   "id": "d716ad83-0787-4005-83a7-c991474be636",
   "metadata": {},
   "outputs": [],
   "source": [
    "# MySQL 연결 설정\n",
    "conn = mysql.connector.connect(\n",
    "    host=\"localhost\",\n",
    "    user=\"root\",\n",
    "    password=\"0000\",\n",
    "    database=\"TravelDB\"\n",
    ")"
   ]
  },
  {
   "cell_type": "code",
   "execution_count": 3,
   "id": "e3967ca1-d5ed-44b3-9086-4969ca924c32",
   "metadata": {},
   "outputs": [],
   "source": [
    "#!pip install sqlalchemy mysql-connector-python"
   ]
  },
  {
   "cell_type": "code",
   "execution_count": 4,
   "id": "97a4f164-78fc-4bd9-9eb1-69c999aebeef",
   "metadata": {},
   "outputs": [
    {
     "name": "stderr",
     "output_type": "stream",
     "text": [
      "C:\\Users\\admin\\AppData\\Local\\Temp\\ipykernel_22640\\1679449479.py:5: UserWarning: pandas only supports SQLAlchemy connectable (engine/connection) or database string URI or sqlite3 DBAPI2 connection. Other DBAPI2 objects are not tested. Please consider using SQLAlchemy.\n",
      "  df_travel = pd.read_sql(query_travel, conn)\n",
      "C:\\Users\\admin\\AppData\\Local\\Temp\\ipykernel_22640\\1679449479.py:6: UserWarning: pandas only supports SQLAlchemy connectable (engine/connection) or database string URI or sqlite3 DBAPI2 connection. Other DBAPI2 objects are not tested. Please consider using SQLAlchemy.\n",
      "  df_hotel = pd.read_sql(query_hotel, conn)\n",
      "C:\\Users\\admin\\AppData\\Local\\Temp\\ipykernel_22640\\1679449479.py:9: UserWarning: pandas only supports SQLAlchemy connectable (engine/connection) or database string URI or sqlite3 DBAPI2 connection. Other DBAPI2 objects are not tested. Please consider using SQLAlchemy.\n",
      "  df_ratings = pd.read_sql(query_rating, conn)\n"
     ]
    }
   ],
   "source": [
    "# 여행지 및 숙박지 데이터 불러오기\n",
    "query_travel = \"SELECT * FROM travel_locations;\"\n",
    "query_hotel = \"SELECT * FROM accommodations;\"\n",
    "df_travel = pd.read_sql(query_travel, conn)\n",
    "df_hotel = pd.read_sql(query_hotel, conn)\n",
    "# 사용자-숙박지 평점 데이터 불러오기\n",
    "query_rating = \"SELECT user_id, location_id, rating FROM user_ratings;\"\n",
    "df_ratings = pd.read_sql(query_rating, conn)\n",
    "conn.close()"
   ]
  },
  {
   "cell_type": "code",
   "execution_count": 5,
   "id": "7c5c70a1-4abb-4cce-9334-68e94f6fdcc8",
   "metadata": {},
   "outputs": [
    {
     "data": {
      "text/html": [
       "<div>\n",
       "<style scoped>\n",
       "    .dataframe tbody tr th:only-of-type {\n",
       "        vertical-align: middle;\n",
       "    }\n",
       "\n",
       "    .dataframe tbody tr th {\n",
       "        vertical-align: top;\n",
       "    }\n",
       "\n",
       "    .dataframe thead th {\n",
       "        text-align: right;\n",
       "    }\n",
       "</style>\n",
       "<table border=\"1\" class=\"dataframe\">\n",
       "  <thead>\n",
       "    <tr style=\"text-align: right;\">\n",
       "      <th></th>\n",
       "      <th>id</th>\n",
       "      <th>name</th>\n",
       "      <th>category</th>\n",
       "      <th>description</th>\n",
       "      <th>latitude</th>\n",
       "      <th>longitude</th>\n",
       "      <th>popularity_score</th>\n",
       "      <th>user_id</th>\n",
       "    </tr>\n",
       "  </thead>\n",
       "  <tbody>\n",
       "    <tr>\n",
       "      <th>0</th>\n",
       "      <td>1</td>\n",
       "      <td>여행지_5390</td>\n",
       "      <td>문화유산</td>\n",
       "      <td>이곳은 아름다운 도시 여행지입니다.</td>\n",
       "      <td>42.392701</td>\n",
       "      <td>129.639052</td>\n",
       "      <td>89</td>\n",
       "      <td>30</td>\n",
       "    </tr>\n",
       "    <tr>\n",
       "      <th>1</th>\n",
       "      <td>2</td>\n",
       "      <td>여행지_2931</td>\n",
       "      <td>문화유산</td>\n",
       "      <td>이곳은 아름다운 문화유산 여행지입니다.</td>\n",
       "      <td>33.767876</td>\n",
       "      <td>126.830798</td>\n",
       "      <td>13</td>\n",
       "      <td>12</td>\n",
       "    </tr>\n",
       "  </tbody>\n",
       "</table>\n",
       "</div>"
      ],
      "text/plain": [
       "   id      name category            description   latitude   longitude  \\\n",
       "0   1  여행지_5390     문화유산    이곳은 아름다운 도시 여행지입니다.  42.392701  129.639052   \n",
       "1   2  여행지_2931     문화유산  이곳은 아름다운 문화유산 여행지입니다.  33.767876  126.830798   \n",
       "\n",
       "   popularity_score  user_id  \n",
       "0                89       30  \n",
       "1                13       12  "
      ]
     },
     "execution_count": 5,
     "metadata": {},
     "output_type": "execute_result"
    }
   ],
   "source": [
    "df_travel.head(2)"
   ]
  },
  {
   "cell_type": "code",
   "execution_count": 6,
   "id": "f4fd5bca-33cb-4b10-9af9-d78710eaf0d5",
   "metadata": {},
   "outputs": [
    {
     "data": {
      "text/html": [
       "<div>\n",
       "<style scoped>\n",
       "    .dataframe tbody tr th:only-of-type {\n",
       "        vertical-align: middle;\n",
       "    }\n",
       "\n",
       "    .dataframe tbody tr th {\n",
       "        vertical-align: top;\n",
       "    }\n",
       "\n",
       "    .dataframe thead th {\n",
       "        text-align: right;\n",
       "    }\n",
       "</style>\n",
       "<table border=\"1\" class=\"dataframe\">\n",
       "  <thead>\n",
       "    <tr style=\"text-align: right;\">\n",
       "      <th></th>\n",
       "      <th>accommodation_id</th>\n",
       "      <th>accommodation_name</th>\n",
       "      <th>accommodation_type</th>\n",
       "      <th>location_id</th>\n",
       "    </tr>\n",
       "  </thead>\n",
       "  <tbody>\n",
       "    <tr>\n",
       "      <th>0</th>\n",
       "      <td>1</td>\n",
       "      <td>해변 리조트</td>\n",
       "      <td>리조트</td>\n",
       "      <td>1</td>\n",
       "    </tr>\n",
       "    <tr>\n",
       "      <th>1</th>\n",
       "      <td>2</td>\n",
       "      <td>산장</td>\n",
       "      <td>로지</td>\n",
       "      <td>2</td>\n",
       "    </tr>\n",
       "  </tbody>\n",
       "</table>\n",
       "</div>"
      ],
      "text/plain": [
       "   accommodation_id accommodation_name accommodation_type  location_id\n",
       "0                 1             해변 리조트                리조트            1\n",
       "1                 2                 산장                 로지            2"
      ]
     },
     "execution_count": 6,
     "metadata": {},
     "output_type": "execute_result"
    }
   ],
   "source": [
    "df_hotel.head(2)"
   ]
  },
  {
   "cell_type": "code",
   "execution_count": 7,
   "id": "4a913f7a-b1a2-4c27-8cdf-577da5c1d898",
   "metadata": {},
   "outputs": [
    {
     "data": {
      "text/html": [
       "<div>\n",
       "<style scoped>\n",
       "    .dataframe tbody tr th:only-of-type {\n",
       "        vertical-align: middle;\n",
       "    }\n",
       "\n",
       "    .dataframe tbody tr th {\n",
       "        vertical-align: top;\n",
       "    }\n",
       "\n",
       "    .dataframe thead th {\n",
       "        text-align: right;\n",
       "    }\n",
       "</style>\n",
       "<table border=\"1\" class=\"dataframe\">\n",
       "  <thead>\n",
       "    <tr style=\"text-align: right;\">\n",
       "      <th></th>\n",
       "      <th>user_id</th>\n",
       "      <th>location_id</th>\n",
       "      <th>rating</th>\n",
       "    </tr>\n",
       "  </thead>\n",
       "  <tbody>\n",
       "    <tr>\n",
       "      <th>0</th>\n",
       "      <td>32</td>\n",
       "      <td>7</td>\n",
       "      <td>2</td>\n",
       "    </tr>\n",
       "    <tr>\n",
       "      <th>1</th>\n",
       "      <td>31</td>\n",
       "      <td>8</td>\n",
       "      <td>3</td>\n",
       "    </tr>\n",
       "  </tbody>\n",
       "</table>\n",
       "</div>"
      ],
      "text/plain": [
       "   user_id  location_id  rating\n",
       "0       32            7       2\n",
       "1       31            8       3"
      ]
     },
     "execution_count": 7,
     "metadata": {},
     "output_type": "execute_result"
    }
   ],
   "source": [
    "df_ratings.head(2)"
   ]
  },
  {
   "cell_type": "code",
   "execution_count": 8,
   "id": "fd2177f9-c930-4f6f-83f7-6bb6c190cbad",
   "metadata": {},
   "outputs": [
    {
     "data": {
      "text/plain": [
       "name\n",
       "여행지_1807    2\n",
       "여행지_5390    1\n",
       "여행지_7992    1\n",
       "여행지_4505    1\n",
       "여행지_2603    1\n",
       "           ..\n",
       "여행지_9367    1\n",
       "여행지_8578    1\n",
       "여행지_9913    1\n",
       "여행지_8294    1\n",
       "여행지_3612    1\n",
       "Name: count, Length: 179, dtype: int64"
      ]
     },
     "execution_count": 8,
     "metadata": {},
     "output_type": "execute_result"
    }
   ],
   "source": [
    "df_travel.name.value_counts()"
   ]
  },
  {
   "cell_type": "markdown",
   "id": "3c6345e8-6994-4ac0-9246-38ee8983fc00",
   "metadata": {},
   "source": [
    "### 여행지 추천을 위한 콘텐츠 기반 필터링\n",
    "- 여행지의 tags 또는 category 정보를 TF-IDF 벡터화하여 유사한 장소를 추천합니다."
   ]
  },
  {
   "cell_type": "code",
   "execution_count": 9,
   "id": "74c9a09b-b910-44d0-bad1-d178e0d64a7b",
   "metadata": {},
   "outputs": [],
   "source": [
    "# (TF-IDF 벡터화)\n",
    "# TF-IDF (Term Frequency-Inverse Document Frequency)\n",
    "# 텍스트 데이터를 숫자로 변환\n",
    "# 주어진 문장에서 중요한 단어일수록 높은 가중치를 부여\n",
    "# 단순 단어 빈도수(TF)만 고려하는 것이 아니라, 문서 전체에서 \n",
    "# 얼마나 희귀한 단어인지(IDF)까지 반영하여 특징을 추출\n",
    "from sklearn.feature_extraction.text import TfidfVectorizer\n",
    "\n",
    "# cosine_similarity (코사인 유사도)\n",
    "# 벡터화된 문장들 간의 **유사도(Similarity)**를 계산\n",
    "# 두 개의 문장을 비교할 때, 각 단어의 빈도수나 중요도를 고려하여 \n",
    "# 두 벡터가 얼마나 유사한 방향을 갖는지를 측정\n",
    "from sklearn.metrics.pairwise import cosine_similarity"
   ]
  },
  {
   "cell_type": "code",
   "execution_count": 10,
   "id": "8df56ab6-9698-4145-b44e-ff71a8bb6329",
   "metadata": {},
   "outputs": [],
   "source": [
    "# 여행지의 태그 또는 설명을 벡터화\n",
    "tfidf = TfidfVectorizer(stop_words='english')\n",
    "tfidf_matrix = tfidf.fit_transform(df_travel['description']) "
   ]
  },
  {
   "cell_type": "code",
   "execution_count": 11,
   "id": "61f30b5d-f67b-4e47-9d93-a511db0832bb",
   "metadata": {},
   "outputs": [],
   "source": [
    "# 코사인 유사도 계산\n",
    "cosine_sim = cosine_similarity(tfidf_matrix, tfidf_matrix)"
   ]
  },
  {
   "cell_type": "code",
   "execution_count": 12,
   "id": "34ad4dc9-da50-4cac-8fa9-63c8b9e01c08",
   "metadata": {},
   "outputs": [],
   "source": [
    "# 특정 여행지와 유사한 장소 추천 함수\n",
    "def recommend_travel(destination_name, top_n=5):\n",
    "    idx = df_travel[df_travel['name'] == destination_name].index[0]\n",
    "    sim_scores = list(enumerate(cosine_sim[idx]))\n",
    "    sim_scores = sorted(sim_scores, key=lambda x: x[1], reverse=True)[1:top_n+1]\n",
    "    \n",
    "    travel_indices = [i[0] for i in sim_scores]\n",
    "    return df_travel.iloc[travel_indices][['name', 'category']]"
   ]
  },
  {
   "cell_type": "code",
   "execution_count": 13,
   "id": "8f068af8-e33e-4ad5-b036-7f09e59972b1",
   "metadata": {},
   "outputs": [
    {
     "data": {
      "text/html": [
       "<div>\n",
       "<style scoped>\n",
       "    .dataframe tbody tr th:only-of-type {\n",
       "        vertical-align: middle;\n",
       "    }\n",
       "\n",
       "    .dataframe tbody tr th {\n",
       "        vertical-align: top;\n",
       "    }\n",
       "\n",
       "    .dataframe thead th {\n",
       "        text-align: right;\n",
       "    }\n",
       "</style>\n",
       "<table border=\"1\" class=\"dataframe\">\n",
       "  <thead>\n",
       "    <tr style=\"text-align: right;\">\n",
       "      <th></th>\n",
       "      <th>name</th>\n",
       "      <th>category</th>\n",
       "    </tr>\n",
       "  </thead>\n",
       "  <tbody>\n",
       "    <tr>\n",
       "      <th>12</th>\n",
       "      <td>여행지_144</td>\n",
       "      <td>해변</td>\n",
       "    </tr>\n",
       "    <tr>\n",
       "      <th>15</th>\n",
       "      <td>여행지_9716</td>\n",
       "      <td>문화유산</td>\n",
       "    </tr>\n",
       "    <tr>\n",
       "      <th>16</th>\n",
       "      <td>여행지_6062</td>\n",
       "      <td>문화유산</td>\n",
       "    </tr>\n",
       "    <tr>\n",
       "      <th>17</th>\n",
       "      <td>여행지_3445</td>\n",
       "      <td>자연</td>\n",
       "    </tr>\n",
       "    <tr>\n",
       "      <th>19</th>\n",
       "      <td>여행지_7482</td>\n",
       "      <td>자연</td>\n",
       "    </tr>\n",
       "  </tbody>\n",
       "</table>\n",
       "</div>"
      ],
      "text/plain": [
       "        name category\n",
       "12   여행지_144       해변\n",
       "15  여행지_9716     문화유산\n",
       "16  여행지_6062     문화유산\n",
       "17  여행지_3445       자연\n",
       "19  여행지_7482       자연"
      ]
     },
     "execution_count": 13,
     "metadata": {},
     "output_type": "execute_result"
    }
   ],
   "source": [
    "recommend_travel(\"여행지_1807\")"
   ]
  },
  {
   "cell_type": "markdown",
   "id": "24c581c5-7298-4348-874c-418e3e46e0c5",
   "metadata": {},
   "source": [
    "### 협업 필터링을 통한 숙박지 추천\n",
    "- 사용자별 숙박지 평점을 기반으로 Surprise 라이브러리를 사용하여 추천 모델을 만듭니다."
   ]
  },
  {
   "cell_type": "code",
   "execution_count": 14,
   "id": "2b5b01a8-74c1-416c-a47d-620b51ad8c96",
   "metadata": {},
   "outputs": [],
   "source": [
    "#!pip install scikit-surprise"
   ]
  },
  {
   "cell_type": "code",
   "execution_count": 15,
   "id": "588a4296-be82-42ec-a6f2-11bac329656b",
   "metadata": {},
   "outputs": [],
   "source": [
    "from surprise import Dataset, Reader, SVD\n",
    "from surprise.model_selection import cross_validate"
   ]
  },
  {
   "cell_type": "code",
   "execution_count": 16,
   "id": "d4436b87-a3f7-422a-8860-69e3b516fe1f",
   "metadata": {},
   "outputs": [
    {
     "data": {
      "text/html": [
       "<div>\n",
       "<style scoped>\n",
       "    .dataframe tbody tr th:only-of-type {\n",
       "        vertical-align: middle;\n",
       "    }\n",
       "\n",
       "    .dataframe tbody tr th {\n",
       "        vertical-align: top;\n",
       "    }\n",
       "\n",
       "    .dataframe thead th {\n",
       "        text-align: right;\n",
       "    }\n",
       "</style>\n",
       "<table border=\"1\" class=\"dataframe\">\n",
       "  <thead>\n",
       "    <tr style=\"text-align: right;\">\n",
       "      <th></th>\n",
       "      <th>user_id</th>\n",
       "      <th>location_id</th>\n",
       "      <th>rating</th>\n",
       "    </tr>\n",
       "  </thead>\n",
       "  <tbody>\n",
       "    <tr>\n",
       "      <th>0</th>\n",
       "      <td>32</td>\n",
       "      <td>7</td>\n",
       "      <td>2</td>\n",
       "    </tr>\n",
       "    <tr>\n",
       "      <th>1</th>\n",
       "      <td>31</td>\n",
       "      <td>8</td>\n",
       "      <td>3</td>\n",
       "    </tr>\n",
       "  </tbody>\n",
       "</table>\n",
       "</div>"
      ],
      "text/plain": [
       "   user_id  location_id  rating\n",
       "0       32            7       2\n",
       "1       31            8       3"
      ]
     },
     "execution_count": 16,
     "metadata": {},
     "output_type": "execute_result"
    }
   ],
   "source": [
    "df_ratings.head(2)"
   ]
  },
  {
   "cell_type": "code",
   "execution_count": 17,
   "id": "481a106e-a033-4e7b-a809-46c7975998e4",
   "metadata": {},
   "outputs": [],
   "source": [
    "# Surprise용 데이터 변환\n",
    "reader = Reader(rating_scale=(1, 5))\n",
    "data = Dataset.load_from_df(df_ratings[['user_id', 'location_id', 'rating']], reader)"
   ]
  },
  {
   "cell_type": "code",
   "execution_count": 18,
   "id": "248b2873-dc0d-4b58-8300-7c366121f08a",
   "metadata": {},
   "outputs": [
    {
     "name": "stdout",
     "output_type": "stream",
     "text": [
      "Evaluating RMSE, MAE of algorithm SVD on 5 split(s).\n",
      "\n",
      "                  Fold 1  Fold 2  Fold 3  Fold 4  Fold 5  Mean    Std     \n",
      "RMSE (testset)    1.3897  1.4739  1.5008  1.4932  1.5773  1.4870  0.0600  \n",
      "MAE (testset)     1.1635  1.2290  1.2772  1.2868  1.3198  1.2553  0.0543  \n",
      "Fit time          0.00    0.00    0.00    0.00    0.00    0.00    0.00    \n",
      "Test time         0.00    0.00    0.00    0.00    0.00    0.00    0.00    \n"
     ]
    },
    {
     "data": {
      "text/plain": [
       "{'test_rmse': array([1.38966164, 1.47392099, 1.50076673, 1.49318707, 1.5772587 ]),\n",
       " 'test_mae': array([1.16349661, 1.22897431, 1.27718017, 1.28683442, 1.3197996 ]),\n",
       " 'fit_time': (0.00299835205078125,\n",
       "  0.0020072460174560547,\n",
       "  0.0009996891021728516,\n",
       "  0.0019991397857666016,\n",
       "  0.002000093460083008),\n",
       " 'test_time': (0.0, 0.0, 0.0009989738464355469, 0.0001780986785888672, 0.0)}"
      ]
     },
     "execution_count": 18,
     "metadata": {},
     "output_type": "execute_result"
    }
   ],
   "source": [
    "# SVD 알고리즘 적용\n",
    "model = SVD()\n",
    "cross_validate(model, data, cv=5, verbose=True)"
   ]
  },
  {
   "cell_type": "code",
   "execution_count": 19,
   "id": "d62d4df8-14a0-4a60-abde-b40bdaf39a66",
   "metadata": {},
   "outputs": [
    {
     "data": {
      "text/plain": [
       "<surprise.prediction_algorithms.matrix_factorization.SVD at 0x1bb31e4f890>"
      ]
     },
     "execution_count": 19,
     "metadata": {},
     "output_type": "execute_result"
    }
   ],
   "source": [
    "# 특정 사용자의 숙박지 추천\n",
    "trainset = data.build_full_trainset()\n",
    "model.fit(trainset)"
   ]
  },
  {
   "cell_type": "code",
   "execution_count": 20,
   "id": "2157aab6-0f49-4bef-98ef-713530c16ae0",
   "metadata": {},
   "outputs": [],
   "source": [
    "def recommend_hotel(user_id, top_n=5):\n",
    "    accommodation_ids = df_hotel['accommodation_id'].unique()\n",
    "    predictions = [model.predict(user_id, aid) for aid in accommodation_ids]\n",
    "    predictions.sort(key=lambda x: x.est, reverse=True)\n",
    "    \n",
    "    top_accommodations = [pred.iid for pred in predictions[:top_n]]\n",
    "    return df_hotel[df_hotel['accommodation_id'].isin(top_accommodations)][['accommodation_name', 'location_id']]"
   ]
  },
  {
   "cell_type": "code",
   "execution_count": 21,
   "id": "90aafa2e-0dec-40a8-8480-bd490fe4aaf1",
   "metadata": {},
   "outputs": [
    {
     "name": "stdout",
     "output_type": "stream",
     "text": [
      "   accommodation_name  location_id\n",
      "0              해변 리조트            1\n",
      "2               중앙 호텔            3\n",
      "3             공원 옆 여관            4\n",
      "5              사파리 캠프            6\n",
      "10              정원 빌라           11\n"
     ]
    }
   ],
   "source": [
    "# 테스트\n",
    "print(recommend_hotel(32))"
   ]
  },
  {
   "cell_type": "code",
   "execution_count": null,
   "id": "2ac413fc-5ac1-4362-ae63-3880ee3a9d0d",
   "metadata": {},
   "outputs": [],
   "source": []
  },
  {
   "cell_type": "code",
   "execution_count": null,
   "id": "14e4a9d1-284a-4f89-8e23-50a593391178",
   "metadata": {},
   "outputs": [],
   "source": []
  },
  {
   "cell_type": "code",
   "execution_count": null,
   "id": "50567d4b-5639-448b-9834-d0d5840b6fd0",
   "metadata": {},
   "outputs": [],
   "source": []
  },
  {
   "cell_type": "code",
   "execution_count": null,
   "id": "01123a2a-8c0b-4d4f-8fee-83be761b5de1",
   "metadata": {},
   "outputs": [],
   "source": []
  },
  {
   "cell_type": "code",
   "execution_count": null,
   "id": "0a7978df-d88f-4c35-9848-85c1a3c0bc52",
   "metadata": {},
   "outputs": [],
   "source": []
  }
 ],
 "metadata": {
  "kernelspec": {
   "display_name": "Python 3 (ipykernel)",
   "language": "python",
   "name": "python3"
  },
  "language_info": {
   "codemirror_mode": {
    "name": "ipython",
    "version": 3
   },
   "file_extension": ".py",
   "mimetype": "text/x-python",
   "name": "python",
   "nbconvert_exporter": "python",
   "pygments_lexer": "ipython3",
   "version": "3.12.7"
  }
 },
 "nbformat": 4,
 "nbformat_minor": 5
}
