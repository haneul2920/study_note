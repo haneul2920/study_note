{
 "cells": [
  {
   "cell_type": "code",
   "execution_count": 15,
   "id": "d3a75db0-31bf-4c6d-a6a0-1f16fa493ece",
   "metadata": {},
   "outputs": [],
   "source": [
    "import requests"
   ]
  },
  {
   "cell_type": "code",
   "execution_count": 60,
   "id": "5af41a16-5aa3-4642-b179-8189c091b852",
   "metadata": {},
   "outputs": [],
   "source": [
    "response = requests.get(\"https://www.naver.com\")\n",
    "# response.text"
   ]
  },
  {
   "cell_type": "markdown",
   "id": "39d36332-57bf-4486-96ec-826f76b01efa",
   "metadata": {},
   "source": [
    "### BeautifulSoup"
   ]
  },
  {
   "cell_type": "code",
   "execution_count": 23,
   "id": "c224fe34-ed18-45ba-a2fa-4787b73c3af7",
   "metadata": {},
   "outputs": [
    {
     "name": "stdout",
     "output_type": "stream",
     "text": [
      "Requirement already satisfied: beautifulsoup4 in c:\\anaconda\\lib\\site-packages (4.12.3)\n",
      "Requirement already satisfied: soupsieve>1.2 in c:\\anaconda\\lib\\site-packages (from beautifulsoup4) (2.5)\n"
     ]
    }
   ],
   "source": [
    "!pip install beautifulsoup4"
   ]
  },
  {
   "cell_type": "code",
   "execution_count": 27,
   "id": "52358fec-6b3a-4cba-b1e8-a543fb3e7f0f",
   "metadata": {},
   "outputs": [],
   "source": [
    "import urllib.request as ur\n",
    "from bs4 import BeautifulSoup as bs"
   ]
  },
  {
   "cell_type": "code",
   "execution_count": 47,
   "id": "4f263831-2bdf-4280-ba60-e8f522411136",
   "metadata": {},
   "outputs": [
    {
     "data": {
      "text/plain": [
       "b'<!DOCTYPE html>\\n<html lang=\"en\">\\n<head>\\n\\t<meta charset=\"UTF-8\">\\n\\t<title>Quotes to Scrape</title>\\n    <link rel=\"stylesheet\" href=\"/static/bootstrap.min.css\">\\n    <link rel=\"stylesheet\" href=\"/static/main.css\">\\n    \\n    \\n</head>\\n<body>\\n    <div class=\"container\">\\n        <div class=\"row header-box\">\\n            <div class=\"col-md-8\">\\n                <h1>\\n                    <a href=\"/\" style=\"text-decoration: none\">Quotes to Scrape</a>\\n                </h1>\\n            </div>\\n            <div class=\"col-md-4\">\\n                <p>\\n                \\n                    <a href=\"/login\">Login</a>\\n                \\n                </p>\\n            </div>\\n        </div>\\n    \\n\\n<div class=\"row\">\\n    <div class=\"col-md-8\">\\n\\n    <div class=\"quote\" itemscope itemtype=\"http://schema.org/CreativeWork\">\\n        <span class=\"text\" itemprop=\"text\">\\xe2\\x80\\x9cThe world as we have created it is a process of our thinking. It cannot be changed without changing our thinking.\\xe2\\x80\\x9d</span>\\n        <span>by <small class=\"'"
      ]
     },
     "execution_count": 47,
     "metadata": {},
     "output_type": "execute_result"
    }
   ],
   "source": [
    "url = 'http://quotes.toscrape.com/'\n",
    "html = ur.urlopen(url)\n",
    "html.read()[:1000] # 1000개 까지만 슬라이싱"
   ]
  },
  {
   "cell_type": "markdown",
   "id": "19ab4eb6-024d-4487-81d4-230946ce733b",
   "metadata": {},
   "source": [
    "### 1. BeautifulSoup 으로 자료형 변환\n",
    " - 정보를 쉽게 추출할 수 있는 형태로 파싱"
   ]
  },
  {
   "cell_type": "code",
   "execution_count": 49,
   "id": "72dd3bed-f9bb-4979-bbfe-0af2a72d7634",
   "metadata": {},
   "outputs": [
    {
     "data": {
      "text/plain": [
       "<!DOCTYPE html>\n",
       "\n",
       "<html lang=\"en\">\n",
       "<head>\n",
       "<meta charset=\"utf-8\"/>\n",
       "<title>Quotes to Scrape</title>\n",
       "<link href=\"/static/bootstrap.min.css\" rel=\"stylesheet\"/>\n",
       "<link href=\"/static/main.css\" rel=\"stylesheet\"/>\n",
       "</head>\n",
       "<body>\n",
       "<div class=\"container\">\n",
       "<div class=\"row header-box\">\n",
       "<div class=\"col-md-8\">\n",
       "<h1>\n",
       "<a href=\"/\" style=\"text-decoration: none\">Quotes to Scrape</a>\n",
       "</h1>\n",
       "</div>\n",
       "<div class=\"col-md-4\">\n",
       "<p>\n",
       "<a href=\"/login\">Login</a>\n",
       "</p>\n",
       "</div>\n",
       "</div>\n",
       "<div class=\"row\">\n",
       "<div class=\"col-md-8\">\n",
       "<div class=\"quote\" itemscope=\"\" itemtype=\"http://schema.org/CreativeWork\">\n",
       "<span class=\"text\" itemprop=\"text\">“The world as we have created it is a process of our thinking. It cannot be changed without changing our thinking.”</span>\n",
       "<span>by <small class=\"author\" itemprop=\"author\">Albert Einstein</small>\n",
       "<a href=\"/author/Albert-Einstein\">(about)</a>\n",
       "</span>\n",
       "<div class=\"tags\">\n",
       "            Tags:\n",
       "            <meta class=\"keywords\" content=\"change,deep-thoughts,thinking,world\" itemprop=\"keywords\"/>\n",
       "<a class=\"tag\" href=\"/tag/change/page/1/\">change</a>\n",
       "<a class=\"tag\" href=\"/tag/deep-thoughts/page/1/\">deep-thoughts</a>\n",
       "<a class=\"tag\" href=\"/tag/thinking/page/1/\">thinking</a>\n",
       "<a class=\"tag\" href=\"/tag/world/page/1/\">world</a>\n",
       "</div>\n",
       "</div>\n",
       "<div class=\"quote\" itemscope=\"\" itemtype=\"http://schema.org/CreativeWork\">\n",
       "<span class=\"text\" itemprop=\"text\">“It is our choices, Harry, that show what we truly are, far more than our abilities.”</span>\n",
       "<span>by <small class=\"author\" itemprop=\"author\">J.K. Rowling</small>\n",
       "<a href=\"/author/J-K-Rowling\">(about)</a>\n",
       "</span>\n",
       "<div class=\"tags\">\n",
       "            Tags:\n",
       "            <meta class=\"keywords\" content=\"abilities,choices\" itemprop=\"keywords\"/>\n",
       "<a class=\"tag\" href=\"/tag/abilities/page/1/\">abilities</a>\n",
       "<a class=\"tag\" href=\"/tag/choices/page/1/\">choices</a>\n",
       "</div>\n",
       "</div>\n",
       "<div class=\"quote\" itemscope=\"\" itemtype=\"http://schema.org/CreativeWork\">\n",
       "<span class=\"text\" itemprop=\"text\">“There are only two ways to live your life. One is as though nothing is a miracle. The other is as though everything is a miracle.”</span>\n",
       "<span>by <small class=\"author\" itemprop=\"author\">Albert Einstein</small>\n",
       "<a href=\"/author/Albert-Einstein\">(about)</a>\n",
       "</span>\n",
       "<div class=\"tags\">\n",
       "            Tags:\n",
       "            <meta class=\"keywords\" content=\"inspirational,life,live,miracle,miracles\" itemprop=\"keywords\"/>\n",
       "<a class=\"tag\" href=\"/tag/inspirational/page/1/\">inspirational</a>\n",
       "<a class=\"tag\" href=\"/tag/life/page/1/\">life</a>\n",
       "<a class=\"tag\" href=\"/tag/live/page/1/\">live</a>\n",
       "<a class=\"tag\" href=\"/tag/miracle/page/1/\">miracle</a>\n",
       "<a class=\"tag\" href=\"/tag/miracles/page/1/\">miracles</a>\n",
       "</div>\n",
       "</div>\n",
       "<div class=\"quote\" itemscope=\"\" itemtype=\"http://schema.org/CreativeWork\">\n",
       "<span class=\"text\" itemprop=\"text\">“The person, be it gentleman or lady, who has not pleasure in a good novel, must be intolerably stupid.”</span>\n",
       "<span>by <small class=\"author\" itemprop=\"author\">Jane Austen</small>\n",
       "<a href=\"/author/Jane-Austen\">(about)</a>\n",
       "</span>\n",
       "<div class=\"tags\">\n",
       "            Tags:\n",
       "            <meta class=\"keywords\" content=\"aliteracy,books,classic,humor\" itemprop=\"keywords\"/>\n",
       "<a class=\"tag\" href=\"/tag/aliteracy/page/1/\">aliteracy</a>\n",
       "<a class=\"tag\" href=\"/tag/books/page/1/\">books</a>\n",
       "<a class=\"tag\" href=\"/tag/classic/page/1/\">classic</a>\n",
       "<a class=\"tag\" href=\"/tag/humor/page/1/\">humor</a>\n",
       "</div>\n",
       "</div>\n",
       "<div class=\"quote\" itemscope=\"\" itemtype=\"http://schema.org/CreativeWork\">\n",
       "<span class=\"text\" itemprop=\"text\">“Imperfection is beauty, madness is genius and it's better to be absolutely ridiculous than absolutely boring.”</span>\n",
       "<span>by <small class=\"author\" itemprop=\"author\">Marilyn Monroe</small>\n",
       "<a href=\"/author/Marilyn-Monroe\">(about)</a>\n",
       "</span>\n",
       "<div class=\"tags\">\n",
       "            Tags:\n",
       "            <meta class=\"keywords\" content=\"be-yourself,inspirational\" itemprop=\"keywords\"/>\n",
       "<a class=\"tag\" href=\"/tag/be-yourself/page/1/\">be-yourself</a>\n",
       "<a class=\"tag\" href=\"/tag/inspirational/page/1/\">inspirational</a>\n",
       "</div>\n",
       "</div>\n",
       "<div class=\"quote\" itemscope=\"\" itemtype=\"http://schema.org/CreativeWork\">\n",
       "<span class=\"text\" itemprop=\"text\">“Try not to become a man of success. Rather become a man of value.”</span>\n",
       "<span>by <small class=\"author\" itemprop=\"author\">Albert Einstein</small>\n",
       "<a href=\"/author/Albert-Einstein\">(about)</a>\n",
       "</span>\n",
       "<div class=\"tags\">\n",
       "            Tags:\n",
       "            <meta class=\"keywords\" content=\"adulthood,success,value\" itemprop=\"keywords\"/>\n",
       "<a class=\"tag\" href=\"/tag/adulthood/page/1/\">adulthood</a>\n",
       "<a class=\"tag\" href=\"/tag/success/page/1/\">success</a>\n",
       "<a class=\"tag\" href=\"/tag/value/page/1/\">value</a>\n",
       "</div>\n",
       "</div>\n",
       "<div class=\"quote\" itemscope=\"\" itemtype=\"http://schema.org/CreativeWork\">\n",
       "<span class=\"text\" itemprop=\"text\">“It is better to be hated for what you are than to be loved for what you are not.”</span>\n",
       "<span>by <small class=\"author\" itemprop=\"author\">André Gide</small>\n",
       "<a href=\"/author/Andre-Gide\">(about)</a>\n",
       "</span>\n",
       "<div class=\"tags\">\n",
       "            Tags:\n",
       "            <meta class=\"keywords\" content=\"life,love\" itemprop=\"keywords\"/>\n",
       "<a class=\"tag\" href=\"/tag/life/page/1/\">life</a>\n",
       "<a class=\"tag\" href=\"/tag/love/page/1/\">love</a>\n",
       "</div>\n",
       "</div>\n",
       "<div class=\"quote\" itemscope=\"\" itemtype=\"http://schema.org/CreativeWork\">\n",
       "<span class=\"text\" itemprop=\"text\">“I have not failed. I've just found 10,000 ways that won't work.”</span>\n",
       "<span>by <small class=\"author\" itemprop=\"author\">Thomas A. Edison</small>\n",
       "<a href=\"/author/Thomas-A-Edison\">(about)</a>\n",
       "</span>\n",
       "<div class=\"tags\">\n",
       "            Tags:\n",
       "            <meta class=\"keywords\" content=\"edison,failure,inspirational,paraphrased\" itemprop=\"keywords\"/>\n",
       "<a class=\"tag\" href=\"/tag/edison/page/1/\">edison</a>\n",
       "<a class=\"tag\" href=\"/tag/failure/page/1/\">failure</a>\n",
       "<a class=\"tag\" href=\"/tag/inspirational/page/1/\">inspirational</a>\n",
       "<a class=\"tag\" href=\"/tag/paraphrased/page/1/\">paraphrased</a>\n",
       "</div>\n",
       "</div>\n",
       "<div class=\"quote\" itemscope=\"\" itemtype=\"http://schema.org/CreativeWork\">\n",
       "<span class=\"text\" itemprop=\"text\">“A woman is like a tea bag; you never know how strong it is until it's in hot water.”</span>\n",
       "<span>by <small class=\"author\" itemprop=\"author\">Eleanor Roosevelt</small>\n",
       "<a href=\"/author/Eleanor-Roosevelt\">(about)</a>\n",
       "</span>\n",
       "<div class=\"tags\">\n",
       "            Tags:\n",
       "            <meta class=\"keywords\" content=\"misattributed-eleanor-roosevelt\" itemprop=\"keywords\"/>\n",
       "<a class=\"tag\" href=\"/tag/misattributed-eleanor-roosevelt/page/1/\">misattributed-eleanor-roosevelt</a>\n",
       "</div>\n",
       "</div>\n",
       "<div class=\"quote\" itemscope=\"\" itemtype=\"http://schema.org/CreativeWork\">\n",
       "<span class=\"text\" itemprop=\"text\">“A day without sunshine is like, you know, night.”</span>\n",
       "<span>by <small class=\"author\" itemprop=\"author\">Steve Martin</small>\n",
       "<a href=\"/author/Steve-Martin\">(about)</a>\n",
       "</span>\n",
       "<div class=\"tags\">\n",
       "            Tags:\n",
       "            <meta class=\"keywords\" content=\"humor,obvious,simile\" itemprop=\"keywords\"/>\n",
       "<a class=\"tag\" href=\"/tag/humor/page/1/\">humor</a>\n",
       "<a class=\"tag\" href=\"/tag/obvious/page/1/\">obvious</a>\n",
       "<a class=\"tag\" href=\"/tag/simile/page/1/\">simile</a>\n",
       "</div>\n",
       "</div>\n",
       "<nav>\n",
       "<ul class=\"pager\">\n",
       "<li class=\"next\">\n",
       "<a href=\"/page/2/\">Next <span aria-hidden=\"true\">→</span></a>\n",
       "</li>\n",
       "</ul>\n",
       "</nav>\n",
       "</div>\n",
       "<div class=\"col-md-4 tags-box\">\n",
       "<h2>Top Ten tags</h2>\n",
       "<span class=\"tag-item\">\n",
       "<a class=\"tag\" href=\"/tag/love/\" style=\"font-size: 28px\">love</a>\n",
       "</span>\n",
       "<span class=\"tag-item\">\n",
       "<a class=\"tag\" href=\"/tag/inspirational/\" style=\"font-size: 26px\">inspirational</a>\n",
       "</span>\n",
       "<span class=\"tag-item\">\n",
       "<a class=\"tag\" href=\"/tag/life/\" style=\"font-size: 26px\">life</a>\n",
       "</span>\n",
       "<span class=\"tag-item\">\n",
       "<a class=\"tag\" href=\"/tag/humor/\" style=\"font-size: 24px\">humor</a>\n",
       "</span>\n",
       "<span class=\"tag-item\">\n",
       "<a class=\"tag\" href=\"/tag/books/\" style=\"font-size: 22px\">books</a>\n",
       "</span>\n",
       "<span class=\"tag-item\">\n",
       "<a class=\"tag\" href=\"/tag/reading/\" style=\"font-size: 14px\">reading</a>\n",
       "</span>\n",
       "<span class=\"tag-item\">\n",
       "<a class=\"tag\" href=\"/tag/friendship/\" style=\"font-size: 10px\">friendship</a>\n",
       "</span>\n",
       "<span class=\"tag-item\">\n",
       "<a class=\"tag\" href=\"/tag/friends/\" style=\"font-size: 8px\">friends</a>\n",
       "</span>\n",
       "<span class=\"tag-item\">\n",
       "<a class=\"tag\" href=\"/tag/truth/\" style=\"font-size: 8px\">truth</a>\n",
       "</span>\n",
       "<span class=\"tag-item\">\n",
       "<a class=\"tag\" href=\"/tag/simile/\" style=\"font-size: 6px\">simile</a>\n",
       "</span>\n",
       "</div>\n",
       "</div>\n",
       "</div>\n",
       "<footer class=\"footer\">\n",
       "<div class=\"container\">\n",
       "<p class=\"text-muted\">\n",
       "                Quotes by: <a href=\"https://www.goodreads.com/quotes\">GoodReads.com</a>\n",
       "</p>\n",
       "<p class=\"copyright\">\n",
       "                Made with <span class=\"zyte\">❤</span> by <a class=\"zyte\" href=\"https://www.zyte.com\">Zyte</a>\n",
       "</p>\n",
       "</div>\n",
       "</footer>\n",
       "</body>\n",
       "</html>"
      ]
     },
     "execution_count": 49,
     "metadata": {},
     "output_type": "execute_result"
    }
   ],
   "source": [
    "url = 'http://quotes.toscrape.com/'\n",
    "html = ur.urlopen(url)\n",
    "soup = bs(html.read(), 'html.parser')\n",
    "soup"
   ]
  },
  {
   "cell_type": "code",
   "execution_count": 54,
   "id": "8f58c1e9-e810-4ea4-9a88-95fb960cddaa",
   "metadata": {},
   "outputs": [
    {
     "data": {
      "text/plain": [
       "'“The world as we have created it is a process of our thinking. It cannot be changed without changing our thinking.”'"
      ]
     },
     "execution_count": 54,
     "metadata": {},
     "output_type": "execute_result"
    }
   ],
   "source": [
    "# 원하는 태그의 값만 모으기\n",
    "quotes = soup.find_all('span')\n",
    "quotes[0].text"
   ]
  },
  {
   "cell_type": "code",
   "execution_count": 55,
   "id": "e8444c1d-2f62-4d22-8ece-75c57fd3faec",
   "metadata": {},
   "outputs": [
    {
     "name": "stdout",
     "output_type": "stream",
     "text": [
      "“The world as we have created it is a process of our thinking. It cannot be changed without changing our thinking.”\n",
      "by Albert Einstein\n",
      "(about)\n",
      "\n",
      "“It is our choices, Harry, that show what we truly are, far more than our abilities.”\n",
      "by J.K. Rowling\n",
      "(about)\n",
      "\n",
      "“There are only two ways to live your life. One is as though nothing is a miracle. The other is as though everything is a miracle.”\n",
      "by Albert Einstein\n",
      "(about)\n",
      "\n",
      "“The person, be it gentleman or lady, who has not pleasure in a good novel, must be intolerably stupid.”\n",
      "by Jane Austen\n",
      "(about)\n",
      "\n",
      "“Imperfection is beauty, madness is genius and it's better to be absolutely ridiculous than absolutely boring.”\n",
      "by Marilyn Monroe\n",
      "(about)\n",
      "\n",
      "“Try not to become a man of success. Rather become a man of value.”\n",
      "by Albert Einstein\n",
      "(about)\n",
      "\n",
      "“It is better to be hated for what you are than to be loved for what you are not.”\n",
      "by André Gide\n",
      "(about)\n",
      "\n",
      "“I have not failed. I've just found 10,000 ways that won't work.”\n",
      "by Thomas A. Edison\n",
      "(about)\n",
      "\n",
      "“A woman is like a tea bag; you never know how strong it is until it's in hot water.”\n",
      "by Eleanor Roosevelt\n",
      "(about)\n",
      "\n",
      "“A day without sunshine is like, you know, night.”\n",
      "by Steve Martin\n",
      "(about)\n",
      "\n",
      "→\n",
      "\n",
      "love\n",
      "\n",
      "\n",
      "inspirational\n",
      "\n",
      "\n",
      "life\n",
      "\n",
      "\n",
      "humor\n",
      "\n",
      "\n",
      "books\n",
      "\n",
      "\n",
      "reading\n",
      "\n",
      "\n",
      "friendship\n",
      "\n",
      "\n",
      "friends\n",
      "\n",
      "\n",
      "truth\n",
      "\n",
      "\n",
      "simile\n",
      "\n",
      "❤\n"
     ]
    }
   ],
   "source": [
    "for i in quotes:\n",
    "    print(i.text)"
   ]
  },
  {
   "cell_type": "code",
   "execution_count": 59,
   "id": "96258024-1c4f-424c-8f90-c9e25dd9202c",
   "metadata": {},
   "outputs": [
    {
     "data": {
      "text/plain": [
       "'\\n“The world as we have created it is a process of our thinking. It cannot be changed without changing our thinking.”\\nby Albert Einstein\\n(about)\\n\\n\\n            Tags:\\n            \\nchange\\ndeep-thoughts\\nthinking\\nworld\\n\\n'"
      ]
     },
     "execution_count": 59,
     "metadata": {},
     "output_type": "execute_result"
    }
   ],
   "source": [
    "# <div> 태그 안에 정의된 특정 클래스 찾아가기\n",
    "soup.find_all('div',{'class':'quote'})[0].text"
   ]
  },
  {
   "cell_type": "markdown",
   "id": "eff2b2a7-81fb-449e-bb2c-7e854e7c6c6b",
   "metadata": {},
   "source": [
    "### 포털 사이트에서 기사 크롤링하기\n",
    "'https://www.daum.net/'"
   ]
  },
  {
   "cell_type": "code",
   "execution_count": 62,
   "id": "bde49cc7-e120-4f1e-8a81-59f9c76d90b3",
   "metadata": {},
   "outputs": [],
   "source": [
    "response = requests.get(\"https://news.daum.net/\")"
   ]
  },
  {
   "cell_type": "code",
   "execution_count": 63,
   "id": "0664400e-51ef-4564-b4b0-f233e60576cd",
   "metadata": {},
   "outputs": [],
   "source": [
    "url = 'https://news.daum.net/'\n",
    "html = ur.urlopen(url)\n",
    "soup = bs(html.read(), 'html.parser')"
   ]
  },
  {
   "cell_type": "code",
   "execution_count": 79,
   "id": "3fc6ab7f-5fa1-4577-8afa-680224c4906d",
   "metadata": {},
   "outputs": [],
   "source": [
    "cont_thumb = soup.find_all('div',{'class':'cont_thumb'})"
   ]
  },
  {
   "cell_type": "code",
   "execution_count": 81,
   "id": "a87c92ae-64e7-4b81-8345-266a56a81bcf",
   "metadata": {},
   "outputs": [
    {
     "name": "stdout",
     "output_type": "stream",
     "text": [
      "말 아낀 헌재, 尹 선고 '안갯속'…그래도 분위기는 읽혔다(종합) (서울=뉴스1) 이밝음 김민재 기자 = 헌법재판소가 24일 한덕수 국무총리 탄핵소추를 기각한 가운데 비상계엄 적법성에 대한 판단을 내놓지 않으면서 윤석열 대통령 탄핵 심판 결과가 안갯속에 빠져들었다. 법조계는 다만 결정문에서 드러난 재판관들의 의견을 바탕으로 결과를 유추하고 있다. 재판관들 의견이 뚜렷하게 나뉘면서 만장일치 결정이 어려울 것이란 전망도 뉴스1 7분 전 \n",
      "\"극단으로 갈라진 사회는 불행\"…통합 메시지로 복귀한 한덕수 머니투데이 12분 전 \n",
      "韓탄핵 기각에 尹찬탄단체 \"헌재 규탄\"…반탄 진영은 환영(종합) 연합뉴스 12분 전 \n",
      "헌재, 한덕수 탄핵 기각…기각 5인·각하 2인·인용 1인 의견(종합2보) 연합뉴스 19분 전 \n",
      "경남 하동까지 확산‥진화 중 4명 사망 MBC 31분 전 \n",
      "한덕수 \"국익에 모든 역량\"...첫날 '산불 대응'에 집중 YTN 49분 전 \n",
      "\"관세 대상국에 韓포함 가능성···상당히 높은 관세 부과 받을 것\" 서울경제 1시간 전 \n",
      "법원 '대통령실 공사 비리' 의혹 경호처 공무원 보석 인용(종합) 뉴스1 2시간 전 \n",
      "돌아온 한총리…쟁점 현안·대미 외교 해법 찾을까 연합뉴스TV 2시간 전 \n",
      "[엘르보이스] 결정사에 가입하기로 했다 매달 정신없이 마감할 때 했던 연애가 가장 재밌었고, “도대체 너의 이상형은 무엇이냐” 는 질문이 지겨울 만큼 다양한 범주의 애인을 만났다. 늘 결혼을 원했지만 ‘아직은 아니’라는 생각이었던 내가 팬데믹을 기점으로 결혼이 나를 비껴간다는 생각을 하기 시작했다. 2020년부터 정신없이 흘러간 5년 동안 내 나이는 마흔을 넘었고, 인간관계가 빠르게 축소됐으며  엘르 28분 전 \n",
      "[XMZ여자들] 봄이 왔으니 향수를 바꾸겠어요 도서관 치유 글쓰기 프로그램에서 만나 시민기자가 된 그룹입니다. 20대(Z), 30대(M), 40대(X)까지 총 6명의 여성들로 이뤄진 그룹 'XMZ 여자들'은 세대간의 어긋남과 연결 그리고 공감을 목표로 사소하지만 멈칫하게 만드는 순간을 글로 씁니다. <편집자말> [한재아 기자] 외투를 챙기고 현관문을 열었다. 곧바로 옅은 풀 냄새가 실린 차가운 바람이  오마이뉴스 8시간 전 \n",
      "고급 오피스텔서 어이없는 죽음…그 사업가 '수상한 이혼' 장소가 의외였다. 꽤 고가의 주상복합 오피스텔에서 집주인이 연락해 왔다. 주변엔 대형마트가 들어서 있고, 각종 편의시설도 잘 갖춰진 지역. 오피스텔 평수도 20평이 넘었다. 그간 나갔던 현장과는 소위 ‘생활수준’이 다른 곳이었다. 고인은 사후 2주 만에 발견됐다고 한다. 수개월간 월세가 밀리고 최근엔 연락도 끊겼다. 집주인은 명도소송  중앙일보 19시간 전 \n",
      "제가 하는 건 농사가 아니라고요? ‘이 비의 이름은 장마가 아니라 기후위기입니다.’ 여름마다 유례없는 폭우가 쏟아진 이후 한국의 대표적인 농민시장 ‘농부시장 마르쉐@’에서는 ‘지구농부포럼’을 만들었다. 어떤 극한 상황에서도 생태적인 고민을 먼저 하며 농사를 이어나가는 마르쉐 출점 농민들을 ‘지구농부’라고 명명하고 기후위기와 농사 현장 경험을 공유하자는 의미에서다. 2025년 2월에도 ‘땅으  한겨레21 1일 전 \n",
      "묵묵히 견디면 결국 꽃 피는 ‘봄’…기필코 찾아내리, 우리의 ‘성장’[언어의 업데이트] 쉽게 쓰는 말이 가장 어렵다. 사랑, 행복, 성장처럼 정의를 내리려 마음먹으면 머릿속에서 너무 많은 장면이 충돌하는 말이 있다. 특히 ‘성장’은 유난히 까다롭다. 시인과 CEO도 함께 좋아하는 몇 안 되는 단어이자, 아기와 직장인이 모두 품는 단어. 숫자로 드러나는 성장, 감정적 성장, 경험적 성장. 때로는 양적이고 때로는 질적인 이 성장들이 각기 다른 길  경향신문 2일 전 \n",
      "외교부, ‘한덕수 탄핵기각’ 美·日·中 등 주요국에 설명 (시사저널=김민지 디지털팀 기자) 외교부는 24일 한덕수 대통령 권한대행 국무총리 탄핵 기각된 것과 관련, 헌법재판소 결정을 주요국에 설명했다. 외교부에 따르면, 김홍균 1차관은 이날 오전 조셉 윤 주한미국대사대리와 통화하고 한 대행의 탄핵 소추안 기각 결정을 설명했다. 아울러 앞으로도 한·미 동맹을 굳건히 유지하고 양국 협력을 증진하자고 말했다. 그러자 시사저널 1분 전 \n",
      "우원식, 한덕수에 “재판관 미임명 위헌 명시…즉시 마은혁 임명하길” (시사저널=신현의 디지털팀 기자) 우원식 국회의장은 24일 헌법재판소의 탄핵 기각 결정으로 대통령 권한대행직에 복귀한 한덕수 국무총리를 향해 \"즉시 마은혁 헌법재판관 후보를 임명해야 한다\"고 촉구했다. 우 의장은 이날 자신의 페이스북에 \"국무총리 탄핵심판 사건에 대한 헌법재판소의 결정을 존중한다\"며 이같이 적었다. 우 의장은 \"대통령 권한대행 중인 국무총리 시사저널 2분 전 \n",
      "여성, \"임금·승진·채용 차별 있다\"... 남성보다 더 큰 불이익 느껴 【베이비뉴스 이유주 기자】 직장이 절반이 성별에 따른 중요한 임금, 승진, 채용 등 직장 내 다양한 영역에서 성차별이 만연하다고 인식했다. 이러한 인식은 여성에게서 더욱 두드러졌다. 특히 직장인들은 성차별 문제 중 특히 '임금' 불평등이 해소되지 않으면 저출산 문제가 심화할 것이라고 우려했다. 최근 민주노동연구원은 '고용상 성차별 경험과 성별 임금 격차 인 베이비뉴스 19분 전 \n",
      "오래 앉는 습관, 고혈압 부른다…\"다리 꼬는 습관도 안 좋아\" [인터뷰] [인터뷰] 내과 전문의 김율래 원장 장시간 좌식 행동, 고혈압·심혈관 질환 등 위험 요인으로 작용 오랜 시간 앉아있어야 할 경우 틈틈이 자세 바꾸고 움직임 줘야  최근 한국인의 좌식 행동 시간이 증가했다는 조사 결과가 발표되었다. 질병관리청 조사에 따르면, 19세 이상 성인의 하루 평균 좌식 행동 시간이 2018년 8.3시간에서 2023년 9.0시간으로 하이닥 2시간 전 \n",
      "말 아낀 헌재, 尹 선고 '안갯속'…그래도 분위기는 읽혔다(종합) (서울=뉴스1) 이밝음 김민재 기자 = 헌법재판소가 24일 한덕수 국무총리 탄핵소추를 기각한 가운데 비상계엄 적법성에 대한 판단을 내놓지 않으면서 윤석열 대통령 탄핵 심판 결과가 안갯속에 빠져들었다. 법조계는 다만 결정문에서 드러난 재판관들의 의견을 바탕으로 결과를 유추하고 있다. 재판관들 의견이 뚜렷하게 나뉘면서 만장일치 결정이 어려울 것이란 전망도 뉴스1 7분 전 \n",
      "韓탄핵 기각에 尹찬탄단체 \"헌재 규탄\"…반탄 진영은 환영(종합) 연합뉴스 12분 전 \n",
      "\"헌재에 너무 물렁했다\"…민주, 李 선고 뒤로 밀린 尹 탄핵 '책임론' 뉴스1 32분 전 \n",
      "국회 탄핵소추단 “헌재, 尹 선고기일 당장 지정해달라” 세계일보 1시간 전 \n",
      "韓탄핵심판 ‘네갈래’ 나뉜 헌재…尹사건은 몇 대 몇? 서울신문 1시간 전 \n",
      "박완수 경남도지사, 산청 산불 순직자 창녕군합동분향소 조문 [창원=뉴시스]홍정명 기자 = 경남도는 박완수 도지사가 24일 오후 창녕군민체육관에 마련된 산청 산불 사고 순직자 합동분향소를 찾아 조문하고 유가족들을 위로했다고 밝혔다. 산청 산불 진화작업에 투입된 창녕군 소속 진화대원 3명과 공무원 1명이 지난 22일 순직했다. 박완수 지사는 헌화와 묵념을 통해 고인들의 넋을 기리고, 조문록에 '안타깝습니다. 삼가 고  뉴시스 1분 전 \n",
      "안산시, 편의점 4곳에 자동심장충격기 설치 (안산=뉴스1) 유재규 기자 = 경기 안산시가 응급상황 발생시 대처를 위해 24시간 편의점 내에 자동심장충격기(AED)를 설치했다고 24일 밝혔다. 시에 따르면 AED 설치 장소는 GS25 안산신영점과 안산프라자점, 안산썬라이즈점, 고잔로데오점 등 4곳이다. AED는 짧은 순간에 강한 전류를 심정지 환자에게 흘려보내 심장이 정상적인 활동을 할 수 있도록  뉴스1 1분 전 \n",
      "윤건영 “경호처 내부 멘붕-아노미 상태...서로 말 못꺼내는 상황” ○프로그램 : JTBC 유튜브 라이브 〈장르만 여의도〉 ○방송일자 : 2025년 03월 24일 (월) ○진행 : 정영진 ○출연 : 윤건영 더불어민주당 의원 / 채윤경 기자 ▶정영진 자 이번 시간은요 원래 이제 다른 거 여쭤볼 게 많아서 좀 모셨는데 어쩔 수 없이 이제 한덕수 기각 관련된 이야기도 좀 여쭤봐야 될 것 같습니다. 더불어민주  JTBC 1분 전 \n",
      "현대차·기아, 美누적 판매 3000만대 돌파 '초읽기'…39년만 현대차 아반떼. 현대차 제공 기아 쏘렌토. 기아 제공 [파이낸셜뉴스]현대자동차·기아가 미국 시장에서 호실적을 거두면서 올해 현지 누적 판매 3000만대를 돌파할 것으로 예상된다. 이는 현대차가 1986년 울산공장에서 생산한 엑셀을 미국에 처음 수출한 이후 39년 만에 이뤄낸 성과다. 현대차그룹은 오는 26일(현지  파이낸셜뉴스 1분 전 \n",
      "국민의힘, '민주당 탄핵 남발…국정 혼란 책임져야' [뉴시스Pic] [서울=뉴시스]김진아 황준선 기자 = 국민의힘 의원들이 24일 서울 종로구 헌법재판소 앞에서 열린 한덕수 국무총리에 대한 국회의 탄핵소추 기각 관련 입장 발표 기자회견을 진행했다. 이날 기자회견에는 김기현·나경원·윤상현·박대출·박덕흠 의원 등이 참석했다. 이들은 이날 헌재의 탄핵심판 선고가 이뤄진 뒤 서울 종로구 헌재 정문 앞에서 기자회견을 열고 '이재  뉴시스 1분 전 \n",
      "외교부, ‘한덕수 탄핵기각’ 美·日·中 등 주요국에 설명 (시사저널=김민지 디지털팀 기자) 외교부는 24일 한덕수 대통령 권한대행 국무총리 탄핵 기각된 것과 관련, 헌법재판소 결정을 주요국에 설명했다. 외교부에 따르면, 김홍균 1차관은 이날 오전 조셉 윤 주한미국대사대리와 통화하고 한 대행의 탄핵 소추안 기각 결정을 설명했다. 아울러 앞으로도 한·미 동맹을 굳건히 유지하고 양국 협력을 증진하자고 말했다. 그러자  시사저널 1분 전 \n",
      "“미국産 수출에 치명타”…내부 반발에 中 선박 입항 수수료 하향조정되나 미국이 자국 항구에 입항하는 중국 선사와 중국산 선박에 예고한 수준의 높은 입항 수수료를 부과하지 못하리라는 관측이 글로벌 해운업계에서 점점 확산하고 있다. 입항 1번 당 100만달러 규모의 수수료를 부과하면 세계 무역은 물론 미국산 에너지와 곡물 등의 원활한 수출에도 차질을 줄 수 있다는 것이다. 미국이 만일 수수료 수준을 낮춘다면 당초 '반사 이익'을  한국경제 2분 전 \n",
      "“예정대로 崔 탄핵” 강행하지만···속내 복잡한 野 [서울경제] 더불어민주당은 한덕수 대통령 권한대행 국무총리에 대한 탄핵소추를 기각한 헌법재판소 결정에도 최상목 경제부총리 겸 기획재정부 장관 탄핵은 예정대로 진행한다는 방침이다. 하지만 최 부총리가 경제사령탑으로 복귀하자마자 윤석열 정부들어 30번째 탄핵소추를 강행하는데 따른 비판 여론이 큰 데다, 국회 일정도 빠듯해 속내는 복잡하다. 한민수 민주당 대변  서울경제 2분 전 \n",
      "국내 결핵 환자 감소세..고령층과 외국인 비중은 증가세 지영미 질병관리청장이 24일 서울 서초구 양재 엘타워에서 열린 '제1회 결핵예방의 날 기념식'에서 표창장을 수여 하고 있다. 질병관리청 제공 [파이낸셜뉴스] 국내 결핵 환자 발생은 점차 줄어들고 있지만 고령층과 외국인 비중은 점차 늘고 있는 것으로 나타났다. 질병관리청은 24일 ‘제15회 결핵예방의 날’을 맞아 ‘2024년 결핵환자 신  파이낸셜뉴스 2분 전 \n",
      "해마다 반복되는 고병원성 AI \"원점에서 틀어 막는다\" 야생조류 등에 감염되는 급성 바이러스성 전염병 조류인플루엔자(AI)는 해마다 국내 가금농가에 큰 피해를 입힌다. 특히 고병원성AI에 감염된 닭은 치사율이 100%에 이를 만큼 전염성과 폐사율이 높다. 고병원성AI가 발생하면 계란 가격이 큰 폭으로 뛰는 등 후폭풍도 장난이 아니다. 농림축산검역본부가 최근 우리나라로 남하하는 겨울 철새의 주요 번식지중 하나인  머니투데이 2분 전 \n",
      "[오늘의 그래픽]이자·학원비에 '텅텅'…중산층 한달 여윳돈 '65만원' 5년만에 최저 (서울=뉴스1) 윤주희 디자이너 = 통계청 국가통계포털(KOSIS)에 따르면,  지난해 4분기 소득 상위 40∼60%에 해당하는 중산층 가구의 여윳돈이 3개 분기 연속 감소하며 5년 만에 70만 원 아래로 떨어졌다.가구 소득은 증가했지만 이자 부담과 교육비, 부동산 관련 세금이 늘어났기 때문이다. ajsj999@news1.kr 뉴스1 42분 전 \n",
      "[데일리안 시사만평] 민주당, 천막당사 설치하고 '尹 파면' 압박… 떼쓴다고 될 일인가? by. 한가마 데일리안 1시간 전 \n",
      "[르포] \"40년 만에 새집 꿈 수포로\"…침통한 70대 의성 산불 이재민 연합뉴스 11분 전 \n",
      "[르포] \"우리가 이겼다!\" 한덕수 탄핵 기각에 尹 지지자도 덩달아 환호 서울경제 17분 전 \n",
      "경북 의성 산불 길이 133km‥1천 명 대피 MBC 25분 전 \n",
      "경남 하동까지 확산‥진화 중 4명 사망 MBC 31분 전 \n",
      "게임과 클래식의 만남 현장엔 ‘벨에포크’ 전사들이[가보니] 경향신문 39분 전 \n",
      "한덕수 총리 탄핵 기각...계엄 위법 여부 판단 미뤄 YTN 43분 전 \n",
      "[현장] 뉴진스 작심 신곡 “잠시만 리셋, 널리 퍼져가기 위해”…더 성숙해진 모습 한겨레 1시간 전 \n",
      "[현장]尹재판 중앙지법 앞은 '한산'…시민들 \"앞으로가 걱정\" 파이낸셜뉴스 1시간 전 \n",
      "고침, 정정・반론 보도 모음 다음뉴스 \n",
      "다음채널 제휴안내 다음뉴스 \n",
      "다음뉴스 고객센터 다음뉴스 \n",
      "다음뉴스 제휴 언론사 다음뉴스 \n"
     ]
    }
   ],
   "source": [
    "for i in cont_thumb:\n",
    "    print(i.text)"
   ]
  },
  {
   "cell_type": "code",
   "execution_count": 83,
   "id": "8af11ce3-d4b9-4be2-bbf6-fa25bc7e9a9c",
   "metadata": {},
   "outputs": [
    {
     "name": "stdout",
     "output_type": "stream",
     "text": [
      "Collecting selenium\n",
      "  Downloading selenium-4.30.0-py3-none-any.whl.metadata (7.5 kB)\n",
      "Requirement already satisfied: urllib3<3,>=1.26 in c:\\anaconda\\lib\\site-packages (from urllib3[socks]<3,>=1.26->selenium) (2.2.3)\n",
      "Collecting trio~=0.17 (from selenium)\n",
      "  Downloading trio-0.29.0-py3-none-any.whl.metadata (8.5 kB)\n",
      "Collecting trio-websocket~=0.9 (from selenium)\n",
      "  Downloading trio_websocket-0.12.2-py3-none-any.whl.metadata (5.1 kB)\n",
      "Requirement already satisfied: certifi>=2021.10.8 in c:\\anaconda\\lib\\site-packages (from selenium) (2025.1.31)\n",
      "Requirement already satisfied: typing_extensions~=4.9 in c:\\anaconda\\lib\\site-packages (from selenium) (4.11.0)\n",
      "Requirement already satisfied: websocket-client~=1.8 in c:\\anaconda\\lib\\site-packages (from selenium) (1.8.0)\n",
      "Collecting attrs>=23.2.0 (from trio~=0.17->selenium)\n",
      "  Downloading attrs-25.3.0-py3-none-any.whl.metadata (10 kB)\n",
      "Requirement already satisfied: sortedcontainers in c:\\anaconda\\lib\\site-packages (from trio~=0.17->selenium) (2.4.0)\n",
      "Requirement already satisfied: idna in c:\\anaconda\\lib\\site-packages (from trio~=0.17->selenium) (3.7)\n",
      "Collecting outcome (from trio~=0.17->selenium)\n",
      "  Downloading outcome-1.3.0.post0-py2.py3-none-any.whl.metadata (2.6 kB)\n",
      "Requirement already satisfied: sniffio>=1.3.0 in c:\\anaconda\\lib\\site-packages (from trio~=0.17->selenium) (1.3.0)\n",
      "Requirement already satisfied: cffi>=1.14 in c:\\anaconda\\lib\\site-packages (from trio~=0.17->selenium) (1.17.1)\n",
      "Collecting wsproto>=0.14 (from trio-websocket~=0.9->selenium)\n",
      "  Downloading wsproto-1.2.0-py3-none-any.whl.metadata (5.6 kB)\n",
      "Requirement already satisfied: pysocks!=1.5.7,<2.0,>=1.5.6 in c:\\anaconda\\lib\\site-packages (from urllib3[socks]<3,>=1.26->selenium) (1.7.1)\n",
      "Requirement already satisfied: pycparser in c:\\anaconda\\lib\\site-packages (from cffi>=1.14->trio~=0.17->selenium) (2.21)\n",
      "Requirement already satisfied: h11<1,>=0.9.0 in c:\\anaconda\\lib\\site-packages (from wsproto>=0.14->trio-websocket~=0.9->selenium) (0.14.0)\n",
      "Downloading selenium-4.30.0-py3-none-any.whl (9.4 MB)\n",
      "   ---------------------------------------- 0.0/9.4 MB ? eta -:--:--\n",
      "   ---------------------------------------- 9.4/9.4 MB 48.6 MB/s eta 0:00:00\n",
      "Downloading trio-0.29.0-py3-none-any.whl (492 kB)\n",
      "Downloading trio_websocket-0.12.2-py3-none-any.whl (21 kB)\n",
      "Downloading attrs-25.3.0-py3-none-any.whl (63 kB)\n",
      "Downloading outcome-1.3.0.post0-py2.py3-none-any.whl (10 kB)\n",
      "Downloading wsproto-1.2.0-py3-none-any.whl (24 kB)\n",
      "Installing collected packages: wsproto, attrs, outcome, trio, trio-websocket, selenium\n",
      "  Attempting uninstall: attrs\n",
      "    Found existing installation: attrs 23.1.0\n",
      "    Uninstalling attrs-23.1.0:\n",
      "      Successfully uninstalled attrs-23.1.0\n",
      "Successfully installed attrs-25.3.0 outcome-1.3.0.post0 selenium-4.30.0 trio-0.29.0 trio-websocket-0.12.2 wsproto-1.2.0\n"
     ]
    }
   ],
   "source": [
    "!pip install selenium"
   ]
  },
  {
   "cell_type": "code",
   "execution_count": 127,
   "id": "0c0cbd19-cf76-4949-818b-1f168d1568c3",
   "metadata": {},
   "outputs": [],
   "source": [
    "from selenium import webdriver"
   ]
  },
  {
   "cell_type": "code",
   "execution_count": 128,
   "id": "d523d1cc-5433-45a0-b2b1-f379ed446783",
   "metadata": {},
   "outputs": [],
   "source": [
    "driver = webdriver.Chrome()"
   ]
  },
  {
   "cell_type": "code",
   "execution_count": 129,
   "id": "4a4b32e9-608d-48db-84d6-4b839b1fe9c3",
   "metadata": {},
   "outputs": [],
   "source": [
    "url = 'https://www.google.com'"
   ]
  },
  {
   "cell_type": "code",
   "execution_count": 130,
   "id": "696fcd4e-2d8e-4ae3-a6eb-c409edf1aadc",
   "metadata": {},
   "outputs": [],
   "source": [
    "driver.get(url)"
   ]
  },
  {
   "cell_type": "markdown",
   "id": "4b394e3f-e9a4-4037-a724-07219a5b6824",
   "metadata": {},
   "source": [
    "### 네이버에서 검색하기"
   ]
  },
  {
   "cell_type": "code",
   "execution_count": 131,
   "id": "55f67980-c8f0-4edd-b518-18bca9f69490",
   "metadata": {},
   "outputs": [],
   "source": [
    "from selenium.webdriver.common.keys import Keys # 검색어 입력\n",
    "from selenium.webdriver.common.by import By # 검색창 찾기"
   ]
  },
  {
   "cell_type": "code",
   "execution_count": 132,
   "id": "bafbff9b-2c9d-4943-997c-4585153a4a8f",
   "metadata": {},
   "outputs": [],
   "source": [
    "# 네이버 메인 페이지 열기\n",
    "url = 'https://www.naver.com'\n",
    "driver = webdriver.Chrome()\n",
    "driver.get(url)"
   ]
  },
  {
   "cell_type": "code",
   "execution_count": 133,
   "id": "2ade9ebd-c7c8-481f-9735-14b5db30b7fd",
   "metadata": {},
   "outputs": [],
   "source": [
    "# 검색창 찾기\n",
    "query = driver.find_element(By.ID,\"query\")"
   ]
  },
  {
   "cell_type": "code",
   "execution_count": 134,
   "id": "f5cb704f-947a-4cc1-9753-2eb44fc6ac2a",
   "metadata": {},
   "outputs": [],
   "source": [
    "# 검색창에 검색어 입력\n",
    "query.send_keys(\"파이썬\")"
   ]
  },
  {
   "cell_type": "code",
   "execution_count": 135,
   "id": "51c6688a-392a-4815-9ca6-b0b6272012ae",
   "metadata": {},
   "outputs": [],
   "source": [
    "# 검색창에 엔터(Return)\n",
    "query.send_keys(Keys.RETURN)"
   ]
  },
  {
   "cell_type": "code",
   "execution_count": 188,
   "id": "58cfb800-c530-46ba-af71-54254400b030",
   "metadata": {},
   "outputs": [],
   "source": [
    "# 네이터 뉴스에서 kpop 관련 뉴스 추출하기\n",
    "url = 'https://www.naver.com'\n",
    "driver = webdriver.Chrome()\n",
    "driver.get(url)\n",
    "query = driver.find_element(By.ID,\"query\")\n",
    "query.send_keys(\"kpop\")\n",
    "query.send_keys(Keys.RETURN)"
   ]
  },
  {
   "cell_type": "code",
   "execution_count": 189,
   "id": "246c0b91-ae9b-4461-b513-d1cb6ba4edb6",
   "metadata": {},
   "outputs": [
    {
     "ename": "AttributeError",
     "evalue": "'list' object has no attribute 'click'",
     "output_type": "error",
     "traceback": [
      "\u001b[1;31m---------------------------------------------------------------------------\u001b[0m",
      "\u001b[1;31mAttributeError\u001b[0m                            Traceback (most recent call last)",
      "Cell \u001b[1;32mIn[189], line 2\u001b[0m\n\u001b[0;32m      1\u001b[0m news_tit \u001b[38;5;241m=\u001b[39m driver\u001b[38;5;241m.\u001b[39mfind_elements(By\u001b[38;5;241m.\u001b[39mCLASS_NAME, \u001b[38;5;124m\"\u001b[39m\u001b[38;5;124mnews_tit\u001b[39m\u001b[38;5;124m\"\u001b[39m)\n\u001b[1;32m----> 2\u001b[0m news_tit\u001b[38;5;241m.\u001b[39mclick()\n",
      "\u001b[1;31mAttributeError\u001b[0m: 'list' object has no attribute 'click'"
     ]
    }
   ],
   "source": [
    "news_tit = driver.find_elements(By.CLASS_NAME, \"news_tit\")"
   ]
  },
  {
   "cell_type": "code",
   "execution_count": 190,
   "id": "baf9b825-9726-4fa4-ada8-1079fce3e409",
   "metadata": {},
   "outputs": [
    {
     "name": "stdout",
     "output_type": "stream",
     "text": [
      "K-POP 홍보하면서 '뒷광고'로 소비자 속인 카카오…공정위 제재\n",
      "공정위, K-POP 음원 광고로 소비자 기만한 카카오엔터 제재\n",
      "최고의 K-POP 누구? 제34회 '서울가요대상' 본상 투표 오늘(24일) 시작\n",
      "SKB, 구로구 초등 방과후 교실 운영…\"K-팝 댄스 배워요\"\n"
     ]
    }
   ],
   "source": [
    "for title in news_tit:\n",
    "    print(title.text)"
   ]
  },
  {
   "cell_type": "code",
   "execution_count": 187,
   "id": "a9c808c7-08e7-44f5-9942-b764e8551dd9",
   "metadata": {},
   "outputs": [
    {
     "ename": "AttributeError",
     "evalue": "'WebElement' object has no attribute 'find_all'",
     "output_type": "error",
     "traceback": [
      "\u001b[1;31m---------------------------------------------------------------------------\u001b[0m",
      "\u001b[1;31mAttributeError\u001b[0m                            Traceback (most recent call last)",
      "Cell \u001b[1;32mIn[187], line 1\u001b[0m\n\u001b[1;32m----> 1\u001b[0m news_tit[\u001b[38;5;241m0\u001b[39m]\u001b[38;5;241m.\u001b[39mfind_all(\u001b[38;5;124m'\u001b[39m\u001b[38;5;124m<a>\u001b[39m\u001b[38;5;124m'\u001b[39m)\n",
      "\u001b[1;31mAttributeError\u001b[0m: 'WebElement' object has no attribute 'find_all'"
     ]
    }
   ],
   "source": [
    "news_tit[0].find_all('<a>')"
   ]
  },
  {
   "cell_type": "code",
   "execution_count": 196,
   "id": "897045eb-e325-4862-97e4-a53603ddcc35",
   "metadata": {},
   "outputs": [
    {
     "name": "stdout",
     "output_type": "stream",
     "text": [
      "✅ '전체상품' 카테고리 클릭 완료!\n"
     ]
    }
   ],
   "source": [
    "from selenium import webdriver\n",
    "from selenium.webdriver.common.by import By\n",
    "from selenium.webdriver.support.ui import WebDriverWait\n",
    "from selenium.webdriver.support import expected_conditions as EC\n",
    "\n",
    "# Chrome 드라이버 실행\n",
    "driver = webdriver.Chrome()\n",
    "\n",
    "# 웹사이트 열기\n",
    "url = 'https://www.mychef.kr/'\n",
    "driver.get(url)\n",
    "\n",
    "# 웹 요소가 로드될 때까지 기다림 (최대 10초)\n",
    "try:\n",
    "    category_button = WebDriverWait(driver, 10).until(\n",
    "        EC.element_to_be_clickable((By.XPATH, \"//a[@data-cd1='All']\"))\n",
    "    )\n",
    "    category_button.click()\n",
    "    print(\"✅ '전체상품' 카테고리 클릭 완료!\")\n",
    "except:\n",
    "    print(\"❌ '전체상품' 카테고리 버튼을 찾을 수 없습니다.\")\n"
   ]
  },
  {
   "cell_type": "code",
   "execution_count": null,
   "id": "55a87881-5919-468f-bd19-e4e590a17bd5",
   "metadata": {},
   "outputs": [],
   "source": [
    "from selenium import webdriver\n",
    "from selenium.webdriver.common.by import By\n",
    "from selenium.webdriver.support.ui import WebDriverWait\n",
    "from selenium.webdriver.support import expected_conditions as EC\n",
    "import time\n",
    "\n",
    "# Chrome 드라이버 실행\n",
    "driver = webdriver.Chrome()\n",
    "\n",
    "# \"전체상품\" 페이지 열기\n",
    "base_url = 'https://www.mychef.kr/product/list?depth1=All'\n",
    "driver.get(base_url)\n",
    "\n",
    "# 페이지 로딩 대기\n",
    "time.sleep(3)\n",
    "\n",
    "page = 1  # 페이지 번호 초기화\n",
    "clicked_urls = set()  # 이미 클릭한 상품의 URL을 추적할 set\n",
    "\n",
    "try:\n",
    "    while True:  # 페이지가 더 이상 없을 때까지 반복\n",
    "        print(f\"\\n🚀 {page} 페이지 크롤링 시작 🚀\")\n",
    "\n",
    "        while True:  # 상품 클릭 후 리스트를 다시 불러오기 위해 별도 루프\n",
    "            try:\n",
    "                # 현재 페이지의 상품 리스트 새로 가져오기\n",
    "                product_elements = WebDriverWait(driver, 10).until(\n",
    "                    EC.presence_of_all_elements_located((By.CSS_SELECTOR, \"a[href^='/product/view?productCd=']\"))\n",
    "                )\n",
    "                break  # 성공적으로 상품을 가져오면 반복문 탈출\n",
    "            except:\n",
    "                print(\"❌ 상품 목록을 불러오지 못했습니다. 다시 시도합니다.\")\n",
    "                time.sleep(2)\n",
    "\n",
    "        print(f\"✅ {page} 페이지에서 {len(product_elements)}개의 상품 발견\")\n",
    "\n",
    "        # 상품 URL 리스트 저장 (중복 클릭 방지)\n",
    "        product_urls = [product.get_attribute(\"href\") for product in product_elements]\n",
    "\n",
    "        for index, product_url in enumerate(product_urls):\n",
    "            if product_url in clicked_urls:\n",
    "                print(f\"🔴 이미 클릭한 상품: {product_url} - 건너뜁니다.\")\n",
    "                continue  # 이미 클릭한 상품은 건너뜁니다.\n",
    "\n",
    "            try:\n",
    "                print(f\"▶ {index + 1}번째 상품 클릭: {product_url}\")\n",
    "                driver.get(product_url)  # 상품 페이지로 직접 이동\n",
    "                time.sleep(2)  # 상세 페이지 로딩 대기\n",
    "\n",
    "                clicked_urls.add(product_url)  # 클릭한 URL을 기록\n",
    "\n",
    "                driver.back()  # 다시 전체상품 페이지로 이동\n",
    "                time.sleep(2)  # 페이지 로딩 대기\n",
    "\n",
    "                # 🔥 상품 리스트 새로 가져오기 (중복 클릭 방지)\n",
    "                while True:\n",
    "                    try:\n",
    "                        product_elements = WebDriverWait(driver, 10).until(\n",
    "                            EC.presence_of_all_elements_located((By.CSS_SELECTOR, \"a[href^='/product/view?productCd=']\"))\n",
    "                        )\n",
    "                        break  # 성공적으로 로딩되면 탈출\n",
    "                    except:\n",
    "                        print(\"🔄 상품 목록을 다시 불러오는 중...\")\n",
    "                        time.sleep(2)\n",
    "\n",
    "            except Exception as e:\n",
    "                print(f\"❌ 오류 발생: {e}\")\n",
    "                continue  # 다음 상품으로 진행\n",
    "\n",
    "        # 다음 페이지로 이동 (JavaScript 실행)\n",
    "        try:\n",
    "            page += 1  # 다음 페이지\n",
    "            driver.execute_script(f\"cmPageMove('{page}')\")  # JavaScript 실행\n",
    "            time.sleep(3)  # 페이지 로딩 대기\n",
    "        except:\n",
    "            print(\"❌ 더 이상 다음 페이지가 없습니다.\")\n",
    "            break  # 페이지가 없으면 종료\n",
    "\n",
    "except Exception as e:\n",
    "    print(\"❌ 크롤링 중 오류 발생:\", e)\n",
    "\n",
    "# 브라우저 종료\n",
    "driver.quit()\n"
   ]
  },
  {
   "cell_type": "code",
   "execution_count": 2,
   "id": "6ce3c0b5-432c-4f73-ab36-d34a12471628",
   "metadata": {},
   "outputs": [
    {
     "name": "stdout",
     "output_type": "stream",
     "text": [
      "\n",
      "🚀 1 페이지 크롤링 시작 🚀\n",
      "✅ 1 페이지에서 120개의 상품 발견\n",
      "▶ 1번째 상품 크롤링: https://www.mychef.kr/product/view?productCd=F007380578\n",
      "🛒 상품 이름: [북창동순두부] 북창동 햄치즈 순두부찌개\n",
      "🖼️ 이미지 저장 완료: product_images\\1_image.jpg\n",
      "❌ 리뷰 크롤링 실패: Message: invalid selector: An invalid or illegal selector was specified\n",
      "  (Session info: chrome=134.0.6998.119); For documentation on this error, please visit: https://www.selenium.dev/documentation/webdriver/troubleshooting/errors#invalid-selector-exception\n",
      "Stacktrace:\n",
      "\tGetHandleVerifier [0x00007FF77BD74C25+3179557]\n",
      "\t(No symbol) [0x00007FF77B9D88A0]\n",
      "\t(No symbol) [0x00007FF77B8691CA]\n",
      "\t(No symbol) [0x00007FF77B870B98]\n",
      "\t(No symbol) [0x00007FF77B873BCC]\n",
      "\t(No symbol) [0x00007FF77B873C9F]\n",
      "\t(No symbol) [0x00007FF77B8BF320]\n",
      "\t(No symbol) [0x00007FF77B8BFC9C]\n",
      "\t(No symbol) [0x00007FF77B913657]\n",
      "\t(No symbol) [0x00007FF77B8E7C6F]\n",
      "\t(No symbol) [0x00007FF77B9102F3]\n",
      "\t(No symbol) [0x00007FF77B8E7A03]\n",
      "\t(No symbol) [0x00007FF77B8B06D0]\n",
      "\t(No symbol) [0x00007FF77B8B1983]\n",
      "\tGetHandleVerifier [0x00007FF77BDD67CD+3579853]\n",
      "\tGetHandleVerifier [0x00007FF77BDED1D2+3672530]\n",
      "\tGetHandleVerifier [0x00007FF77BDE2153+3627347]\n",
      "\tGetHandleVerifier [0x00007FF77BB4092A+868650]\n",
      "\t(No symbol) [0x00007FF77B9E2FFF]\n",
      "\t(No symbol) [0x00007FF77B9DF4A4]\n",
      "\t(No symbol) [0x00007FF77B9DF646]\n",
      "\t(No symbol) [0x00007FF77B9CEAA9]\n",
      "\tBaseThreadInitThunk [0x00007FFD50F77374+20]\n",
      "\tRtlUserThreadStart [0x00007FFD5119CC91+33]\n",
      "\n",
      "🔴 이미 크롤링한 상품: https://www.mychef.kr/product/view?productCd=F007380578 - 건너뜁니다.\n",
      "▶ 3번째 상품 크롤링: https://www.mychef.kr/product/view?productCd=F007380571\n"
     ]
    },
    {
     "ename": "KeyboardInterrupt",
     "evalue": "",
     "output_type": "error",
     "traceback": [
      "\u001b[1;31m---------------------------------------------------------------------------\u001b[0m",
      "\u001b[1;31mKeyboardInterrupt\u001b[0m                         Traceback (most recent call last)",
      "Cell \u001b[1;32mIn[2], line 67\u001b[0m\n\u001b[0;32m     65\u001b[0m \u001b[38;5;28mprint\u001b[39m(\u001b[38;5;124mf\u001b[39m\u001b[38;5;124m\"\u001b[39m\u001b[38;5;124m▶ \u001b[39m\u001b[38;5;132;01m{\u001b[39;00mindex\u001b[38;5;250m \u001b[39m\u001b[38;5;241m+\u001b[39m\u001b[38;5;250m \u001b[39m\u001b[38;5;241m1\u001b[39m\u001b[38;5;132;01m}\u001b[39;00m\u001b[38;5;124m번째 상품 크롤링: \u001b[39m\u001b[38;5;132;01m{\u001b[39;00mproduct_url\u001b[38;5;132;01m}\u001b[39;00m\u001b[38;5;124m\"\u001b[39m)\n\u001b[0;32m     66\u001b[0m driver\u001b[38;5;241m.\u001b[39mget(product_url)  \u001b[38;5;66;03m# 상품 페이지로 직접 이동\u001b[39;00m\n\u001b[1;32m---> 67\u001b[0m time\u001b[38;5;241m.\u001b[39msleep(\u001b[38;5;241m2\u001b[39m)  \u001b[38;5;66;03m# 상세 페이지 로딩 대기\u001b[39;00m\n\u001b[0;32m     69\u001b[0m \u001b[38;5;66;03m# 🔹 1. 상품 이름 가져오기\u001b[39;00m\n\u001b[0;32m     70\u001b[0m \u001b[38;5;28;01mtry\u001b[39;00m:\n",
      "\u001b[1;31mKeyboardInterrupt\u001b[0m: "
     ]
    }
   ],
   "source": [
    "import os\n",
    "import csv\n",
    "import requests\n",
    "import pandas as pd\n",
    "from selenium import webdriver\n",
    "from selenium.webdriver.common.by import By\n",
    "from selenium.webdriver.support.ui import WebDriverWait\n",
    "from selenium.webdriver.support import expected_conditions as EC\n",
    "import time\n",
    "\n",
    "# 저장할 폴더 생성\n",
    "image_folder = \"product_images\"\n",
    "if not os.path.exists(image_folder):\n",
    "    os.makedirs(image_folder)\n",
    "\n",
    "# CSV 파일 설정\n",
    "csv_filename = \"reviews.csv\"\n",
    "csv_columns = [\"상품 URL\", \"상품 이름\", \"리뷰 ID\", \"별점\", \"리뷰 내용\"]\n",
    "\n",
    "# CSV 파일 초기화 (첫 실행 시 헤더 작성)\n",
    "if not os.path.exists(csv_filename):\n",
    "    with open(csv_filename, \"w\", newline=\"\", encoding=\"utf-8-sig\") as f:\n",
    "        writer = csv.writer(f)\n",
    "        writer.writerow(csv_columns)\n",
    "\n",
    "# Chrome 드라이버 실행\n",
    "driver = webdriver.Chrome()\n",
    "\n",
    "# \"전체상품\" 페이지 열기\n",
    "base_url = 'https://www.mychef.kr/product/list?depth1=All'\n",
    "driver.get(base_url)\n",
    "\n",
    "# 페이지 로딩 대기\n",
    "time.sleep(3)\n",
    "\n",
    "page = 1  # 페이지 번호 초기화\n",
    "clicked_urls = set()  # 이미 크롤링한 상품의 URL을 추적할 set\n",
    "\n",
    "try:\n",
    "    while True:  # 페이지가 더 이상 없을 때까지 반복\n",
    "        print(f\"\\n🚀 {page} 페이지 크롤링 시작 🚀\")\n",
    "\n",
    "        while True:  # 상품 클릭 후 리스트를 다시 불러오기 위해 별도 루프\n",
    "            try:\n",
    "                # 현재 페이지의 상품 리스트 새로 가져오기\n",
    "                product_elements = WebDriverWait(driver, 10).until(\n",
    "                    EC.presence_of_all_elements_located((By.CSS_SELECTOR, \"a[href^='/product/view?productCd=']\"))\n",
    "                )\n",
    "                break  # 성공적으로 상품을 가져오면 반복문 탈출\n",
    "            except:\n",
    "                print(\"❌ 상품 목록을 불러오지 못했습니다. 다시 시도합니다.\")\n",
    "                time.sleep(2)\n",
    "\n",
    "        print(f\"✅ {page} 페이지에서 {len(product_elements)}개의 상품 발견\")\n",
    "\n",
    "        # 상품 URL 리스트 저장 (중복 클릭 방지)\n",
    "        product_urls = [product.get_attribute(\"href\") for product in product_elements]\n",
    "\n",
    "        for index, product_url in enumerate(product_urls):\n",
    "            if product_url in clicked_urls:\n",
    "                print(f\"🔴 이미 크롤링한 상품: {product_url} - 건너뜁니다.\")\n",
    "                continue  # 이미 크롤링한 상품은 건너뜁니다.\n",
    "\n",
    "            try:\n",
    "                print(f\"▶ {index + 1}번째 상품 크롤링: {product_url}\")\n",
    "                driver.get(product_url)  # 상품 페이지로 직접 이동\n",
    "                time.sleep(2)  # 상세 페이지 로딩 대기\n",
    "\n",
    "                # 🔹 1. 상품 이름 가져오기\n",
    "                try:\n",
    "                    product_name = WebDriverWait(driver, 5).until(\n",
    "                        EC.presence_of_element_located((By.CSS_SELECTOR, \".goods-tit\"))\n",
    "                    ).text.strip()\n",
    "                    print(f\"🛒 상품 이름: {product_name}\")\n",
    "                except:\n",
    "                    product_name = \"상품 이름 없음\"\n",
    "\n",
    "                # 🔹 2. 상품 이미지 저장\n",
    "                try:\n",
    "                    image_element = WebDriverWait(driver, 5).until(\n",
    "                        EC.presence_of_element_located((By.CSS_SELECTOR, \"img.lozad\"))\n",
    "                    )\n",
    "                    image_url = image_element.get_attribute(\"src\")\n",
    "\n",
    "                    if image_url:\n",
    "                        image_name = os.path.join(image_folder, f\"{index + 1}_image.jpg\")\n",
    "                        img_data = requests.get(image_url).content\n",
    "                        with open(image_name, \"wb\") as handler:\n",
    "                            handler.write(img_data)\n",
    "                        print(f\"🖼️ 이미지 저장 완료: {image_name}\")\n",
    "                except Exception as e:\n",
    "                    print(f\"❌ 이미지 저장 실패: {e}\")\n",
    "\n",
    "                # 🔹 3. 리뷰 ID, 내용, 별점 크롤링 후 CSV 저장\n",
    "                try:\n",
    "                    review_elements = driver.find_elements(By.CSS_SELECTOR, \"[name user-name]\")\n",
    "                    reviews = []\n",
    "\n",
    "                    for review_element in review_elements:\n",
    "                        # 리뷰 ID\n",
    "                        review_id = review_element.get_attribute(\"name user-name\")\n",
    "\n",
    "                        # 리뷰 내용\n",
    "                        try:\n",
    "                            review_text = review_element.find_element(By.CSS_SELECTOR, \".white-space:pre-wrap\").text.strip()\n",
    "                        except:\n",
    "                            review_text = \"내용 없음\"\n",
    "\n",
    "                        \n",
    "                        try:\n",
    "                            star_element = review_element.find_element(By.CSS_SELECTOR, \".pointReviewContent\")\n",
    "                            star_style = star_element.get_attribute(\"style\")  # 예: \"width:95px\"\n",
    "                            star_match = re.search(r'width:\\s*(\\d+)px', star_style)\n",
    "\n",
    "                            if star_match:\n",
    "                                star_width = int(star_match.group(1))  # 숫자만 추출\n",
    "                                star_rating = round(star_width / 20, 1)  # 19px = 1점\n",
    "                            else:\n",
    "                                star_rating = \"별점 없음\"\n",
    "                        except:\n",
    "                            star_rating = \"별점 없음\"\n",
    "\n",
    "                        reviews.append([product_url, product_name, review_id, star_rating, review_text])\n",
    "\n",
    "                    if reviews:\n",
    "                        # CSV 파일에 저장\n",
    "                        with open(csv_filename, \"a\", newline=\"\", encoding=\"utf-8-sig\") as f:\n",
    "                            writer = csv.writer(f)\n",
    "                            writer.writerows(reviews)\n",
    "\n",
    "                        for review in reviews:\n",
    "                            print(f\"💬 리뷰 저장: 상품={review[1]} | ID={review[2]} | ⭐ 별점={review[3]} | ✍ 내용={review[4]}\")\n",
    "                    else:\n",
    "                        print(\"💬 리뷰 없음\")\n",
    "\n",
    "                except Exception as e:\n",
    "                    print(f\"❌ 리뷰 크롤링 실패: {e}\")\n",
    "\n",
    "                clicked_urls.add(product_url)  # 크롤링 완료한 상품 URL 기록\n",
    "\n",
    "                driver.back()  # 다시 전체상품 페이지로 이동\n",
    "                time.sleep(2)  # 페이지 로딩 대기\n",
    "\n",
    "                # 🔥 상품 리스트 새로 가져오기 (중복 크롤링 방지)\n",
    "                while True:\n",
    "                    try:\n",
    "                        product_elements = WebDriverWait(driver, 10).until(\n",
    "                            EC.presence_of_all_elements_located((By.CSS_SELECTOR, \"a[href^='/product/view?productCd=']\"))\n",
    "                        )\n",
    "                        break  # 성공적으로 로딩되면 탈출\n",
    "                    except:\n",
    "                        print(\"🔄 상품 목록을 다시 불러오는 중...\")\n",
    "                        time.sleep(2)\n",
    "\n",
    "            except Exception as e:\n",
    "                print(f\"❌ 오류 발생: {e}\")\n",
    "                continue  # 다음 상품으로 진행\n",
    "\n",
    "        # 다음 페이지로 이동 (JavaScript 실행)\n",
    "        try:\n",
    "            page += 1  # 다음 페이지\n",
    "            driver.execute_script(f\"cmPageMove('{page}')\")  # JavaScript 실행\n",
    "            time.sleep(3)  # 페이지 로딩 대기\n",
    "        except:\n",
    "            print(\"❌ 더 이상 다음 페이지가 없습니다.\")\n",
    "            break  # 페이지가 없으면 종료\n",
    "\n",
    "except Exception as e:\n",
    "    print(\"❌ 크롤링 중 오류 발생:\", e)\n",
    "\n",
    "# 브라우저 종료\n",
    "driver.quit()\n"
   ]
  }
 ],
 "metadata": {
  "kernelspec": {
   "display_name": "Python 3 (ipykernel)",
   "language": "python",
   "name": "python3"
  },
  "language_info": {
   "codemirror_mode": {
    "name": "ipython",
    "version": 3
   },
   "file_extension": ".py",
   "mimetype": "text/x-python",
   "name": "python",
   "nbconvert_exporter": "python",
   "pygments_lexer": "ipython3",
   "version": "3.12.3"
  }
 },
 "nbformat": 4,
 "nbformat_minor": 5
}
