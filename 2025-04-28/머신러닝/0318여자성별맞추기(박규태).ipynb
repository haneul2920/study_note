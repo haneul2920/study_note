{
 "cells": [
  {
   "cell_type": "markdown",
   "id": "af258300-d464-46b0-8bf7-127c2b74f802",
   "metadata": {},
   "source": [
    "# 데이터 파악 후 결측치 제거"
   ]
  },
  {
   "cell_type": "code",
   "execution_count": 1,
   "id": "47833cfd-6d81-4fdf-a4fa-bf99752993be",
   "metadata": {},
   "outputs": [
    {
     "name": "stdout",
     "output_type": "stream",
     "text": [
      "custid       0\n",
      "gender       0\n",
      "총구매액         0\n",
      "구매건수         0\n",
      "평균구매가격       0\n",
      "평균할부개월수      0\n",
      "구매브랜드종류      0\n",
      "내점일수         0\n",
      "수입상품_구매비율    0\n",
      "주말방문비율       0\n",
      "가을_구매건수      0\n",
      "겨울_구매건수      0\n",
      "봄_구매건수       0\n",
      "여름_구매건수      0\n",
      "아침_구매건수      0\n",
      "저녁_구매건수      0\n",
      "점심_구매건수      0\n",
      "주구매코너        0\n",
      "dtype: int64\n"
     ]
    }
   ],
   "source": [
    "import pandas as pd\n",
    "from sklearn.impute import SimpleImputer\n",
    "\n",
    "data = pd.read_csv(\"data/train.csv\", encoding=\"cp949\")\n",
    "\n",
    "int_columns = data.select_dtypes(include='float64').columns\n",
    "imputer = SimpleImputer(strategy='mean')\n",
    "data[int_columns] = imputer.fit_transform(data[int_columns])\n",
    "\n",
    "print(data.isnull().sum())"
   ]
  },
  {
   "cell_type": "markdown",
   "id": "be813abb-f890-4bc3-9c90-be257a7e3fb1",
   "metadata": {},
   "source": [
    "# 문자형데이터를 수치형데이터로 변환"
   ]
  },
  {
   "cell_type": "code",
   "execution_count": 3,
   "id": "b99484a8-845d-40dc-8693-42c939bb91d2",
   "metadata": {},
   "outputs": [
    {
     "data": {
      "text/plain": [
       "주말방문비율\n",
       "0.0      440\n",
       "50.0     345\n",
       "33.3     264\n",
       "100.0    234\n",
       "25.0     190\n",
       "        ... \n",
       "52.1       1\n",
       "29.7       1\n",
       "40.5       1\n",
       "54.2       1\n",
       "78.3       1\n",
       "Name: count, Length: 459, dtype: int64"
      ]
     },
     "execution_count": 3,
     "metadata": {},
     "output_type": "execute_result"
    }
   ],
   "source": [
    "from sklearn.preprocessing import LabelEncoder as LE\n",
    "categorical_columns = [\"주구매코너\"]\n",
    "\n",
    "lebel = LE()\n",
    "for column in categorical_columns:\n",
    "    data[column] = lebel.fit_transform(data[column])\n",
    "\n",
    "data.head(5)\n",
    "data[\"주말방문비율\"].value_counts()"
   ]
  },
  {
   "cell_type": "markdown",
   "id": "329dad61-4450-4712-96ae-cd84ada5e3db",
   "metadata": {},
   "source": [
    "# 남자데이터 업 샘플링"
   ]
  },
  {
   "cell_type": "code",
   "execution_count": 5,
   "id": "ea4ff9fc-3a5c-4854-a0b8-58faf4f3a7ef",
   "metadata": {},
   "outputs": [
    {
     "name": "stdout",
     "output_type": "stream",
     "text": [
      "gender\n",
      "0    3479\n",
      "1    3479\n",
      "Name: count, dtype: int64\n"
     ]
    }
   ],
   "source": [
    "from sklearn.utils import resample\n",
    "men_data = data[data['gender'] == 1]\n",
    "\n",
    "men_data_upsampled = resample(men_data, \n",
    "                               replace=True,    \n",
    "                               n_samples=3479,   \n",
    "                               random_state=42)  \n",
    "\n",
    "women_data = data[data['gender'] == 0]\n",
    "\n",
    "balanced_data = pd.concat([men_data_upsampled, women_data], axis=0)\n",
    "\n",
    "balanced_data = balanced_data.sample(frac=1, random_state=42).reset_index(drop=True)\n",
    "\n",
    "print(balanced_data['gender'].value_counts())\n"
   ]
  },
  {
   "cell_type": "code",
   "execution_count": 7,
   "id": "57b5cdbe-b4ee-4c6a-a967-bddffa7ff545",
   "metadata": {},
   "outputs": [
    {
     "name": "stdout",
     "output_type": "stream",
     "text": [
      "gender       1.000000\n",
      "custid       0.298257\n",
      "아침_구매건수      0.110708\n",
      "총구매액         0.107826\n",
      "점심_구매건수      0.107252\n",
      "구매건수         0.106457\n",
      "여름_구매건수      0.093124\n",
      "내점일수         0.092170\n",
      "구매브랜드종류      0.091867\n",
      "가을_구매건수      0.091127\n",
      "봄_구매건수       0.077215\n",
      "평균구매가격       0.077212\n",
      "겨울_구매건수      0.071596\n",
      "주말방문비율       0.021780\n",
      "저녁_구매건수     -0.013856\n",
      "평균할부개월수     -0.014801\n",
      "수입상품_구매비율   -0.022997\n",
      "주구매코너       -0.037081\n",
      "Name: gender, dtype: float64\n"
     ]
    }
   ],
   "source": [
    "correlation_matrix = balanced_data.corr()\n",
    "gender_correlation = correlation_matrix[\"gender\"].sort_values(ascending=False)\n",
    "\n",
    "# 결과 출력\n",
    "print(gender_correlation)\n"
   ]
  },
  {
   "cell_type": "code",
   "execution_count": null,
   "id": "960d8706-426f-466a-b37f-11f1dd5b8f47",
   "metadata": {},
   "outputs": [],
   "source": []
  },
  {
   "cell_type": "markdown",
   "id": "d230a4e4-ea6e-4ed1-8aec-7fea79785299",
   "metadata": {},
   "source": [
    "# train_test_split"
   ]
  },
  {
   "cell_type": "code",
   "execution_count": 9,
   "id": "fd7e67c4-a05c-4ca9-8245-e404eb4398a9",
   "metadata": {},
   "outputs": [],
   "source": [
    "from sklearn.model_selection import train_test_split\n",
    "from sklearn.metrics import accuracy_score\n",
    "\n",
    "X = balanced_data.drop([\"custid\", \"gender\", \"주말방문비율\"], axis=1)\n",
    "\n",
    "Y = balanced_data[\"gender\"]\n",
    "\n",
    "X_train, X_test, Y_train, Y_test = train_test_split(X, Y, test_size=0.2, random_state=42)\n",
    "\n"
   ]
  },
  {
   "cell_type": "markdown",
   "id": "46591af7-3f91-4b55-8283-0697cf8b5810",
   "metadata": {},
   "source": [
    "# 랜덤포레스트"
   ]
  },
  {
   "cell_type": "code",
   "execution_count": 11,
   "id": "bfae7884-262a-4920-a437-d4ceecf5ea78",
   "metadata": {},
   "outputs": [
    {
     "data": {
      "text/plain": [
       "0.8879310344827587"
      ]
     },
     "execution_count": 11,
     "metadata": {},
     "output_type": "execute_result"
    }
   ],
   "source": [
    "from sklearn.ensemble import RandomForestClassifier as rfc\n",
    "\n",
    "rf_model = rfc(n_estimators = 100 , random_state = 42)\n",
    "rf_model = rf_model.fit(X_train , Y_train)\n",
    "Y_pred_rf = rf_model.predict(X_test)\n",
    "accuracy_rf = accuracy_score(Y_test , Y_pred_rf)\n",
    "accuracy_rf"
   ]
  },
  {
   "cell_type": "markdown",
   "id": "0eb18463-8720-4f00-a743-6a904b62a0ae",
   "metadata": {},
   "source": [
    "# SVM"
   ]
  },
  {
   "cell_type": "code",
   "execution_count": 13,
   "id": "05014915-12e4-492e-b119-6fe90e6d3cc4",
   "metadata": {},
   "outputs": [
    {
     "data": {
      "text/plain": [
       "0.5272988505747126"
      ]
     },
     "execution_count": 13,
     "metadata": {},
     "output_type": "execute_result"
    }
   ],
   "source": [
    "from sklearn.svm import SVC\n",
    "\n",
    "svm_model = SVC(random_state=42)\n",
    "svm_model.fit(X_train, Y_train)\n",
    "\n",
    "Y_pred_svm = svm_model.predict(X_test)\n",
    "\n",
    "accuracy_svm = accuracy_score(Y_test, Y_pred_svm)\n",
    "accuracy_svm"
   ]
  },
  {
   "cell_type": "markdown",
   "id": "cd8495da-9eb9-4daa-a9b1-154f2a5975c5",
   "metadata": {},
   "source": [
    "# K 근접 이웃"
   ]
  },
  {
   "cell_type": "code",
   "execution_count": 15,
   "id": "36a13611-0f54-48c2-9695-6b2b29ba6ddd",
   "metadata": {},
   "outputs": [
    {
     "data": {
      "text/plain": [
       "0.6408045977011494"
      ]
     },
     "execution_count": 15,
     "metadata": {},
     "output_type": "execute_result"
    }
   ],
   "source": [
    "from sklearn.neighbors import KNeighborsClassifier\n",
    "\n",
    "knn_model = KNeighborsClassifier(n_neighbors=5)  # k값을 3으로 설정\n",
    "knn_model.fit(X_train, Y_train)\n",
    "\n",
    "Y_pred_knn = knn_model.predict(X_test)\n",
    "\n",
    "# 정확도 계산\n",
    "accuracy_knn = accuracy_score(Y_test, Y_pred_knn)\n",
    "\n",
    "accuracy_knn\n"
   ]
  },
  {
   "cell_type": "markdown",
   "id": "a1456f41-e155-49e2-a936-8c2a85be2694",
   "metadata": {},
   "source": [
    "# 크로스 벨리데이션 / 랜덤포레스트"
   ]
  },
  {
   "cell_type": "code",
   "execution_count": 17,
   "id": "f43510d6-ecd2-457b-8912-1ebb7a769063",
   "metadata": {},
   "outputs": [
    {
     "data": {
      "text/plain": [
       "array([0.82944345, 0.80233603, 0.82749326, 0.84456424, 0.8230009 ])"
      ]
     },
     "execution_count": 17,
     "metadata": {},
     "output_type": "execute_result"
    }
   ],
   "source": [
    "from sklearn.model_selection import cross_val_score\n",
    "\n",
    "model = rfc()\n",
    "\n",
    "scores = cross_val_score(model, X_train, Y_train ,  cv=5)  \n",
    "scores"
   ]
  },
  {
   "cell_type": "markdown",
   "id": "db2ec180-88cf-410c-9165-d833113a518c",
   "metadata": {},
   "source": [
    "# 크로스 벨리데이션 / k근접 이웃"
   ]
  },
  {
   "cell_type": "code",
   "execution_count": 18,
   "id": "ffcb84b2-a88d-48a1-980f-f633e9f5ca0a",
   "metadata": {},
   "outputs": [
    {
     "data": {
      "text/plain": [
       "array([0.62387792, 0.63432165, 0.60197664, 0.62713387, 0.60017969])"
      ]
     },
     "execution_count": 18,
     "metadata": {},
     "output_type": "execute_result"
    }
   ],
   "source": [
    "model = KNeighborsClassifier()\n",
    "\n",
    "scores = cross_val_score(model, X_train, Y_train ,  cv=5)  \n",
    "scores"
   ]
  },
  {
   "cell_type": "markdown",
   "id": "60cb391e-3c4d-4ff2-9b36-d21886769b42",
   "metadata": {},
   "source": [
    "# ShuffleSplit(무작위 분할)"
   ]
  },
  {
   "cell_type": "code",
   "execution_count": 21,
   "id": "7e9c3318-3c73-4ee1-ab6b-b2954b11e3f0",
   "metadata": {},
   "outputs": [
    {
     "data": {
      "text/plain": [
       "0.832854578096948"
      ]
     },
     "execution_count": 21,
     "metadata": {},
     "output_type": "execute_result"
    }
   ],
   "source": [
    "from sklearn.model_selection import ShuffleSplit\n",
    "model = rfc()\n",
    "sscv = ShuffleSplit(test_size=.2, train_size=.8, n_splits=10)\n",
    "scores = cross_val_score(model, X_train, Y_train, cv=sscv)\n",
    "scores.mean()"
   ]
  },
  {
   "cell_type": "code",
   "execution_count": 22,
   "id": "368e76fc-9c5d-4e18-84d3-1e5c95567227",
   "metadata": {},
   "outputs": [
    {
     "data": {
      "text/plain": [
       "0.5649012567324955"
      ]
     },
     "execution_count": 22,
     "metadata": {},
     "output_type": "execute_result"
    }
   ],
   "source": [
    "from sklearn.model_selection import ShuffleSplit\n",
    "model = SVC()\n",
    "sscv = ShuffleSplit(test_size=.2, train_size=.8, n_splits=10)\n",
    "scores = cross_val_score(model, X_train, Y_train, cv=sscv)\n",
    "scores.mean()"
   ]
  },
  {
   "cell_type": "markdown",
   "id": "260a12e9-c9b1-4214-9e03-76bbc357ac85",
   "metadata": {},
   "source": [
    "# 정밀도 재현율도 봐보기"
   ]
  },
  {
   "cell_type": "code",
   "execution_count": 23,
   "id": "7634bb48-51ce-4f21-973e-c99d938b37bd",
   "metadata": {},
   "outputs": [
    {
     "name": "stdout",
     "output_type": "stream",
     "text": [
      "              precision    recall  f1-score   support\n",
      "\n",
      "           0       0.89      0.88      0.89       695\n",
      "           1       0.88      0.90      0.89       697\n",
      "\n",
      "    accuracy                           0.89      1392\n",
      "   macro avg       0.89      0.89      0.89      1392\n",
      "weighted avg       0.89      0.89      0.89      1392\n",
      "\n"
     ]
    }
   ],
   "source": [
    "from sklearn.ensemble import RandomForestClassifier as rfc\n",
    "from sklearn.metrics import classification_report\n",
    "rf_model = rfc(n_estimators = 100 , random_state = 42)\n",
    "rf_model = rf_model.fit(X_train , Y_train)\n",
    "Y_pred_rf = rf_model.predict(X_test)\n",
    "accuracy_rf = accuracy_score(Y_test , Y_pred_rf)\n",
    "\n",
    "# 정밀도, 재현율, F1-score 출력\n",
    "print(classification_report(Y_test, Y_pred_rf))\n"
   ]
  },
  {
   "cell_type": "markdown",
   "id": "912723d2-d226-4abf-b566-a984ed11df48",
   "metadata": {},
   "source": [
    "### 1. 데이터 파악\n",
    "### 2. 결측치 확인 후 제거 or 변환 \n",
    "### 3. 머신러닝을 하기위해선 문자형을 수치형으로 전환\n",
    "### 4. 예측하고자하는 것에 비율이 맞지않다면 업샘플링 혹은 다른 방법을 생각 (ex 성별)\n",
    "### 5. 머신러닝방법을 선택 (ex train_test , cross Validation )\n",
    "### 6. 하이퍼파라미터 조절\n",
    "### 7. 정확도 정밀도 재현율 f1 - score 보고 최적의 알고리즘 찾기"
   ]
  }
 ],
 "metadata": {
  "kernelspec": {
   "display_name": "Python 3 (ipykernel)",
   "language": "python",
   "name": "python3"
  },
  "language_info": {
   "codemirror_mode": {
    "name": "ipython",
    "version": 3
   },
   "file_extension": ".py",
   "mimetype": "text/x-python",
   "name": "python",
   "nbconvert_exporter": "python",
   "pygments_lexer": "ipython3",
   "version": "3.12.3"
  }
 },
 "nbformat": 4,
 "nbformat_minor": 5
}
