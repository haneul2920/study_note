{
 "cells": [
  {
   "cell_type": "markdown",
   "metadata": {},
   "source": [
    "# SSD 모델로 객체 검출\n",
    "- Single Shot Detection 방식을 사용해 객체를 검출\n",
    "- 20개의 클래스를 지원하며, 차량 충돌 경고와 같은 장면의 객체를 찾는 \n",
    "-  컴퓨터 애플리케이션에서 많이 사용\n",
    "- 상세한 내용은 https://arxiv.org/abs/1512.02325"
   ]
  },
  {
   "cell_type": "code",
   "execution_count": 6,
   "metadata": {},
   "outputs": [
    {
     "name": "stdout",
     "output_type": "stream",
     "text": [
      "Collecting opencv-python\n",
      "  Downloading opencv_python-4.11.0.86-cp37-abi3-win_amd64.whl.metadata (20 kB)\n",
      "Requirement already satisfied: numpy>=1.21.2 in c:\\anaconda\\lib\\site-packages (from opencv-python) (1.26.4)\n",
      "Downloading opencv_python-4.11.0.86-cp37-abi3-win_amd64.whl (39.5 MB)\n",
      "   ---------------------------------------- 0.0/39.5 MB ? eta -:--:--\n",
      "   --------------------- ------------------ 21.5/39.5 MB 104.6 MB/s eta 0:00:01\n",
      "   ---------------------------------------  39.3/39.5 MB 104.2 MB/s eta 0:00:01\n",
      "   ---------------------------------------- 39.5/39.5 MB 80.9 MB/s eta 0:00:00\n",
      "Installing collected packages: opencv-python\n",
      "Successfully installed opencv-python-4.11.0.86\n"
     ]
    }
   ],
   "source": [
    "!pip install opencv-python"
   ]
  },
  {
   "cell_type": "code",
   "execution_count": 22,
   "metadata": {},
   "outputs": [],
   "source": [
    "import cv2\n",
    "import numpy as np"
   ]
  },
  {
   "cell_type": "code",
   "execution_count": 23,
   "metadata": {},
   "outputs": [],
   "source": [
    "model = cv2.dnn.readNetFromCaffe('./data/MobileNetSSD_deploy.prototxt',\n",
    "                                 './data/MobileNetSSD_deploy.caffemodel')"
   ]
  },
  {
   "cell_type": "code",
   "execution_count": 17,
   "metadata": {},
   "outputs": [],
   "source": [
    "CONF_THR = 0.3\n",
    "LABELS = {1: 'aeroplane', 2: 'bicycle', 3: 'bird', 4: 'boat',\n",
    "          5: 'bottle', 6: 'bus', 7: 'car', 8: 'cat', 9: 'chair',\n",
    "          10: 'cow', 11: 'diningtable', 12: 'dog', 13: 'horse',\n",
    "          14: 'motorbike', 15: 'person', 16: 'pottedplant',\n",
    "          17: 'sheep', 18: 'sofa', 19: 'train', 20: 'tvmonitor'}"
   ]
  },
  {
   "cell_type": "code",
   "execution_count": 20,
   "metadata": {},
   "outputs": [
    {
     "ename": "KeyboardInterrupt",
     "evalue": "",
     "output_type": "error",
     "traceback": [
      "\u001b[1;31m---------------------------------------------------------------------------\u001b[0m",
      "\u001b[1;31mKeyboardInterrupt\u001b[0m                         Traceback (most recent call last)",
      "Cell \u001b[1;32mIn[20], line 16\u001b[0m\n\u001b[0;32m     13\u001b[0m blob \u001b[38;5;241m=\u001b[39m cv2\u001b[38;5;241m.\u001b[39mdnn\u001b[38;5;241m.\u001b[39mblobFromImage(frame, \u001b[38;5;241m1\u001b[39m\u001b[38;5;241m/\u001b[39m\u001b[38;5;241m127.5\u001b[39m, (\u001b[38;5;241m300\u001b[39m\u001b[38;5;241m*\u001b[39mw\u001b[38;5;241m/\u001b[39m\u001b[38;5;241m/\u001b[39mh,\u001b[38;5;241m300\u001b[39m),\n\u001b[0;32m     14\u001b[0m                              (\u001b[38;5;241m127.5\u001b[39m,\u001b[38;5;241m127.5\u001b[39m,\u001b[38;5;241m127.5\u001b[39m), \u001b[38;5;28;01mFalse\u001b[39;00m)\n\u001b[0;32m     15\u001b[0m model\u001b[38;5;241m.\u001b[39msetInput(blob)\n\u001b[1;32m---> 16\u001b[0m output \u001b[38;5;241m=\u001b[39m model\u001b[38;5;241m.\u001b[39mforward()\n\u001b[0;32m     18\u001b[0m \u001b[38;5;28;01mfor\u001b[39;00m i \u001b[38;5;129;01min\u001b[39;00m \u001b[38;5;28mrange\u001b[39m(output\u001b[38;5;241m.\u001b[39mshape[\u001b[38;5;241m2\u001b[39m]):\n\u001b[0;32m     19\u001b[0m     conf \u001b[38;5;241m=\u001b[39m output[\u001b[38;5;241m0\u001b[39m,\u001b[38;5;241m0\u001b[39m,i,\u001b[38;5;241m2\u001b[39m]\n",
      "\u001b[1;31mKeyboardInterrupt\u001b[0m: "
     ]
    }
   ],
   "source": [
    "#video = cv2.VideoCapture('../data/traffic.mp4')\n",
    "#video = cv2.VideoCapture('../data/BigdataClass.mp4')\n",
    "#video = cv2.VideoCapture('../data/설날.mp4')\n",
    "#video = cv2.VideoCapture('../data/lecture_1106.mp4')\n",
    "#video = cv2.VideoCapture('../data/야간반.mp4')\n",
    "video = cv2.VideoCapture('./data/코리아IT.mp4')\n",
    "c=0\n",
    "while True:\n",
    "    ret, frame = video.read()\n",
    "    if not ret: break\n",
    "        \n",
    "    h, w = frame.shape[0:2]\n",
    "    blob = cv2.dnn.blobFromImage(frame, 1/127.5, (300*w//h,300),\n",
    "                                 (127.5,127.5,127.5), False)\n",
    "    model.setInput(blob)\n",
    "    output = model.forward()\n",
    "    \n",
    "    for i in range(output.shape[2]):\n",
    "        conf = output[0,0,i,2]\n",
    "        if conf > CONF_THR:\n",
    "            label = output[0,0,i,1]\n",
    "            x0,y0,x1,y1 = (output[0,0,i,3:7] * [w,h,w,h]).astype(int)\n",
    "            cv2.rectangle(frame, (x0,y0), (x1,y1), (0,255,0), 2)\n",
    "            cv2.putText(frame, '{}: {:.2f}'.format(LABELS[label], conf), \n",
    "                        (x0,y0), cv2.FONT_HERSHEY_SIMPLEX, 1, (0,255,0), 2)\n",
    "    \n",
    "    c += 1\n",
    "    if c == 100:\n",
    "        cv2.imwrite('/home/alexeysp/projects/recipes/figures/ch5_car_detections.png', frame)\n",
    "    \n",
    "    cv2.imshow('frame', frame)\n",
    "    key = cv2.waitKey(3)\n",
    "    if key == 27: break\n",
    "        \n",
    "cv2.destroyAllWindows()"
   ]
  },
  {
   "cell_type": "code",
   "execution_count": null,
   "metadata": {},
   "outputs": [],
   "source": []
  },
  {
   "cell_type": "code",
   "execution_count": null,
   "metadata": {},
   "outputs": [],
   "source": []
  }
 ],
 "metadata": {
  "kernelspec": {
   "display_name": "Python 3 (ipykernel)",
   "language": "python",
   "name": "python3"
  },
  "language_info": {
   "codemirror_mode": {
    "name": "ipython",
    "version": 3
   },
   "file_extension": ".py",
   "mimetype": "text/x-python",
   "name": "python",
   "nbconvert_exporter": "python",
   "pygments_lexer": "ipython3",
   "version": "3.12.3"
  }
 },
 "nbformat": 4,
 "nbformat_minor": 4
}
