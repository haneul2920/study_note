{
 "cells": [
  {
   "cell_type": "markdown",
   "id": "00539936-247c-4c51-808a-8898a690b1d7",
   "metadata": {},
   "source": [
    "## 기본 문제 (1~10)\n",
    "1. numpy를 사용하여 [10, 20, 30, 40, 50] 배열을 생성하고 출력하는 코드를 작성하세요.\n",
    "2. 2x3 크기의 배열을 만들고 모든 요소가 0으로 채워지도록 작성하세요.\n",
    "3. 3x3 크기의 배열을 만들고 모든 요소가 1로 채워지도록 작성하세요.\n",
    "4. 1부터 20까지의 연속된 숫자로 배열을 생성하는 코드를 작성하세요.\n",
    "5. 0부터 10까지 5개의 균등한 간격을 갖는 숫자로 배열을 생성하세요.\n",
    "6. 3x3 크기의 난수 배열을 생성하고 출력하는 코드를 작성하세요. (0~1 사이)\n",
    "7. np.array([5, 10, 15]) 배열의 모든 요소를 3배 하는 코드를 작성하세요.\n",
    "8. np.array([2, 4, 6, 8, 10])에서 최대값과 최소값을 구하세요.\n",
    "9. np.array([10, 20, 30, 40]) 배열을 2x2 형태로 변경하세요.\n",
    "10. np.array([10, 20, 30, 40, 50])에서 20보다 큰 값만 선택하는 코드를 작성하세요."
   ]
  },
  {
   "cell_type": "code",
   "execution_count": 2,
   "id": "3cdb5f00-be3e-43ec-bc7e-32ee53a5e1ce",
   "metadata": {},
   "outputs": [
    {
     "name": "stdout",
     "output_type": "stream",
     "text": [
      "[10 20 30 40 50]\n"
     ]
    }
   ],
   "source": [
    "import numpy as np\n",
    "arr1 = np.array([10,20,30,40,50])\n",
    "print(arr1)"
   ]
  },
  {
   "cell_type": "code",
   "execution_count": 3,
   "id": "e49cefda-9ccf-448f-bbf8-6b3ed91ff0c6",
   "metadata": {},
   "outputs": [
    {
     "data": {
      "text/plain": [
       "array([[0., 0., 0.],\n",
       "       [0., 0., 0.]])"
      ]
     },
     "execution_count": 3,
     "metadata": {},
     "output_type": "execute_result"
    }
   ],
   "source": [
    "np.zeros((2,3))"
   ]
  },
  {
   "cell_type": "code",
   "execution_count": 5,
   "id": "66c0b6a2-96b7-4cb2-8fda-815782842771",
   "metadata": {},
   "outputs": [
    {
     "data": {
      "text/plain": [
       "array([[1, 1, 1],\n",
       "       [1, 1, 1],\n",
       "       [1, 1, 1]])"
      ]
     },
     "execution_count": 5,
     "metadata": {},
     "output_type": "execute_result"
    }
   ],
   "source": [
    "np.ones((3,3), dtype=int)"
   ]
  },
  {
   "cell_type": "code",
   "execution_count": 7,
   "id": "46c1471c-50f8-46a8-b9a0-1f15ee4a30d6",
   "metadata": {},
   "outputs": [
    {
     "data": {
      "text/plain": [
       "array([ 1,  2,  3,  4,  5,  6,  7,  8,  9, 10])"
      ]
     },
     "execution_count": 7,
     "metadata": {},
     "output_type": "execute_result"
    }
   ],
   "source": [
    "np.arange(1, 11, 1)"
   ]
  },
  {
   "cell_type": "markdown",
   "id": "1bbec43e-b414-499a-83f2-f81e94b4471f",
   "metadata": {},
   "source": [
    "np.linspace(0, 10, 5)"
   ]
  },
  {
   "cell_type": "code",
   "execution_count": 15,
   "id": "b10eeb31-412a-4147-94b0-aebcae2645cc",
   "metadata": {},
   "outputs": [
    {
     "name": "stdout",
     "output_type": "stream",
     "text": [
      "[[ 0.3329489   1.10456696 -2.98830002]\n",
      " [-0.24932324  0.03981514 -0.80161684]\n",
      " [-0.37756852 -0.06151685 -0.36318762]]\n"
     ]
    }
   ],
   "source": [
    "arr2 = np.random.normal(0,1,(3,3))\n",
    "print(arr2)"
   ]
  },
  {
   "cell_type": "code",
   "execution_count": 21,
   "id": "2d82570c-1b79-448e-918f-dbea8af499a6",
   "metadata": {},
   "outputs": [
    {
     "name": "stdout",
     "output_type": "stream",
     "text": [
      "[15 30 45]\n"
     ]
    }
   ],
   "source": [
    "arr4 = np.array([5, 10, 15])\n",
    "result = arr4 * 3\n",
    "print(result)"
   ]
  },
  {
   "cell_type": "code",
   "execution_count": 18,
   "id": "3ceb01eb-1dba-4da0-a1a0-dac8e24c5a0f",
   "metadata": {},
   "outputs": [
    {
     "name": "stdout",
     "output_type": "stream",
     "text": [
      "2\n",
      "10\n"
     ]
    }
   ],
   "source": [
    "arr3 = np.array([2,4,6,8,10])\n",
    "print(np.min(arr3))\n",
    "print(np.max(arr3))"
   ]
  },
  {
   "cell_type": "code",
   "execution_count": 20,
   "id": "44f395eb-beab-4320-8da1-eeed02dc1da9",
   "metadata": {},
   "outputs": [
    {
     "name": "stdout",
     "output_type": "stream",
     "text": [
      "[10 20 30 40]\n"
     ]
    }
   ],
   "source": [
    "arr4 = np.array([10, 20, 30, 40])\n",
    "print(arr4)"
   ]
  },
  {
   "cell_type": "code",
   "execution_count": 23,
   "id": "e8b5b2fa-aa81-4c77-baef-9370dbe49aa8",
   "metadata": {},
   "outputs": [
    {
     "data": {
      "text/plain": [
       "array([[10, 20],\n",
       "       [30, 40]])"
      ]
     },
     "execution_count": 23,
     "metadata": {},
     "output_type": "execute_result"
    }
   ],
   "source": [
    "x = np.array([10, 20, 30, 40])\n",
    "x.reshape(2,2)"
   ]
  },
  {
   "cell_type": "code",
   "execution_count": 26,
   "id": "fc59df90-0e3e-49a3-9aec-6eb241a842b2",
   "metadata": {},
   "outputs": [
    {
     "data": {
      "text/plain": [
       "array([30, 40, 50])"
      ]
     },
     "execution_count": 26,
     "metadata": {},
     "output_type": "execute_result"
    }
   ],
   "source": [
    "arr5 = np.array([10, 20, 30, 40, 50])\n",
    "arr5[arr5 > 20]"
   ]
  },
  {
   "cell_type": "markdown",
   "id": "f258f014-ddb9-4aca-bc97-61825b0d6bde",
   "metadata": {},
   "source": [
    "## 심화 문제 (11~20)\n",
    "\n",
    "11. 3x3 크기의 정규 분포 난수 배열을 생성하는 코드를 작성하세요. (평균 0, 표준편차 1)\n",
    "12. 3x3 배열에서 행별 합계와 열별 합계를 구하는 코드를 작성하세요.\n",
    "13. 4x4 배열을 생성하고, 중앙의 2x2 부분을 슬라이싱하여 출력하세요.\n",
    "14. np.array([3, 6, 9, 12, 15])에서 값이 6보다 큰 요소를 모두 -1로 바꾸세요.\n",
    "15. 2x2 행렬 두 개를 생성하고, 행렬 곱셈을 수행하는 코드를 작성하세요.\n",
    "16. np.array([4, 1, 7, 2, 5]) 배열을 오름차순으로 정렬하는 코드를 작성하세요.\n",
    "17. np.array([1, 2, 2, 3, 3, 3, 4, 5])에서 중복을 제거하고 고유한 값만 남기세요.\n",
    "18. np.array([10, 20, 30])를 2차원 배열로 변환하세요. (3x1 형태)\n",
    "19. 각도 배열 [0, 30, 45, 60, 90](단위: 도)를 라디안 단위로 변환한 후 sin, cos, tan 값을 계산하세요.\n",
    "20. 난수를 생성할 때 매번 같은 결과가 나오도록 하는 방법을 설명하고, 예제 코드를 작성하세요."
   ]
  },
  {
   "cell_type": "markdown",
   "id": "a5a59433-0cb5-4f85-a920-b40a4aaa0229",
   "metadata": {},
   "source": [
    "## Pandas\n",
    "### 데이터 프레임"
   ]
  },
  {
   "cell_type": "code",
   "execution_count": 28,
   "id": "085b3eec-8252-4065-8ccd-bf78a4c656ff",
   "metadata": {},
   "outputs": [],
   "source": [
    "import pandas as pd\n"
   ]
  },
  {
   "cell_type": "code",
   "execution_count": null,
   "id": "2fc96dea-94fd-4cc0-80bc-bfae071911b7",
   "metadata": {},
   "outputs": [],
   "source": []
  }
 ],
 "metadata": {
  "kernelspec": {
   "display_name": "Python 3 (ipykernel)",
   "language": "python",
   "name": "python3"
  },
  "language_info": {
   "codemirror_mode": {
    "name": "ipython",
    "version": 3
   },
   "file_extension": ".py",
   "mimetype": "text/x-python",
   "name": "python",
   "nbconvert_exporter": "python",
   "pygments_lexer": "ipython3",
   "version": "3.12.7"
  }
 },
 "nbformat": 4,
 "nbformat_minor": 5
}
