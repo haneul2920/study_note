{
 "cells": [
  {
   "cell_type": "markdown",
   "metadata": {},
   "source": [
    "## 만들어진 모델을 활용한 음식 분류기"
   ]
  },
  {
   "cell_type": "code",
   "execution_count": 1,
   "metadata": {},
   "outputs": [],
   "source": [
    "import sys, os\n",
    "from keras.models import Sequential\n",
    "from keras.layers import Convolution2D, MaxPooling2D\n",
    "from keras.layers import Activation, Dropout, Flatten, Dense\n",
    "#from keras.utils import np_utils\n",
    "from tensorflow.keras.utils import to_categorical \n",
    "from keras.models import load_model\n",
    "from PIL import Image\n",
    "import numpy as np"
   ]
  },
  {
   "cell_type": "code",
   "execution_count": 2,
   "metadata": {},
   "outputs": [],
   "source": [
    "# 테스트 이미지 목록 (1)\n",
    "image_files = [\"../data/test/smoke12.png\",\n",
    "              \"../data/test/smoke13.png\",\n",
    "              \"../data/test/smokeee.png\",\n",
    "              \"../data/test/smokeee1.png\",\n",
    "              \"../data/test/smokeee3.png\",\n",
    "              \"../data/test/smokeee4.png\",\n",
    "              \"../data/test/산불1.jpg\",\n",
    "              \"../data/test/산불2.jpg\",\n",
    "              \"../data/test/산불3.jpg\",\n",
    "              \"../data/test/산불4.jpg\",\n",
    "              \"../data/test/normal1.jpg\",\n",
    "               \"../data/test/normal2.jpg\",\n",
    "               \"../data/test/normal3.jpg\",\n",
    "              ]\n",
    "\n",
    "image_size = 256\n",
    "nb_classes = len(image_files)\n",
    "categories = [\"fire\", \"smoke\"]"
   ]
  },
  {
   "cell_type": "code",
   "execution_count": 3,
   "metadata": {},
   "outputs": [],
   "source": [
    "X = []\n",
    "files = []\n",
    "# 이미지 불러오기 (2)\n",
    "for fname in image_files:\n",
    "    img = Image.open(fname)\n",
    "    img = img.convert(\"RGB\")\n",
    "    img = img.resize((image_size, image_size))\n",
    "    in_data = np.asarray(img)\n",
    "    in_data = in_data.astype(\"float32\") / 256\n",
    "    X.append(in_data)\n",
    "    files.append(fname)\n",
    "\n",
    "X = np.array(X)"
   ]
  },
  {
   "cell_type": "code",
   "execution_count": 4,
   "metadata": {},
   "outputs": [
    {
     "name": "stderr",
     "output_type": "stream",
     "text": [
      "WARNING:absl:Compiled the loaded model, but the compiled metrics have yet to be built. `model.compile_metrics` will be empty until you train or evaluate the model.\n"
     ]
    }
   ],
   "source": [
    "# 모델 파일 읽어오기  (3)\n",
    "model = load_model('../data/fire_surveillance_model.h5')"
   ]
  },
  {
   "cell_type": "code",
   "execution_count": 5,
   "metadata": {},
   "outputs": [
    {
     "name": "stdout",
     "output_type": "stream",
     "text": [
      "\u001b[1m1/1\u001b[0m \u001b[32m━━━━━━━━━━━━━━━━━━━━\u001b[0m\u001b[37m\u001b[0m \u001b[1m0s\u001b[0m 164ms/step\n"
     ]
    }
   ],
   "source": [
    "# 예측 실행  (4)\n",
    "pre = model.predict(X)"
   ]
  },
  {
   "cell_type": "code",
   "execution_count": 6,
   "metadata": {},
   "outputs": [
    {
     "name": "stdout",
     "output_type": "stream",
     "text": [
      "입력: ../data/test/smoke12.png\n",
      "예측: [ 0 ] fire / Score 0.8096523\n",
      "입력: ../data/test/smoke13.png\n",
      "예측: [ 0 ] fire / Score 0.9052228\n",
      "입력: ../data/test/smokeee.png\n",
      "예측: [ 0 ] fire / Score 0.9561599\n",
      "입력: ../data/test/smokeee1.png\n",
      "예측: [ 0 ] fire / Score 0.857859\n",
      "입력: ../data/test/smokeee3.png\n",
      "예측: [ 0 ] fire / Score 0.91620296\n",
      "입력: ../data/test/smokeee4.png\n",
      "예측: [ 0 ] fire / Score 0.94491494\n",
      "입력: ../data/test/산불1.jpg\n",
      "예측: [ 0 ] fire / Score 0.9808287\n",
      "입력: ../data/test/산불2.jpg\n",
      "예측: [ 0 ] fire / Score 0.9852895\n",
      "입력: ../data/test/산불3.jpg\n",
      "예측: [ 0 ] fire / Score 0.9804212\n",
      "입력: ../data/test/산불4.jpg\n",
      "예측: [ 0 ] fire / Score 0.99289215\n",
      "입력: ../data/test/normal1.jpg\n",
      "예측: [ 0 ] fire / Score 0.8116626\n",
      "입력: ../data/test/normal2.jpg\n",
      "예측: [ 0 ] fire / Score 0.99842477\n",
      "입력: ../data/test/normal3.jpg\n",
      "예측: [ 0 ] fire / Score 0.92411363\n"
     ]
    }
   ],
   "source": [
    "# 예측 결과 출력 (5)\n",
    "for i, p in enumerate(pre):\n",
    "    y = p.argmax()\n",
    "    print(\"입력:\", files[i])\n",
    "    print(\"예측:\", \"[\", y, \"]\", categories[y], \"/ Score\",p[y])"
   ]
  },
  {
   "cell_type": "code",
   "execution_count": null,
   "metadata": {},
   "outputs": [],
   "source": []
  }
 ],
 "metadata": {
  "kernelspec": {
   "display_name": "Python 3 (ipykernel)",
   "language": "python",
   "name": "python3"
  },
  "language_info": {
   "codemirror_mode": {
    "name": "ipython",
    "version": 3
   },
   "file_extension": ".py",
   "mimetype": "text/x-python",
   "name": "python",
   "nbconvert_exporter": "python",
   "pygments_lexer": "ipython3",
   "version": "3.12.3"
  }
 },
 "nbformat": 4,
 "nbformat_minor": 4
}
