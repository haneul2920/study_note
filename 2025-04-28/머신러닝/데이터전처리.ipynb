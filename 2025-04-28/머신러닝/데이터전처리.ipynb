{
 "cells": [
  {
   "cell_type": "markdown",
   "id": "b721b0e0-ac9d-469c-bf08-9054fc3ce8bd",
   "metadata": {},
   "source": [
    "## NumPy\n",
    "\n",
    "- 행렬연산, 배열생성\n",
    "- 배열의 모든 요소가 같은 타입\n",
    "- 타입 일치하지 않으면 가능한경우 상위타입을 취한다.\n",
    "- dtype 키워드를 사용하여 데이터 타입 설정도 가능\n",
    "- 리스트의 주첩을 통해 다차원배열 생성가능\n"
   ]
  },
  {
   "cell_type": "code",
   "execution_count": 2,
   "id": "c054b06b-8a73-459a-8abc-2fd43a3f86ad",
   "metadata": {},
   "outputs": [
    {
     "data": {
      "text/plain": [
       "array([1, 4, 5, 3])"
      ]
     },
     "execution_count": 2,
     "metadata": {},
     "output_type": "execute_result"
    }
   ],
   "source": [
    "import numpy as np\n",
    "np.array([1,4,5,3])"
   ]
  },
  {
   "cell_type": "code",
   "execution_count": 3,
   "id": "48e61f38-9d80-4e8a-8e43-935a2ef5fdb0",
   "metadata": {},
   "outputs": [
    {
     "data": {
      "text/plain": [
       "array([3.14, 4.  , 2.  , 3.  ], dtype=float32)"
      ]
     },
     "execution_count": 3,
     "metadata": {},
     "output_type": "execute_result"
    }
   ],
   "source": [
    "np.array([3.14, 4, 2, 3], dtype='float32')"
   ]
  },
  {
   "cell_type": "code",
   "execution_count": 4,
   "id": "44bebe0f-fbe7-49c0-ac17-d81f0fa3b890",
   "metadata": {},
   "outputs": [
    {
     "data": {
      "text/plain": [
       "array([[ 2,  3,  4],\n",
       "       [ 5,  6,  7],\n",
       "       [ 8,  9, 10]])"
      ]
     },
     "execution_count": 4,
     "metadata": {},
     "output_type": "execute_result"
    }
   ],
   "source": [
    "np.array([[2,3,4],[5,6,7],[8,9,10]])"
   ]
  },
  {
   "cell_type": "code",
   "execution_count": 5,
   "id": "bafc2dfa-47b1-4a13-b552-857941304eab",
   "metadata": {},
   "outputs": [
    {
     "data": {
      "text/plain": [
       "array([[0., 0., 0.],\n",
       "       [0., 0., 0.],\n",
       "       [0., 0., 0.]])"
      ]
     },
     "execution_count": 5,
     "metadata": {},
     "output_type": "execute_result"
    }
   ],
   "source": [
    "np.zeros((3,3))"
   ]
  },
  {
   "cell_type": "code",
   "execution_count": 6,
   "id": "14eb9e60-274d-4b3d-9b8d-abd1d7a6151c",
   "metadata": {},
   "outputs": [
    {
     "data": {
      "text/plain": [
       "array([0, 0, 0, 0, 0, 0, 0, 0, 0, 0])"
      ]
     },
     "execution_count": 6,
     "metadata": {},
     "output_type": "execute_result"
    }
   ],
   "source": [
    "# 0으로 채운 길이 10의 정수 배열\n",
    "np.zeros(10, dtype=int)"
   ]
  },
  {
   "cell_type": "code",
   "execution_count": 7,
   "id": "a71b16d9-7bbb-4487-a41d-331d35f5305a",
   "metadata": {},
   "outputs": [
    {
     "data": {
      "text/plain": [
       "array([[0, 0, 0],\n",
       "       [0, 0, 0],\n",
       "       [0, 0, 0]])"
      ]
     },
     "execution_count": 7,
     "metadata": {},
     "output_type": "execute_result"
    }
   ],
   "source": [
    "np.zeros((3,3), dtype=int)"
   ]
  },
  {
   "cell_type": "code",
   "execution_count": 8,
   "id": "9a201188-6498-44e4-bde4-efb06f1412be",
   "metadata": {},
   "outputs": [
    {
     "data": {
      "text/plain": [
       "array([[1, 1, 1, 1, 1],\n",
       "       [1, 1, 1, 1, 1],\n",
       "       [1, 1, 1, 1, 1]])"
      ]
     },
     "execution_count": 8,
     "metadata": {},
     "output_type": "execute_result"
    }
   ],
   "source": [
    "# 1로 채운 3*5배열\n",
    "np.ones((3,5), dtype=int)"
   ]
  },
  {
   "cell_type": "code",
   "execution_count": 9,
   "id": "5873df9a-2a2d-441b-bd16-105ed947543d",
   "metadata": {},
   "outputs": [
    {
     "data": {
      "text/plain": [
       "array([ 0,  2,  4,  6,  8, 10, 12, 14, 16, 18])"
      ]
     },
     "execution_count": 9,
     "metadata": {},
     "output_type": "execute_result"
    }
   ],
   "source": [
    "np.arange(0, 20, 2)"
   ]
  },
  {
   "cell_type": "code",
   "execution_count": 10,
   "id": "3381b656-8530-45f6-8ec2-cab1ae39be17",
   "metadata": {},
   "outputs": [
    {
     "data": {
      "text/plain": [
       "array([0.  , 0.25, 0.5 , 0.75, 1.  ])"
      ]
     },
     "execution_count": 10,
     "metadata": {},
     "output_type": "execute_result"
    }
   ],
   "source": [
    "# 0과 1 사이의 일정한간격을 지닌 다섯개의 값\n",
    "np.linspace(0, 1, 5)"
   ]
  },
  {
   "cell_type": "code",
   "execution_count": 11,
   "id": "0e83033c-9c6d-49e8-801d-78703bb6c651",
   "metadata": {},
   "outputs": [
    {
     "data": {
      "text/plain": [
       "array([0.11255674, 0.08973493, 0.78808848, 0.6335163 , 0.97638899,\n",
       "       0.77618294, 0.85385669, 0.89554005, 0.03316089, 0.6489022 ])"
      ]
     },
     "execution_count": 11,
     "metadata": {},
     "output_type": "execute_result"
    }
   ],
   "source": [
    "np.random.random((10))"
   ]
  },
  {
   "cell_type": "code",
   "execution_count": 12,
   "id": "a0903db4-a2c5-4c68-80b9-32bf89b7b6a2",
   "metadata": {},
   "outputs": [
    {
     "data": {
      "text/plain": [
       "array([[0.11734795, 0.42633934, 0.19796686],\n",
       "       [0.51648145, 0.21161311, 0.19606465],\n",
       "       [0.51876717, 0.96091827, 0.73365107]])"
      ]
     },
     "execution_count": 12,
     "metadata": {},
     "output_type": "execute_result"
    }
   ],
   "source": [
    "# 0과 1 사이의 난수로 구성된 3*3 배열\n",
    "np.random.random((3,3))"
   ]
  },
  {
   "cell_type": "code",
   "execution_count": 13,
   "id": "7229c067-db87-48f8-9ecb-e4bd2c071458",
   "metadata": {},
   "outputs": [
    {
     "data": {
      "text/plain": [
       "array([[-1.41118526,  1.99177552, -0.46311929],\n",
       "       [ 0.66981573, -0.29737479,  1.32452296],\n",
       "       [-1.21631932,  0.9860012 ,  0.40290644]])"
      ]
     },
     "execution_count": 13,
     "metadata": {},
     "output_type": "execute_result"
    }
   ],
   "source": [
    "# 정규분포(평균=0, 표준편차=1)의 난수로 구성된 3*3 배열\n",
    "np.random.normal(0, 1,(3,3))"
   ]
  },
  {
   "cell_type": "code",
   "execution_count": 14,
   "id": "e88159ec-4164-4a7a-90a8-a0426e3007aa",
   "metadata": {},
   "outputs": [
    {
     "data": {
      "text/plain": [
       "array([[12, 17, 15],\n",
       "       [20, 19, 20],\n",
       "       [10, 13, 19]])"
      ]
     },
     "execution_count": 14,
     "metadata": {},
     "output_type": "execute_result"
    }
   ],
   "source": [
    "# 10과 20 사이의 정수로된 난수 3*3 배열\n",
    "np.random.randint(10, 21 , (3,3))"
   ]
  },
  {
   "cell_type": "code",
   "execution_count": 15,
   "id": "49df0b99-5e90-4ea9-bdf9-bf981401feeb",
   "metadata": {},
   "outputs": [],
   "source": [
    "x1 = np.random.randint(10, size = 6)"
   ]
  },
  {
   "cell_type": "code",
   "execution_count": 16,
   "id": "76811cd8-6ec0-4b46-be95-d6a4ff7ea047",
   "metadata": {},
   "outputs": [],
   "source": [
    "x2 = np.random.randint(10, size = (3,4))"
   ]
  },
  {
   "cell_type": "code",
   "execution_count": 17,
   "id": "59eda66b-6d43-479c-922c-9e6b6424bb73",
   "metadata": {},
   "outputs": [],
   "source": [
    "x3 = np.random.randint(10, size=(3,4,5))"
   ]
  },
  {
   "cell_type": "code",
   "execution_count": 18,
   "id": "b65620a8-9368-43b2-954d-222397219f28",
   "metadata": {},
   "outputs": [
    {
     "name": "stdout",
     "output_type": "stream",
     "text": [
      "3\n",
      "(3, 4, 5)\n",
      "12\n",
      "int32\n",
      "4\n",
      "48\n"
     ]
    }
   ],
   "source": [
    "# 배열의 속성 지정\n",
    "print(x3.ndim) # 차원의 개수\n",
    "print(x3.shape) # 각 차원의 크기\n",
    "print(x2.size) # 전체 배열의 크기\n",
    "print(x2.dtype) # 데이터 타입\n",
    "print(x2.itemsize) # 배열의 요소의 크기 (바이트 단위)\n",
    "print(x2.nbytes) # 배열의 전체 크기(바이트 단위)\n"
   ]
  },
  {
   "cell_type": "code",
   "execution_count": 19,
   "id": "f6f82992-3f73-41d0-aefd-feb49a376fa8",
   "metadata": {},
   "outputs": [
    {
     "data": {
      "text/plain": [
       "array([0, 1, 2, 3, 4, 5, 6, 7, 8, 9])"
      ]
     },
     "execution_count": 19,
     "metadata": {},
     "output_type": "execute_result"
    }
   ],
   "source": [
    "# 배열 슬라이싱\n",
    "x = np.arange(10)\n",
    "x"
   ]
  },
  {
   "cell_type": "code",
   "execution_count": 20,
   "id": "cd31888b-ccff-4f5c-a247-b944eeb9465c",
   "metadata": {},
   "outputs": [
    {
     "name": "stdout",
     "output_type": "stream",
     "text": [
      "[5 6 7 8 9]\n",
      "[4 5 6]\n",
      "[0 1]\n",
      "[0 2 4 6 8]\n"
     ]
    }
   ],
   "source": [
    "print(x[5:])\n",
    "print(x[4:7])\n",
    "print(x[0:2])\n",
    "print(x[::2])"
   ]
  },
  {
   "cell_type": "markdown",
   "id": "c30bb54a-6253-473f-93a4-55396b77cb29",
   "metadata": {},
   "source": [
    "## 배열 \n",
    "- reshape()메서드 사용\n",
    "- 1차원 배열을 2차원 행이나 열 매트릭스로 전환하는 경우에는 슬라이스 연산 내에 newaxis 키워드 사용"
   ]
  },
  {
   "cell_type": "code",
   "execution_count": 21,
   "id": "f005a160-33af-4d74-93fe-9b7647ca85c6",
   "metadata": {},
   "outputs": [
    {
     "name": "stdout",
     "output_type": "stream",
     "text": [
      "[1 2 3 4 5 6 7 8 9]\n",
      "[1 2 3]\n"
     ]
    }
   ],
   "source": [
    "grid = np.arange(1,10)\n",
    "x = np.array([1,2,3])\n",
    "print(grid)\n",
    "print(x)"
   ]
  },
  {
   "cell_type": "code",
   "execution_count": 22,
   "id": "52977713-5c31-4a12-9753-db668bbb3ff0",
   "metadata": {},
   "outputs": [
    {
     "data": {
      "text/plain": [
       "array([[1],\n",
       "       [2],\n",
       "       [3]])"
      ]
     },
     "execution_count": 22,
     "metadata": {},
     "output_type": "execute_result"
    }
   ],
   "source": [
    "x.reshape(3,1)"
   ]
  },
  {
   "cell_type": "code",
   "execution_count": 23,
   "id": "ae58e6f3-48d1-45cb-a493-0d921828baf0",
   "metadata": {},
   "outputs": [
    {
     "data": {
      "text/plain": [
       "array([[ 0,  1,  2,  3],\n",
       "       [ 4,  5,  6,  7],\n",
       "       [ 8,  9, 10, 11]])"
      ]
     },
     "execution_count": 23,
     "metadata": {},
     "output_type": "execute_result"
    }
   ],
   "source": [
    "np.arange(12).reshape(3,4)\n"
   ]
  },
  {
   "cell_type": "code",
   "execution_count": 24,
   "id": "d7b67381-1ffc-4934-b97a-4819a10682b7",
   "metadata": {},
   "outputs": [
    {
     "data": {
      "text/plain": [
       "array([1, 2, 3, 3, 2, 1])"
      ]
     },
     "execution_count": 24,
     "metadata": {},
     "output_type": "execute_result"
    }
   ],
   "source": [
    "# 배열 결합\n",
    "x = np.array([1,2,3])\n",
    "y = np.array([3,2,1])\n",
    "np.concatenate([x,y])"
   ]
  },
  {
   "cell_type": "code",
   "execution_count": 25,
   "id": "703c3cf6-1445-4367-8888-3a836072504e",
   "metadata": {},
   "outputs": [
    {
     "name": "stdout",
     "output_type": "stream",
     "text": [
      "9.0\n",
      "15\n",
      "3\n",
      "45\n"
     ]
    }
   ],
   "source": [
    "# 배열의 통계 값 계산\n",
    "arr9 = np.array([3,6,9,12,15])\n",
    "print(np.mean(arr9)) # 배열의 평균값\n",
    "print(np.max(arr9)) # 배열의 최대값\n",
    "print(np.min(arr9)) # 배열의 최소값\n",
    "print(np.sum(arr9)) # 배열의 합"
   ]
  },
  {
   "cell_type": "code",
   "execution_count": 26,
   "id": "6efaa668-99f2-4274-9e50-c141bca3acda",
   "metadata": {},
   "outputs": [],
   "source": [
    "x1 = np.random.randint(10, size = 6)\n",
    "x2 = np.random.randint(10, size = (3,4))"
   ]
  },
  {
   "cell_type": "code",
   "execution_count": 27,
   "id": "5800c5dd-f2ae-4ecb-b056-e6b40092d0ca",
   "metadata": {},
   "outputs": [
    {
     "data": {
      "text/plain": [
       "array([[[2, 2, 6, 1, 3],\n",
       "        [9, 6, 1, 0, 1],\n",
       "        [9, 0, 0, 9, 3],\n",
       "        [4, 0, 0, 4, 1]],\n",
       "\n",
       "       [[7, 3, 2, 4, 7],\n",
       "        [2, 4, 8, 0, 7],\n",
       "        [9, 3, 4, 6, 1],\n",
       "        [5, 6, 2, 1, 8]],\n",
       "\n",
       "       [[3, 5, 0, 2, 6],\n",
       "        [2, 4, 4, 6, 3],\n",
       "        [0, 6, 4, 7, 6],\n",
       "        [7, 1, 5, 7, 9]]])"
      ]
     },
     "execution_count": 27,
     "metadata": {},
     "output_type": "execute_result"
    }
   ],
   "source": [
    "np.random.seed(123)\n",
    "x3 = np.random.randint(10, size = (3,4,5))\n",
    "x3"
   ]
  },
  {
   "cell_type": "code",
   "execution_count": 28,
   "id": "eb69e74b-1d54-4581-9f4e-36397d72a241",
   "metadata": {},
   "outputs": [
    {
     "data": {
      "text/plain": [
       "array([20, 25, 30])"
      ]
     },
     "execution_count": 28,
     "metadata": {},
     "output_type": "execute_result"
    }
   ],
   "source": [
    "#1. 특정 조건을 만족하는 요소 선택 (Booleab Indexing)\n",
    "arr1 = np.array([10,15,20,25,30])\n",
    "arr1[arr1 > 18]"
   ]
  },
  {
   "cell_type": "code",
   "execution_count": 29,
   "id": "6cedfbe3-a9bc-4d45-932c-81e326892abe",
   "metadata": {},
   "outputs": [
    {
     "name": "stdout",
     "output_type": "stream",
     "text": [
      "[[1 2 3]\n",
      " [4 5 6]]\n",
      "[5 7 9]\n",
      "[ 6 15]\n"
     ]
    }
   ],
   "source": [
    "arr3 = np.array([[1,2,3],[4,5,6]])\n",
    "print(arr3)\n",
    "print(np.sum(arr3, axis=0)) # 열 기준 합\n",
    "print(np.sum(arr3, axis=1))# 행 기준 합"
   ]
  },
  {
   "cell_type": "code",
   "execution_count": 30,
   "id": "64e7c858-ac8f-446e-93a0-98f88c072de4",
   "metadata": {},
   "outputs": [
    {
     "name": "stdout",
     "output_type": "stream",
     "text": [
      "[[ 0  1  2  3]\n",
      " [ 4  5  6  7]\n",
      " [ 8  9 10 11]\n",
      " [12 13 14 15]]\n",
      "\n"
     ]
    },
    {
     "data": {
      "text/plain": [
       "array([[ 5,  6],\n",
       "       [ 9, 10]])"
      ]
     },
     "execution_count": 30,
     "metadata": {},
     "output_type": "execute_result"
    }
   ],
   "source": [
    "# 다차원 배열 슬라이싱 \n",
    "arr4 = np.arange(16).reshape(4,4)\n",
    "# 중간 2x2 부분 선택\n",
    "print(arr4)\n",
    "print()\n",
    "arr4[1:3, 1:3]"
   ]
  },
  {
   "cell_type": "code",
   "execution_count": 31,
   "id": "2818659f-d7b1-42d2-8d6d-40f3889bc693",
   "metadata": {},
   "outputs": [
    {
     "data": {
      "text/plain": [
       "array([-1,  2, -1,  4, -1,  6])"
      ]
     },
     "execution_count": 31,
     "metadata": {},
     "output_type": "execute_result"
    }
   ],
   "source": [
    "# np.where 를 사용한 조건 연산\n",
    "arr5 = np.array([1,2,3,4,5,6])\n",
    "# 짝수면 그대로, 홀수면 -1\n",
    "np.where(arr5 % 2 == 0, arr5, -1)"
   ]
  },
  {
   "cell_type": "code",
   "execution_count": 32,
   "id": "17a94d9c-5b2f-4e11-8ce2-3da2b1e91691",
   "metadata": {},
   "outputs": [
    {
     "data": {
      "text/plain": [
       "array([[19, 22],\n",
       "       [43, 50]])"
      ]
     },
     "execution_count": 32,
     "metadata": {},
     "output_type": "execute_result"
    }
   ],
   "source": [
    "# 행렬 곱셈\n",
    "A = np.array([[1,2],[3,4]])\n",
    "B = np.array([[5,6],[7,8]])\n",
    "np.dot(A,B)"
   ]
  },
  {
   "cell_type": "code",
   "execution_count": 33,
   "id": "2d412330-6706-464c-8fcb-e62a698eeca1",
   "metadata": {},
   "outputs": [
    {
     "name": "stdout",
     "output_type": "stream",
     "text": [
      "[1 1 2 3 4 5 9]\n",
      "[9 5 4 3 2 1 1]\n"
     ]
    }
   ],
   "source": [
    "# 배열의 정렬 sorting\n",
    "arr7 = np.array([3,1,4,1,5,9,2])\n",
    "print(np.sort(arr7)) # 오른차순\n",
    "print(np.sort(arr7)[::-1]) # 내림차순 정렬 방법"
   ]
  },
  {
   "cell_type": "code",
   "execution_count": 34,
   "id": "aee496e9-4a1f-4409-9880-1bb478605b8c",
   "metadata": {},
   "outputs": [
    {
     "data": {
      "text/plain": [
       "array([1, 2, 3, 4, 5])"
      ]
     },
     "execution_count": 34,
     "metadata": {},
     "output_type": "execute_result"
    }
   ],
   "source": [
    "# 중복 제거\n",
    "arr17 = np.array([1,2,2,3,3,3,4,5])\n",
    "np.unique(arr17)"
   ]
  },
  {
   "cell_type": "code",
   "execution_count": 35,
   "id": "2595cbc3-2cb5-457f-8955-49566a6d6c7b",
   "metadata": {},
   "outputs": [
    {
     "name": "stdout",
     "output_type": "stream",
     "text": [
      "sin 값: [0.         0.5        0.70710678 0.93358043 1.        ]\n",
      "cos 값: [1.00000000e+00 8.66025404e-01 7.07106781e-01 3.58367950e-01\n",
      " 6.12323400e-17]\n",
      "tan 값: [0.00000000e+00 5.77350269e-01 1.00000000e+00 2.60508906e+00\n",
      " 1.63312394e+16]\n"
     ]
    }
   ],
   "source": [
    "# 각도 변환후 삼각함수 계산\n",
    "angles1 = np.array([0,30,45,69,90])\n",
    "angles2 = np.radians(angles1)\n",
    "print(\"sin 값:\", np.sin(angles2))\n",
    "print(\"cos 값:\", np.cos(angles2))\n",
    "print(\"tan 값:\", np.tan(angles2))"
   ]
  },
  {
   "cell_type": "markdown",
   "id": "25d00195-4954-40f8-bf42-5da8ce000c83",
   "metadata": {},
   "source": [
    "## Pandas\n",
    "### 데이터 프레임"
   ]
  },
  {
   "cell_type": "code",
   "execution_count": 36,
   "id": "ba0bafe9-0f71-4cb2-9a2f-1f9974bcb382",
   "metadata": {},
   "outputs": [],
   "source": [
    "import pandas as pd\n",
    "import csv"
   ]
  },
  {
   "cell_type": "code",
   "execution_count": 37,
   "id": "992ca7ae-9134-4f0a-b2bd-c279968176df",
   "metadata": {},
   "outputs": [
    {
     "name": "stdout",
     "output_type": "stream",
     "text": [
      "      color      director_name  num_critic_for_reviews  duration  \\\n",
      "0     Color      James Cameron                   723.0     178.0   \n",
      "1     Color     Gore Verbinski                   302.0     169.0   \n",
      "2     Color         Sam Mendes                   602.0     148.0   \n",
      "3     Color  Christopher Nolan                   813.0     164.0   \n",
      "4       NaN        Doug Walker                     NaN       NaN   \n",
      "...     ...                ...                     ...       ...   \n",
      "4911  Color        Scott Smith                     1.0      87.0   \n",
      "4912  Color                NaN                    43.0      43.0   \n",
      "4913  Color   Benjamin Roberds                    13.0      76.0   \n",
      "4914  Color        Daniel Hsia                    14.0     100.0   \n",
      "4915  Color           Jon Gunn                    43.0      90.0   \n",
      "\n",
      "      director_facebook_likes  actor_3_facebook_likes      actor_2_name  \\\n",
      "0                         0.0                   855.0  Joel David Moore   \n",
      "1                       563.0                  1000.0     Orlando Bloom   \n",
      "2                         0.0                   161.0      Rory Kinnear   \n",
      "3                     22000.0                 23000.0    Christian Bale   \n",
      "4                       131.0                     NaN        Rob Walker   \n",
      "...                       ...                     ...               ...   \n",
      "4911                      2.0                   318.0     Daphne Zuniga   \n",
      "4912                      NaN                   319.0     Valorie Curry   \n",
      "4913                      0.0                     0.0     Maxwell Moody   \n",
      "4914                      0.0                   489.0     Daniel Henney   \n",
      "4915                     16.0                    16.0  Brian Herzlinger   \n",
      "\n",
      "      actor_1_facebook_likes        gross                           genres  \\\n",
      "0                     1000.0  760505847.0  Action|Adventure|Fantasy|Sci-Fi   \n",
      "1                    40000.0  309404152.0         Action|Adventure|Fantasy   \n",
      "2                    11000.0  200074175.0        Action|Adventure|Thriller   \n",
      "3                    27000.0  448130642.0                  Action|Thriller   \n",
      "4                      131.0          NaN                      Documentary   \n",
      "...                      ...          ...                              ...   \n",
      "4911                   637.0          NaN                     Comedy|Drama   \n",
      "4912                   841.0          NaN     Crime|Drama|Mystery|Thriller   \n",
      "4913                     0.0          NaN            Drama|Horror|Thriller   \n",
      "4914                   946.0      10443.0             Comedy|Drama|Romance   \n",
      "4915                    86.0      85222.0                      Documentary   \n",
      "\n",
      "      ... num_user_for_reviews language  country  content_rating       budget  \\\n",
      "0     ...               3054.0  English      USA           PG-13  237000000.0   \n",
      "1     ...               1238.0  English      USA           PG-13  300000000.0   \n",
      "2     ...                994.0  English       UK           PG-13  245000000.0   \n",
      "3     ...               2701.0  English      USA           PG-13  250000000.0   \n",
      "4     ...                  NaN      NaN      NaN             NaN          NaN   \n",
      "...   ...                  ...      ...      ...             ...          ...   \n",
      "4911  ...                  6.0  English   Canada             NaN          NaN   \n",
      "4912  ...                359.0  English      USA           TV-14          NaN   \n",
      "4913  ...                  3.0  English      USA             NaN       1400.0   \n",
      "4914  ...                  9.0  English      USA           PG-13          NaN   \n",
      "4915  ...                 84.0  English      USA              PG       1100.0   \n",
      "\n",
      "      title_year actor_2_facebook_likes imdb_score  aspect_ratio  \\\n",
      "0         2009.0                  936.0        7.9          1.78   \n",
      "1         2007.0                 5000.0        7.1          2.35   \n",
      "2         2015.0                  393.0        6.8          2.35   \n",
      "3         2012.0                23000.0        8.5          2.35   \n",
      "4            NaN                   12.0        7.1           NaN   \n",
      "...          ...                    ...        ...           ...   \n",
      "4911      2013.0                  470.0        7.7           NaN   \n",
      "4912         NaN                  593.0        7.5         16.00   \n",
      "4913      2013.0                    0.0        6.3           NaN   \n",
      "4914      2012.0                  719.0        6.3          2.35   \n",
      "4915      2004.0                   23.0        6.6          1.85   \n",
      "\n",
      "     movie_facebook_likes  \n",
      "0                   33000  \n",
      "1                       0  \n",
      "2                   85000  \n",
      "3                  164000  \n",
      "4                       0  \n",
      "...                   ...  \n",
      "4911                   84  \n",
      "4912                32000  \n",
      "4913                   16  \n",
      "4914                  660  \n",
      "4915                  456  \n",
      "\n",
      "[4916 rows x 28 columns]\n"
     ]
    }
   ],
   "source": [
    "movie = pd.read_csv(\"movie.csv\")\n",
    "print(movie)"
   ]
  },
  {
   "cell_type": "markdown",
   "id": "fca8a62d-0cab-40c5-bef8-9f0bb1977e7a",
   "metadata": {},
   "source": [
    "## 2.Series"
   ]
  },
  {
   "cell_type": "code",
   "execution_count": 38,
   "id": "23324728-7bb8-4e5f-9424-fd39e839b3f8",
   "metadata": {},
   "outputs": [
    {
     "data": {
      "text/html": [
       "<div>\n",
       "<style scoped>\n",
       "    .dataframe tbody tr th:only-of-type {\n",
       "        vertical-align: middle;\n",
       "    }\n",
       "\n",
       "    .dataframe tbody tr th {\n",
       "        vertical-align: top;\n",
       "    }\n",
       "\n",
       "    .dataframe thead th {\n",
       "        text-align: right;\n",
       "    }\n",
       "</style>\n",
       "<table border=\"1\" class=\"dataframe\">\n",
       "  <thead>\n",
       "    <tr style=\"text-align: right;\">\n",
       "      <th></th>\n",
       "      <th>color</th>\n",
       "      <th>director_name</th>\n",
       "      <th>num_critic_for_reviews</th>\n",
       "      <th>duration</th>\n",
       "      <th>director_facebook_likes</th>\n",
       "      <th>actor_3_facebook_likes</th>\n",
       "      <th>actor_2_name</th>\n",
       "      <th>actor_1_facebook_likes</th>\n",
       "      <th>gross</th>\n",
       "      <th>genres</th>\n",
       "      <th>...</th>\n",
       "      <th>num_user_for_reviews</th>\n",
       "      <th>language</th>\n",
       "      <th>country</th>\n",
       "      <th>content_rating</th>\n",
       "      <th>budget</th>\n",
       "      <th>title_year</th>\n",
       "      <th>actor_2_facebook_likes</th>\n",
       "      <th>imdb_score</th>\n",
       "      <th>aspect_ratio</th>\n",
       "      <th>movie_facebook_likes</th>\n",
       "    </tr>\n",
       "  </thead>\n",
       "  <tbody>\n",
       "    <tr>\n",
       "      <th>0</th>\n",
       "      <td>Color</td>\n",
       "      <td>James Cameron</td>\n",
       "      <td>723.0</td>\n",
       "      <td>178.0</td>\n",
       "      <td>0.0</td>\n",
       "      <td>855.0</td>\n",
       "      <td>Joel David Moore</td>\n",
       "      <td>1000.0</td>\n",
       "      <td>760505847.0</td>\n",
       "      <td>Action|Adventure|Fantasy|Sci-Fi</td>\n",
       "      <td>...</td>\n",
       "      <td>3054.0</td>\n",
       "      <td>English</td>\n",
       "      <td>USA</td>\n",
       "      <td>PG-13</td>\n",
       "      <td>237000000.0</td>\n",
       "      <td>2009.0</td>\n",
       "      <td>936.0</td>\n",
       "      <td>7.9</td>\n",
       "      <td>1.78</td>\n",
       "      <td>33000</td>\n",
       "    </tr>\n",
       "    <tr>\n",
       "      <th>1</th>\n",
       "      <td>Color</td>\n",
       "      <td>Gore Verbinski</td>\n",
       "      <td>302.0</td>\n",
       "      <td>169.0</td>\n",
       "      <td>563.0</td>\n",
       "      <td>1000.0</td>\n",
       "      <td>Orlando Bloom</td>\n",
       "      <td>40000.0</td>\n",
       "      <td>309404152.0</td>\n",
       "      <td>Action|Adventure|Fantasy</td>\n",
       "      <td>...</td>\n",
       "      <td>1238.0</td>\n",
       "      <td>English</td>\n",
       "      <td>USA</td>\n",
       "      <td>PG-13</td>\n",
       "      <td>300000000.0</td>\n",
       "      <td>2007.0</td>\n",
       "      <td>5000.0</td>\n",
       "      <td>7.1</td>\n",
       "      <td>2.35</td>\n",
       "      <td>0</td>\n",
       "    </tr>\n",
       "    <tr>\n",
       "      <th>2</th>\n",
       "      <td>Color</td>\n",
       "      <td>Sam Mendes</td>\n",
       "      <td>602.0</td>\n",
       "      <td>148.0</td>\n",
       "      <td>0.0</td>\n",
       "      <td>161.0</td>\n",
       "      <td>Rory Kinnear</td>\n",
       "      <td>11000.0</td>\n",
       "      <td>200074175.0</td>\n",
       "      <td>Action|Adventure|Thriller</td>\n",
       "      <td>...</td>\n",
       "      <td>994.0</td>\n",
       "      <td>English</td>\n",
       "      <td>UK</td>\n",
       "      <td>PG-13</td>\n",
       "      <td>245000000.0</td>\n",
       "      <td>2015.0</td>\n",
       "      <td>393.0</td>\n",
       "      <td>6.8</td>\n",
       "      <td>2.35</td>\n",
       "      <td>85000</td>\n",
       "    </tr>\n",
       "  </tbody>\n",
       "</table>\n",
       "<p>3 rows × 28 columns</p>\n",
       "</div>"
      ],
      "text/plain": [
       "   color   director_name  num_critic_for_reviews  duration  \\\n",
       "0  Color   James Cameron                   723.0     178.0   \n",
       "1  Color  Gore Verbinski                   302.0     169.0   \n",
       "2  Color      Sam Mendes                   602.0     148.0   \n",
       "\n",
       "   director_facebook_likes  actor_3_facebook_likes      actor_2_name  \\\n",
       "0                      0.0                   855.0  Joel David Moore   \n",
       "1                    563.0                  1000.0     Orlando Bloom   \n",
       "2                      0.0                   161.0      Rory Kinnear   \n",
       "\n",
       "   actor_1_facebook_likes        gross                           genres  ...  \\\n",
       "0                  1000.0  760505847.0  Action|Adventure|Fantasy|Sci-Fi  ...   \n",
       "1                 40000.0  309404152.0         Action|Adventure|Fantasy  ...   \n",
       "2                 11000.0  200074175.0        Action|Adventure|Thriller  ...   \n",
       "\n",
       "  num_user_for_reviews language  country  content_rating       budget  \\\n",
       "0               3054.0  English      USA           PG-13  237000000.0   \n",
       "1               1238.0  English      USA           PG-13  300000000.0   \n",
       "2                994.0  English       UK           PG-13  245000000.0   \n",
       "\n",
       "   title_year actor_2_facebook_likes imdb_score  aspect_ratio  \\\n",
       "0      2009.0                  936.0        7.9          1.78   \n",
       "1      2007.0                 5000.0        7.1          2.35   \n",
       "2      2015.0                  393.0        6.8          2.35   \n",
       "\n",
       "  movie_facebook_likes  \n",
       "0                33000  \n",
       "1                    0  \n",
       "2                85000  \n",
       "\n",
       "[3 rows x 28 columns]"
      ]
     },
     "execution_count": 38,
     "metadata": {},
     "output_type": "execute_result"
    }
   ],
   "source": [
    "movie.head(3)"
   ]
  },
  {
   "cell_type": "code",
   "execution_count": 39,
   "id": "ab7c6e22-1754-4a8e-8831-de3165e4ae71",
   "metadata": {},
   "outputs": [
    {
     "ename": "NameError",
     "evalue": "name 'head' is not defined",
     "output_type": "error",
     "traceback": [
      "\u001b[1;31m---------------------------------------------------------------------------\u001b[0m",
      "\u001b[1;31mNameError\u001b[0m                                 Traceback (most recent call last)",
      "Cell \u001b[1;32mIn[39], line 2\u001b[0m\n\u001b[0;32m      1\u001b[0m \u001b[38;5;66;03m#Series 메서드\u001b[39;00m\n\u001b[1;32m----> 2\u001b[0m head() \u001b[38;5;66;03m# 데이터 일부를 표시\u001b[39;00m\n\u001b[0;32m      3\u001b[0m value_count()\n\u001b[0;32m      4\u001b[0m size, shape, \u001b[38;5;28mlen\u001b[39m()\n",
      "\u001b[1;31mNameError\u001b[0m: name 'head' is not defined"
     ]
    }
   ],
   "source": [
    "#Series 메서드\n",
    "head() # 데이터 일부를 표시\n",
    "value_count()\n",
    "size, shape, len()\n",
    "count()\n",
    "min(), max(), mean(), median(), std(), sum()\n",
    "describe()\n",
    "quantile()\n",
    "isnull() # 결측치 체크\n",
    "fillna() # 결측치를 한번에 특정 값으로 변환\n",
    "dropna() # 결측치 제거\n",
    "hasnans() # 하나라도 결측치가 있으면 True (Series만 지원)\n",
    "astype() # 데이터 형식 변경 (결측치가 있을 경우 오류 발생)\n"
   ]
  },
  {
   "cell_type": "code",
   "execution_count": null,
   "id": "b9c76615-58ef-4069-a085-064ebe124f2b",
   "metadata": {},
   "outputs": [],
   "source": [
    "score = movie['imdb_score']"
   ]
  },
  {
   "cell_type": "code",
   "execution_count": null,
   "id": "8c74be06-5655-43e2-8f1b-ec4d0172ff89",
   "metadata": {},
   "outputs": [],
   "source": [
    "score.head(3)"
   ]
  },
  {
   "cell_type": "code",
   "execution_count": null,
   "id": "5c8302f3-c72d-43c6-ac61-91d22b976ba3",
   "metadata": {},
   "outputs": [],
   "source": [
    "len(score)"
   ]
  },
  {
   "cell_type": "code",
   "execution_count": null,
   "id": "09720c8a-d99e-4151-8762-d12fdd27e6ee",
   "metadata": {},
   "outputs": [],
   "source": [
    "score.describe()"
   ]
  },
  {
   "cell_type": "code",
   "execution_count": null,
   "id": "e775279c-43bd-416c-b830-c45da7065cb2",
   "metadata": {},
   "outputs": [],
   "source": [
    "# 분위수\n",
    "score.quantile(0.15)"
   ]
  },
  {
   "cell_type": "code",
   "execution_count": null,
   "id": "a2f0c788-ae47-4943-8a72-24e852e9ce11",
   "metadata": {},
   "outputs": [],
   "source": [
    "s = pd.Series([1,2,3,4])"
   ]
  },
  {
   "cell_type": "code",
   "execution_count": null,
   "id": "9689b115-c6a0-47ea-a412-228deb035491",
   "metadata": {},
   "outputs": [],
   "source": [
    "s.quantile()"
   ]
  },
  {
   "cell_type": "code",
   "execution_count": null,
   "id": "7e9932ad-502c-4896-b2b0-282e97cbf6a6",
   "metadata": {},
   "outputs": [],
   "source": [
    "score.astype(int).head()"
   ]
  },
  {
   "cell_type": "code",
   "execution_count": null,
   "id": "729bffc6-9ea8-49d8-84bc-843d8b3b458d",
   "metadata": {},
   "outputs": [],
   "source": [
    "score.fillna(0).astype(int).head()"
   ]
  },
  {
   "cell_type": "code",
   "execution_count": null,
   "id": "f23588ae-4d46-4e12-89b4-29113cf8fb48",
   "metadata": {},
   "outputs": [],
   "source": [
    "director_copy.to_csv('director_copy.csv', index=False)"
   ]
  },
  {
   "cell_type": "code",
   "execution_count": null,
   "id": "13505222-be5e-49c7-b927-142f9c487a59",
   "metadata": {},
   "outputs": [],
   "source": [
    "# 예제 문제\n",
    "# 1. movie 데이터에서 country 컬럼을 Series로 바꾸시오\n",
    "# 2. country 컬럼에서 결측값을 korea로 바꾸시오\n",
    "# 3. 가장 많은 나라와 갯수를 10개 내림차순으로 구하시오.\n",
    "# 4. 결측값을 korea 로 바꾼 새로운 country 를 csv 파일로 출력하시오.\n"
   ]
  },
  {
   "cell_type": "code",
   "execution_count": null,
   "id": "7a320bb3-1f43-454a-8c08-5060969bb40d",
   "metadata": {},
   "outputs": [],
   "source": [
    "file_path = \"movie.csv\"\n",
    "\n",
    "# 데이터 로드\n",
    "movie_df = pd.read_csv(file_path)\n",
    "\n",
    "# 1. country 컬럼을 Series로 변환\n",
    "country_series = movie_df[\"country\"]\n",
    "\n",
    "# 2. 결측값을 \"Korea\"로 대체\n",
    "country_series_filled = country_series.fillna(\"Korea\")\n",
    "\n",
    "# 3. 가장 많은 나라와 개수를 10개 내림차순으로 구하기\n",
    "country_counts = country_series_filled.value_counts().head(10)\n",
    "print(country_counts)\n",
    "\n",
    "# 4. 새로운 country 데이터를 CSV 파일로 저장\n",
    "output_path = \"country_filled.csv\"\n",
    "country_series_filled.to_csv(output_path, index=False)\n",
    "\n",
    "print(f\"파일 저장 완료: {output_path}\")"
   ]
  },
  {
   "cell_type": "code",
   "execution_count": null,
   "id": "e49eca36-a7fe-45f8-811e-8134caf47f39",
   "metadata": {},
   "outputs": [],
   "source": [
    "movie_small = movie[['color', 'director_name', 'duration', 'imdb_score']]\n",
    "movie_small.head()"
   ]
  },
  {
   "cell_type": "code",
   "execution_count": null,
   "id": "041db90f-6598-462c-a546-9401b2475618",
   "metadata": {},
   "outputs": [],
   "source": [
    "movie_small.info()\n"
   ]
  },
  {
   "cell_type": "code",
   "execution_count": null,
   "id": "7f56033c-987e-4417-9a41-6d6ef868c1f1",
   "metadata": {},
   "outputs": [],
   "source": [
    "# 각 컬럼별 널값 갯수, 전체 널값 갯수\n",
    "movie_small.isnull().sum().sum()"
   ]
  },
  {
   "cell_type": "code",
   "execution_count": null,
   "id": "39b1f401-daa1-42f7-99f5-b06a40e37687",
   "metadata": {},
   "outputs": [],
   "source": [
    "# describe 요약통계량(수치형, 범주형)\n",
    "movie_small.describe(include='all')"
   ]
  },
  {
   "cell_type": "code",
   "execution_count": null,
   "id": "4e1195a8-c504-413a-bca2-14a314d2e09c",
   "metadata": {},
   "outputs": [],
   "source": [
    "# describe 요약통계량(수치형)\n",
    "movie_small.describe().T"
   ]
  },
  {
   "cell_type": "code",
   "execution_count": null,
   "id": "1c9b4f44-1f5d-40b0-a988-8e88c06557d1",
   "metadata": {},
   "outputs": [],
   "source": [
    "# describe 요약통계량(범주형)\n",
    "movie_small.describe(include='object').T"
   ]
  },
  {
   "cell_type": "code",
   "execution_count": null,
   "id": "965e475a-3cf0-44d6-b3b7-07a02e2a8ca5",
   "metadata": {},
   "outputs": [],
   "source": [
    "movie.head(3)"
   ]
  },
  {
   "cell_type": "code",
   "execution_count": null,
   "id": "9d59da05-9255-46d5-b98b-54891866e9aa",
   "metadata": {},
   "outputs": [],
   "source": [
    "# movie['movie_title'].head()\n",
    "movie.movie_title.head()"
   ]
  },
  {
   "cell_type": "code",
   "execution_count": null,
   "id": "288d7c09-a88c-4344-9792-08d3975c52f9",
   "metadata": {},
   "outputs": [],
   "source": [
    "# movie_title열을 인덱스로 설정할 수 있다.\n",
    "# 기존 인덱스는 없어진다.\n",
    "movie2 = movie.set_index('movie_title')\n",
    "movie2.head()"
   ]
  },
  {
   "cell_type": "code",
   "execution_count": null,
   "id": "128c9f0a-569b-4d28-bda7-2d3d0ddbd9ae",
   "metadata": {},
   "outputs": [],
   "source": [
    "# movie_title열을 처음 파일 불러올때 부터 설정\n",
    "movie3 = pd.read_csv('movie.csv', index_col='movie_title')\n",
    "movie3.head()"
   ]
  },
  {
   "cell_type": "code",
   "execution_count": null,
   "id": "312d67f5-5fa2-459e-84ab-398ad61cac19",
   "metadata": {},
   "outputs": [],
   "source": [
    "# 기본 인덱스로 돌아갈때\n",
    "movie2 = movie2.reset_index()\n",
    "movie2.head()"
   ]
  },
  {
   "cell_type": "code",
   "execution_count": null,
   "id": "120891e1-4fb2-4bcc-aba4-fc3531c7aa50",
   "metadata": {},
   "outputs": [],
   "source": [
    "# 인덱스 명, 컬럼명 변경\n",
    "movie_rename = movie.rename(index={0:'아바타', 1:'박희웅'}, columns={'color':'색상', 'director_name':'감독이름'})\n",
    "movie_rename.head(3)"
   ]
  },
  {
   "cell_type": "code",
   "execution_count": null,
   "id": "d2f1cadd-a684-48b7-ac59-de281168c6ff",
   "metadata": {},
   "outputs": [],
   "source": [
    "# 컬럼을 리스트로 생성하기\n",
    "movie.head(2)"
   ]
  },
  {
   "cell_type": "code",
   "execution_count": null,
   "id": "b2751c45-4902-46eb-ab80-0d532917577a",
   "metadata": {},
   "outputs": [],
   "source": [
    "col = movie.columns\n",
    "collist=col.tolist()\n",
    "collist"
   ]
  },
  {
   "cell_type": "code",
   "execution_count": null,
   "id": "a10f1a43-a5f0-4435-8321-da4e26933921",
   "metadata": {},
   "outputs": [],
   "source": [
    "collist[0] = '컬러'\n",
    "collist[1] = '감독'\n",
    "collist"
   ]
  },
  {
   "cell_type": "code",
   "execution_count": null,
   "id": "6efffa7d-dc3b-413f-877f-59cae600746b",
   "metadata": {},
   "outputs": [],
   "source": [
    "movie.head(2)"
   ]
  },
  {
   "cell_type": "code",
   "execution_count": null,
   "id": "885fd920-b23a-4e4c-9406-8e43dd7a1a23",
   "metadata": {},
   "outputs": [],
   "source": [
    "movie.columns = collist\n",
    "movie.head(2)"
   ]
  },
  {
   "cell_type": "code",
   "execution_count": null,
   "id": "19a1be17-b63c-4db4-82a2-947e5757f20a",
   "metadata": {},
   "outputs": [],
   "source": [
    "# 데이터 프레임의 10개행 삭제\n",
    "movie_drop = movie.drop(range(10), axis = 'index')\n",
    "movie_drop.head(3)"
   ]
  },
  {
   "cell_type": "code",
   "execution_count": null,
   "id": "013b0cb5-6b21-40d0-bdef-3ead10cb4739",
   "metadata": {},
   "outputs": [],
   "source": [
    "# 데이터 프레임에서 컬럼 삭제\n",
    "movie_drop2 = movie.drop(['컬러','감독'], axis='columns')\n",
    "movie_drop2"
   ]
  },
  {
   "cell_type": "code",
   "execution_count": null,
   "id": "8a0280f8-f262-46f5-8496-3e1ae5025b8d",
   "metadata": {},
   "outputs": [],
   "source": [
    "# 컬럼을 추가하고 특정 값 넣기\n",
    "movie['has_seen'] = 0\n",
    "movie.columns"
   ]
  },
  {
   "cell_type": "code",
   "execution_count": null,
   "id": "fcd19116-1196-4160-b514-3c53a09fac10",
   "metadata": {},
   "outputs": [],
   "source": [
    "movie.head(3)"
   ]
  },
  {
   "cell_type": "code",
   "execution_count": null,
   "id": "ddbee4aa-53b7-4bd3-b716-22b2ab1b4e6d",
   "metadata": {},
   "outputs": [],
   "source": [
    "# 컬럼 위치\n",
    "avg_index = movie.columns.get_loc('duration') +1\n",
    "avg_index"
   ]
  },
  {
   "cell_type": "markdown",
   "id": "59b5618b-21ce-4185-9cd1-425201bf1e75",
   "metadata": {},
   "source": [
    "#### 데이터 프레임의 열 선택"
   ]
  },
  {
   "cell_type": "code",
   "execution_count": null,
   "id": "e31be723-c7e5-4ef0-8f24-59b337041fbb",
   "metadata": {},
   "outputs": [],
   "source": [
    "movie = pd.read_csv('movie.csv')\n",
    "movie.head()"
   ]
  },
  {
   "cell_type": "code",
   "execution_count": null,
   "id": "a7435e33-aa5d-4ae4-aba9-c1ebf2d9320b",
   "metadata": {},
   "outputs": [],
   "source": [
    "movie_actor = movie[['actor_1_name', 'actor_2_name', 'actor_3_name']]\n",
    "movie_actor.head()"
   ]
  },
  {
   "cell_type": "code",
   "execution_count": null,
   "id": "a0dde9ca-745c-4e01-a024-05c122cf1ed3",
   "metadata": {},
   "outputs": [],
   "source": [
    "movie[['director_name']].head()"
   ]
  },
  {
   "cell_type": "code",
   "execution_count": null,
   "id": "909c9cca-2e92-4a7f-a841-120c98d59635",
   "metadata": {},
   "outputs": [],
   "source": [
    "cols = ['actor_1_name', 'actor_2_name', 'actor_3_name']\n",
    "movie_actor = movie[cols]\n",
    "movie_actor.head()"
   ]
  },
  {
   "cell_type": "code",
   "execution_count": null,
   "id": "0c0ae2fb-a9a4-4c5f-8113-14bcb1fd5022",
   "metadata": {},
   "outputs": [],
   "source": [
    "# 타입별 데이터 선택\n",
    "movie.select_dtypes(include=['int64']).head()"
   ]
  },
  {
   "cell_type": "code",
   "execution_count": null,
   "id": "2581e453-b83c-44ab-bd55-40d2a4392548",
   "metadata": {},
   "outputs": [],
   "source": [
    "movie.dtypes"
   ]
  },
  {
   "cell_type": "code",
   "execution_count": null,
   "id": "d4801ca9-fc83-41f8-b8f8-14819117074d",
   "metadata": {},
   "outputs": [],
   "source": [
    "# 타입별 데이터 선택 수치형\n",
    "movie.select_dtypes(include=['number']).head()"
   ]
  },
  {
   "cell_type": "code",
   "execution_count": null,
   "id": "3d663526-a8ed-47a8-92cd-d00d52df6abb",
   "metadata": {},
   "outputs": [],
   "source": [
    "movie.columns.to_list()"
   ]
  },
  {
   "cell_type": "code",
   "execution_count": null,
   "id": "b33cff10-48f7-447a-9845-48818f0a44a2",
   "metadata": {},
   "outputs": [],
   "source": [
    "# facebook 이라는 문자열을 이름에 포함하고 있는 모든 열 검색\n",
    "movie.filter(like='facebook').head()"
   ]
  },
  {
   "cell_type": "code",
   "execution_count": null,
   "id": "2ed38f9d-1718-4639-abe6-4f263a366f25",
   "metadata": {},
   "outputs": [],
   "source": [
    "# filter 정규식 이용 가능\n",
    "# 이름에 숫자가 포함되어 있는 모든 열을 검색\n",
    "\n",
    "movie.filter(regex='\\d').head()"
   ]
  },
  {
   "cell_type": "code",
   "execution_count": null,
   "id": "77eb3ab4-a711-47d7-a1e2-b65f66d77496",
   "metadata": {},
   "outputs": [],
   "source": [
    "# dataframe 의 행(row)과 열(column) 개수를 튜플로 반환\n",
    "movie.shape"
   ]
  },
  {
   "cell_type": "code",
   "execution_count": null,
   "id": "26c72360-4812-421a-bd8e-e84a8897040e",
   "metadata": {},
   "outputs": [],
   "source": [
    "movie.size"
   ]
  },
  {
   "cell_type": "code",
   "execution_count": null,
   "id": "03cf5e24-1b95-4c63-90ba-e09a9a0e9c84",
   "metadata": {},
   "outputs": [],
   "source": [
    "movie.ndim # 차원수 반환 "
   ]
  },
  {
   "cell_type": "code",
   "execution_count": null,
   "id": "67bce7d8-ff34-403b-bb95-2e257432cd34",
   "metadata": {},
   "outputs": [],
   "source": [
    "len(movie) # 행의 개수"
   ]
  },
  {
   "cell_type": "code",
   "execution_count": null,
   "id": "aaf58662-d05b-4627-a53a-2767bbe02d25",
   "metadata": {},
   "outputs": [],
   "source": [
    "movie.count()  # 결측값 제외한 개수"
   ]
  },
  {
   "cell_type": "code",
   "execution_count": null,
   "id": "b11d283d-aac5-4a57-91fd-79296dc88b73",
   "metadata": {},
   "outputs": [],
   "source": [
    "movie.select_dtypes(include=['number']).min()"
   ]
  },
  {
   "cell_type": "code",
   "execution_count": null,
   "id": "cf329c75-5929-4920-9f02-455a9a97da8f",
   "metadata": {},
   "outputs": [],
   "source": [
    "movie.select_dtypes(include=['number']).std()"
   ]
  },
  {
   "cell_type": "code",
   "execution_count": null,
   "id": "64a659e3-cebd-4efe-bc76-9e6a2bf5c99e",
   "metadata": {},
   "outputs": [],
   "source": [
    "movie.select_dtypes(include=['number']).max()"
   ]
  },
  {
   "cell_type": "code",
   "execution_count": null,
   "id": "b3cff6c9-8acc-4f4b-8490-e22ba277fa4b",
   "metadata": {},
   "outputs": [],
   "source": [
    "movie.select_dtypes(include=['number']).mean()"
   ]
  },
  {
   "cell_type": "code",
   "execution_count": null,
   "id": "d4016e9b-c672-4f4f-9022-44b480e558d0",
   "metadata": {},
   "outputs": [],
   "source": [
    "movie.isnull().sum()"
   ]
  },
  {
   "cell_type": "code",
   "execution_count": null,
   "id": "e0c9bffb-e6d8-4bb6-a832-82a501a344fa",
   "metadata": {},
   "outputs": [],
   "source": [
    "movie.isnull().any().any()"
   ]
  },
  {
   "cell_type": "code",
   "execution_count": null,
   "id": "4618f819-f2bc-44ac-923d-fcde3cf71065",
   "metadata": {},
   "outputs": [],
   "source": [
    "# 범주형 컬럼만 출력\n",
    "# 가독성을 위해 백슬래시를 통해 줄바꿈을 하지 못하게 하는 방법\n",
    "movie.select_dtypes(include=['object'])\\\n",
    "    .fillna('UnKnown')\\\n",
    "    .head()"
   ]
  },
  {
   "cell_type": "code",
   "execution_count": null,
   "id": "a611e460-eed6-4558-a891-cedeed8051ba",
   "metadata": {},
   "outputs": [],
   "source": [
    "(movie.select_dtypes(include=['number']) * 0.00001).head()"
   ]
  },
  {
   "cell_type": "code",
   "execution_count": null,
   "id": "dd168a63-f316-4dfa-ab7b-69a41f2060ed",
   "metadata": {},
   "outputs": [],
   "source": [
    "(movie.select_dtypes(include=['number']) * 0.00001).round(-2).head()"
   ]
  },
  {
   "cell_type": "markdown",
   "id": "cd747a94-dfb2-493d-a216-1d96d0a9181e",
   "metadata": {},
   "source": [
    "### 미국대학 캠퍼스 데이터로 연습"
   ]
  },
  {
   "cell_type": "code",
   "execution_count": null,
   "id": "41368120-a2cd-4c54-9040-1c649c0b1d70",
   "metadata": {},
   "outputs": [],
   "source": [
    "college = pd.read_csv('college.csv', index_col = 'INSTNM')\n",
    "college"
   ]
  },
  {
   "cell_type": "code",
   "execution_count": null,
   "id": "e127f605-cff8-45c6-9db6-77e8b997e65b",
   "metadata": {},
   "outputs": [],
   "source": [
    "# UGDS_ 가 들어가는 컬럼과 데이터를 추출하시오.\n",
    "college_ug = college.filter(like = 'UGDS_')\n",
    "college_ug.head()\n"
   ]
  },
  {
   "cell_type": "code",
   "execution_count": null,
   "id": "36db7b38-b65d-4d77-987b-d6c55478e53d",
   "metadata": {},
   "outputs": [],
   "source": [
    "# college_ug의 컬럼별로 결측치 개수를 파악하시오.\n",
    "college_ug.isnull().sum()"
   ]
  },
  {
   "cell_type": "code",
   "execution_count": null,
   "id": "a3bc7217-e315-4a43-91e3-63e0637f3892",
   "metadata": {},
   "outputs": [],
   "source": [
    "# college_ug의 결측치를 모두 삭제하고 결측치 개수가 있는지 확인 하시오.\n",
    "\n",
    "college_ug.dropna().isnull().sum()"
   ]
  },
  {
   "cell_type": "markdown",
   "id": "b8cf03bb-05ab-4a34-9e80-da811f88e8e8",
   "metadata": {},
   "source": [
    "### 인덱서(indexer)"
   ]
  },
  {
   "cell_type": "code",
   "execution_count": null,
   "id": "cc320cdf-9e2a-46a1-b5c4-2c2711ca8a9c",
   "metadata": {},
   "outputs": [],
   "source": [
    "# loc 인덱서\n",
    "# 데이터 프레임 만들기\n",
    "df = pd.DataFrame(np.arange(10,22).reshape(3,4), index=['a','b','c'], columns=['A','B','C','D'])\n",
    "df"
   ]
  },
  {
   "cell_type": "code",
   "execution_count": null,
   "id": "e3f4dec3-ded1-4533-9921-698393bf1da3",
   "metadata": {},
   "outputs": [],
   "source": [
    "# 인덱싱 값을 하나만 받는 경우\n",
    "# 'a'인 행을 고르면 해당하는 행이 시리즈로 출력\n",
    "# df.head(1)\n",
    "df.loc['a']"
   ]
  },
  {
   "cell_type": "code",
   "execution_count": null,
   "id": "e74c6448-51fd-417e-a8d2-6473e48d9ab9",
   "metadata": {},
   "outputs": [],
   "source": [
    "# b,c 행 데이터\n",
    "df.loc['b':'c']"
   ]
  },
  {
   "cell_type": "code",
   "execution_count": null,
   "id": "057ff163-1ee0-4988-9b1c-bcc106d2bbb7",
   "metadata": {},
   "outputs": [],
   "source": [
    "df.loc[['b','c']]"
   ]
  },
  {
   "cell_type": "code",
   "execution_count": null,
   "id": "8cc7560f-7931-45b9-b67d-56c874aaa577",
   "metadata": {},
   "outputs": [],
   "source": [
    "df.A > 15"
   ]
  },
  {
   "cell_type": "code",
   "execution_count": 40,
   "id": "2e454726-b749-4e4a-ad08-8484ccf662e4",
   "metadata": {},
   "outputs": [
    {
     "ename": "NameError",
     "evalue": "name 'df' is not defined",
     "output_type": "error",
     "traceback": [
      "\u001b[1;31m---------------------------------------------------------------------------\u001b[0m",
      "\u001b[1;31mNameError\u001b[0m                                 Traceback (most recent call last)",
      "Cell \u001b[1;32mIn[40], line 1\u001b[0m\n\u001b[1;32m----> 1\u001b[0m df\u001b[38;5;241m.\u001b[39mloc[df\u001b[38;5;241m.\u001b[39mA\u001b[38;5;241m>\u001b[39m\u001b[38;5;241m15\u001b[39m]\n",
      "\u001b[1;31mNameError\u001b[0m: name 'df' is not defined"
     ]
    }
   ],
   "source": [
    "df.loc[df.A>15]"
   ]
  },
  {
   "cell_type": "code",
   "execution_count": 41,
   "id": "8c6dc0bd-d6d8-4118-bfa7-8659a12f2b69",
   "metadata": {},
   "outputs": [
    {
     "data": {
      "text/html": [
       "<div>\n",
       "<style scoped>\n",
       "    .dataframe tbody tr th:only-of-type {\n",
       "        vertical-align: middle;\n",
       "    }\n",
       "\n",
       "    .dataframe tbody tr th {\n",
       "        vertical-align: top;\n",
       "    }\n",
       "\n",
       "    .dataframe thead th {\n",
       "        text-align: right;\n",
       "    }\n",
       "</style>\n",
       "<table border=\"1\" class=\"dataframe\">\n",
       "  <thead>\n",
       "    <tr style=\"text-align: right;\">\n",
       "      <th></th>\n",
       "      <th>A</th>\n",
       "      <th>B</th>\n",
       "      <th>C</th>\n",
       "      <th>D</th>\n",
       "    </tr>\n",
       "  </thead>\n",
       "  <tbody>\n",
       "    <tr>\n",
       "      <th>a</th>\n",
       "      <td>10</td>\n",
       "      <td>11</td>\n",
       "      <td>12</td>\n",
       "      <td>13</td>\n",
       "    </tr>\n",
       "    <tr>\n",
       "      <th>b</th>\n",
       "      <td>14</td>\n",
       "      <td>15</td>\n",
       "      <td>16</td>\n",
       "      <td>17</td>\n",
       "    </tr>\n",
       "    <tr>\n",
       "      <th>c</th>\n",
       "      <td>18</td>\n",
       "      <td>19</td>\n",
       "      <td>20</td>\n",
       "      <td>21</td>\n",
       "    </tr>\n",
       "    <tr>\n",
       "      <th>d</th>\n",
       "      <td>22</td>\n",
       "      <td>23</td>\n",
       "      <td>24</td>\n",
       "      <td>25</td>\n",
       "    </tr>\n",
       "  </tbody>\n",
       "</table>\n",
       "</div>"
      ],
      "text/plain": [
       "    A   B   C   D\n",
       "a  10  11  12  13\n",
       "b  14  15  16  17\n",
       "c  18  19  20  21\n",
       "d  22  23  24  25"
      ]
     },
     "execution_count": 41,
     "metadata": {},
     "output_type": "execute_result"
    }
   ],
   "source": [
    "# 10 부터 25 까지 4행 4열의 데이터 프레임을 만들고\n",
    "# 컬럼명은 A,B,C,D로 하시오\n",
    "df2 = pd.DataFrame(np.arange(10,26).reshape(4,4), index=['a','b','c','d'], columns=['A','B','C','D'])\n",
    "df2"
   ]
  },
  {
   "cell_type": "code",
   "execution_count": 42,
   "id": "88661a50-3276-4dd6-ac71-6c414c988e28",
   "metadata": {},
   "outputs": [
    {
     "ename": "NameError",
     "evalue": "name 'df' is not defined",
     "output_type": "error",
     "traceback": [
      "\u001b[1;31m---------------------------------------------------------------------------\u001b[0m",
      "\u001b[1;31mNameError\u001b[0m                                 Traceback (most recent call last)",
      "Cell \u001b[1;32mIn[42], line 2\u001b[0m\n\u001b[0;32m      1\u001b[0m \u001b[38;5;66;03m# 인덱스 1 부터 2까지 1:2 구하시오\u001b[39;00m\n\u001b[1;32m----> 2\u001b[0m df\u001b[38;5;241m.\u001b[39mloc[\u001b[38;5;124m'\u001b[39m\u001b[38;5;124mb\u001b[39m\u001b[38;5;124m'\u001b[39m:\u001b[38;5;124m'\u001b[39m\u001b[38;5;124mc\u001b[39m\u001b[38;5;124m'\u001b[39m]\n",
      "\u001b[1;31mNameError\u001b[0m: name 'df' is not defined"
     ]
    }
   ],
   "source": [
    "# 인덱스 1 부터 2까지 1:2 구하시오\n",
    "df.loc['b':'c']"
   ]
  },
  {
   "cell_type": "code",
   "execution_count": 43,
   "id": "b1e06e0e-07eb-4083-a318-c08976277d42",
   "metadata": {},
   "outputs": [
    {
     "data": {
      "text/plain": [
       "14"
      ]
     },
     "execution_count": 43,
     "metadata": {},
     "output_type": "execute_result"
    }
   ],
   "source": [
    "df2.loc['b','A']"
   ]
  },
  {
   "cell_type": "code",
   "execution_count": 44,
   "id": "84895edb-b98c-403e-87e6-c88bf956d170",
   "metadata": {},
   "outputs": [
    {
     "data": {
      "text/html": [
       "<div>\n",
       "<style scoped>\n",
       "    .dataframe tbody tr th:only-of-type {\n",
       "        vertical-align: middle;\n",
       "    }\n",
       "\n",
       "    .dataframe tbody tr th {\n",
       "        vertical-align: top;\n",
       "    }\n",
       "\n",
       "    .dataframe thead th {\n",
       "        text-align: right;\n",
       "    }\n",
       "</style>\n",
       "<table border=\"1\" class=\"dataframe\">\n",
       "  <thead>\n",
       "    <tr style=\"text-align: right;\">\n",
       "      <th></th>\n",
       "      <th>A</th>\n",
       "      <th>B</th>\n",
       "      <th>C</th>\n",
       "      <th>D</th>\n",
       "    </tr>\n",
       "  </thead>\n",
       "  <tbody>\n",
       "    <tr>\n",
       "      <th>b</th>\n",
       "      <td>14</td>\n",
       "      <td>15</td>\n",
       "      <td>16</td>\n",
       "      <td>17</td>\n",
       "    </tr>\n",
       "    <tr>\n",
       "      <th>c</th>\n",
       "      <td>18</td>\n",
       "      <td>19</td>\n",
       "      <td>20</td>\n",
       "      <td>21</td>\n",
       "    </tr>\n",
       "    <tr>\n",
       "      <th>d</th>\n",
       "      <td>22</td>\n",
       "      <td>23</td>\n",
       "      <td>24</td>\n",
       "      <td>25</td>\n",
       "    </tr>\n",
       "  </tbody>\n",
       "</table>\n",
       "</div>"
      ],
      "text/plain": [
       "    A   B   C   D\n",
       "b  14  15  16  17\n",
       "c  18  19  20  21\n",
       "d  22  23  24  25"
      ]
     },
     "execution_count": 44,
     "metadata": {},
     "output_type": "execute_result"
    }
   ],
   "source": [
    "# 1행 이하의 모든 행을 구한다.\n",
    "df2.loc['b':, : ]"
   ]
  },
  {
   "cell_type": "code",
   "execution_count": 45,
   "id": "896b1303-06f3-4603-9202-e31d7c2a4d45",
   "metadata": {},
   "outputs": [
    {
     "data": {
      "text/plain": [
       "b    15\n",
       "c    19\n",
       "d    23\n",
       "Name: B, dtype: int32"
      ]
     },
     "execution_count": 45,
     "metadata": {},
     "output_type": "execute_result"
    }
   ],
   "source": [
    "df2.loc['b':, 'B']"
   ]
  },
  {
   "cell_type": "code",
   "execution_count": 46,
   "id": "ba6d695c-f80c-4b89-b994-f47d7f79ae15",
   "metadata": {},
   "outputs": [
    {
     "data": {
      "text/plain": [
       "a    11\n",
       "b    15\n",
       "c    19\n",
       "d    23\n",
       "Name: B, dtype: int32"
      ]
     },
     "execution_count": 46,
     "metadata": {},
     "output_type": "execute_result"
    }
   ],
   "source": [
    "df2['B']"
   ]
  },
  {
   "cell_type": "code",
   "execution_count": 47,
   "id": "836d7f0e-d29f-4205-b761-ed83718383ff",
   "metadata": {},
   "outputs": [
    {
     "data": {
      "text/plain": [
       "a    11\n",
       "b    15\n",
       "c    19\n",
       "d    23\n",
       "Name: B, dtype: int32"
      ]
     },
     "execution_count": 47,
     "metadata": {},
     "output_type": "execute_result"
    }
   ],
   "source": [
    "df2.B"
   ]
  },
  {
   "cell_type": "code",
   "execution_count": 48,
   "id": "acb89dd8-0332-4724-a8bb-473d9477d39c",
   "metadata": {},
   "outputs": [
    {
     "data": {
      "text/html": [
       "<div>\n",
       "<style scoped>\n",
       "    .dataframe tbody tr th:only-of-type {\n",
       "        vertical-align: middle;\n",
       "    }\n",
       "\n",
       "    .dataframe tbody tr th {\n",
       "        vertical-align: top;\n",
       "    }\n",
       "\n",
       "    .dataframe thead th {\n",
       "        text-align: right;\n",
       "    }\n",
       "</style>\n",
       "<table border=\"1\" class=\"dataframe\">\n",
       "  <thead>\n",
       "    <tr style=\"text-align: right;\">\n",
       "      <th></th>\n",
       "      <th>B</th>\n",
       "      <th>D</th>\n",
       "    </tr>\n",
       "  </thead>\n",
       "  <tbody>\n",
       "    <tr>\n",
       "      <th>b</th>\n",
       "      <td>15</td>\n",
       "      <td>17</td>\n",
       "    </tr>\n",
       "    <tr>\n",
       "      <th>c</th>\n",
       "      <td>19</td>\n",
       "      <td>21</td>\n",
       "    </tr>\n",
       "  </tbody>\n",
       "</table>\n",
       "</div>"
      ],
      "text/plain": [
       "    B   D\n",
       "b  15  17\n",
       "c  19  21"
      ]
     },
     "execution_count": 48,
     "metadata": {},
     "output_type": "execute_result"
    }
   ],
   "source": [
    "df2.loc[['b','c'],['B','D']]"
   ]
  },
  {
   "cell_type": "markdown",
   "id": "4874f10a-f093-4148-9728-de6ef8d5e0ab",
   "metadata": {},
   "source": [
    "#### iloc 인덱서\n",
    "- iloc 인덱서는 loc인덱서와 반대로 라벨이 아니라 순서를 나타내는\n",
    "- 정수(integer) 인덱스만 받는다. 다른 사항은 loc인덱서와 같다"
   ]
  },
  {
   "cell_type": "code",
   "execution_count": 49,
   "id": "6b11ff0f-91dd-4cf4-bb63-0a1c4d51acda",
   "metadata": {},
   "outputs": [
    {
     "ename": "NameError",
     "evalue": "name 'df' is not defined",
     "output_type": "error",
     "traceback": [
      "\u001b[1;31m---------------------------------------------------------------------------\u001b[0m",
      "\u001b[1;31mNameError\u001b[0m                                 Traceback (most recent call last)",
      "Cell \u001b[1;32mIn[49], line 1\u001b[0m\n\u001b[1;32m----> 1\u001b[0m df\n",
      "\u001b[1;31mNameError\u001b[0m: name 'df' is not defined"
     ]
    }
   ],
   "source": [
    "df"
   ]
  },
  {
   "cell_type": "code",
   "execution_count": 50,
   "id": "65d0f328-efae-4aad-8106-c7ee09a1f45a",
   "metadata": {},
   "outputs": [
    {
     "ename": "NameError",
     "evalue": "name 'df' is not defined",
     "output_type": "error",
     "traceback": [
      "\u001b[1;31m---------------------------------------------------------------------------\u001b[0m",
      "\u001b[1;31mNameError\u001b[0m                                 Traceback (most recent call last)",
      "Cell \u001b[1;32mIn[50], line 1\u001b[0m\n\u001b[1;32m----> 1\u001b[0m df\u001b[38;5;241m.\u001b[39mloc[\u001b[38;5;124m'\u001b[39m\u001b[38;5;124ma\u001b[39m\u001b[38;5;124m'\u001b[39m,\u001b[38;5;124m'\u001b[39m\u001b[38;5;124mB\u001b[39m\u001b[38;5;124m'\u001b[39m]\n",
      "\u001b[1;31mNameError\u001b[0m: name 'df' is not defined"
     ]
    }
   ],
   "source": [
    "df.loc['a','B']"
   ]
  },
  {
   "cell_type": "code",
   "execution_count": 51,
   "id": "3f88b157-1f33-4124-90e1-ff1b1418fd69",
   "metadata": {},
   "outputs": [
    {
     "ename": "NameError",
     "evalue": "name 'df' is not defined",
     "output_type": "error",
     "traceback": [
      "\u001b[1;31m---------------------------------------------------------------------------\u001b[0m",
      "\u001b[1;31mNameError\u001b[0m                                 Traceback (most recent call last)",
      "Cell \u001b[1;32mIn[51], line 1\u001b[0m\n\u001b[1;32m----> 1\u001b[0m df\u001b[38;5;241m.\u001b[39miloc[\u001b[38;5;241m0\u001b[39m,\u001b[38;5;241m1\u001b[39m]\n",
      "\u001b[1;31mNameError\u001b[0m: name 'df' is not defined"
     ]
    }
   ],
   "source": [
    "df.iloc[0,1]"
   ]
  },
  {
   "cell_type": "code",
   "execution_count": 52,
   "id": "2e83c07a-a1e8-4c74-afe1-9dff978d02e2",
   "metadata": {},
   "outputs": [
    {
     "ename": "NameError",
     "evalue": "name 'df' is not defined",
     "output_type": "error",
     "traceback": [
      "\u001b[1;31m---------------------------------------------------------------------------\u001b[0m",
      "\u001b[1;31mNameError\u001b[0m                                 Traceback (most recent call last)",
      "Cell \u001b[1;32mIn[52], line 1\u001b[0m\n\u001b[1;32m----> 1\u001b[0m df\u001b[38;5;241m.\u001b[39mloc[:,\u001b[38;5;124m'\u001b[39m\u001b[38;5;124mC\u001b[39m\u001b[38;5;124m'\u001b[39m]\n",
      "\u001b[1;31mNameError\u001b[0m: name 'df' is not defined"
     ]
    }
   ],
   "source": [
    "df.loc[:,'C']"
   ]
  },
  {
   "cell_type": "code",
   "execution_count": null,
   "id": "86048f27-f2a6-4b35-b984-1c62ad3f08a6",
   "metadata": {},
   "outputs": [],
   "source": [
    "df.iloc[:,2]"
   ]
  },
  {
   "cell_type": "code",
   "execution_count": 53,
   "id": "00f58a9b-3d52-40a3-a20c-b94ca7dc136c",
   "metadata": {},
   "outputs": [
    {
     "ename": "NameError",
     "evalue": "name 'df' is not defined",
     "output_type": "error",
     "traceback": [
      "\u001b[1;31m---------------------------------------------------------------------------\u001b[0m",
      "\u001b[1;31mNameError\u001b[0m                                 Traceback (most recent call last)",
      "Cell \u001b[1;32mIn[53], line 1\u001b[0m\n\u001b[1;32m----> 1\u001b[0m df\u001b[38;5;241m.\u001b[39miloc[\u001b[38;5;241m0\u001b[39m,\u001b[38;5;241m2\u001b[39m:]\n",
      "\u001b[1;31mNameError\u001b[0m: name 'df' is not defined"
     ]
    }
   ],
   "source": [
    "df.iloc[0,2:]"
   ]
  },
  {
   "cell_type": "code",
   "execution_count": 54,
   "id": "b04f6535-7b4e-444e-abea-19336e5f68a3",
   "metadata": {},
   "outputs": [
    {
     "ename": "NameError",
     "evalue": "name 'df' is not defined",
     "output_type": "error",
     "traceback": [
      "\u001b[1;31m---------------------------------------------------------------------------\u001b[0m",
      "\u001b[1;31mNameError\u001b[0m                                 Traceback (most recent call last)",
      "Cell \u001b[1;32mIn[54], line 1\u001b[0m\n\u001b[1;32m----> 1\u001b[0m df\u001b[38;5;241m.\u001b[39miloc[\u001b[38;5;241m-\u001b[39m\u001b[38;5;241m1\u001b[39m]\n",
      "\u001b[1;31mNameError\u001b[0m: name 'df' is not defined"
     ]
    }
   ],
   "source": [
    "df.iloc[-1]"
   ]
  },
  {
   "cell_type": "code",
   "execution_count": 55,
   "id": "7a430e3d-cde6-4c9b-aee2-bac1fa8b8e09",
   "metadata": {},
   "outputs": [
    {
     "ename": "NameError",
     "evalue": "name 'df' is not defined",
     "output_type": "error",
     "traceback": [
      "\u001b[1;31m---------------------------------------------------------------------------\u001b[0m",
      "\u001b[1;31mNameError\u001b[0m                                 Traceback (most recent call last)",
      "Cell \u001b[1;32mIn[55], line 1\u001b[0m\n\u001b[1;32m----> 1\u001b[0m df\u001b[38;5;241m.\u001b[39miloc[\u001b[38;5;241m-\u001b[39m\u001b[38;5;241m1\u001b[39m] \u001b[38;5;241m=\u001b[39m df\u001b[38;5;241m.\u001b[39miloc[\u001b[38;5;241m-\u001b[39m\u001b[38;5;241m1\u001b[39m]\u001b[38;5;241m*\u001b[39m\u001b[38;5;241m2\u001b[39m\n\u001b[0;32m      2\u001b[0m df\n",
      "\u001b[1;31mNameError\u001b[0m: name 'df' is not defined"
     ]
    }
   ],
   "source": [
    "df.iloc[-1] = df.iloc[-1]*2\n",
    "df"
   ]
  },
  {
   "cell_type": "code",
   "execution_count": 56,
   "id": "93e22f7f-899f-426d-a4d5-08d06a427428",
   "metadata": {},
   "outputs": [
    {
     "data": {
      "text/html": [
       "<div>\n",
       "<style scoped>\n",
       "    .dataframe tbody tr th:only-of-type {\n",
       "        vertical-align: middle;\n",
       "    }\n",
       "\n",
       "    .dataframe tbody tr th {\n",
       "        vertical-align: top;\n",
       "    }\n",
       "\n",
       "    .dataframe thead th {\n",
       "        text-align: right;\n",
       "    }\n",
       "</style>\n",
       "<table border=\"1\" class=\"dataframe\">\n",
       "  <thead>\n",
       "    <tr style=\"text-align: right;\">\n",
       "      <th></th>\n",
       "      <th>CITY</th>\n",
       "      <th>STABBR</th>\n",
       "      <th>HBCU</th>\n",
       "      <th>MENONLY</th>\n",
       "      <th>WOMENONLY</th>\n",
       "      <th>RELAFFIL</th>\n",
       "      <th>SATVRMID</th>\n",
       "      <th>SATMTMID</th>\n",
       "      <th>DISTANCEONLY</th>\n",
       "      <th>UGDS</th>\n",
       "      <th>...</th>\n",
       "      <th>UGDS_2MOR</th>\n",
       "      <th>UGDS_NRA</th>\n",
       "      <th>UGDS_UNKN</th>\n",
       "      <th>PPTUG_EF</th>\n",
       "      <th>CURROPER</th>\n",
       "      <th>PCTPELL</th>\n",
       "      <th>PCTFLOAN</th>\n",
       "      <th>UG25ABV</th>\n",
       "      <th>MD_EARN_WNE_P10</th>\n",
       "      <th>GRAD_DEBT_MDN_SUPP</th>\n",
       "    </tr>\n",
       "    <tr>\n",
       "      <th>INSTNM</th>\n",
       "      <th></th>\n",
       "      <th></th>\n",
       "      <th></th>\n",
       "      <th></th>\n",
       "      <th></th>\n",
       "      <th></th>\n",
       "      <th></th>\n",
       "      <th></th>\n",
       "      <th></th>\n",
       "      <th></th>\n",
       "      <th></th>\n",
       "      <th></th>\n",
       "      <th></th>\n",
       "      <th></th>\n",
       "      <th></th>\n",
       "      <th></th>\n",
       "      <th></th>\n",
       "      <th></th>\n",
       "      <th></th>\n",
       "      <th></th>\n",
       "      <th></th>\n",
       "    </tr>\n",
       "  </thead>\n",
       "  <tbody>\n",
       "    <tr>\n",
       "      <th>Alabama A &amp; M University</th>\n",
       "      <td>Normal</td>\n",
       "      <td>AL</td>\n",
       "      <td>1.0</td>\n",
       "      <td>0.0</td>\n",
       "      <td>0.0</td>\n",
       "      <td>0</td>\n",
       "      <td>424.0</td>\n",
       "      <td>420.0</td>\n",
       "      <td>0.0</td>\n",
       "      <td>4206.0</td>\n",
       "      <td>...</td>\n",
       "      <td>0.0000</td>\n",
       "      <td>0.0059</td>\n",
       "      <td>0.0138</td>\n",
       "      <td>0.0656</td>\n",
       "      <td>1</td>\n",
       "      <td>0.7356</td>\n",
       "      <td>0.8284</td>\n",
       "      <td>0.1049</td>\n",
       "      <td>30300</td>\n",
       "      <td>33888</td>\n",
       "    </tr>\n",
       "    <tr>\n",
       "      <th>University of Alabama at Birmingham</th>\n",
       "      <td>Birmingham</td>\n",
       "      <td>AL</td>\n",
       "      <td>0.0</td>\n",
       "      <td>0.0</td>\n",
       "      <td>0.0</td>\n",
       "      <td>0</td>\n",
       "      <td>570.0</td>\n",
       "      <td>565.0</td>\n",
       "      <td>0.0</td>\n",
       "      <td>11383.0</td>\n",
       "      <td>...</td>\n",
       "      <td>0.0368</td>\n",
       "      <td>0.0179</td>\n",
       "      <td>0.0100</td>\n",
       "      <td>0.2607</td>\n",
       "      <td>1</td>\n",
       "      <td>0.3460</td>\n",
       "      <td>0.5214</td>\n",
       "      <td>0.2422</td>\n",
       "      <td>39700</td>\n",
       "      <td>21941.5</td>\n",
       "    </tr>\n",
       "  </tbody>\n",
       "</table>\n",
       "<p>2 rows × 26 columns</p>\n",
       "</div>"
      ],
      "text/plain": [
       "                                           CITY STABBR  HBCU  MENONLY  \\\n",
       "INSTNM                                                                  \n",
       "Alabama A & M University                 Normal     AL   1.0      0.0   \n",
       "University of Alabama at Birmingham  Birmingham     AL   0.0      0.0   \n",
       "\n",
       "                                     WOMENONLY  RELAFFIL  SATVRMID  SATMTMID  \\\n",
       "INSTNM                                                                         \n",
       "Alabama A & M University                   0.0         0     424.0     420.0   \n",
       "University of Alabama at Birmingham        0.0         0     570.0     565.0   \n",
       "\n",
       "                                     DISTANCEONLY     UGDS  ...  UGDS_2MOR  \\\n",
       "INSTNM                                                      ...              \n",
       "Alabama A & M University                      0.0   4206.0  ...     0.0000   \n",
       "University of Alabama at Birmingham           0.0  11383.0  ...     0.0368   \n",
       "\n",
       "                                     UGDS_NRA  UGDS_UNKN  PPTUG_EF  CURROPER  \\\n",
       "INSTNM                                                                         \n",
       "Alabama A & M University               0.0059     0.0138    0.0656         1   \n",
       "University of Alabama at Birmingham    0.0179     0.0100    0.2607         1   \n",
       "\n",
       "                                     PCTPELL  PCTFLOAN  UG25ABV  \\\n",
       "INSTNM                                                            \n",
       "Alabama A & M University              0.7356    0.8284   0.1049   \n",
       "University of Alabama at Birmingham   0.3460    0.5214   0.2422   \n",
       "\n",
       "                                     MD_EARN_WNE_P10  GRAD_DEBT_MDN_SUPP  \n",
       "INSTNM                                                                    \n",
       "Alabama A & M University                       30300               33888  \n",
       "University of Alabama at Birmingham            39700             21941.5  \n",
       "\n",
       "[2 rows x 26 columns]"
      ]
     },
     "execution_count": 56,
     "metadata": {},
     "output_type": "execute_result"
    }
   ],
   "source": [
    "# 연습문제\n",
    "college = pd.read_csv('college.csv', index_col='INSTNM')\n",
    "college.head(2)"
   ]
  },
  {
   "cell_type": "code",
   "execution_count": 57,
   "id": "b8dc2061-bac8-4ad4-8cbb-cf60b177346e",
   "metadata": {},
   "outputs": [
    {
     "data": {
      "text/plain": [
       "CITY                  Montgomery\n",
       "STABBR                        AL\n",
       "HBCU                         0.0\n",
       "MENONLY                      0.0\n",
       "WOMENONLY                    0.0\n",
       "RELAFFIL                       1\n",
       "SATVRMID                     NaN\n",
       "SATMTMID                     NaN\n",
       "DISTANCEONLY                 1.0\n",
       "UGDS                       291.0\n",
       "UGDS_WHITE                 0.299\n",
       "UGDS_BLACK                0.4192\n",
       "UGDS_HISP                 0.0069\n",
       "UGDS_ASIAN                0.0034\n",
       "UGDS_AIAN                    0.0\n",
       "UGDS_NHPI                    0.0\n",
       "UGDS_2MOR                    0.0\n",
       "UGDS_NRA                     0.0\n",
       "UGDS_UNKN                 0.2715\n",
       "PPTUG_EF                  0.4536\n",
       "CURROPER                       1\n",
       "PCTPELL                   0.6801\n",
       "PCTFLOAN                  0.7795\n",
       "UG25ABV                    0.854\n",
       "MD_EARN_WNE_P10            40100\n",
       "GRAD_DEBT_MDN_SUPP         23370\n",
       "Name: Amridge University, dtype: object"
      ]
     },
     "execution_count": 57,
     "metadata": {},
     "output_type": "execute_result"
    }
   ],
   "source": [
    "# 세번째 (배열로는 2) 행을 iloc를 사용하여 나타내시오\n",
    "college.iloc[2]"
   ]
  },
  {
   "cell_type": "code",
   "execution_count": 58,
   "id": "abc83ba8-e102-4ebc-b66c-068417ff8964",
   "metadata": {},
   "outputs": [
    {
     "data": {
      "text/plain": [
       "CITY                  Montgomery\n",
       "STABBR                        AL\n",
       "HBCU                         0.0\n",
       "MENONLY                      0.0\n",
       "WOMENONLY                    0.0\n",
       "RELAFFIL                       1\n",
       "SATVRMID                     NaN\n",
       "SATMTMID                     NaN\n",
       "DISTANCEONLY                 1.0\n",
       "UGDS                       291.0\n",
       "UGDS_WHITE                 0.299\n",
       "UGDS_BLACK                0.4192\n",
       "UGDS_HISP                 0.0069\n",
       "UGDS_ASIAN                0.0034\n",
       "UGDS_AIAN                    0.0\n",
       "UGDS_NHPI                    0.0\n",
       "UGDS_2MOR                    0.0\n",
       "UGDS_NRA                     0.0\n",
       "UGDS_UNKN                 0.2715\n",
       "PPTUG_EF                  0.4536\n",
       "CURROPER                       1\n",
       "PCTPELL                   0.6801\n",
       "PCTFLOAN                  0.7795\n",
       "UG25ABV                    0.854\n",
       "MD_EARN_WNE_P10            40100\n",
       "GRAD_DEBT_MDN_SUPP         23370\n",
       "Name: Amridge University, dtype: object"
      ]
     },
     "execution_count": 58,
     "metadata": {},
     "output_type": "execute_result"
    }
   ],
   "source": [
    "# 인덱스명이 'Amridge University' 인 데이터를 나타내시오.(loc사용)\n",
    "# college.loc[:].filter(like = 'Amridge University')\n",
    "college.loc['Amridge University']"
   ]
  },
  {
   "cell_type": "code",
   "execution_count": 59,
   "id": "29a38705-7841-4222-9f58-617f16ea064e",
   "metadata": {},
   "outputs": [
    {
     "data": {
      "text/html": [
       "<div>\n",
       "<style scoped>\n",
       "    .dataframe tbody tr th:only-of-type {\n",
       "        vertical-align: middle;\n",
       "    }\n",
       "\n",
       "    .dataframe tbody tr th {\n",
       "        vertical-align: top;\n",
       "    }\n",
       "\n",
       "    .dataframe thead th {\n",
       "        text-align: right;\n",
       "    }\n",
       "</style>\n",
       "<table border=\"1\" class=\"dataframe\">\n",
       "  <thead>\n",
       "    <tr style=\"text-align: right;\">\n",
       "      <th></th>\n",
       "      <th>CITY</th>\n",
       "      <th>STABBR</th>\n",
       "      <th>HBCU</th>\n",
       "      <th>MENONLY</th>\n",
       "      <th>WOMENONLY</th>\n",
       "      <th>RELAFFIL</th>\n",
       "      <th>SATVRMID</th>\n",
       "      <th>SATMTMID</th>\n",
       "      <th>DISTANCEONLY</th>\n",
       "      <th>UGDS</th>\n",
       "      <th>...</th>\n",
       "      <th>UGDS_2MOR</th>\n",
       "      <th>UGDS_NRA</th>\n",
       "      <th>UGDS_UNKN</th>\n",
       "      <th>PPTUG_EF</th>\n",
       "      <th>CURROPER</th>\n",
       "      <th>PCTPELL</th>\n",
       "      <th>PCTFLOAN</th>\n",
       "      <th>UG25ABV</th>\n",
       "      <th>MD_EARN_WNE_P10</th>\n",
       "      <th>GRAD_DEBT_MDN_SUPP</th>\n",
       "    </tr>\n",
       "    <tr>\n",
       "      <th>INSTNM</th>\n",
       "      <th></th>\n",
       "      <th></th>\n",
       "      <th></th>\n",
       "      <th></th>\n",
       "      <th></th>\n",
       "      <th></th>\n",
       "      <th></th>\n",
       "      <th></th>\n",
       "      <th></th>\n",
       "      <th></th>\n",
       "      <th></th>\n",
       "      <th></th>\n",
       "      <th></th>\n",
       "      <th></th>\n",
       "      <th></th>\n",
       "      <th></th>\n",
       "      <th></th>\n",
       "      <th></th>\n",
       "      <th></th>\n",
       "      <th></th>\n",
       "      <th></th>\n",
       "    </tr>\n",
       "  </thead>\n",
       "  <tbody>\n",
       "    <tr>\n",
       "      <th>University of Alaska Anchorage</th>\n",
       "      <td>Anchorage</td>\n",
       "      <td>AK</td>\n",
       "      <td>0.0</td>\n",
       "      <td>0.0</td>\n",
       "      <td>0.0</td>\n",
       "      <td>0</td>\n",
       "      <td>NaN</td>\n",
       "      <td>NaN</td>\n",
       "      <td>0.0</td>\n",
       "      <td>12865.0</td>\n",
       "      <td>...</td>\n",
       "      <td>0.0980</td>\n",
       "      <td>0.0181</td>\n",
       "      <td>0.0457</td>\n",
       "      <td>0.4539</td>\n",
       "      <td>1</td>\n",
       "      <td>0.2385</td>\n",
       "      <td>0.2647</td>\n",
       "      <td>0.4386</td>\n",
       "      <td>42500</td>\n",
       "      <td>19449.5</td>\n",
       "    </tr>\n",
       "    <tr>\n",
       "      <th>International Academy of Hair Design</th>\n",
       "      <td>Tempe</td>\n",
       "      <td>AZ</td>\n",
       "      <td>0.0</td>\n",
       "      <td>0.0</td>\n",
       "      <td>0.0</td>\n",
       "      <td>0</td>\n",
       "      <td>NaN</td>\n",
       "      <td>NaN</td>\n",
       "      <td>0.0</td>\n",
       "      <td>188.0</td>\n",
       "      <td>...</td>\n",
       "      <td>0.0160</td>\n",
       "      <td>0.0000</td>\n",
       "      <td>0.0638</td>\n",
       "      <td>0.0000</td>\n",
       "      <td>0</td>\n",
       "      <td>0.7185</td>\n",
       "      <td>0.7346</td>\n",
       "      <td>0.3905</td>\n",
       "      <td>22200</td>\n",
       "      <td>10556</td>\n",
       "    </tr>\n",
       "    <tr>\n",
       "      <th>University of Alabama in Huntsville</th>\n",
       "      <td>Huntsville</td>\n",
       "      <td>AL</td>\n",
       "      <td>0.0</td>\n",
       "      <td>0.0</td>\n",
       "      <td>0.0</td>\n",
       "      <td>0</td>\n",
       "      <td>595.0</td>\n",
       "      <td>590.0</td>\n",
       "      <td>0.0</td>\n",
       "      <td>5451.0</td>\n",
       "      <td>...</td>\n",
       "      <td>0.0172</td>\n",
       "      <td>0.0332</td>\n",
       "      <td>0.0350</td>\n",
       "      <td>0.2146</td>\n",
       "      <td>1</td>\n",
       "      <td>0.3072</td>\n",
       "      <td>0.4596</td>\n",
       "      <td>0.2640</td>\n",
       "      <td>45500</td>\n",
       "      <td>24097</td>\n",
       "    </tr>\n",
       "  </tbody>\n",
       "</table>\n",
       "<p>3 rows × 26 columns</p>\n",
       "</div>"
      ],
      "text/plain": [
       "                                            CITY STABBR  HBCU  MENONLY  \\\n",
       "INSTNM                                                                   \n",
       "University of Alaska Anchorage         Anchorage     AK   0.0      0.0   \n",
       "International Academy of Hair Design       Tempe     AZ   0.0      0.0   \n",
       "University of Alabama in Huntsville   Huntsville     AL   0.0      0.0   \n",
       "\n",
       "                                      WOMENONLY  RELAFFIL  SATVRMID  SATMTMID  \\\n",
       "INSTNM                                                                          \n",
       "University of Alaska Anchorage              0.0         0       NaN       NaN   \n",
       "International Academy of Hair Design        0.0         0       NaN       NaN   \n",
       "University of Alabama in Huntsville         0.0         0     595.0     590.0   \n",
       "\n",
       "                                      DISTANCEONLY     UGDS  ...  UGDS_2MOR  \\\n",
       "INSTNM                                                       ...              \n",
       "University of Alaska Anchorage                 0.0  12865.0  ...     0.0980   \n",
       "International Academy of Hair Design           0.0    188.0  ...     0.0160   \n",
       "University of Alabama in Huntsville            0.0   5451.0  ...     0.0172   \n",
       "\n",
       "                                      UGDS_NRA  UGDS_UNKN  PPTUG_EF  CURROPER  \\\n",
       "INSTNM                                                                          \n",
       "University of Alaska Anchorage          0.0181     0.0457    0.4539         1   \n",
       "International Academy of Hair Design    0.0000     0.0638    0.0000         0   \n",
       "University of Alabama in Huntsville     0.0332     0.0350    0.2146         1   \n",
       "\n",
       "                                      PCTPELL  PCTFLOAN  UG25ABV  \\\n",
       "INSTNM                                                             \n",
       "University of Alaska Anchorage         0.2385    0.2647   0.4386   \n",
       "International Academy of Hair Design   0.7185    0.7346   0.3905   \n",
       "University of Alabama in Huntsville    0.3072    0.4596   0.2640   \n",
       "\n",
       "                                      MD_EARN_WNE_P10  GRAD_DEBT_MDN_SUPP  \n",
       "INSTNM                                                                     \n",
       "University of Alaska Anchorage                  42500             19449.5  \n",
       "International Academy of Hair Design            22200               10556  \n",
       "University of Alabama in Huntsville             45500               24097  \n",
       "\n",
       "[3 rows x 26 columns]"
      ]
     },
     "execution_count": 59,
     "metadata": {},
     "output_type": "execute_result"
    }
   ],
   "source": [
    "# 인덱스가(배열번호로), 60, 99, 3을 찾아 나타내시오 \n",
    "college.iloc[[60,99,3]]"
   ]
  },
  {
   "cell_type": "code",
   "execution_count": 60,
   "id": "2e773788-6155-47bc-aab8-f35867de7e76",
   "metadata": {},
   "outputs": [
    {
     "data": {
      "text/html": [
       "<div>\n",
       "<style scoped>\n",
       "    .dataframe tbody tr th:only-of-type {\n",
       "        vertical-align: middle;\n",
       "    }\n",
       "\n",
       "    .dataframe tbody tr th {\n",
       "        vertical-align: top;\n",
       "    }\n",
       "\n",
       "    .dataframe thead th {\n",
       "        text-align: right;\n",
       "    }\n",
       "</style>\n",
       "<table border=\"1\" class=\"dataframe\">\n",
       "  <thead>\n",
       "    <tr style=\"text-align: right;\">\n",
       "      <th></th>\n",
       "      <th>CITY</th>\n",
       "      <th>STABBR</th>\n",
       "      <th>HBCU</th>\n",
       "      <th>MENONLY</th>\n",
       "    </tr>\n",
       "    <tr>\n",
       "      <th>INSTNM</th>\n",
       "      <th></th>\n",
       "      <th></th>\n",
       "      <th></th>\n",
       "      <th></th>\n",
       "    </tr>\n",
       "  </thead>\n",
       "  <tbody>\n",
       "    <tr>\n",
       "      <th>Alabama A &amp; M University</th>\n",
       "      <td>Normal</td>\n",
       "      <td>AL</td>\n",
       "      <td>1.0</td>\n",
       "      <td>0.0</td>\n",
       "    </tr>\n",
       "    <tr>\n",
       "      <th>University of Alabama at Birmingham</th>\n",
       "      <td>Birmingham</td>\n",
       "      <td>AL</td>\n",
       "      <td>0.0</td>\n",
       "      <td>0.0</td>\n",
       "    </tr>\n",
       "    <tr>\n",
       "      <th>Amridge University</th>\n",
       "      <td>Montgomery</td>\n",
       "      <td>AL</td>\n",
       "      <td>0.0</td>\n",
       "      <td>0.0</td>\n",
       "    </tr>\n",
       "  </tbody>\n",
       "</table>\n",
       "</div>"
      ],
      "text/plain": [
       "                                           CITY STABBR  HBCU  MENONLY\n",
       "INSTNM                                                               \n",
       "Alabama A & M University                 Normal     AL   1.0      0.0\n",
       "University of Alabama at Birmingham  Birmingham     AL   0.0      0.0\n",
       "Amridge University                   Montgomery     AL   0.0      0.0"
      ]
     },
     "execution_count": 60,
     "metadata": {},
     "output_type": "execute_result"
    }
   ],
   "source": [
    "# 세번째 행이하, 그리고 네번째 열 이하인 데이터를 iloc를 사용하여 구하시오\n",
    "college.iloc[:3,:4]"
   ]
  },
  {
   "cell_type": "code",
   "execution_count": 61,
   "id": "3cbfc59d-e1ee-4962-af5f-574d5c98a2e4",
   "metadata": {},
   "outputs": [
    {
     "data": {
      "text/html": [
       "<div>\n",
       "<style scoped>\n",
       "    .dataframe tbody tr th:only-of-type {\n",
       "        vertical-align: middle;\n",
       "    }\n",
       "\n",
       "    .dataframe tbody tr th {\n",
       "        vertical-align: top;\n",
       "    }\n",
       "\n",
       "    .dataframe thead th {\n",
       "        text-align: right;\n",
       "    }\n",
       "</style>\n",
       "<table border=\"1\" class=\"dataframe\">\n",
       "  <thead>\n",
       "    <tr style=\"text-align: right;\">\n",
       "      <th></th>\n",
       "      <th>CITY</th>\n",
       "      <th>STABBR</th>\n",
       "      <th>HBCU</th>\n",
       "      <th>MENONLY</th>\n",
       "    </tr>\n",
       "    <tr>\n",
       "      <th>INSTNM</th>\n",
       "      <th></th>\n",
       "      <th></th>\n",
       "      <th></th>\n",
       "      <th></th>\n",
       "    </tr>\n",
       "  </thead>\n",
       "  <tbody>\n",
       "    <tr>\n",
       "      <th>Alabama A &amp; M University</th>\n",
       "      <td>Normal</td>\n",
       "      <td>AL</td>\n",
       "      <td>1.0</td>\n",
       "      <td>0.0</td>\n",
       "    </tr>\n",
       "    <tr>\n",
       "      <th>University of Alabama at Birmingham</th>\n",
       "      <td>Birmingham</td>\n",
       "      <td>AL</td>\n",
       "      <td>0.0</td>\n",
       "      <td>0.0</td>\n",
       "    </tr>\n",
       "    <tr>\n",
       "      <th>Amridge University</th>\n",
       "      <td>Montgomery</td>\n",
       "      <td>AL</td>\n",
       "      <td>0.0</td>\n",
       "      <td>0.0</td>\n",
       "    </tr>\n",
       "  </tbody>\n",
       "</table>\n",
       "</div>"
      ],
      "text/plain": [
       "                                           CITY STABBR  HBCU  MENONLY\n",
       "INSTNM                                                               \n",
       "Alabama A & M University                 Normal     AL   1.0      0.0\n",
       "University of Alabama at Birmingham  Birmingham     AL   0.0      0.0\n",
       "Amridge University                   Montgomery     AL   0.0      0.0"
      ]
     },
     "execution_count": 61,
     "metadata": {},
     "output_type": "execute_result"
    }
   ],
   "source": [
    "# loc로 표현한다면?\n",
    "college.loc[:'Amridge University',:'MENONLY']"
   ]
  },
  {
   "cell_type": "code",
   "execution_count": 62,
   "id": "8bf1c1d6-2f7d-4159-a7e5-29da9bd8442d",
   "metadata": {},
   "outputs": [
    {
     "data": {
      "text/html": [
       "<div>\n",
       "<style scoped>\n",
       "    .dataframe tbody tr th:only-of-type {\n",
       "        vertical-align: middle;\n",
       "    }\n",
       "\n",
       "    .dataframe tbody tr th {\n",
       "        vertical-align: top;\n",
       "    }\n",
       "\n",
       "    .dataframe thead th {\n",
       "        text-align: right;\n",
       "    }\n",
       "</style>\n",
       "<table border=\"1\" class=\"dataframe\">\n",
       "  <thead>\n",
       "    <tr style=\"text-align: right;\">\n",
       "      <th></th>\n",
       "      <th>WOMENONLY</th>\n",
       "      <th>SATVRMID</th>\n",
       "    </tr>\n",
       "    <tr>\n",
       "      <th>INSTNM</th>\n",
       "      <th></th>\n",
       "      <th></th>\n",
       "    </tr>\n",
       "  </thead>\n",
       "  <tbody>\n",
       "    <tr>\n",
       "      <th>Alabama A &amp; M University</th>\n",
       "      <td>0.0</td>\n",
       "      <td>424.0</td>\n",
       "    </tr>\n",
       "    <tr>\n",
       "      <th>University of Alabama at Birmingham</th>\n",
       "      <td>0.0</td>\n",
       "      <td>570.0</td>\n",
       "    </tr>\n",
       "    <tr>\n",
       "      <th>Amridge University</th>\n",
       "      <td>0.0</td>\n",
       "      <td>NaN</td>\n",
       "    </tr>\n",
       "    <tr>\n",
       "      <th>University of Alabama in Huntsville</th>\n",
       "      <td>0.0</td>\n",
       "      <td>595.0</td>\n",
       "    </tr>\n",
       "    <tr>\n",
       "      <th>Alabama State University</th>\n",
       "      <td>0.0</td>\n",
       "      <td>425.0</td>\n",
       "    </tr>\n",
       "  </tbody>\n",
       "</table>\n",
       "</div>"
      ],
      "text/plain": [
       "                                     WOMENONLY  SATVRMID\n",
       "INSTNM                                                  \n",
       "Alabama A & M University                   0.0     424.0\n",
       "University of Alabama at Birmingham        0.0     570.0\n",
       "Amridge University                         0.0       NaN\n",
       "University of Alabama in Huntsville        0.0     595.0\n",
       "Alabama State University                   0.0     425.0"
      ]
     },
     "execution_count": 62,
     "metadata": {},
     "output_type": "execute_result"
    }
   ],
   "source": [
    "college.iloc[:,[4,6]].head()"
   ]
  },
  {
   "cell_type": "code",
   "execution_count": 63,
   "id": "f831c5fe-a4aa-4bcf-850c-35b9c0ceb9d2",
   "metadata": {},
   "outputs": [
    {
     "data": {
      "text/html": [
       "<div>\n",
       "<style scoped>\n",
       "    .dataframe tbody tr th:only-of-type {\n",
       "        vertical-align: middle;\n",
       "    }\n",
       "\n",
       "    .dataframe tbody tr th {\n",
       "        vertical-align: top;\n",
       "    }\n",
       "\n",
       "    .dataframe thead th {\n",
       "        text-align: right;\n",
       "    }\n",
       "</style>\n",
       "<table border=\"1\" class=\"dataframe\">\n",
       "  <thead>\n",
       "    <tr style=\"text-align: right;\">\n",
       "      <th></th>\n",
       "      <th>SATMTMID</th>\n",
       "      <th>UGDS_NHPI</th>\n",
       "    </tr>\n",
       "    <tr>\n",
       "      <th>INSTNM</th>\n",
       "      <th></th>\n",
       "      <th></th>\n",
       "    </tr>\n",
       "  </thead>\n",
       "  <tbody>\n",
       "    <tr>\n",
       "      <th>GateWay Community College</th>\n",
       "      <td>NaN</td>\n",
       "      <td>0.0029</td>\n",
       "    </tr>\n",
       "    <tr>\n",
       "      <th>American Baptist Seminary of the West</th>\n",
       "      <td>NaN</td>\n",
       "      <td>NaN</td>\n",
       "    </tr>\n",
       "  </tbody>\n",
       "</table>\n",
       "</div>"
      ],
      "text/plain": [
       "                                       SATMTMID  UGDS_NHPI\n",
       "INSTNM                                                    \n",
       "GateWay Community College                   NaN     0.0029\n",
       "American Baptist Seminary of the West       NaN        NaN"
      ]
     },
     "execution_count": 63,
     "metadata": {},
     "output_type": "execute_result"
    }
   ],
   "source": [
    "# college에서(배열로) 100번 행, 200번행, 7번열, 15번열을 구하시오\n",
    "college.iloc[[100,200],[7,15]]"
   ]
  },
  {
   "cell_type": "code",
   "execution_count": 64,
   "id": "12220cae-99b3-4d36-9b75-73f4bf0e37cc",
   "metadata": {},
   "outputs": [
    {
     "data": {
      "text/html": [
       "<div>\n",
       "<style scoped>\n",
       "    .dataframe tbody tr th:only-of-type {\n",
       "        vertical-align: middle;\n",
       "    }\n",
       "\n",
       "    .dataframe tbody tr th {\n",
       "        vertical-align: top;\n",
       "    }\n",
       "\n",
       "    .dataframe thead th {\n",
       "        text-align: right;\n",
       "    }\n",
       "</style>\n",
       "<table border=\"1\" class=\"dataframe\">\n",
       "  <thead>\n",
       "    <tr style=\"text-align: right;\">\n",
       "      <th></th>\n",
       "      <th>UNIQUE_ID</th>\n",
       "      <th>POSITION_TITLE</th>\n",
       "      <th>DEPARTMENT</th>\n",
       "      <th>BASE_SALARY</th>\n",
       "      <th>RACE</th>\n",
       "      <th>EMPLOYMENT_TYPE</th>\n",
       "      <th>GENDER</th>\n",
       "      <th>EMPLOYMENT_STATUS</th>\n",
       "      <th>HIRE_DATE</th>\n",
       "      <th>JOB_DATE</th>\n",
       "    </tr>\n",
       "  </thead>\n",
       "  <tbody>\n",
       "    <tr>\n",
       "      <th>0</th>\n",
       "      <td>0</td>\n",
       "      <td>ASSISTANT DIRECTOR (EX LVL)</td>\n",
       "      <td>Municipal Courts Department</td>\n",
       "      <td>121862.0</td>\n",
       "      <td>Hispanic/Latino</td>\n",
       "      <td>Full Time</td>\n",
       "      <td>Female</td>\n",
       "      <td>Active</td>\n",
       "      <td>2006-06-12</td>\n",
       "      <td>2012-10-13</td>\n",
       "    </tr>\n",
       "    <tr>\n",
       "      <th>1</th>\n",
       "      <td>1</td>\n",
       "      <td>LIBRARY ASSISTANT</td>\n",
       "      <td>Library</td>\n",
       "      <td>26125.0</td>\n",
       "      <td>Hispanic/Latino</td>\n",
       "      <td>Full Time</td>\n",
       "      <td>Female</td>\n",
       "      <td>Active</td>\n",
       "      <td>2000-07-19</td>\n",
       "      <td>2010-09-18</td>\n",
       "    </tr>\n",
       "    <tr>\n",
       "      <th>2</th>\n",
       "      <td>2</td>\n",
       "      <td>POLICE OFFICER</td>\n",
       "      <td>Houston Police Department-HPD</td>\n",
       "      <td>45279.0</td>\n",
       "      <td>White</td>\n",
       "      <td>Full Time</td>\n",
       "      <td>Male</td>\n",
       "      <td>Active</td>\n",
       "      <td>2015-02-03</td>\n",
       "      <td>2015-02-03</td>\n",
       "    </tr>\n",
       "    <tr>\n",
       "      <th>3</th>\n",
       "      <td>3</td>\n",
       "      <td>ENGINEER/OPERATOR</td>\n",
       "      <td>Houston Fire Department (HFD)</td>\n",
       "      <td>63166.0</td>\n",
       "      <td>White</td>\n",
       "      <td>Full Time</td>\n",
       "      <td>Male</td>\n",
       "      <td>Active</td>\n",
       "      <td>1982-02-08</td>\n",
       "      <td>1991-05-25</td>\n",
       "    </tr>\n",
       "    <tr>\n",
       "      <th>4</th>\n",
       "      <td>4</td>\n",
       "      <td>ELECTRICIAN</td>\n",
       "      <td>General Services Department</td>\n",
       "      <td>56347.0</td>\n",
       "      <td>White</td>\n",
       "      <td>Full Time</td>\n",
       "      <td>Male</td>\n",
       "      <td>Active</td>\n",
       "      <td>1989-06-19</td>\n",
       "      <td>1994-10-22</td>\n",
       "    </tr>\n",
       "  </tbody>\n",
       "</table>\n",
       "</div>"
      ],
      "text/plain": [
       "   UNIQUE_ID               POSITION_TITLE                     DEPARTMENT  \\\n",
       "0          0  ASSISTANT DIRECTOR (EX LVL)    Municipal Courts Department   \n",
       "1          1            LIBRARY ASSISTANT                        Library   \n",
       "2          2               POLICE OFFICER  Houston Police Department-HPD   \n",
       "3          3            ENGINEER/OPERATOR  Houston Fire Department (HFD)   \n",
       "4          4                  ELECTRICIAN    General Services Department   \n",
       "\n",
       "   BASE_SALARY             RACE EMPLOYMENT_TYPE  GENDER EMPLOYMENT_STATUS  \\\n",
       "0     121862.0  Hispanic/Latino       Full Time  Female            Active   \n",
       "1      26125.0  Hispanic/Latino       Full Time  Female            Active   \n",
       "2      45279.0            White       Full Time    Male            Active   \n",
       "3      63166.0            White       Full Time    Male            Active   \n",
       "4      56347.0            White       Full Time    Male            Active   \n",
       "\n",
       "    HIRE_DATE    JOB_DATE  \n",
       "0  2006-06-12  2012-10-13  \n",
       "1  2000-07-19  2010-09-18  \n",
       "2  2015-02-03  2015-02-03  \n",
       "3  1982-02-08  1991-05-25  \n",
       "4  1989-06-19  1994-10-22  "
      ]
     },
     "execution_count": 64,
     "metadata": {},
     "output_type": "execute_result"
    }
   ],
   "source": [
    "employee = pd.read_csv('employee.csv')\n",
    "employee.head()"
   ]
  },
  {
   "cell_type": "code",
   "execution_count": 65,
   "id": "783ec933-9549-4d87-ac60-35bce2360e80",
   "metadata": {},
   "outputs": [
    {
     "data": {
      "text/plain": [
       "DEPARTMENT\n",
       "Houston Police Department-HPD     638\n",
       "Houston Fire Department (HFD)     384\n",
       "Public Works & Engineering-PWE    343\n",
       "Health & Human Services           110\n",
       "Houston Airport System (HAS)      106\n",
       "Parks & Recreation                 74\n",
       "Solid Waste Management             43\n",
       "Library                            36\n",
       "Fleet Management Department        36\n",
       "Admn. & Regulatory Affairs         29\n",
       "Municipal Courts Department        28\n",
       "Human Resources Dept.              24\n",
       "Houston Emergency Center (HEC)     23\n",
       "Housing and Community Devp.        22\n",
       "General Services Department        22\n",
       "Legal Department                   17\n",
       "Dept of Neighborhoods (DON)        17\n",
       "City Council                       11\n",
       "Finance                            10\n",
       "Houston Information Tech Svcs       9\n",
       "Planning & Development              7\n",
       "City Controller's Office            5\n",
       "Mayor's Office                      5\n",
       "Convention and Entertainment        1\n",
       "Name: count, dtype: int64"
      ]
     },
     "execution_count": 65,
     "metadata": {},
     "output_type": "execute_result"
    }
   ],
   "source": [
    "# 위 데이터에서 department에 소한 사람이 가장 많은 부서부터 정렬하시오.\n",
    "# 데이터가 가장 많은 부서와 수는?\n",
    "employee.DEPARTMENT.value_counts()"
   ]
  },
  {
   "cell_type": "code",
   "execution_count": 66,
   "id": "24d5fa34-ab6b-4997-b697-80127d61debe",
   "metadata": {},
   "outputs": [],
   "source": [
    "depts = ['Houston Fire Department (HFD)','Library']"
   ]
  },
  {
   "cell_type": "code",
   "execution_count": 67,
   "id": "adbe47de-90f9-4bb5-b8e6-abf0c150054a",
   "metadata": {},
   "outputs": [],
   "source": [
    "c_depts = employee.DEPARTMENT.isin(depts)"
   ]
  },
  {
   "cell_type": "code",
   "execution_count": 68,
   "id": "541b739d-b546-4c0f-bfc6-e1efdfa50623",
   "metadata": {},
   "outputs": [],
   "source": [
    "c_gender = employee.GENDER == 'Female'"
   ]
  },
  {
   "cell_type": "code",
   "execution_count": 69,
   "id": "e3f70783-5e32-463b-8a05-d7fcc6962a14",
   "metadata": {},
   "outputs": [
    {
     "data": {
      "text/html": [
       "<div>\n",
       "<style scoped>\n",
       "    .dataframe tbody tr th:only-of-type {\n",
       "        vertical-align: middle;\n",
       "    }\n",
       "\n",
       "    .dataframe tbody tr th {\n",
       "        vertical-align: top;\n",
       "    }\n",
       "\n",
       "    .dataframe thead th {\n",
       "        text-align: right;\n",
       "    }\n",
       "</style>\n",
       "<table border=\"1\" class=\"dataframe\">\n",
       "  <thead>\n",
       "    <tr style=\"text-align: right;\">\n",
       "      <th></th>\n",
       "      <th>UNIQUE_ID</th>\n",
       "      <th>POSITION_TITLE</th>\n",
       "      <th>DEPARTMENT</th>\n",
       "      <th>BASE_SALARY</th>\n",
       "      <th>RACE</th>\n",
       "      <th>EMPLOYMENT_TYPE</th>\n",
       "      <th>GENDER</th>\n",
       "      <th>EMPLOYMENT_STATUS</th>\n",
       "      <th>HIRE_DATE</th>\n",
       "      <th>JOB_DATE</th>\n",
       "    </tr>\n",
       "  </thead>\n",
       "  <tbody>\n",
       "    <tr>\n",
       "      <th>1</th>\n",
       "      <td>1</td>\n",
       "      <td>LIBRARY ASSISTANT</td>\n",
       "      <td>Library</td>\n",
       "      <td>26125.0</td>\n",
       "      <td>Hispanic/Latino</td>\n",
       "      <td>Full Time</td>\n",
       "      <td>Female</td>\n",
       "      <td>Active</td>\n",
       "      <td>2000-07-19</td>\n",
       "      <td>2010-09-18</td>\n",
       "    </tr>\n",
       "    <tr>\n",
       "      <th>61</th>\n",
       "      <td>61</td>\n",
       "      <td>IT PROJECT MANAGER</td>\n",
       "      <td>Houston Fire Department (HFD)</td>\n",
       "      <td>96668.0</td>\n",
       "      <td>Black or African American</td>\n",
       "      <td>Full Time</td>\n",
       "      <td>Female</td>\n",
       "      <td>Active</td>\n",
       "      <td>1998-04-07</td>\n",
       "      <td>2006-01-28</td>\n",
       "    </tr>\n",
       "    <tr>\n",
       "      <th>101</th>\n",
       "      <td>101</td>\n",
       "      <td>CUSTOMER SERVICE CLERK</td>\n",
       "      <td>Library</td>\n",
       "      <td>NaN</td>\n",
       "      <td>NaN</td>\n",
       "      <td>Part Time</td>\n",
       "      <td>Female</td>\n",
       "      <td>Active</td>\n",
       "      <td>2016-02-29</td>\n",
       "      <td>2016-02-29</td>\n",
       "    </tr>\n",
       "    <tr>\n",
       "      <th>135</th>\n",
       "      <td>135</td>\n",
       "      <td>FIRE FIGHTER</td>\n",
       "      <td>Houston Fire Department (HFD)</td>\n",
       "      <td>51194.0</td>\n",
       "      <td>Hispanic/Latino</td>\n",
       "      <td>Full Time</td>\n",
       "      <td>Female</td>\n",
       "      <td>Active</td>\n",
       "      <td>2009-07-27</td>\n",
       "      <td>2010-10-27</td>\n",
       "    </tr>\n",
       "    <tr>\n",
       "      <th>225</th>\n",
       "      <td>225</td>\n",
       "      <td>ADMINISTRATIVE SPECIALIST</td>\n",
       "      <td>Houston Fire Department (HFD)</td>\n",
       "      <td>58040.0</td>\n",
       "      <td>Hispanic/Latino</td>\n",
       "      <td>Full Time</td>\n",
       "      <td>Female</td>\n",
       "      <td>Active</td>\n",
       "      <td>1995-05-23</td>\n",
       "      <td>2015-11-21</td>\n",
       "    </tr>\n",
       "  </tbody>\n",
       "</table>\n",
       "</div>"
      ],
      "text/plain": [
       "     UNIQUE_ID             POSITION_TITLE                     DEPARTMENT  \\\n",
       "1            1          LIBRARY ASSISTANT                        Library   \n",
       "61          61         IT PROJECT MANAGER  Houston Fire Department (HFD)   \n",
       "101        101     CUSTOMER SERVICE CLERK                        Library   \n",
       "135        135               FIRE FIGHTER  Houston Fire Department (HFD)   \n",
       "225        225  ADMINISTRATIVE SPECIALIST  Houston Fire Department (HFD)   \n",
       "\n",
       "     BASE_SALARY                       RACE EMPLOYMENT_TYPE  GENDER  \\\n",
       "1        26125.0            Hispanic/Latino       Full Time  Female   \n",
       "61       96668.0  Black or African American       Full Time  Female   \n",
       "101          NaN                        NaN       Part Time  Female   \n",
       "135      51194.0            Hispanic/Latino       Full Time  Female   \n",
       "225      58040.0            Hispanic/Latino       Full Time  Female   \n",
       "\n",
       "    EMPLOYMENT_STATUS   HIRE_DATE    JOB_DATE  \n",
       "1              Active  2000-07-19  2010-09-18  \n",
       "61             Active  1998-04-07  2006-01-28  \n",
       "101            Active  2016-02-29  2016-02-29  \n",
       "135            Active  2009-07-27  2010-10-27  \n",
       "225            Active  1995-05-23  2015-11-21  "
      ]
     },
     "execution_count": 69,
     "metadata": {},
     "output_type": "execute_result"
    }
   ],
   "source": [
    "# 휴스턴 소방관 사서 데이터에서 여성 데이터만 추출하시오.\n",
    "employee.loc[c_depts & c_gender].head()"
   ]
  },
  {
   "cell_type": "code",
   "execution_count": 70,
   "id": "80d512f7-46dc-4f67-ab85-cbb30038b3dc",
   "metadata": {},
   "outputs": [],
   "source": [
    "# 위 데이터에서 BASE_SALARY 가 80000이상인 데이터를 추출하시오.\n",
    "find_salary = employee.BASE_SALARY >= 80000"
   ]
  },
  {
   "cell_type": "code",
   "execution_count": 71,
   "id": "66966da8-de9d-4de0-a6fd-ee57d18c9b3a",
   "metadata": {},
   "outputs": [
    {
     "data": {
      "text/html": [
       "<div>\n",
       "<style scoped>\n",
       "    .dataframe tbody tr th:only-of-type {\n",
       "        vertical-align: middle;\n",
       "    }\n",
       "\n",
       "    .dataframe tbody tr th {\n",
       "        vertical-align: top;\n",
       "    }\n",
       "\n",
       "    .dataframe thead th {\n",
       "        text-align: right;\n",
       "    }\n",
       "</style>\n",
       "<table border=\"1\" class=\"dataframe\">\n",
       "  <thead>\n",
       "    <tr style=\"text-align: right;\">\n",
       "      <th></th>\n",
       "      <th>UNIQUE_ID</th>\n",
       "      <th>POSITION_TITLE</th>\n",
       "      <th>DEPARTMENT</th>\n",
       "      <th>BASE_SALARY</th>\n",
       "      <th>RACE</th>\n",
       "      <th>EMPLOYMENT_TYPE</th>\n",
       "      <th>GENDER</th>\n",
       "      <th>EMPLOYMENT_STATUS</th>\n",
       "      <th>HIRE_DATE</th>\n",
       "      <th>JOB_DATE</th>\n",
       "    </tr>\n",
       "  </thead>\n",
       "  <tbody>\n",
       "    <tr>\n",
       "      <th>61</th>\n",
       "      <td>61</td>\n",
       "      <td>IT PROJECT MANAGER</td>\n",
       "      <td>Houston Fire Department (HFD)</td>\n",
       "      <td>96668.0</td>\n",
       "      <td>Black or African American</td>\n",
       "      <td>Full Time</td>\n",
       "      <td>Female</td>\n",
       "      <td>Active</td>\n",
       "      <td>1998-04-07</td>\n",
       "      <td>2006-01-28</td>\n",
       "    </tr>\n",
       "    <tr>\n",
       "      <th>1165</th>\n",
       "      <td>1165</td>\n",
       "      <td>DEPUTY ASSISTANT DIRECTOR (EXECUTIVE LEV</td>\n",
       "      <td>Library</td>\n",
       "      <td>107763.0</td>\n",
       "      <td>Black or African American</td>\n",
       "      <td>Full Time</td>\n",
       "      <td>Female</td>\n",
       "      <td>Active</td>\n",
       "      <td>1993-11-16</td>\n",
       "      <td>2014-03-15</td>\n",
       "    </tr>\n",
       "  </tbody>\n",
       "</table>\n",
       "</div>"
      ],
      "text/plain": [
       "      UNIQUE_ID                            POSITION_TITLE  \\\n",
       "61           61                        IT PROJECT MANAGER   \n",
       "1165       1165  DEPUTY ASSISTANT DIRECTOR (EXECUTIVE LEV   \n",
       "\n",
       "                         DEPARTMENT  BASE_SALARY                       RACE  \\\n",
       "61    Houston Fire Department (HFD)      96668.0  Black or African American   \n",
       "1165                        Library     107763.0  Black or African American   \n",
       "\n",
       "     EMPLOYMENT_TYPE  GENDER EMPLOYMENT_STATUS   HIRE_DATE    JOB_DATE  \n",
       "61         Full Time  Female            Active  1998-04-07  2006-01-28  \n",
       "1165       Full Time  Female            Active  1993-11-16  2014-03-15  "
      ]
     },
     "execution_count": 71,
     "metadata": {},
     "output_type": "execute_result"
    }
   ],
   "source": [
    "employee.loc[c_depts & c_gender & find_salary]"
   ]
  },
  {
   "cell_type": "code",
   "execution_count": 72,
   "id": "fe19733c-f7ad-42a3-90f7-2a0a4cbc5aaa",
   "metadata": {},
   "outputs": [
    {
     "data": {
      "text/html": [
       "<div>\n",
       "<style scoped>\n",
       "    .dataframe tbody tr th:only-of-type {\n",
       "        vertical-align: middle;\n",
       "    }\n",
       "\n",
       "    .dataframe tbody tr th {\n",
       "        vertical-align: top;\n",
       "    }\n",
       "\n",
       "    .dataframe thead th {\n",
       "        text-align: right;\n",
       "    }\n",
       "</style>\n",
       "<table border=\"1\" class=\"dataframe\">\n",
       "  <thead>\n",
       "    <tr style=\"text-align: right;\">\n",
       "      <th></th>\n",
       "      <th>UNIQUE_ID</th>\n",
       "      <th>POSITION_TITLE</th>\n",
       "      <th>DEPARTMENT</th>\n",
       "      <th>BASE_SALARY</th>\n",
       "      <th>RACE</th>\n",
       "      <th>EMPLOYMENT_TYPE</th>\n",
       "      <th>GENDER</th>\n",
       "      <th>EMPLOYMENT_STATUS</th>\n",
       "      <th>HIRE_DATE</th>\n",
       "      <th>JOB_DATE</th>\n",
       "    </tr>\n",
       "  </thead>\n",
       "  <tbody>\n",
       "    <tr>\n",
       "      <th>61</th>\n",
       "      <td>61</td>\n",
       "      <td>IT PROJECT MANAGER</td>\n",
       "      <td>Houston Fire Department (HFD)</td>\n",
       "      <td>96668.0</td>\n",
       "      <td>Black or African American</td>\n",
       "      <td>Full Time</td>\n",
       "      <td>Female</td>\n",
       "      <td>Active</td>\n",
       "      <td>1998-04-07</td>\n",
       "      <td>2006-01-28</td>\n",
       "    </tr>\n",
       "  </tbody>\n",
       "</table>\n",
       "</div>"
      ],
      "text/plain": [
       "    UNIQUE_ID      POSITION_TITLE                     DEPARTMENT  BASE_SALARY  \\\n",
       "61         61  IT PROJECT MANAGER  Houston Fire Department (HFD)      96668.0   \n",
       "\n",
       "                         RACE EMPLOYMENT_TYPE  GENDER EMPLOYMENT_STATUS  \\\n",
       "61  Black or African American       Full Time  Female            Active   \n",
       "\n",
       "     HIRE_DATE    JOB_DATE  \n",
       "61  1998-04-07  2006-01-28  "
      ]
     },
     "execution_count": 72,
     "metadata": {},
     "output_type": "execute_result"
    }
   ],
   "source": [
    "# 여기서  BASE_SALARY가 10000 이하인 경울흘 추가하면?\n",
    "find_salary2 = employee.BASE_SALARY <= 100000\n",
    "employee.loc[c_depts & c_gender & find_salary & find_salary2]"
   ]
  },
  {
   "cell_type": "code",
   "execution_count": 73,
   "id": "ca6249fb-e39f-4517-b485-f05195d2763e",
   "metadata": {},
   "outputs": [
    {
     "data": {
      "text/html": [
       "<div>\n",
       "<style scoped>\n",
       "    .dataframe tbody tr th:only-of-type {\n",
       "        vertical-align: middle;\n",
       "    }\n",
       "\n",
       "    .dataframe tbody tr th {\n",
       "        vertical-align: top;\n",
       "    }\n",
       "\n",
       "    .dataframe thead th {\n",
       "        text-align: right;\n",
       "    }\n",
       "</style>\n",
       "<table border=\"1\" class=\"dataframe\">\n",
       "  <thead>\n",
       "    <tr style=\"text-align: right;\">\n",
       "      <th></th>\n",
       "      <th>UNIQUE_ID</th>\n",
       "      <th>POSITION_TITLE</th>\n",
       "      <th>DEPARTMENT</th>\n",
       "      <th>BASE_SALARY</th>\n",
       "      <th>RACE</th>\n",
       "      <th>EMPLOYMENT_TYPE</th>\n",
       "      <th>GENDER</th>\n",
       "      <th>EMPLOYMENT_STATUS</th>\n",
       "      <th>HIRE_DATE</th>\n",
       "      <th>JOB_DATE</th>\n",
       "    </tr>\n",
       "  </thead>\n",
       "  <tbody>\n",
       "    <tr>\n",
       "      <th>61</th>\n",
       "      <td>61</td>\n",
       "      <td>IT PROJECT MANAGER</td>\n",
       "      <td>Houston Fire Department (HFD)</td>\n",
       "      <td>96668.0</td>\n",
       "      <td>Black or African American</td>\n",
       "      <td>Full Time</td>\n",
       "      <td>Female</td>\n",
       "      <td>Active</td>\n",
       "      <td>1998-04-07</td>\n",
       "      <td>2006-01-28</td>\n",
       "    </tr>\n",
       "  </tbody>\n",
       "</table>\n",
       "</div>"
      ],
      "text/plain": [
       "    UNIQUE_ID      POSITION_TITLE                     DEPARTMENT  BASE_SALARY  \\\n",
       "61         61  IT PROJECT MANAGER  Houston Fire Department (HFD)      96668.0   \n",
       "\n",
       "                         RACE EMPLOYMENT_TYPE  GENDER EMPLOYMENT_STATUS  \\\n",
       "61  Black or African American       Full Time  Female            Active   \n",
       "\n",
       "     HIRE_DATE    JOB_DATE  \n",
       "61  1998-04-07  2006-01-28  "
      ]
     },
     "execution_count": 73,
     "metadata": {},
     "output_type": "execute_result"
    }
   ],
   "source": [
    "# 1, 2의 경우를 한번에 정의 : between\n",
    "c_between = employee.BASE_SALARY.between(80000,100000)\n",
    "employee.loc[c_depts & c_gender & c_between]"
   ]
  },
  {
   "cell_type": "markdown",
   "id": "f0845eaf-d8b7-4cd2-be78-23cd4541e812",
   "metadata": {},
   "source": [
    "### Query 메서드"
   ]
  },
  {
   "cell_type": "code",
   "execution_count": 75,
   "id": "e9c5856f-d28d-4fcc-80a3-1566b5b40035",
   "metadata": {},
   "outputs": [
    {
     "data": {
      "text/html": [
       "<div>\n",
       "<style scoped>\n",
       "    .dataframe tbody tr th:only-of-type {\n",
       "        vertical-align: middle;\n",
       "    }\n",
       "\n",
       "    .dataframe tbody tr th {\n",
       "        vertical-align: top;\n",
       "    }\n",
       "\n",
       "    .dataframe thead th {\n",
       "        text-align: right;\n",
       "    }\n",
       "</style>\n",
       "<table border=\"1\" class=\"dataframe\">\n",
       "  <thead>\n",
       "    <tr style=\"text-align: right;\">\n",
       "      <th></th>\n",
       "      <th>UNIQUE_ID</th>\n",
       "      <th>POSITION_TITLE</th>\n",
       "      <th>DEPARTMENT</th>\n",
       "      <th>BASE_SALARY</th>\n",
       "      <th>RACE</th>\n",
       "      <th>EMPLOYMENT_TYPE</th>\n",
       "      <th>GENDER</th>\n",
       "      <th>EMPLOYMENT_STATUS</th>\n",
       "      <th>HIRE_DATE</th>\n",
       "      <th>JOB_DATE</th>\n",
       "    </tr>\n",
       "  </thead>\n",
       "  <tbody>\n",
       "    <tr>\n",
       "      <th>1</th>\n",
       "      <td>1</td>\n",
       "      <td>LIBRARY ASSISTANT</td>\n",
       "      <td>Library</td>\n",
       "      <td>26125.0</td>\n",
       "      <td>Hispanic/Latino</td>\n",
       "      <td>Full Time</td>\n",
       "      <td>Female</td>\n",
       "      <td>Active</td>\n",
       "      <td>2000-07-19</td>\n",
       "      <td>2010-09-18</td>\n",
       "    </tr>\n",
       "    <tr>\n",
       "      <th>61</th>\n",
       "      <td>61</td>\n",
       "      <td>IT PROJECT MANAGER</td>\n",
       "      <td>Houston Fire Department (HFD)</td>\n",
       "      <td>96668.0</td>\n",
       "      <td>Black or African American</td>\n",
       "      <td>Full Time</td>\n",
       "      <td>Female</td>\n",
       "      <td>Active</td>\n",
       "      <td>1998-04-07</td>\n",
       "      <td>2006-01-28</td>\n",
       "    </tr>\n",
       "    <tr>\n",
       "      <th>101</th>\n",
       "      <td>101</td>\n",
       "      <td>CUSTOMER SERVICE CLERK</td>\n",
       "      <td>Library</td>\n",
       "      <td>NaN</td>\n",
       "      <td>NaN</td>\n",
       "      <td>Part Time</td>\n",
       "      <td>Female</td>\n",
       "      <td>Active</td>\n",
       "      <td>2016-02-29</td>\n",
       "      <td>2016-02-29</td>\n",
       "    </tr>\n",
       "    <tr>\n",
       "      <th>135</th>\n",
       "      <td>135</td>\n",
       "      <td>FIRE FIGHTER</td>\n",
       "      <td>Houston Fire Department (HFD)</td>\n",
       "      <td>51194.0</td>\n",
       "      <td>Hispanic/Latino</td>\n",
       "      <td>Full Time</td>\n",
       "      <td>Female</td>\n",
       "      <td>Active</td>\n",
       "      <td>2009-07-27</td>\n",
       "      <td>2010-10-27</td>\n",
       "    </tr>\n",
       "    <tr>\n",
       "      <th>225</th>\n",
       "      <td>225</td>\n",
       "      <td>ADMINISTRATIVE SPECIALIST</td>\n",
       "      <td>Houston Fire Department (HFD)</td>\n",
       "      <td>58040.0</td>\n",
       "      <td>Hispanic/Latino</td>\n",
       "      <td>Full Time</td>\n",
       "      <td>Female</td>\n",
       "      <td>Active</td>\n",
       "      <td>1995-05-23</td>\n",
       "      <td>2015-11-21</td>\n",
       "    </tr>\n",
       "    <tr>\n",
       "      <th>226</th>\n",
       "      <td>226</td>\n",
       "      <td>SENIOR CAPTAIN</td>\n",
       "      <td>Houston Fire Department (HFD)</td>\n",
       "      <td>74270.0</td>\n",
       "      <td>White</td>\n",
       "      <td>Full Time</td>\n",
       "      <td>Female</td>\n",
       "      <td>Active</td>\n",
       "      <td>2001-12-26</td>\n",
       "      <td>2014-02-15</td>\n",
       "    </tr>\n",
       "    <tr>\n",
       "      <th>235</th>\n",
       "      <td>235</td>\n",
       "      <td>FIRE FIGHTER</td>\n",
       "      <td>Houston Fire Department (HFD)</td>\n",
       "      <td>45791.0</td>\n",
       "      <td>White</td>\n",
       "      <td>Full Time</td>\n",
       "      <td>Female</td>\n",
       "      <td>Active</td>\n",
       "      <td>2013-08-31</td>\n",
       "      <td>2014-12-01</td>\n",
       "    </tr>\n",
       "    <tr>\n",
       "      <th>308</th>\n",
       "      <td>308</td>\n",
       "      <td>LIBRARIAN II</td>\n",
       "      <td>Library</td>\n",
       "      <td>49317.0</td>\n",
       "      <td>Black or African American</td>\n",
       "      <td>Full Time</td>\n",
       "      <td>Female</td>\n",
       "      <td>Active</td>\n",
       "      <td>2014-08-04</td>\n",
       "      <td>2015-10-10</td>\n",
       "    </tr>\n",
       "    <tr>\n",
       "      <th>327</th>\n",
       "      <td>327</td>\n",
       "      <td>FIRE FIGHTER</td>\n",
       "      <td>Houston Fire Department (HFD)</td>\n",
       "      <td>45791.0</td>\n",
       "      <td>Hispanic/Latino</td>\n",
       "      <td>Full Time</td>\n",
       "      <td>Female</td>\n",
       "      <td>Active</td>\n",
       "      <td>2014-10-11</td>\n",
       "      <td>2016-01-11</td>\n",
       "    </tr>\n",
       "    <tr>\n",
       "      <th>337</th>\n",
       "      <td>337</td>\n",
       "      <td>FIRE FIGHTER,PROBATIONARY</td>\n",
       "      <td>Houston Fire Department (HFD)</td>\n",
       "      <td>40170.0</td>\n",
       "      <td>Hispanic/Latino</td>\n",
       "      <td>Full Time</td>\n",
       "      <td>Female</td>\n",
       "      <td>Active</td>\n",
       "      <td>2015-07-20</td>\n",
       "      <td>2016-03-10</td>\n",
       "    </tr>\n",
       "    <tr>\n",
       "      <th>340</th>\n",
       "      <td>340</td>\n",
       "      <td>ENGINEER/OPERATOR</td>\n",
       "      <td>Houston Fire Department (HFD)</td>\n",
       "      <td>63166.0</td>\n",
       "      <td>White</td>\n",
       "      <td>Full Time</td>\n",
       "      <td>Female</td>\n",
       "      <td>Active</td>\n",
       "      <td>1994-11-07</td>\n",
       "      <td>2001-04-28</td>\n",
       "    </tr>\n",
       "    <tr>\n",
       "      <th>344</th>\n",
       "      <td>344</td>\n",
       "      <td>FIRE FIGHTER,PROBATIONARY</td>\n",
       "      <td>Houston Fire Department (HFD)</td>\n",
       "      <td>40170.0</td>\n",
       "      <td>White</td>\n",
       "      <td>Full Time</td>\n",
       "      <td>Female</td>\n",
       "      <td>Active</td>\n",
       "      <td>2016-01-04</td>\n",
       "      <td>2016-04-07</td>\n",
       "    </tr>\n",
       "    <tr>\n",
       "      <th>388</th>\n",
       "      <td>388</td>\n",
       "      <td>FIRE FIGHTER</td>\n",
       "      <td>Houston Fire Department (HFD)</td>\n",
       "      <td>48190.0</td>\n",
       "      <td>Hispanic/Latino</td>\n",
       "      <td>Full Time</td>\n",
       "      <td>Female</td>\n",
       "      <td>Active</td>\n",
       "      <td>2013-01-05</td>\n",
       "      <td>2014-04-07</td>\n",
       "    </tr>\n",
       "    <tr>\n",
       "      <th>407</th>\n",
       "      <td>407</td>\n",
       "      <td>CUSTOMER SERVICE CLERK</td>\n",
       "      <td>Library</td>\n",
       "      <td>27955.0</td>\n",
       "      <td>White</td>\n",
       "      <td>Full Time</td>\n",
       "      <td>Female</td>\n",
       "      <td>Active</td>\n",
       "      <td>2014-03-31</td>\n",
       "      <td>2014-11-08</td>\n",
       "    </tr>\n",
       "    <tr>\n",
       "      <th>412</th>\n",
       "      <td>412</td>\n",
       "      <td>ADMINISTRATIVE COORDINATOR</td>\n",
       "      <td>Library</td>\n",
       "      <td>79302.0</td>\n",
       "      <td>Hispanic/Latino</td>\n",
       "      <td>Full Time</td>\n",
       "      <td>Female</td>\n",
       "      <td>Active</td>\n",
       "      <td>2003-12-22</td>\n",
       "      <td>2005-04-02</td>\n",
       "    </tr>\n",
       "    <tr>\n",
       "      <th>476</th>\n",
       "      <td>476</td>\n",
       "      <td>ADMINISTRATIVE SUPERVISOR</td>\n",
       "      <td>Library</td>\n",
       "      <td>60632.0</td>\n",
       "      <td>Black or African American</td>\n",
       "      <td>Full Time</td>\n",
       "      <td>Female</td>\n",
       "      <td>Active</td>\n",
       "      <td>1993-05-10</td>\n",
       "      <td>2014-11-08</td>\n",
       "    </tr>\n",
       "    <tr>\n",
       "      <th>505</th>\n",
       "      <td>505</td>\n",
       "      <td>CUSTOMER SERVICE CLERK</td>\n",
       "      <td>Library</td>\n",
       "      <td>NaN</td>\n",
       "      <td>Black or African American</td>\n",
       "      <td>Part Time</td>\n",
       "      <td>Female</td>\n",
       "      <td>Active</td>\n",
       "      <td>2015-05-11</td>\n",
       "      <td>2015-05-11</td>\n",
       "    </tr>\n",
       "    <tr>\n",
       "      <th>547</th>\n",
       "      <td>547</td>\n",
       "      <td>SENIOR CUSTOMER SERVICE CLERK</td>\n",
       "      <td>Library</td>\n",
       "      <td>31034.0</td>\n",
       "      <td>Black or African American</td>\n",
       "      <td>Full Time</td>\n",
       "      <td>Female</td>\n",
       "      <td>Active</td>\n",
       "      <td>2005-12-12</td>\n",
       "      <td>2015-12-19</td>\n",
       "    </tr>\n",
       "    <tr>\n",
       "      <th>699</th>\n",
       "      <td>699</td>\n",
       "      <td>CUSTOMER SERVICE REPRESENTATIVE III</td>\n",
       "      <td>Houston Fire Department (HFD)</td>\n",
       "      <td>41267.0</td>\n",
       "      <td>Hispanic/Latino</td>\n",
       "      <td>Full Time</td>\n",
       "      <td>Female</td>\n",
       "      <td>Active</td>\n",
       "      <td>2001-09-12</td>\n",
       "      <td>2008-10-04</td>\n",
       "    </tr>\n",
       "    <tr>\n",
       "      <th>711</th>\n",
       "      <td>711</td>\n",
       "      <td>INSPECTOR</td>\n",
       "      <td>Houston Fire Department (HFD)</td>\n",
       "      <td>66523.0</td>\n",
       "      <td>Hispanic/Latino</td>\n",
       "      <td>Full Time</td>\n",
       "      <td>Female</td>\n",
       "      <td>Active</td>\n",
       "      <td>2001-03-20</td>\n",
       "      <td>2013-09-30</td>\n",
       "    </tr>\n",
       "    <tr>\n",
       "      <th>770</th>\n",
       "      <td>770</td>\n",
       "      <td>SENIOR LIBRARY SERVICE SPECIALIST</td>\n",
       "      <td>Library</td>\n",
       "      <td>38563.0</td>\n",
       "      <td>Black or African American</td>\n",
       "      <td>Full Time</td>\n",
       "      <td>Female</td>\n",
       "      <td>Active</td>\n",
       "      <td>2013-04-01</td>\n",
       "      <td>2013-04-01</td>\n",
       "    </tr>\n",
       "    <tr>\n",
       "      <th>821</th>\n",
       "      <td>821</td>\n",
       "      <td>CUSTOMER SERVICE CLERK</td>\n",
       "      <td>Library</td>\n",
       "      <td>NaN</td>\n",
       "      <td>Black or African American</td>\n",
       "      <td>Part Time</td>\n",
       "      <td>Female</td>\n",
       "      <td>Active</td>\n",
       "      <td>2015-11-23</td>\n",
       "      <td>2015-11-23</td>\n",
       "    </tr>\n",
       "    <tr>\n",
       "      <th>836</th>\n",
       "      <td>836</td>\n",
       "      <td>LIBRARY SERVICE SPECIALIST</td>\n",
       "      <td>Library</td>\n",
       "      <td>32157.0</td>\n",
       "      <td>NaN</td>\n",
       "      <td>Full Time</td>\n",
       "      <td>Female</td>\n",
       "      <td>Active</td>\n",
       "      <td>2014-05-27</td>\n",
       "      <td>2014-05-27</td>\n",
       "    </tr>\n",
       "    <tr>\n",
       "      <th>840</th>\n",
       "      <td>840</td>\n",
       "      <td>LIBRARY ASSISTANT</td>\n",
       "      <td>Library</td>\n",
       "      <td>26125.0</td>\n",
       "      <td>Black or African American</td>\n",
       "      <td>Full Time</td>\n",
       "      <td>Female</td>\n",
       "      <td>Active</td>\n",
       "      <td>2007-09-10</td>\n",
       "      <td>2007-09-10</td>\n",
       "    </tr>\n",
       "    <tr>\n",
       "      <th>892</th>\n",
       "      <td>892</td>\n",
       "      <td>LIBRARIAN III</td>\n",
       "      <td>Library</td>\n",
       "      <td>61454.0</td>\n",
       "      <td>White</td>\n",
       "      <td>Full Time</td>\n",
       "      <td>Female</td>\n",
       "      <td>Active</td>\n",
       "      <td>1998-11-02</td>\n",
       "      <td>2002-06-15</td>\n",
       "    </tr>\n",
       "    <tr>\n",
       "      <th>917</th>\n",
       "      <td>917</td>\n",
       "      <td>LIBRARY ASSISTANT</td>\n",
       "      <td>Library</td>\n",
       "      <td>26125.0</td>\n",
       "      <td>Black or African American</td>\n",
       "      <td>Full Time</td>\n",
       "      <td>Female</td>\n",
       "      <td>Active</td>\n",
       "      <td>2005-11-14</td>\n",
       "      <td>2010-09-18</td>\n",
       "    </tr>\n",
       "    <tr>\n",
       "      <th>942</th>\n",
       "      <td>942</td>\n",
       "      <td>CUSTOMER SERVICE CLERK</td>\n",
       "      <td>Library</td>\n",
       "      <td>NaN</td>\n",
       "      <td>Hispanic/Latino</td>\n",
       "      <td>Part Time</td>\n",
       "      <td>Female</td>\n",
       "      <td>Active</td>\n",
       "      <td>2013-05-28</td>\n",
       "      <td>2013-05-28</td>\n",
       "    </tr>\n",
       "    <tr>\n",
       "      <th>1002</th>\n",
       "      <td>1002</td>\n",
       "      <td>OFFICE SUPERVISOR</td>\n",
       "      <td>Library</td>\n",
       "      <td>42702.0</td>\n",
       "      <td>Black or African American</td>\n",
       "      <td>Full Time</td>\n",
       "      <td>Female</td>\n",
       "      <td>Active</td>\n",
       "      <td>1990-05-21</td>\n",
       "      <td>2015-03-18</td>\n",
       "    </tr>\n",
       "    <tr>\n",
       "      <th>1133</th>\n",
       "      <td>1133</td>\n",
       "      <td>CUSTOMER SERVICE REPRESENTATIVE II</td>\n",
       "      <td>Houston Fire Department (HFD)</td>\n",
       "      <td>34902.0</td>\n",
       "      <td>Black or African American</td>\n",
       "      <td>Full Time</td>\n",
       "      <td>Female</td>\n",
       "      <td>Active</td>\n",
       "      <td>1989-02-20</td>\n",
       "      <td>2011-10-17</td>\n",
       "    </tr>\n",
       "    <tr>\n",
       "      <th>1161</th>\n",
       "      <td>1161</td>\n",
       "      <td>SENIOR LIBRARY ASSISTANT</td>\n",
       "      <td>Library</td>\n",
       "      <td>29994.0</td>\n",
       "      <td>Black or African American</td>\n",
       "      <td>Full Time</td>\n",
       "      <td>Female</td>\n",
       "      <td>Active</td>\n",
       "      <td>2001-06-27</td>\n",
       "      <td>2003-05-17</td>\n",
       "    </tr>\n",
       "    <tr>\n",
       "      <th>1165</th>\n",
       "      <td>1165</td>\n",
       "      <td>DEPUTY ASSISTANT DIRECTOR (EXECUTIVE LEV</td>\n",
       "      <td>Library</td>\n",
       "      <td>107763.0</td>\n",
       "      <td>Black or African American</td>\n",
       "      <td>Full Time</td>\n",
       "      <td>Female</td>\n",
       "      <td>Active</td>\n",
       "      <td>1993-11-16</td>\n",
       "      <td>2014-03-15</td>\n",
       "    </tr>\n",
       "    <tr>\n",
       "      <th>1168</th>\n",
       "      <td>1168</td>\n",
       "      <td>CUSTOMER SERVICE REPRESENTATIVE II</td>\n",
       "      <td>Houston Fire Department (HFD)</td>\n",
       "      <td>36400.0</td>\n",
       "      <td>Black or African American</td>\n",
       "      <td>Full Time</td>\n",
       "      <td>Female</td>\n",
       "      <td>Active</td>\n",
       "      <td>2013-06-22</td>\n",
       "      <td>2013-06-22</td>\n",
       "    </tr>\n",
       "    <tr>\n",
       "      <th>1182</th>\n",
       "      <td>1182</td>\n",
       "      <td>COMMUNICATIONS SENIOR CAPTAIN</td>\n",
       "      <td>Houston Fire Department (HFD)</td>\n",
       "      <td>78355.0</td>\n",
       "      <td>Black or African American</td>\n",
       "      <td>Full Time</td>\n",
       "      <td>Female</td>\n",
       "      <td>Active</td>\n",
       "      <td>1993-10-11</td>\n",
       "      <td>2012-01-12</td>\n",
       "    </tr>\n",
       "    <tr>\n",
       "      <th>1188</th>\n",
       "      <td>1188</td>\n",
       "      <td>SENIOR LIBRARY SERVICE SPECIALIST</td>\n",
       "      <td>Library</td>\n",
       "      <td>38563.0</td>\n",
       "      <td>Asian/Pacific Islander</td>\n",
       "      <td>Full Time</td>\n",
       "      <td>Female</td>\n",
       "      <td>Active</td>\n",
       "      <td>2015-10-05</td>\n",
       "      <td>2015-10-05</td>\n",
       "    </tr>\n",
       "    <tr>\n",
       "      <th>1209</th>\n",
       "      <td>1209</td>\n",
       "      <td>SENIOR COMMUNICATIONS SPECIALIST</td>\n",
       "      <td>Library</td>\n",
       "      <td>57096.0</td>\n",
       "      <td>Hispanic/Latino</td>\n",
       "      <td>Full Time</td>\n",
       "      <td>Female</td>\n",
       "      <td>Active</td>\n",
       "      <td>2001-06-04</td>\n",
       "      <td>2001-06-04</td>\n",
       "    </tr>\n",
       "    <tr>\n",
       "      <th>1395</th>\n",
       "      <td>1395</td>\n",
       "      <td>CUSTOMER SERVICE CLERK</td>\n",
       "      <td>Library</td>\n",
       "      <td>NaN</td>\n",
       "      <td>Black or African American</td>\n",
       "      <td>Part Time</td>\n",
       "      <td>Female</td>\n",
       "      <td>Active</td>\n",
       "      <td>2014-04-14</td>\n",
       "      <td>2014-04-14</td>\n",
       "    </tr>\n",
       "    <tr>\n",
       "      <th>1478</th>\n",
       "      <td>1478</td>\n",
       "      <td>ADMINISTRATIVE ASSISTANT</td>\n",
       "      <td>Houston Fire Department (HFD)</td>\n",
       "      <td>41995.0</td>\n",
       "      <td>Hispanic/Latino</td>\n",
       "      <td>Full Time</td>\n",
       "      <td>Female</td>\n",
       "      <td>Active</td>\n",
       "      <td>2014-05-24</td>\n",
       "      <td>2016-02-13</td>\n",
       "    </tr>\n",
       "    <tr>\n",
       "      <th>1488</th>\n",
       "      <td>1488</td>\n",
       "      <td>EXECUTIVE OFFICE ASSISTANT</td>\n",
       "      <td>Houston Fire Department (HFD)</td>\n",
       "      <td>43014.0</td>\n",
       "      <td>White</td>\n",
       "      <td>Full Time</td>\n",
       "      <td>Female</td>\n",
       "      <td>Active</td>\n",
       "      <td>1995-06-22</td>\n",
       "      <td>2007-02-24</td>\n",
       "    </tr>\n",
       "    <tr>\n",
       "      <th>1539</th>\n",
       "      <td>1539</td>\n",
       "      <td>BUYER</td>\n",
       "      <td>Library</td>\n",
       "      <td>42723.0</td>\n",
       "      <td>Asian/Pacific Islander</td>\n",
       "      <td>Full Time</td>\n",
       "      <td>Female</td>\n",
       "      <td>Active</td>\n",
       "      <td>1984-12-03</td>\n",
       "      <td>2001-02-10</td>\n",
       "    </tr>\n",
       "    <tr>\n",
       "      <th>1720</th>\n",
       "      <td>1720</td>\n",
       "      <td>LIBRARY SERVICE SPECIALIST</td>\n",
       "      <td>Library</td>\n",
       "      <td>32115.0</td>\n",
       "      <td>Hispanic/Latino</td>\n",
       "      <td>Full Time</td>\n",
       "      <td>Female</td>\n",
       "      <td>Active</td>\n",
       "      <td>2014-06-09</td>\n",
       "      <td>2015-01-17</td>\n",
       "    </tr>\n",
       "    <tr>\n",
       "      <th>1728</th>\n",
       "      <td>1728</td>\n",
       "      <td>SENIOR INVENTORY MANAGEMENT CLERK</td>\n",
       "      <td>Houston Fire Department (HFD)</td>\n",
       "      <td>33405.0</td>\n",
       "      <td>Black or African American</td>\n",
       "      <td>Full Time</td>\n",
       "      <td>Female</td>\n",
       "      <td>Active</td>\n",
       "      <td>2015-05-11</td>\n",
       "      <td>2015-05-11</td>\n",
       "    </tr>\n",
       "    <tr>\n",
       "      <th>1770</th>\n",
       "      <td>1770</td>\n",
       "      <td>LIBRARY SERVICE SPECIALIST</td>\n",
       "      <td>Library</td>\n",
       "      <td>32510.0</td>\n",
       "      <td>Hispanic/Latino</td>\n",
       "      <td>Full Time</td>\n",
       "      <td>Female</td>\n",
       "      <td>Active</td>\n",
       "      <td>2016-04-18</td>\n",
       "      <td>2016-04-18</td>\n",
       "    </tr>\n",
       "    <tr>\n",
       "      <th>1809</th>\n",
       "      <td>1809</td>\n",
       "      <td>FIRE FIGHTER</td>\n",
       "      <td>Houston Fire Department (HFD)</td>\n",
       "      <td>55437.0</td>\n",
       "      <td>White</td>\n",
       "      <td>Full Time</td>\n",
       "      <td>Female</td>\n",
       "      <td>Active</td>\n",
       "      <td>2003-03-24</td>\n",
       "      <td>2004-04-10</td>\n",
       "    </tr>\n",
       "    <tr>\n",
       "      <th>1846</th>\n",
       "      <td>1846</td>\n",
       "      <td>LIBRARY ASSISTANT</td>\n",
       "      <td>Library</td>\n",
       "      <td>26125.0</td>\n",
       "      <td>American Indian or Alaskan Native</td>\n",
       "      <td>Full Time</td>\n",
       "      <td>Female</td>\n",
       "      <td>Active</td>\n",
       "      <td>2008-05-05</td>\n",
       "      <td>2013-01-19</td>\n",
       "    </tr>\n",
       "    <tr>\n",
       "      <th>1906</th>\n",
       "      <td>1906</td>\n",
       "      <td>ENGINEER/OPERATOR</td>\n",
       "      <td>Houston Fire Department (HFD)</td>\n",
       "      <td>63166.0</td>\n",
       "      <td>Black or African American</td>\n",
       "      <td>Full Time</td>\n",
       "      <td>Female</td>\n",
       "      <td>Active</td>\n",
       "      <td>1996-11-18</td>\n",
       "      <td>2015-01-18</td>\n",
       "    </tr>\n",
       "    <tr>\n",
       "      <th>1926</th>\n",
       "      <td>1926</td>\n",
       "      <td>LIBRARIAN I</td>\n",
       "      <td>Library</td>\n",
       "      <td>39874.0</td>\n",
       "      <td>White</td>\n",
       "      <td>Full Time</td>\n",
       "      <td>Female</td>\n",
       "      <td>Active</td>\n",
       "      <td>2009-02-11</td>\n",
       "      <td>2014-10-11</td>\n",
       "    </tr>\n",
       "    <tr>\n",
       "      <th>1959</th>\n",
       "      <td>1959</td>\n",
       "      <td>ADMINISTRATIVE SPECIALIST</td>\n",
       "      <td>Houston Fire Department (HFD)</td>\n",
       "      <td>52000.0</td>\n",
       "      <td>Black or African American</td>\n",
       "      <td>Full Time</td>\n",
       "      <td>Female</td>\n",
       "      <td>Active</td>\n",
       "      <td>2007-02-12</td>\n",
       "      <td>2016-02-13</td>\n",
       "    </tr>\n",
       "    <tr>\n",
       "      <th>1963</th>\n",
       "      <td>1963</td>\n",
       "      <td>SENIOR COMMUNITY LIAISON</td>\n",
       "      <td>Library</td>\n",
       "      <td>51542.0</td>\n",
       "      <td>Black or African American</td>\n",
       "      <td>Full Time</td>\n",
       "      <td>Female</td>\n",
       "      <td>Active</td>\n",
       "      <td>2015-11-02</td>\n",
       "      <td>2015-11-02</td>\n",
       "    </tr>\n",
       "    <tr>\n",
       "      <th>1968</th>\n",
       "      <td>1968</td>\n",
       "      <td>CUSTOMER SERVICE CLERK</td>\n",
       "      <td>Library</td>\n",
       "      <td>NaN</td>\n",
       "      <td>Black or African American</td>\n",
       "      <td>Part Time</td>\n",
       "      <td>Female</td>\n",
       "      <td>Active</td>\n",
       "      <td>2013-08-05</td>\n",
       "      <td>2013-08-05</td>\n",
       "    </tr>\n",
       "  </tbody>\n",
       "</table>\n",
       "</div>"
      ],
      "text/plain": [
       "      UNIQUE_ID                            POSITION_TITLE  \\\n",
       "1             1                         LIBRARY ASSISTANT   \n",
       "61           61                        IT PROJECT MANAGER   \n",
       "101         101                    CUSTOMER SERVICE CLERK   \n",
       "135         135                              FIRE FIGHTER   \n",
       "225         225                 ADMINISTRATIVE SPECIALIST   \n",
       "226         226                            SENIOR CAPTAIN   \n",
       "235         235                              FIRE FIGHTER   \n",
       "308         308                              LIBRARIAN II   \n",
       "327         327                              FIRE FIGHTER   \n",
       "337         337                 FIRE FIGHTER,PROBATIONARY   \n",
       "340         340                         ENGINEER/OPERATOR   \n",
       "344         344                 FIRE FIGHTER,PROBATIONARY   \n",
       "388         388                              FIRE FIGHTER   \n",
       "407         407                    CUSTOMER SERVICE CLERK   \n",
       "412         412                ADMINISTRATIVE COORDINATOR   \n",
       "476         476                 ADMINISTRATIVE SUPERVISOR   \n",
       "505         505                    CUSTOMER SERVICE CLERK   \n",
       "547         547             SENIOR CUSTOMER SERVICE CLERK   \n",
       "699         699       CUSTOMER SERVICE REPRESENTATIVE III   \n",
       "711         711                                 INSPECTOR   \n",
       "770         770         SENIOR LIBRARY SERVICE SPECIALIST   \n",
       "821         821                    CUSTOMER SERVICE CLERK   \n",
       "836         836                LIBRARY SERVICE SPECIALIST   \n",
       "840         840                         LIBRARY ASSISTANT   \n",
       "892         892                             LIBRARIAN III   \n",
       "917         917                         LIBRARY ASSISTANT   \n",
       "942         942                    CUSTOMER SERVICE CLERK   \n",
       "1002       1002                         OFFICE SUPERVISOR   \n",
       "1133       1133        CUSTOMER SERVICE REPRESENTATIVE II   \n",
       "1161       1161                  SENIOR LIBRARY ASSISTANT   \n",
       "1165       1165  DEPUTY ASSISTANT DIRECTOR (EXECUTIVE LEV   \n",
       "1168       1168        CUSTOMER SERVICE REPRESENTATIVE II   \n",
       "1182       1182             COMMUNICATIONS SENIOR CAPTAIN   \n",
       "1188       1188         SENIOR LIBRARY SERVICE SPECIALIST   \n",
       "1209       1209          SENIOR COMMUNICATIONS SPECIALIST   \n",
       "1395       1395                    CUSTOMER SERVICE CLERK   \n",
       "1478       1478                  ADMINISTRATIVE ASSISTANT   \n",
       "1488       1488                EXECUTIVE OFFICE ASSISTANT   \n",
       "1539       1539                                     BUYER   \n",
       "1720       1720                LIBRARY SERVICE SPECIALIST   \n",
       "1728       1728         SENIOR INVENTORY MANAGEMENT CLERK   \n",
       "1770       1770                LIBRARY SERVICE SPECIALIST   \n",
       "1809       1809                              FIRE FIGHTER   \n",
       "1846       1846                         LIBRARY ASSISTANT   \n",
       "1906       1906                         ENGINEER/OPERATOR   \n",
       "1926       1926                               LIBRARIAN I   \n",
       "1959       1959                 ADMINISTRATIVE SPECIALIST   \n",
       "1963       1963                  SENIOR COMMUNITY LIAISON   \n",
       "1968       1968                    CUSTOMER SERVICE CLERK   \n",
       "\n",
       "                         DEPARTMENT  BASE_SALARY  \\\n",
       "1                           Library      26125.0   \n",
       "61    Houston Fire Department (HFD)      96668.0   \n",
       "101                         Library          NaN   \n",
       "135   Houston Fire Department (HFD)      51194.0   \n",
       "225   Houston Fire Department (HFD)      58040.0   \n",
       "226   Houston Fire Department (HFD)      74270.0   \n",
       "235   Houston Fire Department (HFD)      45791.0   \n",
       "308                         Library      49317.0   \n",
       "327   Houston Fire Department (HFD)      45791.0   \n",
       "337   Houston Fire Department (HFD)      40170.0   \n",
       "340   Houston Fire Department (HFD)      63166.0   \n",
       "344   Houston Fire Department (HFD)      40170.0   \n",
       "388   Houston Fire Department (HFD)      48190.0   \n",
       "407                         Library      27955.0   \n",
       "412                         Library      79302.0   \n",
       "476                         Library      60632.0   \n",
       "505                         Library          NaN   \n",
       "547                         Library      31034.0   \n",
       "699   Houston Fire Department (HFD)      41267.0   \n",
       "711   Houston Fire Department (HFD)      66523.0   \n",
       "770                         Library      38563.0   \n",
       "821                         Library          NaN   \n",
       "836                         Library      32157.0   \n",
       "840                         Library      26125.0   \n",
       "892                         Library      61454.0   \n",
       "917                         Library      26125.0   \n",
       "942                         Library          NaN   \n",
       "1002                        Library      42702.0   \n",
       "1133  Houston Fire Department (HFD)      34902.0   \n",
       "1161                        Library      29994.0   \n",
       "1165                        Library     107763.0   \n",
       "1168  Houston Fire Department (HFD)      36400.0   \n",
       "1182  Houston Fire Department (HFD)      78355.0   \n",
       "1188                        Library      38563.0   \n",
       "1209                        Library      57096.0   \n",
       "1395                        Library          NaN   \n",
       "1478  Houston Fire Department (HFD)      41995.0   \n",
       "1488  Houston Fire Department (HFD)      43014.0   \n",
       "1539                        Library      42723.0   \n",
       "1720                        Library      32115.0   \n",
       "1728  Houston Fire Department (HFD)      33405.0   \n",
       "1770                        Library      32510.0   \n",
       "1809  Houston Fire Department (HFD)      55437.0   \n",
       "1846                        Library      26125.0   \n",
       "1906  Houston Fire Department (HFD)      63166.0   \n",
       "1926                        Library      39874.0   \n",
       "1959  Houston Fire Department (HFD)      52000.0   \n",
       "1963                        Library      51542.0   \n",
       "1968                        Library          NaN   \n",
       "\n",
       "                                   RACE EMPLOYMENT_TYPE  GENDER  \\\n",
       "1                       Hispanic/Latino       Full Time  Female   \n",
       "61            Black or African American       Full Time  Female   \n",
       "101                                 NaN       Part Time  Female   \n",
       "135                     Hispanic/Latino       Full Time  Female   \n",
       "225                     Hispanic/Latino       Full Time  Female   \n",
       "226                               White       Full Time  Female   \n",
       "235                               White       Full Time  Female   \n",
       "308           Black or African American       Full Time  Female   \n",
       "327                     Hispanic/Latino       Full Time  Female   \n",
       "337                     Hispanic/Latino       Full Time  Female   \n",
       "340                               White       Full Time  Female   \n",
       "344                               White       Full Time  Female   \n",
       "388                     Hispanic/Latino       Full Time  Female   \n",
       "407                               White       Full Time  Female   \n",
       "412                     Hispanic/Latino       Full Time  Female   \n",
       "476           Black or African American       Full Time  Female   \n",
       "505           Black or African American       Part Time  Female   \n",
       "547           Black or African American       Full Time  Female   \n",
       "699                     Hispanic/Latino       Full Time  Female   \n",
       "711                     Hispanic/Latino       Full Time  Female   \n",
       "770           Black or African American       Full Time  Female   \n",
       "821           Black or African American       Part Time  Female   \n",
       "836                                 NaN       Full Time  Female   \n",
       "840           Black or African American       Full Time  Female   \n",
       "892                               White       Full Time  Female   \n",
       "917           Black or African American       Full Time  Female   \n",
       "942                     Hispanic/Latino       Part Time  Female   \n",
       "1002          Black or African American       Full Time  Female   \n",
       "1133          Black or African American       Full Time  Female   \n",
       "1161          Black or African American       Full Time  Female   \n",
       "1165          Black or African American       Full Time  Female   \n",
       "1168          Black or African American       Full Time  Female   \n",
       "1182          Black or African American       Full Time  Female   \n",
       "1188             Asian/Pacific Islander       Full Time  Female   \n",
       "1209                    Hispanic/Latino       Full Time  Female   \n",
       "1395          Black or African American       Part Time  Female   \n",
       "1478                    Hispanic/Latino       Full Time  Female   \n",
       "1488                              White       Full Time  Female   \n",
       "1539             Asian/Pacific Islander       Full Time  Female   \n",
       "1720                    Hispanic/Latino       Full Time  Female   \n",
       "1728          Black or African American       Full Time  Female   \n",
       "1770                    Hispanic/Latino       Full Time  Female   \n",
       "1809                              White       Full Time  Female   \n",
       "1846  American Indian or Alaskan Native       Full Time  Female   \n",
       "1906          Black or African American       Full Time  Female   \n",
       "1926                              White       Full Time  Female   \n",
       "1959          Black or African American       Full Time  Female   \n",
       "1963          Black or African American       Full Time  Female   \n",
       "1968          Black or African American       Part Time  Female   \n",
       "\n",
       "     EMPLOYMENT_STATUS   HIRE_DATE    JOB_DATE  \n",
       "1               Active  2000-07-19  2010-09-18  \n",
       "61              Active  1998-04-07  2006-01-28  \n",
       "101             Active  2016-02-29  2016-02-29  \n",
       "135             Active  2009-07-27  2010-10-27  \n",
       "225             Active  1995-05-23  2015-11-21  \n",
       "226             Active  2001-12-26  2014-02-15  \n",
       "235             Active  2013-08-31  2014-12-01  \n",
       "308             Active  2014-08-04  2015-10-10  \n",
       "327             Active  2014-10-11  2016-01-11  \n",
       "337             Active  2015-07-20  2016-03-10  \n",
       "340             Active  1994-11-07  2001-04-28  \n",
       "344             Active  2016-01-04  2016-04-07  \n",
       "388             Active  2013-01-05  2014-04-07  \n",
       "407             Active  2014-03-31  2014-11-08  \n",
       "412             Active  2003-12-22  2005-04-02  \n",
       "476             Active  1993-05-10  2014-11-08  \n",
       "505             Active  2015-05-11  2015-05-11  \n",
       "547             Active  2005-12-12  2015-12-19  \n",
       "699             Active  2001-09-12  2008-10-04  \n",
       "711             Active  2001-03-20  2013-09-30  \n",
       "770             Active  2013-04-01  2013-04-01  \n",
       "821             Active  2015-11-23  2015-11-23  \n",
       "836             Active  2014-05-27  2014-05-27  \n",
       "840             Active  2007-09-10  2007-09-10  \n",
       "892             Active  1998-11-02  2002-06-15  \n",
       "917             Active  2005-11-14  2010-09-18  \n",
       "942             Active  2013-05-28  2013-05-28  \n",
       "1002            Active  1990-05-21  2015-03-18  \n",
       "1133            Active  1989-02-20  2011-10-17  \n",
       "1161            Active  2001-06-27  2003-05-17  \n",
       "1165            Active  1993-11-16  2014-03-15  \n",
       "1168            Active  2013-06-22  2013-06-22  \n",
       "1182            Active  1993-10-11  2012-01-12  \n",
       "1188            Active  2015-10-05  2015-10-05  \n",
       "1209            Active  2001-06-04  2001-06-04  \n",
       "1395            Active  2014-04-14  2014-04-14  \n",
       "1478            Active  2014-05-24  2016-02-13  \n",
       "1488            Active  1995-06-22  2007-02-24  \n",
       "1539            Active  1984-12-03  2001-02-10  \n",
       "1720            Active  2014-06-09  2015-01-17  \n",
       "1728            Active  2015-05-11  2015-05-11  \n",
       "1770            Active  2016-04-18  2016-04-18  \n",
       "1809            Active  2003-03-24  2004-04-10  \n",
       "1846            Active  2008-05-05  2013-01-19  \n",
       "1906            Active  1996-11-18  2015-01-18  \n",
       "1926            Active  2009-02-11  2014-10-11  \n",
       "1959            Active  2007-02-12  2016-02-13  \n",
       "1963            Active  2015-11-02  2015-11-02  \n",
       "1968            Active  2013-08-05  2013-08-05  "
      ]
     },
     "execution_count": 75,
     "metadata": {},
     "output_type": "execute_result"
    }
   ],
   "source": [
    "employee.query(\"DEPARTMENT in @depts and GENDER == 'Female'\")"
   ]
  },
  {
   "cell_type": "code",
   "execution_count": 76,
   "id": "089d23a5-2f66-4ff3-ba03-0e0f6ce382dd",
   "metadata": {},
   "outputs": [
    {
     "data": {
      "text/html": [
       "<div>\n",
       "<style scoped>\n",
       "    .dataframe tbody tr th:only-of-type {\n",
       "        vertical-align: middle;\n",
       "    }\n",
       "\n",
       "    .dataframe tbody tr th {\n",
       "        vertical-align: top;\n",
       "    }\n",
       "\n",
       "    .dataframe thead th {\n",
       "        text-align: right;\n",
       "    }\n",
       "</style>\n",
       "<table border=\"1\" class=\"dataframe\">\n",
       "  <thead>\n",
       "    <tr style=\"text-align: right;\">\n",
       "      <th></th>\n",
       "      <th>UNIQUE_ID</th>\n",
       "      <th>POSITION_TITLE</th>\n",
       "      <th>DEPARTMENT</th>\n",
       "      <th>BASE_SALARY</th>\n",
       "      <th>RACE</th>\n",
       "      <th>EMPLOYMENT_TYPE</th>\n",
       "      <th>GENDER</th>\n",
       "      <th>EMPLOYMENT_STATUS</th>\n",
       "      <th>HIRE_DATE</th>\n",
       "      <th>JOB_DATE</th>\n",
       "    </tr>\n",
       "  </thead>\n",
       "  <tbody>\n",
       "    <tr>\n",
       "      <th>61</th>\n",
       "      <td>61</td>\n",
       "      <td>IT PROJECT MANAGER</td>\n",
       "      <td>Houston Fire Department (HFD)</td>\n",
       "      <td>96668.0</td>\n",
       "      <td>Black or African American</td>\n",
       "      <td>Full Time</td>\n",
       "      <td>Female</td>\n",
       "      <td>Active</td>\n",
       "      <td>1998-04-07</td>\n",
       "      <td>2006-01-28</td>\n",
       "    </tr>\n",
       "  </tbody>\n",
       "</table>\n",
       "</div>"
      ],
      "text/plain": [
       "    UNIQUE_ID      POSITION_TITLE                     DEPARTMENT  BASE_SALARY  \\\n",
       "61         61  IT PROJECT MANAGER  Houston Fire Department (HFD)      96668.0   \n",
       "\n",
       "                         RACE EMPLOYMENT_TYPE  GENDER EMPLOYMENT_STATUS  \\\n",
       "61  Black or African American       Full Time  Female            Active   \n",
       "\n",
       "     HIRE_DATE    JOB_DATE  \n",
       "61  1998-04-07  2006-01-28  "
      ]
     },
     "execution_count": 76,
     "metadata": {},
     "output_type": "execute_result"
    }
   ],
   "source": [
    "qs = \"DEPARTMENT in @depts and GENDER == 'Female' and BASE_SALARY.between(80000,100000)\"\n",
    "employee.query(qs)"
   ]
  },
  {
   "cell_type": "code",
   "execution_count": 78,
   "id": "55f3da5b-a15a-4898-9f17-9864eea5673d",
   "metadata": {},
   "outputs": [
    {
     "data": {
      "text/html": [
       "<div>\n",
       "<style scoped>\n",
       "    .dataframe tbody tr th:only-of-type {\n",
       "        vertical-align: middle;\n",
       "    }\n",
       "\n",
       "    .dataframe tbody tr th {\n",
       "        vertical-align: top;\n",
       "    }\n",
       "\n",
       "    .dataframe thead th {\n",
       "        text-align: right;\n",
       "    }\n",
       "</style>\n",
       "<table border=\"1\" class=\"dataframe\">\n",
       "  <thead>\n",
       "    <tr style=\"text-align: right;\">\n",
       "      <th></th>\n",
       "      <th>UNIQUE_ID</th>\n",
       "      <th>POSITION_TITLE</th>\n",
       "      <th>DEPARTMENT</th>\n",
       "      <th>BASE_SALARY</th>\n",
       "      <th>RACE</th>\n",
       "      <th>EMPLOYMENT_TYPE</th>\n",
       "      <th>GENDER</th>\n",
       "      <th>EMPLOYMENT_STATUS</th>\n",
       "      <th>HIRE_DATE</th>\n",
       "      <th>JOB_DATE</th>\n",
       "    </tr>\n",
       "  </thead>\n",
       "  <tbody>\n",
       "    <tr>\n",
       "      <th>61</th>\n",
       "      <td>61</td>\n",
       "      <td>IT PROJECT MANAGER</td>\n",
       "      <td>Houston Fire Department (HFD)</td>\n",
       "      <td>96668.0</td>\n",
       "      <td>Black or African American</td>\n",
       "      <td>Full Time</td>\n",
       "      <td>Female</td>\n",
       "      <td>Active</td>\n",
       "      <td>1998-04-07</td>\n",
       "      <td>2006-01-28</td>\n",
       "    </tr>\n",
       "  </tbody>\n",
       "</table>\n",
       "</div>"
      ],
      "text/plain": [
       "    UNIQUE_ID      POSITION_TITLE                     DEPARTMENT  BASE_SALARY  \\\n",
       "61         61  IT PROJECT MANAGER  Houston Fire Department (HFD)      96668.0   \n",
       "\n",
       "                         RACE EMPLOYMENT_TYPE  GENDER EMPLOYMENT_STATUS  \\\n",
       "61  Black or African American       Full Time  Female            Active   \n",
       "\n",
       "     HIRE_DATE    JOB_DATE  \n",
       "61  1998-04-07  2006-01-28  "
      ]
     },
     "execution_count": 78,
     "metadata": {},
     "output_type": "execute_result"
    }
   ],
   "source": [
    "qs = \"DEPARTMENT in @depts and \"\n",
    "qs += \"GENDER == 'Female' and BASE_SALARY.between(80000,100000)\"\n",
    "employee.query(qs)"
   ]
  },
  {
   "cell_type": "code",
   "execution_count": 79,
   "id": "2974663e-22dc-40e5-964d-6ae610da18fd",
   "metadata": {},
   "outputs": [],
   "source": [
    "import matplotlib.pyplot as plt"
   ]
  },
  {
   "cell_type": "code",
   "execution_count": 82,
   "id": "fbde4cdf-6d7c-4d60-9a16-f168ca48523c",
   "metadata": {},
   "outputs": [
    {
     "data": {
      "text/plain": [
       "<Axes: >"
      ]
     },
     "execution_count": 82,
     "metadata": {},
     "output_type": "execute_result"
    },
    {
     "data": {
      "image/png": "[encoded data removed]",
      "text/plain": [
       "<Figure size 640x480 with 1 Axes>"
      ]
     },
     "metadata": {},
     "output_type": "display_data"
    }
   ],
   "source": [
    "employee.BASE_SALARY.hist()"
   ]
  },
  {
   "cell_type": "code",
   "execution_count": 84,
   "id": "465af3f6-0206-4c1d-910a-e4eb3b9857e1",
   "metadata": {},
   "outputs": [
    {
     "data": {
      "text/plain": [
       "0.914"
      ]
     },
     "execution_count": 84,
     "metadata": {},
     "output_type": "execute_result"
    }
   ],
   "source": [
    "# 기본급이 100000 미만인 사람들의 평균\n",
    "(employee.BASE_SALARY < 100000).mean()"
   ]
  },
  {
   "cell_type": "code",
   "execution_count": 88,
   "id": "718772c4-89dc-4c64-b9ce-44ad3c667f7b",
   "metadata": {},
   "outputs": [
    {
     "data": {
      "text/html": [
       "<div>\n",
       "<style scoped>\n",
       "    .dataframe tbody tr th:only-of-type {\n",
       "        vertical-align: middle;\n",
       "    }\n",
       "\n",
       "    .dataframe tbody tr th {\n",
       "        vertical-align: top;\n",
       "    }\n",
       "\n",
       "    .dataframe thead th {\n",
       "        text-align: right;\n",
       "    }\n",
       "</style>\n",
       "<table border=\"1\" class=\"dataframe\">\n",
       "  <thead>\n",
       "    <tr style=\"text-align: right;\">\n",
       "      <th></th>\n",
       "      <th>UNIQUE_ID</th>\n",
       "      <th>POSITION_TITLE</th>\n",
       "      <th>DEPARTMENT</th>\n",
       "      <th>BASE_SALARY</th>\n",
       "      <th>RACE</th>\n",
       "      <th>EMPLOYMENT_TYPE</th>\n",
       "      <th>GENDER</th>\n",
       "      <th>EMPLOYMENT_STATUS</th>\n",
       "      <th>HIRE_DATE</th>\n",
       "      <th>JOB_DATE</th>\n",
       "    </tr>\n",
       "  </thead>\n",
       "  <tbody>\n",
       "    <tr>\n",
       "      <th>1</th>\n",
       "      <td>1</td>\n",
       "      <td>LIBRARY ASSISTANT</td>\n",
       "      <td>Library</td>\n",
       "      <td>26125.0</td>\n",
       "      <td>Hispanic/Latino</td>\n",
       "      <td>Full Time</td>\n",
       "      <td>Female</td>\n",
       "      <td>Active</td>\n",
       "      <td>2000-07-19</td>\n",
       "      <td>2010-09-18</td>\n",
       "    </tr>\n",
       "    <tr>\n",
       "      <th>2</th>\n",
       "      <td>2</td>\n",
       "      <td>POLICE OFFICER</td>\n",
       "      <td>Houston Police Department-HPD</td>\n",
       "      <td>45279.0</td>\n",
       "      <td>White</td>\n",
       "      <td>Full Time</td>\n",
       "      <td>Male</td>\n",
       "      <td>Active</td>\n",
       "      <td>2015-02-03</td>\n",
       "      <td>2015-02-03</td>\n",
       "    </tr>\n",
       "    <tr>\n",
       "      <th>3</th>\n",
       "      <td>3</td>\n",
       "      <td>ENGINEER/OPERATOR</td>\n",
       "      <td>Houston Fire Department (HFD)</td>\n",
       "      <td>63166.0</td>\n",
       "      <td>White</td>\n",
       "      <td>Full Time</td>\n",
       "      <td>Male</td>\n",
       "      <td>Active</td>\n",
       "      <td>1982-02-08</td>\n",
       "      <td>1991-05-25</td>\n",
       "    </tr>\n",
       "    <tr>\n",
       "      <th>4</th>\n",
       "      <td>4</td>\n",
       "      <td>ELECTRICIAN</td>\n",
       "      <td>General Services Department</td>\n",
       "      <td>56347.0</td>\n",
       "      <td>White</td>\n",
       "      <td>Full Time</td>\n",
       "      <td>Male</td>\n",
       "      <td>Active</td>\n",
       "      <td>1989-06-19</td>\n",
       "      <td>1994-10-22</td>\n",
       "    </tr>\n",
       "    <tr>\n",
       "      <th>5</th>\n",
       "      <td>5</td>\n",
       "      <td>SENIOR POLICE OFFICER</td>\n",
       "      <td>Houston Police Department-HPD</td>\n",
       "      <td>66614.0</td>\n",
       "      <td>Black or African American</td>\n",
       "      <td>Full Time</td>\n",
       "      <td>Male</td>\n",
       "      <td>Active</td>\n",
       "      <td>1984-11-26</td>\n",
       "      <td>2005-03-26</td>\n",
       "    </tr>\n",
       "    <tr>\n",
       "      <th>...</th>\n",
       "      <td>...</td>\n",
       "      <td>...</td>\n",
       "      <td>...</td>\n",
       "      <td>...</td>\n",
       "      <td>...</td>\n",
       "      <td>...</td>\n",
       "      <td>...</td>\n",
       "      <td>...</td>\n",
       "      <td>...</td>\n",
       "      <td>...</td>\n",
       "    </tr>\n",
       "    <tr>\n",
       "      <th>1995</th>\n",
       "      <td>1995</td>\n",
       "      <td>POLICE OFFICER</td>\n",
       "      <td>Houston Police Department-HPD</td>\n",
       "      <td>43443.0</td>\n",
       "      <td>White</td>\n",
       "      <td>Full Time</td>\n",
       "      <td>Male</td>\n",
       "      <td>Active</td>\n",
       "      <td>2014-06-09</td>\n",
       "      <td>2015-06-09</td>\n",
       "    </tr>\n",
       "    <tr>\n",
       "      <th>1996</th>\n",
       "      <td>1996</td>\n",
       "      <td>COMMUNICATIONS CAPTAIN</td>\n",
       "      <td>Houston Fire Department (HFD)</td>\n",
       "      <td>66523.0</td>\n",
       "      <td>Black or African American</td>\n",
       "      <td>Full Time</td>\n",
       "      <td>Male</td>\n",
       "      <td>Active</td>\n",
       "      <td>2003-09-02</td>\n",
       "      <td>2013-10-06</td>\n",
       "    </tr>\n",
       "    <tr>\n",
       "      <th>1997</th>\n",
       "      <td>1997</td>\n",
       "      <td>POLICE OFFICER</td>\n",
       "      <td>Houston Police Department-HPD</td>\n",
       "      <td>43443.0</td>\n",
       "      <td>White</td>\n",
       "      <td>Full Time</td>\n",
       "      <td>Male</td>\n",
       "      <td>Active</td>\n",
       "      <td>2014-10-13</td>\n",
       "      <td>2015-10-13</td>\n",
       "    </tr>\n",
       "    <tr>\n",
       "      <th>1998</th>\n",
       "      <td>1998</td>\n",
       "      <td>POLICE OFFICER</td>\n",
       "      <td>Houston Police Department-HPD</td>\n",
       "      <td>55461.0</td>\n",
       "      <td>Asian/Pacific Islander</td>\n",
       "      <td>Full Time</td>\n",
       "      <td>Male</td>\n",
       "      <td>Active</td>\n",
       "      <td>2009-01-20</td>\n",
       "      <td>2011-07-02</td>\n",
       "    </tr>\n",
       "    <tr>\n",
       "      <th>1999</th>\n",
       "      <td>1999</td>\n",
       "      <td>FIRE FIGHTER</td>\n",
       "      <td>Houston Fire Department (HFD)</td>\n",
       "      <td>51194.0</td>\n",
       "      <td>Hispanic/Latino</td>\n",
       "      <td>Full Time</td>\n",
       "      <td>Male</td>\n",
       "      <td>Active</td>\n",
       "      <td>2009-01-12</td>\n",
       "      <td>2010-07-12</td>\n",
       "    </tr>\n",
       "  </tbody>\n",
       "</table>\n",
       "<p>1828 rows × 10 columns</p>\n",
       "</div>"
      ],
      "text/plain": [
       "      UNIQUE_ID          POSITION_TITLE                     DEPARTMENT  \\\n",
       "1             1       LIBRARY ASSISTANT                        Library   \n",
       "2             2          POLICE OFFICER  Houston Police Department-HPD   \n",
       "3             3       ENGINEER/OPERATOR  Houston Fire Department (HFD)   \n",
       "4             4             ELECTRICIAN    General Services Department   \n",
       "5             5   SENIOR POLICE OFFICER  Houston Police Department-HPD   \n",
       "...         ...                     ...                            ...   \n",
       "1995       1995          POLICE OFFICER  Houston Police Department-HPD   \n",
       "1996       1996  COMMUNICATIONS CAPTAIN  Houston Fire Department (HFD)   \n",
       "1997       1997          POLICE OFFICER  Houston Police Department-HPD   \n",
       "1998       1998          POLICE OFFICER  Houston Police Department-HPD   \n",
       "1999       1999            FIRE FIGHTER  Houston Fire Department (HFD)   \n",
       "\n",
       "      BASE_SALARY                       RACE EMPLOYMENT_TYPE  GENDER  \\\n",
       "1         26125.0            Hispanic/Latino       Full Time  Female   \n",
       "2         45279.0                      White       Full Time    Male   \n",
       "3         63166.0                      White       Full Time    Male   \n",
       "4         56347.0                      White       Full Time    Male   \n",
       "5         66614.0  Black or African American       Full Time    Male   \n",
       "...           ...                        ...             ...     ...   \n",
       "1995      43443.0                      White       Full Time    Male   \n",
       "1996      66523.0  Black or African American       Full Time    Male   \n",
       "1997      43443.0                      White       Full Time    Male   \n",
       "1998      55461.0     Asian/Pacific Islander       Full Time    Male   \n",
       "1999      51194.0            Hispanic/Latino       Full Time    Male   \n",
       "\n",
       "     EMPLOYMENT_STATUS   HIRE_DATE    JOB_DATE  \n",
       "1               Active  2000-07-19  2010-09-18  \n",
       "2               Active  2015-02-03  2015-02-03  \n",
       "3               Active  1982-02-08  1991-05-25  \n",
       "4               Active  1989-06-19  1994-10-22  \n",
       "5               Active  1984-11-26  2005-03-26  \n",
       "...                ...         ...         ...  \n",
       "1995            Active  2014-06-09  2015-06-09  \n",
       "1996            Active  2003-09-02  2013-10-06  \n",
       "1997            Active  2014-10-13  2015-10-13  \n",
       "1998            Active  2009-01-20  2011-07-02  \n",
       "1999            Active  2009-01-12  2010-07-12  \n",
       "\n",
       "[1828 rows x 10 columns]"
      ]
     },
     "execution_count": 88,
     "metadata": {},
     "output_type": "execute_result"
    }
   ],
   "source": [
    "# 기본급이 100000 미만인 사람들의 데이터\n",
    "SALARY = employee.BASE_SALARY < 100000\n",
    "employee.loc[SALARY]"
   ]
  },
  {
   "cell_type": "code",
   "execution_count": 92,
   "id": "801a8c2d-37bb-4f1e-b12d-bee558d552d0",
   "metadata": {},
   "outputs": [
    {
     "data": {
      "text/plain": [
       "0       100000.0\n",
       "1        26125.0\n",
       "2        45279.0\n",
       "3        63166.0\n",
       "4        56347.0\n",
       "          ...   \n",
       "1995     43443.0\n",
       "1996     66523.0\n",
       "1997     43443.0\n",
       "1998     55461.0\n",
       "1999     51194.0\n",
       "Name: BASE_SALARY, Length: 2000, dtype: float64"
      ]
     },
     "execution_count": 92,
     "metadata": {},
     "output_type": "execute_result"
    }
   ],
   "source": [
    "# where\n",
    "# SALARY 조건을 만족하는 값은 유지, 만족하지 않는 값은 100000으로 대체\n",
    "employee.BASE_SALARY.where(SALARY, other=100000)"
   ]
  },
  {
   "cell_type": "code",
   "execution_count": 94,
   "id": "76feba8f-43a8-44eb-9653-027279778956",
   "metadata": {},
   "outputs": [
    {
     "data": {
      "text/plain": [
       "<bound method NDFrame.describe of 0       100000.0\n",
       "1        26125.0\n",
       "2        45279.0\n",
       "3        63166.0\n",
       "4        56347.0\n",
       "          ...   \n",
       "1995     43443.0\n",
       "1996     66523.0\n",
       "1997     43443.0\n",
       "1998     55461.0\n",
       "1999     51194.0\n",
       "Name: BASE_SALARY, Length: 2000, dtype: float64>"
      ]
     },
     "execution_count": 94,
     "metadata": {},
     "output_type": "execute_result"
    }
   ],
   "source": [
    "employee.BASE_SALARY.where(SALARY, other=100000).describe"
   ]
  },
  {
   "cell_type": "code",
   "execution_count": 98,
   "id": "1cef25be-8f75-4749-b64b-399ad7344cee",
   "metadata": {},
   "outputs": [
    {
     "data": {
      "text/plain": [
       "count      1886.000000\n",
       "mean      55884.096501\n",
       "std       21110.095969\n",
       "min       30000.000000\n",
       "25%       40170.000000\n",
       "50%       54461.000000\n",
       "75%       66614.000000\n",
       "max      200000.000000\n",
       "Name: BASE_SALARY, dtype: float64"
      ]
     },
     "execution_count": 98,
     "metadata": {},
     "output_type": "execute_result"
    }
   ],
   "source": [
    "# clip : 하한, 상한 임계값 정하기\n",
    "employee.BASE_SALARY.clip(lower=30000, upper=200000).describe()"
   ]
  },
  {
   "cell_type": "markdown",
   "id": "59d47b0b-6f26-4b3f-83d6-6221028b6250",
   "metadata": {},
   "source": [
    "### Aggregation(종합)\n",
    "1. 단일열 기준 종합"
   ]
  },
  {
   "cell_type": "code",
   "execution_count": 100,
   "id": "b2e41209-34c7-4606-9389-a196684e9be0",
   "metadata": {},
   "outputs": [
    {
     "data": {
      "text/html": [
       "<div>\n",
       "<style scoped>\n",
       "    .dataframe tbody tr th:only-of-type {\n",
       "        vertical-align: middle;\n",
       "    }\n",
       "\n",
       "    .dataframe tbody tr th {\n",
       "        vertical-align: top;\n",
       "    }\n",
       "\n",
       "    .dataframe thead th {\n",
       "        text-align: right;\n",
       "    }\n",
       "</style>\n",
       "<table border=\"1\" class=\"dataframe\">\n",
       "  <thead>\n",
       "    <tr style=\"text-align: right;\">\n",
       "      <th></th>\n",
       "      <th>MONTH</th>\n",
       "      <th>DAY</th>\n",
       "      <th>WEEKDAY</th>\n",
       "      <th>AIRLINE</th>\n",
       "      <th>ORG_AIR</th>\n",
       "      <th>DEST_AIR</th>\n",
       "      <th>SCHED_DEP</th>\n",
       "      <th>DEP_DELAY</th>\n",
       "      <th>AIR_TIME</th>\n",
       "      <th>DIST</th>\n",
       "      <th>SCHED_ARR</th>\n",
       "      <th>ARR_DELAY</th>\n",
       "      <th>DIVERTED</th>\n",
       "      <th>CANCELLED</th>\n",
       "    </tr>\n",
       "  </thead>\n",
       "  <tbody>\n",
       "    <tr>\n",
       "      <th>0</th>\n",
       "      <td>1</td>\n",
       "      <td>1</td>\n",
       "      <td>4</td>\n",
       "      <td>WN</td>\n",
       "      <td>LAX</td>\n",
       "      <td>SLC</td>\n",
       "      <td>1625</td>\n",
       "      <td>58.0</td>\n",
       "      <td>94.0</td>\n",
       "      <td>590</td>\n",
       "      <td>1905</td>\n",
       "      <td>65.0</td>\n",
       "      <td>0</td>\n",
       "      <td>0</td>\n",
       "    </tr>\n",
       "    <tr>\n",
       "      <th>1</th>\n",
       "      <td>1</td>\n",
       "      <td>1</td>\n",
       "      <td>4</td>\n",
       "      <td>UA</td>\n",
       "      <td>DEN</td>\n",
       "      <td>IAD</td>\n",
       "      <td>823</td>\n",
       "      <td>7.0</td>\n",
       "      <td>154.0</td>\n",
       "      <td>1452</td>\n",
       "      <td>1333</td>\n",
       "      <td>-13.0</td>\n",
       "      <td>0</td>\n",
       "      <td>0</td>\n",
       "    </tr>\n",
       "    <tr>\n",
       "      <th>2</th>\n",
       "      <td>1</td>\n",
       "      <td>1</td>\n",
       "      <td>4</td>\n",
       "      <td>MQ</td>\n",
       "      <td>DFW</td>\n",
       "      <td>VPS</td>\n",
       "      <td>1305</td>\n",
       "      <td>36.0</td>\n",
       "      <td>85.0</td>\n",
       "      <td>641</td>\n",
       "      <td>1453</td>\n",
       "      <td>35.0</td>\n",
       "      <td>0</td>\n",
       "      <td>0</td>\n",
       "    </tr>\n",
       "    <tr>\n",
       "      <th>3</th>\n",
       "      <td>1</td>\n",
       "      <td>1</td>\n",
       "      <td>4</td>\n",
       "      <td>AA</td>\n",
       "      <td>DFW</td>\n",
       "      <td>DCA</td>\n",
       "      <td>1555</td>\n",
       "      <td>7.0</td>\n",
       "      <td>126.0</td>\n",
       "      <td>1192</td>\n",
       "      <td>1935</td>\n",
       "      <td>-7.0</td>\n",
       "      <td>0</td>\n",
       "      <td>0</td>\n",
       "    </tr>\n",
       "    <tr>\n",
       "      <th>4</th>\n",
       "      <td>1</td>\n",
       "      <td>1</td>\n",
       "      <td>4</td>\n",
       "      <td>WN</td>\n",
       "      <td>LAX</td>\n",
       "      <td>MCI</td>\n",
       "      <td>1720</td>\n",
       "      <td>48.0</td>\n",
       "      <td>166.0</td>\n",
       "      <td>1363</td>\n",
       "      <td>2225</td>\n",
       "      <td>39.0</td>\n",
       "      <td>0</td>\n",
       "      <td>0</td>\n",
       "    </tr>\n",
       "  </tbody>\n",
       "</table>\n",
       "</div>"
      ],
      "text/plain": [
       "   MONTH  DAY  WEEKDAY AIRLINE ORG_AIR DEST_AIR  SCHED_DEP  DEP_DELAY  \\\n",
       "0      1    1        4      WN     LAX      SLC       1625       58.0   \n",
       "1      1    1        4      UA     DEN      IAD        823        7.0   \n",
       "2      1    1        4      MQ     DFW      VPS       1305       36.0   \n",
       "3      1    1        4      AA     DFW      DCA       1555        7.0   \n",
       "4      1    1        4      WN     LAX      MCI       1720       48.0   \n",
       "\n",
       "   AIR_TIME  DIST  SCHED_ARR  ARR_DELAY  DIVERTED  CANCELLED  \n",
       "0      94.0   590       1905       65.0         0          0  \n",
       "1     154.0  1452       1333      -13.0         0          0  \n",
       "2      85.0   641       1453       35.0         0          0  \n",
       "3     126.0  1192       1935       -7.0         0          0  \n",
       "4     166.0  1363       2225       39.0         0          0  "
      ]
     },
     "execution_count": 100,
     "metadata": {},
     "output_type": "execute_result"
    }
   ],
   "source": [
    "flights = pd.read_csv('flights.csv')\n",
    "flights.head()"
   ]
  },
  {
   "cell_type": "code",
   "execution_count": 106,
   "id": "f194657c-fe66-4e10-893d-ae33a872e052",
   "metadata": {},
   "outputs": [
    {
     "data": {
      "text/plain": [
       "AIRLINE\n",
       "AA    5.542661\n",
       "AS   -0.833333\n",
       "B6    8.692593\n",
       "DL    0.339691\n",
       "EV    7.034580\n",
       "Name: ARR_DELAY, dtype: float64"
      ]
     },
     "execution_count": 106,
     "metadata": {},
     "output_type": "execute_result"
    }
   ],
   "source": [
    "# AIRLINE 그룹에서 delay의 평균을 구하라\n",
    "flights.groupby('AIRLINE')['ARR_DELAY'].mean().head()"
   ]
  },
  {
   "cell_type": "code",
   "execution_count": 109,
   "id": "c4dcde09-fa3f-4402-b9fd-7d32546d2182",
   "metadata": {},
   "outputs": [
    {
     "name": "stderr",
     "output_type": "stream",
     "text": [
      "C:\\Users\\admin\\AppData\\Local\\Temp\\ipykernel_11656\\16263011.py:1: FutureWarning: The provided callable <function mean at 0x00000193FD6A6160> is currently using SeriesGroupBy.mean. In a future version of pandas, the provided callable will be used directly. To keep current behavior pass the string \"mean\" instead.\n",
      "  flights.groupby('AIRLINE')['ARR_DELAY'].agg(np.mean).head()\n"
     ]
    },
    {
     "data": {
      "text/plain": [
       "AIRLINE\n",
       "AA    5.542661\n",
       "AS   -0.833333\n",
       "B6    8.692593\n",
       "DL    0.339691\n",
       "EV    7.034580\n",
       "Name: ARR_DELAY, dtype: float64"
      ]
     },
     "execution_count": 109,
     "metadata": {},
     "output_type": "execute_result"
    }
   ],
   "source": [
    "flights.groupby('AIRLINE')['ARR_DELAY'].agg(np.mean).head()"
   ]
  },
  {
   "cell_type": "code",
   "execution_count": 112,
   "id": "62f2e058-b597-42ff-a361-9011d2008ddf",
   "metadata": {},
   "outputs": [
    {
     "data": {
      "text/plain": [
       "AIRLINE\n",
       "AA    5.542661\n",
       "AS   -0.833333\n",
       "B6    8.692593\n",
       "DL    0.339691\n",
       "EV    7.034580\n",
       "Name: ARR_DELAY, dtype: float64"
      ]
     },
     "execution_count": 112,
     "metadata": {},
     "output_type": "execute_result"
    }
   ],
   "source": [
    "flights.groupby('AIRLINE')['ARR_DELAY'].agg('mean').head()"
   ]
  },
  {
   "cell_type": "code",
   "execution_count": 116,
   "id": "73fda7e6-87d6-44e5-b2c9-c630174e9a69",
   "metadata": {},
   "outputs": [
    {
     "data": {
      "text/html": [
       "<div>\n",
       "<style scoped>\n",
       "    .dataframe tbody tr th:only-of-type {\n",
       "        vertical-align: middle;\n",
       "    }\n",
       "\n",
       "    .dataframe tbody tr th {\n",
       "        vertical-align: top;\n",
       "    }\n",
       "\n",
       "    .dataframe thead th {\n",
       "        text-align: right;\n",
       "    }\n",
       "</style>\n",
       "<table border=\"1\" class=\"dataframe\">\n",
       "  <thead>\n",
       "    <tr style=\"text-align: right;\">\n",
       "      <th></th>\n",
       "      <th>ARR_DELAY</th>\n",
       "    </tr>\n",
       "    <tr>\n",
       "      <th>AIRLINE</th>\n",
       "      <th></th>\n",
       "    </tr>\n",
       "  </thead>\n",
       "  <tbody>\n",
       "    <tr>\n",
       "      <th>AA</th>\n",
       "      <td>5.542661</td>\n",
       "    </tr>\n",
       "    <tr>\n",
       "      <th>AS</th>\n",
       "      <td>-0.833333</td>\n",
       "    </tr>\n",
       "    <tr>\n",
       "      <th>B6</th>\n",
       "      <td>8.692593</td>\n",
       "    </tr>\n",
       "    <tr>\n",
       "      <th>DL</th>\n",
       "      <td>0.339691</td>\n",
       "    </tr>\n",
       "    <tr>\n",
       "      <th>EV</th>\n",
       "      <td>7.034580</td>\n",
       "    </tr>\n",
       "  </tbody>\n",
       "</table>\n",
       "</div>"
      ],
      "text/plain": [
       "         ARR_DELAY\n",
       "AIRLINE           \n",
       "AA        5.542661\n",
       "AS       -0.833333\n",
       "B6        8.692593\n",
       "DL        0.339691\n",
       "EV        7.034580"
      ]
     },
     "execution_count": 116,
     "metadata": {},
     "output_type": "execute_result"
    }
   ],
   "source": [
    "flights.groupby('AIRLINE').agg({'ARR_DELAY':'mean'}).head()"
   ]
  },
  {
   "cell_type": "markdown",
   "id": "43d67ea5-d16b-4d6b-9d91-a7e6e8123c31",
   "metadata": {},
   "source": [
    "#### 복수열 기준 종합"
   ]
  },
  {
   "cell_type": "code",
   "execution_count": 119,
   "id": "8183a523-b4bf-4e31-b9b0-f86f693bec7e",
   "metadata": {},
   "outputs": [
    {
     "data": {
      "text/plain": [
       "AIRLINE  WEEKDAY\n",
       "AA       1          41\n",
       "         2           9\n",
       "         3          16\n",
       "         4          20\n",
       "         5          18\n",
       "Name: CANCELLED, dtype: int64"
      ]
     },
     "execution_count": 119,
     "metadata": {},
     "output_type": "execute_result"
    }
   ],
   "source": [
    "flights.groupby(['AIRLINE', 'WEEKDAY'])['CANCELLED'].sum().head()"
   ]
  },
  {
   "cell_type": "code",
   "execution_count": 121,
   "id": "b1a69041-60bc-410a-a661-960fa8f4e311",
   "metadata": {},
   "outputs": [
    {
     "data": {
      "text/plain": [
       "AIRLINE  WEEKDAY\n",
       "AA       1          41\n",
       "         2           9\n",
       "         3          16\n",
       "         4          20\n",
       "         5          18\n",
       "Name: CANCELLED, dtype: int64"
      ]
     },
     "execution_count": 121,
     "metadata": {},
     "output_type": "execute_result"
    }
   ],
   "source": [
    "flights.groupby(['AIRLINE', 'WEEKDAY'])['CANCELLED'].agg('sum').head()"
   ]
  },
  {
   "cell_type": "code",
   "execution_count": 129,
   "id": "dc4c1e0a-b705-41ff-addf-77fd4f2ad29a",
   "metadata": {},
   "outputs": [
    {
     "data": {
      "text/html": [
       "<div>\n",
       "<style scoped>\n",
       "    .dataframe tbody tr th:only-of-type {\n",
       "        vertical-align: middle;\n",
       "    }\n",
       "\n",
       "    .dataframe tbody tr th {\n",
       "        vertical-align: top;\n",
       "    }\n",
       "\n",
       "    .dataframe thead tr th {\n",
       "        text-align: left;\n",
       "    }\n",
       "\n",
       "    .dataframe thead tr:last-of-type th {\n",
       "        text-align: right;\n",
       "    }\n",
       "</style>\n",
       "<table border=\"1\" class=\"dataframe\">\n",
       "  <thead>\n",
       "    <tr>\n",
       "      <th></th>\n",
       "      <th></th>\n",
       "      <th colspan=\"2\" halign=\"left\">CANCELLED</th>\n",
       "      <th colspan=\"2\" halign=\"left\">DIVERTED</th>\n",
       "    </tr>\n",
       "    <tr>\n",
       "      <th></th>\n",
       "      <th></th>\n",
       "      <th>sum</th>\n",
       "      <th>mean</th>\n",
       "      <th>sum</th>\n",
       "      <th>mean</th>\n",
       "    </tr>\n",
       "    <tr>\n",
       "      <th>AIRLINE</th>\n",
       "      <th>WEEKDAY</th>\n",
       "      <th></th>\n",
       "      <th></th>\n",
       "      <th></th>\n",
       "      <th></th>\n",
       "    </tr>\n",
       "  </thead>\n",
       "  <tbody>\n",
       "    <tr>\n",
       "      <th rowspan=\"5\" valign=\"top\">AA</th>\n",
       "      <th>1</th>\n",
       "      <td>41</td>\n",
       "      <td>0.032106</td>\n",
       "      <td>6</td>\n",
       "      <td>0.004699</td>\n",
       "    </tr>\n",
       "    <tr>\n",
       "      <th>2</th>\n",
       "      <td>9</td>\n",
       "      <td>0.007341</td>\n",
       "      <td>2</td>\n",
       "      <td>0.001631</td>\n",
       "    </tr>\n",
       "    <tr>\n",
       "      <th>3</th>\n",
       "      <td>16</td>\n",
       "      <td>0.011949</td>\n",
       "      <td>2</td>\n",
       "      <td>0.001494</td>\n",
       "    </tr>\n",
       "    <tr>\n",
       "      <th>4</th>\n",
       "      <td>20</td>\n",
       "      <td>0.015004</td>\n",
       "      <td>5</td>\n",
       "      <td>0.003751</td>\n",
       "    </tr>\n",
       "    <tr>\n",
       "      <th>5</th>\n",
       "      <td>18</td>\n",
       "      <td>0.014151</td>\n",
       "      <td>1</td>\n",
       "      <td>0.000786</td>\n",
       "    </tr>\n",
       "    <tr>\n",
       "      <th>...</th>\n",
       "      <th>...</th>\n",
       "      <td>...</td>\n",
       "      <td>...</td>\n",
       "      <td>...</td>\n",
       "      <td>...</td>\n",
       "    </tr>\n",
       "    <tr>\n",
       "      <th rowspan=\"5\" valign=\"top\">WN</th>\n",
       "      <th>3</th>\n",
       "      <td>18</td>\n",
       "      <td>0.014118</td>\n",
       "      <td>2</td>\n",
       "      <td>0.001569</td>\n",
       "    </tr>\n",
       "    <tr>\n",
       "      <th>4</th>\n",
       "      <td>10</td>\n",
       "      <td>0.007911</td>\n",
       "      <td>4</td>\n",
       "      <td>0.003165</td>\n",
       "    </tr>\n",
       "    <tr>\n",
       "      <th>5</th>\n",
       "      <td>7</td>\n",
       "      <td>0.005828</td>\n",
       "      <td>0</td>\n",
       "      <td>0.000000</td>\n",
       "    </tr>\n",
       "    <tr>\n",
       "      <th>6</th>\n",
       "      <td>10</td>\n",
       "      <td>0.010132</td>\n",
       "      <td>3</td>\n",
       "      <td>0.003040</td>\n",
       "    </tr>\n",
       "    <tr>\n",
       "      <th>7</th>\n",
       "      <td>7</td>\n",
       "      <td>0.006066</td>\n",
       "      <td>3</td>\n",
       "      <td>0.002600</td>\n",
       "    </tr>\n",
       "  </tbody>\n",
       "</table>\n",
       "<p>98 rows × 4 columns</p>\n",
       "</div>"
      ],
      "text/plain": [
       "                CANCELLED           DIVERTED          \n",
       "                      sum      mean      sum      mean\n",
       "AIRLINE WEEKDAY                                       \n",
       "AA      1              41  0.032106        6  0.004699\n",
       "        2               9  0.007341        2  0.001631\n",
       "        3              16  0.011949        2  0.001494\n",
       "        4              20  0.015004        5  0.003751\n",
       "        5              18  0.014151        1  0.000786\n",
       "...                   ...       ...      ...       ...\n",
       "WN      3              18  0.014118        2  0.001569\n",
       "        4              10  0.007911        4  0.003165\n",
       "        5               7  0.005828        0  0.000000\n",
       "        6              10  0.010132        3  0.003040\n",
       "        7               7  0.006066        3  0.002600\n",
       "\n",
       "[98 rows x 4 columns]"
      ]
     },
     "execution_count": 129,
     "metadata": {},
     "output_type": "execute_result"
    }
   ],
   "source": [
    "flights.groupby(['AIRLINE', 'WEEKDAY'])[['CANCELLED','DIVERTED']].agg(['sum','mean'])"
   ]
  },
  {
   "cell_type": "code",
   "execution_count": 130,
   "id": "bb38bdbf-7f8d-4619-9bb2-2487ca2acca3",
   "metadata": {},
   "outputs": [
    {
     "data": {
      "text/html": [
       "<div>\n",
       "<style scoped>\n",
       "    .dataframe tbody tr th:only-of-type {\n",
       "        vertical-align: middle;\n",
       "    }\n",
       "\n",
       "    .dataframe tbody tr th {\n",
       "        vertical-align: top;\n",
       "    }\n",
       "\n",
       "    .dataframe thead th {\n",
       "        text-align: right;\n",
       "    }\n",
       "</style>\n",
       "<table border=\"1\" class=\"dataframe\">\n",
       "  <thead>\n",
       "    <tr style=\"text-align: right;\">\n",
       "      <th></th>\n",
       "      <th></th>\n",
       "      <th>CANCELLED</th>\n",
       "      <th>DIVERTED</th>\n",
       "    </tr>\n",
       "    <tr>\n",
       "      <th>AIRLINE</th>\n",
       "      <th>WEEKDAY</th>\n",
       "      <th></th>\n",
       "      <th></th>\n",
       "    </tr>\n",
       "  </thead>\n",
       "  <tbody>\n",
       "    <tr>\n",
       "      <th rowspan=\"5\" valign=\"top\">AA</th>\n",
       "      <th>1</th>\n",
       "      <td>41</td>\n",
       "      <td>6</td>\n",
       "    </tr>\n",
       "    <tr>\n",
       "      <th>2</th>\n",
       "      <td>9</td>\n",
       "      <td>2</td>\n",
       "    </tr>\n",
       "    <tr>\n",
       "      <th>3</th>\n",
       "      <td>16</td>\n",
       "      <td>2</td>\n",
       "    </tr>\n",
       "    <tr>\n",
       "      <th>4</th>\n",
       "      <td>20</td>\n",
       "      <td>5</td>\n",
       "    </tr>\n",
       "    <tr>\n",
       "      <th>5</th>\n",
       "      <td>18</td>\n",
       "      <td>1</td>\n",
       "    </tr>\n",
       "    <tr>\n",
       "      <th>...</th>\n",
       "      <th>...</th>\n",
       "      <td>...</td>\n",
       "      <td>...</td>\n",
       "    </tr>\n",
       "    <tr>\n",
       "      <th rowspan=\"5\" valign=\"top\">WN</th>\n",
       "      <th>3</th>\n",
       "      <td>18</td>\n",
       "      <td>2</td>\n",
       "    </tr>\n",
       "    <tr>\n",
       "      <th>4</th>\n",
       "      <td>10</td>\n",
       "      <td>4</td>\n",
       "    </tr>\n",
       "    <tr>\n",
       "      <th>5</th>\n",
       "      <td>7</td>\n",
       "      <td>0</td>\n",
       "    </tr>\n",
       "    <tr>\n",
       "      <th>6</th>\n",
       "      <td>10</td>\n",
       "      <td>3</td>\n",
       "    </tr>\n",
       "    <tr>\n",
       "      <th>7</th>\n",
       "      <td>7</td>\n",
       "      <td>3</td>\n",
       "    </tr>\n",
       "  </tbody>\n",
       "</table>\n",
       "<p>98 rows × 2 columns</p>\n",
       "</div>"
      ],
      "text/plain": [
       "                 CANCELLED  DIVERTED\n",
       "AIRLINE WEEKDAY                     \n",
       "AA      1               41         6\n",
       "        2                9         2\n",
       "        3               16         2\n",
       "        4               20         5\n",
       "        5               18         1\n",
       "...                    ...       ...\n",
       "WN      3               18         2\n",
       "        4               10         4\n",
       "        5                7         0\n",
       "        6               10         3\n",
       "        7                7         3\n",
       "\n",
       "[98 rows x 2 columns]"
      ]
     },
     "execution_count": 130,
     "metadata": {},
     "output_type": "execute_result"
    }
   ],
   "source": [
    "flights.groupby(['AIRLINE', 'WEEKDAY']).agg({'CANCELLED' : 'sum' , 'DIVERTED' : 'sum'})"
   ]
  },
  {
   "cell_type": "code",
   "execution_count": 132,
   "id": "fd060c96-7c75-4e57-946c-d6556ee9a821",
   "metadata": {},
   "outputs": [
    {
     "data": {
      "text/html": [
       "<div>\n",
       "<style scoped>\n",
       "    .dataframe tbody tr th:only-of-type {\n",
       "        vertical-align: middle;\n",
       "    }\n",
       "\n",
       "    .dataframe tbody tr th {\n",
       "        vertical-align: top;\n",
       "    }\n",
       "\n",
       "    .dataframe thead tr th {\n",
       "        text-align: left;\n",
       "    }\n",
       "\n",
       "    .dataframe thead tr:last-of-type th {\n",
       "        text-align: right;\n",
       "    }\n",
       "</style>\n",
       "<table border=\"1\" class=\"dataframe\">\n",
       "  <thead>\n",
       "    <tr>\n",
       "      <th></th>\n",
       "      <th></th>\n",
       "      <th colspan=\"3\" halign=\"left\">CANCELLED</th>\n",
       "      <th colspan=\"2\" halign=\"left\">AIR_TIME</th>\n",
       "    </tr>\n",
       "    <tr>\n",
       "      <th></th>\n",
       "      <th></th>\n",
       "      <th>sum</th>\n",
       "      <th>mean</th>\n",
       "      <th>size</th>\n",
       "      <th>mean</th>\n",
       "      <th>var</th>\n",
       "    </tr>\n",
       "    <tr>\n",
       "      <th>ORG_AIR</th>\n",
       "      <th>DEST_AIR</th>\n",
       "      <th></th>\n",
       "      <th></th>\n",
       "      <th></th>\n",
       "      <th></th>\n",
       "      <th></th>\n",
       "    </tr>\n",
       "  </thead>\n",
       "  <tbody>\n",
       "    <tr>\n",
       "      <th rowspan=\"5\" valign=\"top\">ATL</th>\n",
       "      <th>ABE</th>\n",
       "      <td>0</td>\n",
       "      <td>0.0</td>\n",
       "      <td>31</td>\n",
       "      <td>96.387097</td>\n",
       "      <td>45.778495</td>\n",
       "    </tr>\n",
       "    <tr>\n",
       "      <th>ABQ</th>\n",
       "      <td>0</td>\n",
       "      <td>0.0</td>\n",
       "      <td>16</td>\n",
       "      <td>170.500000</td>\n",
       "      <td>87.866667</td>\n",
       "    </tr>\n",
       "    <tr>\n",
       "      <th>ABY</th>\n",
       "      <td>0</td>\n",
       "      <td>0.0</td>\n",
       "      <td>19</td>\n",
       "      <td>28.578947</td>\n",
       "      <td>6.590643</td>\n",
       "    </tr>\n",
       "    <tr>\n",
       "      <th>ACY</th>\n",
       "      <td>0</td>\n",
       "      <td>0.0</td>\n",
       "      <td>6</td>\n",
       "      <td>91.333333</td>\n",
       "      <td>11.466667</td>\n",
       "    </tr>\n",
       "    <tr>\n",
       "      <th>AEX</th>\n",
       "      <td>0</td>\n",
       "      <td>0.0</td>\n",
       "      <td>40</td>\n",
       "      <td>78.725000</td>\n",
       "      <td>47.332692</td>\n",
       "    </tr>\n",
       "  </tbody>\n",
       "</table>\n",
       "</div>"
      ],
      "text/plain": [
       "                 CANCELLED              AIR_TIME           \n",
       "                       sum mean size        mean        var\n",
       "ORG_AIR DEST_AIR                                           \n",
       "ATL     ABE              0  0.0   31   96.387097  45.778495\n",
       "        ABQ              0  0.0   16  170.500000  87.866667\n",
       "        ABY              0  0.0   19   28.578947   6.590643\n",
       "        ACY              0  0.0    6   91.333333  11.466667\n",
       "        AEX              0  0.0   40   78.725000  47.332692"
      ]
     },
     "execution_count": 132,
     "metadata": {},
     "output_type": "execute_result"
    }
   ],
   "source": [
    "group_cols = ['ORG_AIR','DEST_AIR'] # 출발지, 도착지\n",
    "add_dict = {'CANCELLED' : ['sum', 'mean', 'size'], 'AIR_TIME' : ['mean', 'var']}\n",
    "flights.groupby(group_cols).agg(add_dict).head()"
   ]
  }
 ],
 "metadata": {
  "kernelspec": {
   "display_name": "Python 3 (ipykernel)",
   "language": "python",
   "name": "python3"
  },
  "language_info": {
   "codemirror_mode": {
    "name": "ipython",
    "version": 3
   },
   "file_extension": ".py",
   "mimetype": "text/x-python",
   "name": "python",
   "nbconvert_exporter": "python",
   "pygments_lexer": "ipython3",
   "version": "3.12.7"
  }
 },
 "nbformat": 4,
 "nbformat_minor": 5
}
