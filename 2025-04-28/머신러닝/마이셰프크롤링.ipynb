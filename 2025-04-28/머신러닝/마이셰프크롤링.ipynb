{
 "cells": [
  {
   "cell_type": "code",
   "execution_count": 6,
   "id": "23a1779e-2521-4431-8d0b-3ed2b0acd7b1",
   "metadata": {},
   "outputs": [
    {
     "name": "stdout",
     "output_type": "stream",
     "text": [
      "\n",
      " 1 페이지 크롤링 시작\n",
      "썸네일 저장 완료: product_images\\1_image.jpg\n",
      "상세 이미지 저장 완료: product_detail_images\\1_detail.jpg\n",
      "리뷰 5개 수집됨\n",
      "리뷰 5개 수집됨\n",
      "리뷰 5개 수집됨\n",
      "리뷰 2개 수집됨\n",
      "리뷰 끝\n",
      "저장 완료: 17개\n",
      "썸네일 저장 완료: product_images\\2_image.jpg\n",
      "상세 이미지 저장 완료: product_detail_images\\2_detail.jpg\n",
      "리뷰 2개 수집됨\n",
      "리뷰 끝\n",
      "저장 완료: 2개\n",
      "썸네일 저장 완료: product_images\\3_image.jpg\n",
      "상세 이미지 저장 완료: product_detail_images\\3_detail.jpg\n",
      "리뷰 5개 수집됨\n",
      "리뷰 끝\n",
      "저장 완료: 5개\n",
      "썸네일 저장 완료: product_images\\4_image.jpg\n",
      "상세 이미지 저장 완료: product_detail_images\\4_detail.jpg\n",
      "리뷰 5개 수집됨\n",
      "리뷰 5개 수집됨\n",
      "리뷰 5개 수집됨\n",
      "리뷰 5개 수집됨\n",
      "리뷰 5개 수집됨\n",
      "리뷰 5개 수집됨\n",
      "리뷰 5개 수집됨\n",
      "리뷰 5개 수집됨\n",
      "리뷰 5개 수집됨\n",
      "리뷰 5개 수집됨\n",
      "리뷰 5개 수집됨\n",
      "리뷰 5개 수집됨\n",
      "리뷰 5개 수집됨\n",
      "리뷰 3개 수집됨\n",
      "리뷰 끝\n",
      "저장 완료: 68개\n"
     ]
    },
    {
     "ename": "KeyboardInterrupt",
     "evalue": "",
     "output_type": "error",
     "traceback": [
      "\u001b[1;31m---------------------------------------------------------------------------\u001b[0m",
      "\u001b[1;31mKeyboardInterrupt\u001b[0m                         Traceback (most recent call last)",
      "Cell \u001b[1;32mIn[6], line 50\u001b[0m\n\u001b[0;32m     48\u001b[0m \u001b[38;5;28;01mtry\u001b[39;00m:\n\u001b[0;32m     49\u001b[0m     driver\u001b[38;5;241m.\u001b[39mget(product_url)\n\u001b[1;32m---> 50\u001b[0m     time\u001b[38;5;241m.\u001b[39msleep(\u001b[38;5;241m2\u001b[39m)\n\u001b[0;32m     52\u001b[0m     \u001b[38;5;66;03m# 상품 이름\u001b[39;00m\n\u001b[0;32m     53\u001b[0m     \u001b[38;5;28;01mtry\u001b[39;00m:\n",
      "\u001b[1;31mKeyboardInterrupt\u001b[0m: "
     ]
    }
   ],
   "source": [
    "# 이미지 파일명 덮어쓰기 방지\n",
    "import os\n",
    "import csv\n",
    "import requests\n",
    "import re\n",
    "import time\n",
    "from selenium import webdriver\n",
    "from selenium.webdriver.common.by import By\n",
    "from selenium.webdriver.support.ui import WebDriverWait\n",
    "from selenium.webdriver.support import expected_conditions as EC\n",
    "\n",
    "# 이미지 저장 폴더 설정\n",
    "thumbnail_folder = \"product_images\"\n",
    "detail_folder = \"product_detail_images\"\n",
    "os.makedirs(thumbnail_folder, exist_ok=True)\n",
    "os.makedirs(detail_folder, exist_ok=True)\n",
    "\n",
    "# CSV 설정\n",
    "csv_filename = \"reviews_including_empty.csv\"\n",
    "csv_columns = [\"상품 이름\", \"이미지 파일명\", \"ID\", \"별점\", \"리뷰 내용\"]\n",
    "if not os.path.exists(csv_filename):\n",
    "    with open(csv_filename, \"w\", newline=\"\", encoding=\"utf-8-sig\") as f:\n",
    "        writer = csv.writer(f)\n",
    "        writer.writerow(csv_columns)\n",
    "\n",
    "# Selenium 드라이버 실행\n",
    "driver = webdriver.Chrome()\n",
    "driver.get(\"https://www.mychef.kr/product/list?depth1=All\")\n",
    "time.sleep(3)\n",
    "\n",
    "page = 1\n",
    "clicked_urls = set()\n",
    "global_index = 1  # 이미지 파일명 중복 방지를 위한 전역 인덱스\n",
    "\n",
    "try:\n",
    "    while True:\n",
    "        print(f\"\\n {page} 페이지 크롤링 시작\")\n",
    "\n",
    "        product_elements = WebDriverWait(driver, 10).until(\n",
    "            EC.presence_of_all_elements_located((By.CSS_SELECTOR, \"a[href^='/product/view?productCd=']\"))\n",
    "        )\n",
    "        product_urls = list(set([p.get_attribute(\"href\") for p in product_elements]))\n",
    "\n",
    "        for product_url in product_urls:\n",
    "            if product_url in clicked_urls:\n",
    "                continue\n",
    "\n",
    "            try:\n",
    "                driver.get(product_url)\n",
    "                time.sleep(2)\n",
    "\n",
    "                # 상품 이름\n",
    "                try:\n",
    "                    product_name = WebDriverWait(driver, 5).until(\n",
    "                        EC.presence_of_element_located((By.CSS_SELECTOR, \".goods-tit\"))\n",
    "                    ).text.strip()\n",
    "                except:\n",
    "                    product_name = \"상품 이름 없음\"\n",
    "\n",
    "                # # 썸네일 이미지 저장\n",
    "                # try:\n",
    "                #     img = driver.find_element(By.CSS_SELECTOR, \"img.lozad\")\n",
    "                #     thumb_url = img.get_attribute(\"src\")\n",
    "                #     thumb_name = os.path.join(thumbnail_folder, f\"{global_index}_image.jpg\")\n",
    "                #     if thumb_url.startswith(\"http\"):\n",
    "                #         with open(thumb_name, \"wb\") as f:\n",
    "                #             f.write(requests.get(thumb_url).content)\n",
    "                #         print(f\"썸네일 저장 완료: {thumb_name}\")\n",
    "                #     else:\n",
    "                #         thumb_name = \"이미지없음\"\n",
    "                # except:\n",
    "                #     print(\"썸네일 저장 실패\")\n",
    "                #     thumb_name = \"이미지없음\"\n",
    "                try:\n",
    "                    img = driver.find_element(By.CSS_SELECTOR, \"img.lozad\")\n",
    "                    thumb_url = img.get_attribute(\"src\") or img.get_attribute(\"data-src\") or img.get_attribute(\"data-original\")\n",
    "                    if thumb_url and thumb_url.startswith(\"http\"):\n",
    "                        response = requests.get(thumb_url, timeout=5)\n",
    "                        if response.status_code == 200 and 'image' in response.headers.get('Content-Type', ''):\n",
    "                            thumb_name = os.path.join(thumbnail_folder, f\"{global_index}_image.jpg\")\n",
    "                            with open(thumb_name, \"wb\") as f:\n",
    "                                f.write(response.content)\n",
    "                            print(f\"썸네일 저장 완료: {thumb_name}\")\n",
    "                        else:\n",
    "                            print(\"이미지 응답 실패 또는 이미지 아님\")\n",
    "                            thumb_name = \"이미지없음\"\n",
    "                    else:\n",
    "                        print(\"유효한 이미지 URL 없음\")\n",
    "                        thumb_name = \"이미지없음\"\n",
    "                except Exception as e:\n",
    "                    print(\"썸네일 저장 실패:\", e)\n",
    "                    thumb_name = \"이미지없음\"\n",
    "\n",
    "                # 상세 이미지 (첫 번째) 저장\n",
    "                try:\n",
    "                    detail_img = driver.find_element(By.CSS_SELECTOR, \"div.inner-content.productCont img\")\n",
    "                    detail_url = detail_img.get_attribute(\"src\")\n",
    "                    detail_name = os.path.join(detail_folder, f\"{global_index}_detail.jpg\")\n",
    "                    if detail_url.startswith(\"http\"):\n",
    "                        with open(detail_name, \"wb\") as f:\n",
    "                            f.write(requests.get(detail_url).content)\n",
    "                        print(f\"상세 이미지 저장 완료: {detail_name}\")\n",
    "                except:\n",
    "                    print(\"상세 이미지 없음\")\n",
    "\n",
    "                # 리뷰 수집\n",
    "                review_page = 1\n",
    "                seen_ids = set()\n",
    "                all_reviews = []\n",
    "\n",
    "                while True:\n",
    "                    time.sleep(2)\n",
    "                    reviews = driver.find_elements(By.CSS_SELECTOR, \"li.review-item\")\n",
    "                    new = []\n",
    "\n",
    "                    for r in reviews:\n",
    "                        rid = r.get_attribute(\"data-id\")\n",
    "                        if rid in seen_ids:\n",
    "                            continue\n",
    "                        seen_ids.add(rid)\n",
    "\n",
    "                        try:\n",
    "                            user = r.find_element(By.CSS_SELECTOR, \".name.user-name\").text.strip()\n",
    "                            uid = user[:5]\n",
    "                        except:\n",
    "                            uid = \"\"\n",
    "\n",
    "                        try:\n",
    "                            star = r.find_element(By.CSS_SELECTOR, \".pointReviewContent\").get_attribute(\"style\")\n",
    "                            match = re.search(r'width:\\s*(\\d+(?:\\.\\d+)?)px', star)\n",
    "                            rating = round(float(match.group(1)) / 19, 1) if match else \"-\"\n",
    "                        except:\n",
    "                            rating = \"\"\n",
    "\n",
    "                        try:\n",
    "                            text = r.find_element(By.CSS_SELECTOR, \"p.review.text span\").text.strip()\n",
    "                        except:\n",
    "                            text = \"\"\n",
    "\n",
    "                        new.append([product_name, f\"{global_index}_image.jpg\", uid, rating, text])\n",
    "\n",
    "                    if new:\n",
    "                        all_reviews.extend(new)\n",
    "                        print(f\"리뷰 {len(new)}개 수집됨\")\n",
    "\n",
    "                    # 다음 리뷰 페이지\n",
    "                    try:\n",
    "                        review_page += 1\n",
    "                        driver.execute_script(f\"refreshReviewPaging('{review_page}')\")\n",
    "                        WebDriverWait(driver, 5).until(\n",
    "                            lambda d: any(\n",
    "                                r.get_attribute(\"data-id\") not in seen_ids\n",
    "                                for r in d.find_elements(By.CSS_SELECTOR, \"li.review-item\")\n",
    "                            )\n",
    "                        )\n",
    "                    except:\n",
    "                        print(\"리뷰 끝\")\n",
    "                        break\n",
    "\n",
    "                # 리뷰 없을 경우 기본 저장\n",
    "                if not all_reviews:\n",
    "                    all_reviews.append([product_name, f\"{global_index}_image.jpg\", \"\", \"\", \"\"])\n",
    "\n",
    "                # CSV 저장\n",
    "                with open(csv_filename, \"a\", newline=\"\", encoding=\"utf-8-sig\") as f:\n",
    "                    writer = csv.writer(f)\n",
    "                    writer.writerows(all_reviews)\n",
    "\n",
    "                print(f\"저장 완료: {len(all_reviews)}개\")\n",
    "                clicked_urls.add(product_url)\n",
    "                global_index += 1  # 다음 상품 인덱스 증가\n",
    "                driver.back()\n",
    "                time.sleep(2)\n",
    "\n",
    "            except Exception as e:\n",
    "                print(f\"❌ 상품 오류: {e}\")\n",
    "                continue\n",
    "\n",
    "        # 다음 상품 페이지로 이동\n",
    "        try:\n",
    "            page += 1\n",
    "            driver.execute_script(f\"cmPageMove('{page}')\")\n",
    "            time.sleep(3)\n",
    "        except:\n",
    "            print(\"모든 상품 페이지 완료\")\n",
    "            break\n",
    "\n",
    "except Exception as e:\n",
    "    print(f\"❌ 전체 오류 발생: {e}\")\n",
    "\n",
    "driver.quit()\n"
   ]
  },
  {
   "cell_type": "code",
   "execution_count": 22,
   "id": "bf7434d6-0bad-499e-8a23-ba3fff551ff9",
   "metadata": {},
   "outputs": [
    {
     "name": "stdout",
     "output_type": "stream",
     "text": [
      "Found existing installation: moviepy 2.1.2\n",
      "Uninstalling moviepy-2.1.2:\n",
      "  Successfully uninstalled moviepy-2.1.2\n",
      "Collecting moviepy==1.0.3\n",
      "  Downloading moviepy-1.0.3.tar.gz (388 kB)\n",
      "  Preparing metadata (setup.py): started\n",
      "  Preparing metadata (setup.py): finished with status 'done'\n",
      "Collecting decorator<5.0,>=4.0.2 (from moviepy==1.0.3)\n",
      "  Downloading decorator-4.4.2-py2.py3-none-any.whl.metadata (4.2 kB)\n",
      "Requirement already satisfied: imageio<3.0,>=2.5 in c:\\anaconda\\lib\\site-packages (from moviepy==1.0.3) (2.33.1)\n",
      "Requirement already satisfied: imageio_ffmpeg>=0.2.0 in c:\\anaconda\\lib\\site-packages (from moviepy==1.0.3) (0.6.0)\n",
      "Requirement already satisfied: tqdm<5.0,>=4.11.2 in c:\\anaconda\\lib\\site-packages (from moviepy==1.0.3) (4.66.5)\n",
      "Requirement already satisfied: numpy>=1.17.3 in c:\\anaconda\\lib\\site-packages (from moviepy==1.0.3) (1.26.4)\n",
      "Requirement already satisfied: requests<3.0,>=2.8.1 in c:\\anaconda\\lib\\site-packages (from moviepy==1.0.3) (2.32.3)\n",
      "Requirement already satisfied: proglog<=1.0.0 in c:\\anaconda\\lib\\site-packages (from moviepy==1.0.3) (0.1.11)\n",
      "Requirement already satisfied: pillow>=8.3.2 in c:\\anaconda\\lib\\site-packages (from imageio<3.0,>=2.5->moviepy==1.0.3) (10.4.0)\n",
      "Requirement already satisfied: charset-normalizer<4,>=2 in c:\\anaconda\\lib\\site-packages (from requests<3.0,>=2.8.1->moviepy==1.0.3) (3.3.2)\n",
      "Requirement already satisfied: idna<4,>=2.5 in c:\\anaconda\\lib\\site-packages (from requests<3.0,>=2.8.1->moviepy==1.0.3) (3.7)\n",
      "Requirement already satisfied: urllib3<3,>=1.21.1 in c:\\anaconda\\lib\\site-packages (from requests<3.0,>=2.8.1->moviepy==1.0.3) (2.2.3)\n",
      "Requirement already satisfied: certifi>=2017.4.17 in c:\\anaconda\\lib\\site-packages (from requests<3.0,>=2.8.1->moviepy==1.0.3) (2025.1.31)\n",
      "Requirement already satisfied: colorama in c:\\anaconda\\lib\\site-packages (from tqdm<5.0,>=4.11.2->moviepy==1.0.3) (0.4.6)\n",
      "Downloading decorator-4.4.2-py2.py3-none-any.whl (9.2 kB)\n",
      "Building wheels for collected packages: moviepy\n",
      "  Building wheel for moviepy (setup.py): started\n",
      "  Building wheel for moviepy (setup.py): finished with status 'done'\n",
      "  Created wheel for moviepy: filename=moviepy-1.0.3-py3-none-any.whl size=110755 sha256=f14aeed68f7faa0d0bf9e76a57e7088fa227a2826714e823c6bd6c1fe570b0d6\n",
      "  Stored in directory: c:\\users\\admin\\appdata\\local\\pip\\cache\\wheels\\df\\ba\\4b\\0917fc0c8833c8ba7016565fc975b74c67bc8610806e930272\n",
      "Successfully built moviepy\n",
      "Installing collected packages: decorator, moviepy\n",
      "  Attempting uninstall: decorator\n",
      "    Found existing installation: decorator 5.1.1\n",
      "    Uninstalling decorator-5.1.1:\n",
      "      Successfully uninstalled decorator-5.1.1\n",
      "Successfully installed decorator-4.4.2 moviepy-1.0.3\n"
     ]
    }
   ],
   "source": [
    "!pip uninstall -y moviepy\n",
    "!pip install moviepy==1.0.3\n"
   ]
  },
  {
   "cell_type": "code",
   "execution_count": 23,
   "id": "2415713a-99c8-4ca1-87c1-1a05e3d2687f",
   "metadata": {},
   "outputs": [
    {
     "name": "stdout",
     "output_type": "stream",
     "text": [
      "C:\\anaconda\\python.exe\n"
     ]
    }
   ],
   "source": [
    "import sys\n",
    "print(sys.executable)\n"
   ]
  },
  {
   "cell_type": "code",
   "execution_count": 24,
   "id": "0f68777a-4940-4d68-8fd1-9892ba3ff201",
   "metadata": {},
   "outputs": [
    {
     "name": "stdout",
     "output_type": "stream",
     "text": [
      "C:\\anaconda\\Lib\\site-packages\\moviepy\\__init__.py\n"
     ]
    }
   ],
   "source": [
    "import moviepy\n",
    "print(moviepy.__file__)\n"
   ]
  },
  {
   "cell_type": "code",
   "execution_count": 28,
   "id": "8d8e174e-18b4-4986-a2e5-dd1e2af92cef",
   "metadata": {},
   "outputs": [
    {
     "name": "stdout",
     "output_type": "stream",
     "text": [
      "Requirement already satisfied: decorator==4.4.2 in c:\\anaconda\\lib\\site-packages (4.4.2)\n"
     ]
    }
   ],
   "source": [
    "!pip install decorator==4.4.2\n"
   ]
  },
  {
   "cell_type": "code",
   "execution_count": 1,
   "id": "e8063689-0adc-45c2-b274-9fffc3a2877b",
   "metadata": {},
   "outputs": [
    {
     "name": "stdout",
     "output_type": "stream",
     "text": [
      "moviepy.editor 정상 작동!\n"
     ]
    }
   ],
   "source": [
    "from moviepy.editor import VideoFileClip, clips_array\n",
    "\n",
    "print(\"moviepy.editor 정상 작동!\")\n"
   ]
  },
  {
   "cell_type": "code",
   "execution_count": 2,
   "id": "de75bff8-afee-4e39-a062-3af76cb923f8",
   "metadata": {},
   "outputs": [
    {
     "name": "stdout",
     "output_type": "stream",
     "text": [
      "Moviepy - Building video output_combined.mp4.\n",
      "MoviePy - Writing audio in output_combinedTEMP_MPY_wvf_snd.mp4\n"
     ]
    },
    {
     "name": "stderr",
     "output_type": "stream",
     "text": [
      "                                                                                                                       \r"
     ]
    },
    {
     "name": "stdout",
     "output_type": "stream",
     "text": [
      "MoviePy - Done.\n",
      "Moviepy - Writing video output_combined.mp4\n",
      "\n"
     ]
    },
    {
     "name": "stderr",
     "output_type": "stream",
     "text": [
      "                                                                                                                       "
     ]
    },
    {
     "name": "stdout",
     "output_type": "stream",
     "text": [
      "Moviepy - Done !\n",
      "Moviepy - video ready output_combined.mp4\n"
     ]
    },
    {
     "name": "stderr",
     "output_type": "stream",
     "text": [
      "\r"
     ]
    }
   ],
   "source": [
    "from moviepy.editor import VideoFileClip, clips_array\n",
    "\n",
    "clip1 = VideoFileClip(\"C:/Users/admin/Videos/Captures/video1.mp4\")\n",
    "clip2 = VideoFileClip(\"C:/Users/admin/Videos/Captures/video2.mp4\")\n",
    "\n",
    "min_dur = min(clip1.duration, clip2.duration)\n",
    "start = max(min_dur - 30, 0)\n",
    "\n",
    "clip1 = clip1.subclip(start, min_dur).resize(height=360)\n",
    "clip2 = clip2.subclip(start, min_dur).resize(height=360)\n",
    "\n",
    "final = clips_array([[clip1, clip2]])\n",
    "final.write_videofile(\"output_combined.mp4\", fps=15, codec=\"libx264\", preset=\"ultrafast\", audio_codec=\"aac\")\n"
   ]
  }
 ],
 "metadata": {
  "kernelspec": {
   "display_name": "Python 3 (ipykernel)",
   "language": "python",
   "name": "python3"
  },
  "language_info": {
   "codemirror_mode": {
    "name": "ipython",
    "version": 3
   },
   "file_extension": ".py",
   "mimetype": "text/x-python",
   "name": "python",
   "nbconvert_exporter": "python",
   "pygments_lexer": "ipython3",
   "version": "3.12.3"
  }
 },
 "nbformat": 4,
 "nbformat_minor": 5
}
