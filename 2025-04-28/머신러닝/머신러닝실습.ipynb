{
 "cells": [
  {
   "cell_type": "code",
   "execution_count": 1,
   "id": "e6936805-0016-4499-8ff4-85ef716f48ba",
   "metadata": {},
   "outputs": [],
   "source": [
    "import pandas as pd\n",
    "import copy\n",
    "import numpy as np\n",
    "import matplotlib.pyplot as plt\n",
    "%matplotlib inline"
   ]
  },
  {
   "cell_type": "code",
   "execution_count": 2,
   "id": "8e9b13ca-2845-4a8b-89fd-c59a45c782aa",
   "metadata": {},
   "outputs": [
    {
     "data": {
      "text/html": [
       "<div>\n",
       "<style scoped>\n",
       "    .dataframe tbody tr th:only-of-type {\n",
       "        vertical-align: middle;\n",
       "    }\n",
       "\n",
       "    .dataframe tbody tr th {\n",
       "        vertical-align: top;\n",
       "    }\n",
       "\n",
       "    .dataframe thead th {\n",
       "        text-align: right;\n",
       "    }\n",
       "</style>\n",
       "<table border=\"1\" class=\"dataframe\">\n",
       "  <thead>\n",
       "    <tr style=\"text-align: right;\">\n",
       "      <th></th>\n",
       "      <th>custid</th>\n",
       "      <th>gender</th>\n",
       "      <th>총구매액</th>\n",
       "      <th>구매건수</th>\n",
       "      <th>평균구매가격</th>\n",
       "      <th>평균할부개월수</th>\n",
       "      <th>구매브랜드종류</th>\n",
       "      <th>내점일수</th>\n",
       "      <th>수입상품_구매비율</th>\n",
       "      <th>주말방문비율</th>\n",
       "      <th>가을_구매건수</th>\n",
       "      <th>겨울_구매건수</th>\n",
       "      <th>봄_구매건수</th>\n",
       "      <th>여름_구매건수</th>\n",
       "      <th>아침_구매건수</th>\n",
       "      <th>저녁_구매건수</th>\n",
       "      <th>점심_구매건수</th>\n",
       "      <th>주구매코너</th>\n",
       "    </tr>\n",
       "  </thead>\n",
       "  <tbody>\n",
       "    <tr>\n",
       "      <th>0</th>\n",
       "      <td>18</td>\n",
       "      <td>0</td>\n",
       "      <td>680100</td>\n",
       "      <td>15</td>\n",
       "      <td>45340</td>\n",
       "      <td>1.7</td>\n",
       "      <td>9</td>\n",
       "      <td>10</td>\n",
       "      <td>26.7</td>\n",
       "      <td>100.0</td>\n",
       "      <td>NaN</td>\n",
       "      <td>9.0</td>\n",
       "      <td>6.0</td>\n",
       "      <td>NaN</td>\n",
       "      <td>NaN</td>\n",
       "      <td>6.0</td>\n",
       "      <td>9.0</td>\n",
       "      <td>화장품</td>\n",
       "    </tr>\n",
       "    <tr>\n",
       "      <th>1</th>\n",
       "      <td>21</td>\n",
       "      <td>0</td>\n",
       "      <td>353450</td>\n",
       "      <td>9</td>\n",
       "      <td>39272</td>\n",
       "      <td>1.2</td>\n",
       "      <td>6</td>\n",
       "      <td>8</td>\n",
       "      <td>11.1</td>\n",
       "      <td>37.5</td>\n",
       "      <td>NaN</td>\n",
       "      <td>5.0</td>\n",
       "      <td>4.0</td>\n",
       "      <td>NaN</td>\n",
       "      <td>3.0</td>\n",
       "      <td>NaN</td>\n",
       "      <td>6.0</td>\n",
       "      <td>영캐주얼</td>\n",
       "    </tr>\n",
       "    <tr>\n",
       "      <th>2</th>\n",
       "      <td>23</td>\n",
       "      <td>0</td>\n",
       "      <td>5671400</td>\n",
       "      <td>36</td>\n",
       "      <td>157539</td>\n",
       "      <td>2.8</td>\n",
       "      <td>22</td>\n",
       "      <td>16</td>\n",
       "      <td>5.6</td>\n",
       "      <td>37.5</td>\n",
       "      <td>7.0</td>\n",
       "      <td>17.0</td>\n",
       "      <td>12.0</td>\n",
       "      <td>NaN</td>\n",
       "      <td>10.0</td>\n",
       "      <td>11.0</td>\n",
       "      <td>15.0</td>\n",
       "      <td>장신구</td>\n",
       "    </tr>\n",
       "    <tr>\n",
       "      <th>3</th>\n",
       "      <td>26</td>\n",
       "      <td>0</td>\n",
       "      <td>1964000</td>\n",
       "      <td>28</td>\n",
       "      <td>70143</td>\n",
       "      <td>1.4</td>\n",
       "      <td>15</td>\n",
       "      <td>14</td>\n",
       "      <td>39.3</td>\n",
       "      <td>28.6</td>\n",
       "      <td>5.0</td>\n",
       "      <td>8.0</td>\n",
       "      <td>15.0</td>\n",
       "      <td>NaN</td>\n",
       "      <td>NaN</td>\n",
       "      <td>18.0</td>\n",
       "      <td>10.0</td>\n",
       "      <td>화장품</td>\n",
       "    </tr>\n",
       "    <tr>\n",
       "      <th>4</th>\n",
       "      <td>35</td>\n",
       "      <td>0</td>\n",
       "      <td>885000</td>\n",
       "      <td>5</td>\n",
       "      <td>177000</td>\n",
       "      <td>6.0</td>\n",
       "      <td>5</td>\n",
       "      <td>2</td>\n",
       "      <td>0.0</td>\n",
       "      <td>100.0</td>\n",
       "      <td>NaN</td>\n",
       "      <td>NaN</td>\n",
       "      <td>5.0</td>\n",
       "      <td>NaN</td>\n",
       "      <td>NaN</td>\n",
       "      <td>5.0</td>\n",
       "      <td>NaN</td>\n",
       "      <td>피혁A</td>\n",
       "    </tr>\n",
       "  </tbody>\n",
       "</table>\n",
       "</div>"
      ],
      "text/plain": [
       "   custid  gender     총구매액  구매건수  평균구매가격  평균할부개월수  구매브랜드종류  내점일수  수입상품_구매비율  \\\n",
       "0      18       0   680100    15   45340      1.7        9    10       26.7   \n",
       "1      21       0   353450     9   39272      1.2        6     8       11.1   \n",
       "2      23       0  5671400    36  157539      2.8       22    16        5.6   \n",
       "3      26       0  1964000    28   70143      1.4       15    14       39.3   \n",
       "4      35       0   885000     5  177000      6.0        5     2        0.0   \n",
       "\n",
       "   주말방문비율  가을_구매건수  겨울_구매건수  봄_구매건수  여름_구매건수  아침_구매건수  저녁_구매건수  점심_구매건수 주구매코너  \n",
       "0   100.0      NaN      9.0     6.0      NaN      NaN      6.0      9.0   화장품  \n",
       "1    37.5      NaN      5.0     4.0      NaN      3.0      NaN      6.0  영캐주얼  \n",
       "2    37.5      7.0     17.0    12.0      NaN     10.0     11.0     15.0   장신구  \n",
       "3    28.6      5.0      8.0    15.0      NaN      NaN     18.0     10.0   화장품  \n",
       "4   100.0      NaN      NaN     5.0      NaN      NaN      5.0      NaN   피혁A  "
      ]
     },
     "execution_count": 2,
     "metadata": {},
     "output_type": "execute_result"
    }
   ],
   "source": [
    "data = pd.read_csv('train.csv', encoding='CP949')\n",
    "data.head()"
   ]
  },
  {
   "cell_type": "code",
   "execution_count": 3,
   "id": "fe8ba967-6bc2-4a28-a97b-9c41154069cf",
   "metadata": {},
   "outputs": [
    {
     "data": {
      "text/plain": [
       "custid          0\n",
       "gender          0\n",
       "총구매액            0\n",
       "구매건수            0\n",
       "평균구매가격          0\n",
       "평균할부개월수         0\n",
       "구매브랜드종류         0\n",
       "내점일수            0\n",
       "수입상품_구매비율       0\n",
       "주말방문비율          0\n",
       "가을_구매건수       945\n",
       "겨울_구매건수       897\n",
       "봄_구매건수        689\n",
       "여름_구매건수      1022\n",
       "아침_구매건수      1442\n",
       "저녁_구매건수       967\n",
       "점심_구매건수       145\n",
       "주구매코너           0\n",
       "dtype: int64"
      ]
     },
     "execution_count": 3,
     "metadata": {},
     "output_type": "execute_result"
    }
   ],
   "source": [
    "data.isnull().sum()"
   ]
  },
  {
   "cell_type": "code",
   "execution_count": 4,
   "id": "1a8e2151-38b1-4726-ab90-79ce0b1379fb",
   "metadata": {},
   "outputs": [
    {
     "name": "stdout",
     "output_type": "stream",
     "text": [
      "<class 'pandas.core.frame.DataFrame'>\n",
      "RangeIndex: 5000 entries, 0 to 4999\n",
      "Data columns (total 18 columns):\n",
      " #   Column     Non-Null Count  Dtype  \n",
      "---  ------     --------------  -----  \n",
      " 0   custid     5000 non-null   int64  \n",
      " 1   gender     5000 non-null   int64  \n",
      " 2   총구매액       5000 non-null   int64  \n",
      " 3   구매건수       5000 non-null   int64  \n",
      " 4   평균구매가격     5000 non-null   int64  \n",
      " 5   평균할부개월수    5000 non-null   float64\n",
      " 6   구매브랜드종류    5000 non-null   int64  \n",
      " 7   내점일수       5000 non-null   int64  \n",
      " 8   수입상품_구매비율  5000 non-null   float64\n",
      " 9   주말방문비율     5000 non-null   float64\n",
      " 10  가을_구매건수    4055 non-null   float64\n",
      " 11  겨울_구매건수    4103 non-null   float64\n",
      " 12  봄_구매건수     4311 non-null   float64\n",
      " 13  여름_구매건수    3978 non-null   float64\n",
      " 14  아침_구매건수    3558 non-null   float64\n",
      " 15  저녁_구매건수    4033 non-null   float64\n",
      " 16  점심_구매건수    4855 non-null   float64\n",
      " 17  주구매코너      5000 non-null   object \n",
      "dtypes: float64(10), int64(7), object(1)\n",
      "memory usage: 703.3+ KB\n"
     ]
    }
   ],
   "source": [
    "data.info()"
   ]
  },
  {
   "cell_type": "code",
   "execution_count": 5,
   "id": "7b07e449-0b7f-439e-8ec9-596dc0a6474b",
   "metadata": {},
   "outputs": [],
   "source": [
    "obj = ['주구매코너']\n",
    "data[obj] = data[obj].apply(lambda x: x.astype('category').cat.codes) "
   ]
  },
  {
   "cell_type": "code",
   "execution_count": 6,
   "id": "03a4fcd0-f65f-4b3b-b553-d63b21d8d096",
   "metadata": {},
   "outputs": [
    {
     "name": "stdout",
     "output_type": "stream",
     "text": [
      "<class 'pandas.core.frame.DataFrame'>\n",
      "RangeIndex: 5000 entries, 0 to 4999\n",
      "Data columns (total 18 columns):\n",
      " #   Column     Non-Null Count  Dtype  \n",
      "---  ------     --------------  -----  \n",
      " 0   custid     5000 non-null   int64  \n",
      " 1   gender     5000 non-null   int64  \n",
      " 2   총구매액       5000 non-null   int64  \n",
      " 3   구매건수       5000 non-null   int64  \n",
      " 4   평균구매가격     5000 non-null   int64  \n",
      " 5   평균할부개월수    5000 non-null   float64\n",
      " 6   구매브랜드종류    5000 non-null   int64  \n",
      " 7   내점일수       5000 non-null   int64  \n",
      " 8   수입상품_구매비율  5000 non-null   float64\n",
      " 9   주말방문비율     5000 non-null   float64\n",
      " 10  가을_구매건수    5000 non-null   float64\n",
      " 11  겨울_구매건수    5000 non-null   float64\n",
      " 12  봄_구매건수     5000 non-null   float64\n",
      " 13  여름_구매건수    5000 non-null   float64\n",
      " 14  아침_구매건수    5000 non-null   float64\n",
      " 15  저녁_구매건수    5000 non-null   float64\n",
      " 16  점심_구매건수    5000 non-null   float64\n",
      " 17  주구매코너      5000 non-null   int8   \n",
      "dtypes: float64(10), int64(7), int8(1)\n",
      "memory usage: 669.1 KB\n"
     ]
    }
   ],
   "source": [
    "data.fillna(round(data.mean(),0), inplace=True)\n",
    "data.info()"
   ]
  },
  {
   "cell_type": "code",
   "execution_count": 7,
   "id": "7c034bb9-435e-4ff6-99fc-0b1f6147abd3",
   "metadata": {},
   "outputs": [],
   "source": [
    "from sklearn.model_selection import train_test_split\n",
    "dfX = data.drop(['custid','gender'], axis=1) \n",
    "dfy = data['gender']\n",
    "X_train, X_test, y_train, y_test = train_test_split(dfX, dfy, test_size=0.25, random_state=0)"
   ]
  },
  {
   "cell_type": "code",
   "execution_count": 8,
   "id": "5e220bcb-527d-41f1-87d8-26a1f0272cdc",
   "metadata": {},
   "outputs": [],
   "source": [
    "from sklearn.dummy import DummyClassifier\n",
    "dummy = DummyClassifier(strategy='most_frequent').fit(X_train, y_train)\n",
    "pred_dummy = dummy.predict(X_test)"
   ]
  },
  {
   "cell_type": "code",
   "execution_count": 9,
   "id": "b9de7726-9151-401e-beec-dc0f3f48ea11",
   "metadata": {},
   "outputs": [],
   "source": [
    "from sklearn.tree import DecisionTreeClassifier\n",
    "tree = DecisionTreeClassifier(max_depth=2).fit(X_train, y_train)\n",
    "pred_tree = tree.predict(X_test)"
   ]
  },
  {
   "cell_type": "code",
   "execution_count": 10,
   "id": "a36d5c14-70a7-484f-8c0f-3e839902c37a",
   "metadata": {},
   "outputs": [
    {
     "name": "stdout",
     "output_type": "stream",
     "text": [
      "Dummy model:\n",
      "0.7064\n",
      "Decision tree:\n",
      "0.6944\n"
     ]
    }
   ],
   "source": [
    "from sklearn.metrics import accuracy_score\n",
    "print(\"Dummy model:\")\n",
    "print(accuracy_score(y_test, pred_dummy))\n",
    "print(\"Decision tree:\")\n",
    "print(accuracy_score(y_test, pred_tree))"
   ]
  },
  {
   "cell_type": "code",
   "execution_count": 11,
   "id": "d8d2eed0-e574-4327-8032-71380e771b86",
   "metadata": {},
   "outputs": [
    {
     "name": "stdout",
     "output_type": "stream",
     "text": [
      "Dummy model:\n",
      "[[883   0]\n",
      " [367   0]]\n",
      "Decision tree:\n",
      "[[832  51]\n",
      " [331  36]]\n"
     ]
    }
   ],
   "source": [
    "from sklearn.metrics import confusion_matrix\n",
    "print(\"Dummy model:\")\n",
    "print(confusion_matrix(y_test, pred_dummy))\n",
    "print(\"Decision tree:\")\n",
    "print(confusion_matrix(y_test, pred_tree))"
   ]
  },
  {
   "cell_type": "code",
   "execution_count": 12,
   "id": "e37d3d35-ffe6-40da-a31f-af1c3cc3418a",
   "metadata": {},
   "outputs": [
    {
     "name": "stdout",
     "output_type": "stream",
     "text": [
      "Dummy model:\n",
      "              precision    recall  f1-score   support\n",
      "\n",
      "       not 9       0.71      1.00      0.83       883\n",
      "           9       0.00      0.00      0.00       367\n",
      "\n",
      "    accuracy                           0.71      1250\n",
      "   macro avg       0.35      0.50      0.41      1250\n",
      "weighted avg       0.50      0.71      0.58      1250\n",
      "\n",
      "\n",
      "Decision tree:\n",
      "              precision    recall  f1-score   support\n",
      "\n",
      "       not 9       0.72      0.94      0.81       883\n",
      "           9       0.41      0.10      0.16       367\n",
      "\n",
      "    accuracy                           0.69      1250\n",
      "   macro avg       0.56      0.52      0.49      1250\n",
      "weighted avg       0.63      0.69      0.62      1250\n",
      "\n"
     ]
    },
    {
     "name": "stderr",
     "output_type": "stream",
     "text": [
      "C:\\anaconda\\Lib\\site-packages\\sklearn\\metrics\\_classification.py:1531: UndefinedMetricWarning: Precision is ill-defined and being set to 0.0 in labels with no predicted samples. Use `zero_division` parameter to control this behavior.\n",
      "  _warn_prf(average, modifier, f\"{metric.capitalize()} is\", len(result))\n",
      "C:\\anaconda\\Lib\\site-packages\\sklearn\\metrics\\_classification.py:1531: UndefinedMetricWarning: Precision is ill-defined and being set to 0.0 in labels with no predicted samples. Use `zero_division` parameter to control this behavior.\n",
      "  _warn_prf(average, modifier, f\"{metric.capitalize()} is\", len(result))\n",
      "C:\\anaconda\\Lib\\site-packages\\sklearn\\metrics\\_classification.py:1531: UndefinedMetricWarning: Precision is ill-defined and being set to 0.0 in labels with no predicted samples. Use `zero_division` parameter to control this behavior.\n",
      "  _warn_prf(average, modifier, f\"{metric.capitalize()} is\", len(result))\n"
     ]
    }
   ],
   "source": [
    "from sklearn.metrics import classification_report\n",
    "print(\"Dummy model:\")\n",
    "print(classification_report(y_test, pred_dummy, \n",
    "                            target_names=[\"not 9\", \"9\"]))\n",
    "print(\"\\nDecision tree:\")\n",
    "print(classification_report(y_test, pred_tree, \n",
    "                            target_names=[\"not 9\", \"9\"]))"
   ]
  },
  {
   "cell_type": "code",
   "execution_count": 13,
   "id": "92cb77dd-5feb-489d-ba39-d54970a0c3a9",
   "metadata": {},
   "outputs": [],
   "source": [
    "from sklearn.metrics import roc_curve\n",
    "from sklearn.metrics import auc"
   ]
  },
  {
   "cell_type": "code",
   "execution_count": 14,
   "id": "4020c984-547e-4e01-89b3-bd09bc73e72d",
   "metadata": {},
   "outputs": [
    {
     "data": {
      "text/plain": [
       "0.551967067928569"
      ]
     },
     "execution_count": 14,
     "metadata": {},
     "output_type": "execute_result"
    }
   ],
   "source": [
    "fpr, tpr, _ = roc_curve(y_test, tree.predict_proba(X_test)[:,1])\n",
    "auc(fpr, tpr)"
   ]
  },
  {
   "cell_type": "code",
   "execution_count": 15,
   "id": "5f4d9acb-5b30-45cc-9ea7-cdfbb24593cb",
   "metadata": {},
   "outputs": [
    {
     "data": {
      "text/html": [
       "<div>\n",
       "<style scoped>\n",
       "    .dataframe tbody tr th:only-of-type {\n",
       "        vertical-align: middle;\n",
       "    }\n",
       "\n",
       "    .dataframe tbody tr th {\n",
       "        vertical-align: top;\n",
       "    }\n",
       "\n",
       "    .dataframe thead th {\n",
       "        text-align: right;\n",
       "    }\n",
       "</style>\n",
       "<table border=\"1\" class=\"dataframe\">\n",
       "  <thead>\n",
       "    <tr style=\"text-align: right;\">\n",
       "      <th></th>\n",
       "      <th>custid</th>\n",
       "      <th>gender</th>\n",
       "      <th>총구매액</th>\n",
       "      <th>구매건수</th>\n",
       "      <th>평균구매가격</th>\n",
       "      <th>평균할부개월수</th>\n",
       "      <th>구매브랜드종류</th>\n",
       "      <th>내점일수</th>\n",
       "      <th>수입상품_구매비율</th>\n",
       "      <th>주말방문비율</th>\n",
       "      <th>가을_구매건수</th>\n",
       "      <th>겨울_구매건수</th>\n",
       "      <th>봄_구매건수</th>\n",
       "      <th>여름_구매건수</th>\n",
       "      <th>아침_구매건수</th>\n",
       "      <th>저녁_구매건수</th>\n",
       "      <th>점심_구매건수</th>\n",
       "      <th>주구매코너</th>\n",
       "    </tr>\n",
       "  </thead>\n",
       "  <tbody>\n",
       "    <tr>\n",
       "      <th>0</th>\n",
       "      <td>18</td>\n",
       "      <td>0</td>\n",
       "      <td>680100</td>\n",
       "      <td>15</td>\n",
       "      <td>45340</td>\n",
       "      <td>1.7</td>\n",
       "      <td>9</td>\n",
       "      <td>10</td>\n",
       "      <td>26.7</td>\n",
       "      <td>100.0</td>\n",
       "      <td>10.0</td>\n",
       "      <td>9.0</td>\n",
       "      <td>6.0</td>\n",
       "      <td>11.0</td>\n",
       "      <td>9.0</td>\n",
       "      <td>6.0</td>\n",
       "      <td>9.0</td>\n",
       "      <td>24</td>\n",
       "    </tr>\n",
       "    <tr>\n",
       "      <th>1</th>\n",
       "      <td>21</td>\n",
       "      <td>0</td>\n",
       "      <td>353450</td>\n",
       "      <td>9</td>\n",
       "      <td>39272</td>\n",
       "      <td>1.2</td>\n",
       "      <td>6</td>\n",
       "      <td>8</td>\n",
       "      <td>11.1</td>\n",
       "      <td>37.5</td>\n",
       "      <td>10.0</td>\n",
       "      <td>5.0</td>\n",
       "      <td>4.0</td>\n",
       "      <td>11.0</td>\n",
       "      <td>3.0</td>\n",
       "      <td>9.0</td>\n",
       "      <td>6.0</td>\n",
       "      <td>11</td>\n",
       "    </tr>\n",
       "    <tr>\n",
       "      <th>2</th>\n",
       "      <td>23</td>\n",
       "      <td>0</td>\n",
       "      <td>5671400</td>\n",
       "      <td>36</td>\n",
       "      <td>157539</td>\n",
       "      <td>2.8</td>\n",
       "      <td>22</td>\n",
       "      <td>16</td>\n",
       "      <td>5.6</td>\n",
       "      <td>37.5</td>\n",
       "      <td>7.0</td>\n",
       "      <td>17.0</td>\n",
       "      <td>12.0</td>\n",
       "      <td>11.0</td>\n",
       "      <td>10.0</td>\n",
       "      <td>11.0</td>\n",
       "      <td>15.0</td>\n",
       "      <td>15</td>\n",
       "    </tr>\n",
       "    <tr>\n",
       "      <th>3</th>\n",
       "      <td>26</td>\n",
       "      <td>0</td>\n",
       "      <td>1964000</td>\n",
       "      <td>28</td>\n",
       "      <td>70143</td>\n",
       "      <td>1.4</td>\n",
       "      <td>15</td>\n",
       "      <td>14</td>\n",
       "      <td>39.3</td>\n",
       "      <td>28.6</td>\n",
       "      <td>5.0</td>\n",
       "      <td>8.0</td>\n",
       "      <td>15.0</td>\n",
       "      <td>11.0</td>\n",
       "      <td>9.0</td>\n",
       "      <td>18.0</td>\n",
       "      <td>10.0</td>\n",
       "      <td>24</td>\n",
       "    </tr>\n",
       "    <tr>\n",
       "      <th>4</th>\n",
       "      <td>35</td>\n",
       "      <td>0</td>\n",
       "      <td>885000</td>\n",
       "      <td>5</td>\n",
       "      <td>177000</td>\n",
       "      <td>6.0</td>\n",
       "      <td>5</td>\n",
       "      <td>2</td>\n",
       "      <td>0.0</td>\n",
       "      <td>100.0</td>\n",
       "      <td>10.0</td>\n",
       "      <td>10.0</td>\n",
       "      <td>5.0</td>\n",
       "      <td>11.0</td>\n",
       "      <td>9.0</td>\n",
       "      <td>5.0</td>\n",
       "      <td>22.0</td>\n",
       "      <td>22</td>\n",
       "    </tr>\n",
       "  </tbody>\n",
       "</table>\n",
       "</div>"
      ],
      "text/plain": [
       "   custid  gender     총구매액  구매건수  평균구매가격  평균할부개월수  구매브랜드종류  내점일수  수입상품_구매비율  \\\n",
       "0      18       0   680100    15   45340      1.7        9    10       26.7   \n",
       "1      21       0   353450     9   39272      1.2        6     8       11.1   \n",
       "2      23       0  5671400    36  157539      2.8       22    16        5.6   \n",
       "3      26       0  1964000    28   70143      1.4       15    14       39.3   \n",
       "4      35       0   885000     5  177000      6.0        5     2        0.0   \n",
       "\n",
       "   주말방문비율  가을_구매건수  겨울_구매건수  봄_구매건수  여름_구매건수  아침_구매건수  저녁_구매건수  점심_구매건수  주구매코너  \n",
       "0   100.0     10.0      9.0     6.0     11.0      9.0      6.0      9.0     24  \n",
       "1    37.5     10.0      5.0     4.0     11.0      3.0      9.0      6.0     11  \n",
       "2    37.5      7.0     17.0    12.0     11.0     10.0     11.0     15.0     15  \n",
       "3    28.6      5.0      8.0    15.0     11.0      9.0     18.0     10.0     24  \n",
       "4   100.0     10.0     10.0     5.0     11.0      9.0      5.0     22.0     22  "
      ]
     },
     "execution_count": 15,
     "metadata": {},
     "output_type": "execute_result"
    }
   ],
   "source": [
    "data.head()"
   ]
  },
  {
   "cell_type": "code",
   "execution_count": 16,
   "id": "5380787b-15bd-47ee-816b-645da749015d",
   "metadata": {},
   "outputs": [
    {
     "name": "stdout",
     "output_type": "stream",
     "text": [
      "              precision    recall  f1-score   support\n",
      "\n",
      "           0       0.71      0.93      0.80       883\n",
      "           1       0.34      0.09      0.14       367\n",
      "\n",
      "    accuracy                           0.68      1250\n",
      "   macro avg       0.53      0.51      0.47      1250\n",
      "weighted avg       0.60      0.68      0.61      1250\n",
      "\n"
     ]
    }
   ],
   "source": [
    "from imblearn.under_sampling import TomekLinks\n",
    "XX, yy = TomekLinks().fit_resample(X_train, y_train)\n",
    "tree0 = DecisionTreeClassifier(max_depth=4, random_state=0)\n",
    "tree0.fit(XX, yy)\n",
    "y_pred0 = tree0.predict(X_test)\n",
    "\n",
    "print(classification_report(y_test, y_pred0))"
   ]
  },
  {
   "cell_type": "code",
   "execution_count": 17,
   "id": "782881a7-9fc9-4d8d-85ab-13df4b81dff0",
   "metadata": {},
   "outputs": [
    {
     "name": "stdout",
     "output_type": "stream",
     "text": [
      "              precision    recall  f1-score   support\n",
      "\n",
      "           0       0.71      0.93      0.80       883\n",
      "           1       0.34      0.09      0.14       367\n",
      "\n",
      "    accuracy                           0.68      1250\n",
      "   macro avg       0.53      0.51      0.47      1250\n",
      "weighted avg       0.60      0.68      0.61      1250\n",
      "\n"
     ]
    }
   ],
   "source": [
    "XX, yy = TomekLinks().fit_resample(X_train, y_train)\n",
    "tree0 = DecisionTreeClassifier(max_depth=4, random_state=0)\n",
    "tree0.fit(XX, yy)\n",
    "y_pred0 = tree0.predict(X_test)\n",
    "\n",
    "print(classification_report(y_test, y_pred0))"
   ]
  },
  {
   "cell_type": "code",
   "execution_count": 18,
   "id": "349f456f-9dbf-45f2-bf52-065bc77b9e31",
   "metadata": {},
   "outputs": [],
   "source": [
    "from imblearn.combine import SMOTETomek\n",
    "XX, yy = SMOTETomek().fit_resample(X_train, y_train)"
   ]
  },
  {
   "cell_type": "code",
   "execution_count": 19,
   "id": "febab7e8-2182-4d70-9a32-73e454a4dc05",
   "metadata": {},
   "outputs": [
    {
     "name": "stdout",
     "output_type": "stream",
     "text": [
      "              precision    recall  f1-score   support\n",
      "\n",
      "           0       0.72      0.43      0.54       883\n",
      "           1       0.30      0.59      0.40       367\n",
      "\n",
      "    accuracy                           0.48      1250\n",
      "   macro avg       0.51      0.51      0.47      1250\n",
      "weighted avg       0.60      0.48      0.50      1250\n",
      "\n"
     ]
    }
   ],
   "source": [
    "tree3 = DecisionTreeClassifier(max_depth=4, random_state=0)\n",
    "tree3.fit(XX, yy)\n",
    "y_pred3 = tree3.predict(X_test)\n",
    "\n",
    "print(classification_report(y_test, y_pred3))"
   ]
  },
  {
   "cell_type": "code",
   "execution_count": 20,
   "id": "6467417f-7f66-4245-ba37-57df0620243d",
   "metadata": {},
   "outputs": [
    {
     "data": {
      "text/plain": [
       "0.7064"
      ]
     },
     "execution_count": 20,
     "metadata": {},
     "output_type": "execute_result"
    }
   ],
   "source": [
    "DummyClassifier(strategy='most_frequent').fit(X_train, y_train).score(X_test, y_test)"
   ]
  },
  {
   "cell_type": "code",
   "execution_count": 21,
   "id": "72ffc399-64ec-4252-b7e0-5ac82d011bd8",
   "metadata": {},
   "outputs": [],
   "source": [
    "dummy2 = DummyClassifier(strategy='most_frequent').fit(X_train, y_train)\n",
    "pred_dummy2 = dummy2.predict(X_test)"
   ]
  },
  {
   "cell_type": "code",
   "execution_count": 22,
   "id": "e08e4a5b-514e-4800-915e-4643d0741c20",
   "metadata": {},
   "outputs": [],
   "source": [
    "tree2 = DecisionTreeClassifier(max_depth=2).fit(X_train, y_train)\n",
    "pred_tree2 = tree3.predict(X_test)"
   ]
  },
  {
   "cell_type": "code",
   "execution_count": 23,
   "id": "36174919-6aea-4679-bd7e-44a9f84fd936",
   "metadata": {},
   "outputs": [
    {
     "name": "stdout",
     "output_type": "stream",
     "text": [
      "Dummy model:\n",
      "0.7064\n",
      "Decision tree:\n",
      "0.4816\n"
     ]
    }
   ],
   "source": [
    "print(\"Dummy model:\")\n",
    "print(accuracy_score(y_test, pred_dummy2))\n",
    "print(\"Decision tree:\")\n",
    "print(accuracy_score(y_test, pred_tree2))\n"
   ]
  },
  {
   "cell_type": "code",
   "execution_count": 24,
   "id": "2d3b491e-87f3-4b45-bea6-1b6bd829cd05",
   "metadata": {},
   "outputs": [],
   "source": [
    "import pandas as pd\n",
    "import numpy as np"
   ]
  },
  {
   "cell_type": "code",
   "execution_count": 25,
   "id": "d7447483-9c9d-4a49-b2ac-4fdf1ff21bf7",
   "metadata": {},
   "outputs": [
    {
     "data": {
      "text/html": [
       "<div>\n",
       "<style scoped>\n",
       "    .dataframe tbody tr th:only-of-type {\n",
       "        vertical-align: middle;\n",
       "    }\n",
       "\n",
       "    .dataframe tbody tr th {\n",
       "        vertical-align: top;\n",
       "    }\n",
       "\n",
       "    .dataframe thead th {\n",
       "        text-align: right;\n",
       "    }\n",
       "</style>\n",
       "<table border=\"1\" class=\"dataframe\">\n",
       "  <thead>\n",
       "    <tr style=\"text-align: right;\">\n",
       "      <th></th>\n",
       "      <th>custid</th>\n",
       "      <th>gender</th>\n",
       "      <th>총구매액</th>\n",
       "      <th>구매건수</th>\n",
       "      <th>평균구매가격</th>\n",
       "      <th>평균할부개월수</th>\n",
       "      <th>구매브랜드종류</th>\n",
       "      <th>내점일수</th>\n",
       "      <th>수입상품_구매비율</th>\n",
       "      <th>주말방문비율</th>\n",
       "      <th>가을_구매건수</th>\n",
       "      <th>겨울_구매건수</th>\n",
       "      <th>봄_구매건수</th>\n",
       "      <th>여름_구매건수</th>\n",
       "      <th>아침_구매건수</th>\n",
       "      <th>저녁_구매건수</th>\n",
       "      <th>점심_구매건수</th>\n",
       "      <th>주구매코너</th>\n",
       "    </tr>\n",
       "  </thead>\n",
       "  <tbody>\n",
       "    <tr>\n",
       "      <th>0</th>\n",
       "      <td>18</td>\n",
       "      <td>0</td>\n",
       "      <td>680100</td>\n",
       "      <td>15</td>\n",
       "      <td>45340</td>\n",
       "      <td>1.7</td>\n",
       "      <td>9</td>\n",
       "      <td>10</td>\n",
       "      <td>26.7</td>\n",
       "      <td>100.0</td>\n",
       "      <td>NaN</td>\n",
       "      <td>9.0</td>\n",
       "      <td>6.0</td>\n",
       "      <td>NaN</td>\n",
       "      <td>NaN</td>\n",
       "      <td>6.0</td>\n",
       "      <td>9.0</td>\n",
       "      <td>화장품</td>\n",
       "    </tr>\n",
       "    <tr>\n",
       "      <th>1</th>\n",
       "      <td>21</td>\n",
       "      <td>0</td>\n",
       "      <td>353450</td>\n",
       "      <td>9</td>\n",
       "      <td>39272</td>\n",
       "      <td>1.2</td>\n",
       "      <td>6</td>\n",
       "      <td>8</td>\n",
       "      <td>11.1</td>\n",
       "      <td>37.5</td>\n",
       "      <td>NaN</td>\n",
       "      <td>5.0</td>\n",
       "      <td>4.0</td>\n",
       "      <td>NaN</td>\n",
       "      <td>3.0</td>\n",
       "      <td>NaN</td>\n",
       "      <td>6.0</td>\n",
       "      <td>영캐주얼</td>\n",
       "    </tr>\n",
       "    <tr>\n",
       "      <th>2</th>\n",
       "      <td>23</td>\n",
       "      <td>0</td>\n",
       "      <td>5671400</td>\n",
       "      <td>36</td>\n",
       "      <td>157539</td>\n",
       "      <td>2.8</td>\n",
       "      <td>22</td>\n",
       "      <td>16</td>\n",
       "      <td>5.6</td>\n",
       "      <td>37.5</td>\n",
       "      <td>7.0</td>\n",
       "      <td>17.0</td>\n",
       "      <td>12.0</td>\n",
       "      <td>NaN</td>\n",
       "      <td>10.0</td>\n",
       "      <td>11.0</td>\n",
       "      <td>15.0</td>\n",
       "      <td>장신구</td>\n",
       "    </tr>\n",
       "    <tr>\n",
       "      <th>3</th>\n",
       "      <td>26</td>\n",
       "      <td>0</td>\n",
       "      <td>1964000</td>\n",
       "      <td>28</td>\n",
       "      <td>70143</td>\n",
       "      <td>1.4</td>\n",
       "      <td>15</td>\n",
       "      <td>14</td>\n",
       "      <td>39.3</td>\n",
       "      <td>28.6</td>\n",
       "      <td>5.0</td>\n",
       "      <td>8.0</td>\n",
       "      <td>15.0</td>\n",
       "      <td>NaN</td>\n",
       "      <td>NaN</td>\n",
       "      <td>18.0</td>\n",
       "      <td>10.0</td>\n",
       "      <td>화장품</td>\n",
       "    </tr>\n",
       "    <tr>\n",
       "      <th>4</th>\n",
       "      <td>35</td>\n",
       "      <td>0</td>\n",
       "      <td>885000</td>\n",
       "      <td>5</td>\n",
       "      <td>177000</td>\n",
       "      <td>6.0</td>\n",
       "      <td>5</td>\n",
       "      <td>2</td>\n",
       "      <td>0.0</td>\n",
       "      <td>100.0</td>\n",
       "      <td>NaN</td>\n",
       "      <td>NaN</td>\n",
       "      <td>5.0</td>\n",
       "      <td>NaN</td>\n",
       "      <td>NaN</td>\n",
       "      <td>5.0</td>\n",
       "      <td>NaN</td>\n",
       "      <td>피혁A</td>\n",
       "    </tr>\n",
       "  </tbody>\n",
       "</table>\n",
       "</div>"
      ],
      "text/plain": [
       "   custid  gender     총구매액  구매건수  평균구매가격  평균할부개월수  구매브랜드종류  내점일수  수입상품_구매비율  \\\n",
       "0      18       0   680100    15   45340      1.7        9    10       26.7   \n",
       "1      21       0   353450     9   39272      1.2        6     8       11.1   \n",
       "2      23       0  5671400    36  157539      2.8       22    16        5.6   \n",
       "3      26       0  1964000    28   70143      1.4       15    14       39.3   \n",
       "4      35       0   885000     5  177000      6.0        5     2        0.0   \n",
       "\n",
       "   주말방문비율  가을_구매건수  겨울_구매건수  봄_구매건수  여름_구매건수  아침_구매건수  저녁_구매건수  점심_구매건수 주구매코너  \n",
       "0   100.0      NaN      9.0     6.0      NaN      NaN      6.0      9.0   화장품  \n",
       "1    37.5      NaN      5.0     4.0      NaN      3.0      NaN      6.0  영캐주얼  \n",
       "2    37.5      7.0     17.0    12.0      NaN     10.0     11.0     15.0   장신구  \n",
       "3    28.6      5.0      8.0    15.0      NaN      NaN     18.0     10.0   화장품  \n",
       "4   100.0      NaN      NaN     5.0      NaN      NaN      5.0      NaN   피혁A  "
      ]
     },
     "execution_count": 25,
     "metadata": {},
     "output_type": "execute_result"
    }
   ],
   "source": [
    "data = pd.read_csv('train.csv', encoding='CP949')\n",
    "data.head()"
   ]
  },
  {
   "cell_type": "code",
   "execution_count": 26,
   "id": "89888213-fc67-464b-bc5a-d4c74535d451",
   "metadata": {},
   "outputs": [
    {
     "name": "stdout",
     "output_type": "stream",
     "text": [
      "<class 'pandas.core.frame.DataFrame'>\n",
      "RangeIndex: 5000 entries, 0 to 4999\n",
      "Data columns (total 18 columns):\n",
      " #   Column     Non-Null Count  Dtype  \n",
      "---  ------     --------------  -----  \n",
      " 0   custid     5000 non-null   int64  \n",
      " 1   gender     5000 non-null   int64  \n",
      " 2   총구매액       5000 non-null   int64  \n",
      " 3   구매건수       5000 non-null   int64  \n",
      " 4   평균구매가격     5000 non-null   int64  \n",
      " 5   평균할부개월수    5000 non-null   float64\n",
      " 6   구매브랜드종류    5000 non-null   int64  \n",
      " 7   내점일수       5000 non-null   int64  \n",
      " 8   수입상품_구매비율  5000 non-null   float64\n",
      " 9   주말방문비율     5000 non-null   float64\n",
      " 10  가을_구매건수    4055 non-null   float64\n",
      " 11  겨울_구매건수    4103 non-null   float64\n",
      " 12  봄_구매건수     4311 non-null   float64\n",
      " 13  여름_구매건수    3978 non-null   float64\n",
      " 14  아침_구매건수    3558 non-null   float64\n",
      " 15  저녁_구매건수    4033 non-null   float64\n",
      " 16  점심_구매건수    4855 non-null   float64\n",
      " 17  주구매코너      5000 non-null   object \n",
      "dtypes: float64(10), int64(7), object(1)\n",
      "memory usage: 703.3+ KB\n"
     ]
    }
   ],
   "source": [
    "data.info()"
   ]
  },
  {
   "cell_type": "code",
   "execution_count": 27,
   "id": "0bf18ef3-a792-4ba6-bbf9-da6d6032134e",
   "metadata": {},
   "outputs": [],
   "source": [
    "dataP = data.copy()"
   ]
  },
  {
   "cell_type": "code",
   "execution_count": 28,
   "id": "24870a5a-fba7-4b46-b2d7-b64982585d85",
   "metadata": {},
   "outputs": [
    {
     "data": {
      "text/plain": [
       "custid          0\n",
       "gender          0\n",
       "총구매액            0\n",
       "구매건수            0\n",
       "평균구매가격          0\n",
       "평균할부개월수         0\n",
       "구매브랜드종류         0\n",
       "내점일수            0\n",
       "수입상품_구매비율       0\n",
       "주말방문비율          0\n",
       "가을_구매건수       945\n",
       "겨울_구매건수       897\n",
       "봄_구매건수        689\n",
       "여름_구매건수      1022\n",
       "아침_구매건수      1442\n",
       "저녁_구매건수       967\n",
       "점심_구매건수       145\n",
       "주구매코너           0\n",
       "dtype: int64"
      ]
     },
     "execution_count": 28,
     "metadata": {},
     "output_type": "execute_result"
    }
   ],
   "source": [
    "dataP.isnull().sum()"
   ]
  },
  {
   "cell_type": "code",
   "execution_count": 29,
   "id": "6f7e1690-b596-4d3a-b6bd-532bf3a0b601",
   "metadata": {},
   "outputs": [],
   "source": [
    "obj = ['주구매코너']"
   ]
  },
  {
   "cell_type": "code",
   "execution_count": 30,
   "id": "67172b8d-f23e-489e-ba5c-51aaacd3f5c3",
   "metadata": {},
   "outputs": [
    {
     "data": {
      "text/html": [
       "<div>\n",
       "<style scoped>\n",
       "    .dataframe tbody tr th:only-of-type {\n",
       "        vertical-align: middle;\n",
       "    }\n",
       "\n",
       "    .dataframe tbody tr th {\n",
       "        vertical-align: top;\n",
       "    }\n",
       "\n",
       "    .dataframe thead th {\n",
       "        text-align: right;\n",
       "    }\n",
       "</style>\n",
       "<table border=\"1\" class=\"dataframe\">\n",
       "  <thead>\n",
       "    <tr style=\"text-align: right;\">\n",
       "      <th></th>\n",
       "      <th>주구매코너</th>\n",
       "    </tr>\n",
       "  </thead>\n",
       "  <tbody>\n",
       "    <tr>\n",
       "      <th>0</th>\n",
       "      <td>화장품</td>\n",
       "    </tr>\n",
       "    <tr>\n",
       "      <th>1</th>\n",
       "      <td>영캐주얼</td>\n",
       "    </tr>\n",
       "    <tr>\n",
       "      <th>2</th>\n",
       "      <td>장신구</td>\n",
       "    </tr>\n",
       "    <tr>\n",
       "      <th>3</th>\n",
       "      <td>화장품</td>\n",
       "    </tr>\n",
       "    <tr>\n",
       "      <th>4</th>\n",
       "      <td>피혁A</td>\n",
       "    </tr>\n",
       "  </tbody>\n",
       "</table>\n",
       "</div>"
      ],
      "text/plain": [
       "  주구매코너\n",
       "0   화장품\n",
       "1  영캐주얼\n",
       "2   장신구\n",
       "3   화장품\n",
       "4   피혁A"
      ]
     },
     "execution_count": 30,
     "metadata": {},
     "output_type": "execute_result"
    }
   ],
   "source": [
    "dataP[obj].head()"
   ]
  },
  {
   "cell_type": "code",
   "execution_count": 31,
   "id": "4ef2c930-a28a-45a1-9746-50f3baa16392",
   "metadata": {},
   "outputs": [
    {
     "data": {
      "text/plain": [
       "주구매코너   \n",
       "일반식품        1306\n",
       "화장품         1206\n",
       "유니캐주얼        410\n",
       "유아동복         383\n",
       "스포츠          301\n",
       "영캐주얼         246\n",
       "캐릭터캐주얼       188\n",
       "수입명품         136\n",
       "섬유            96\n",
       "트래디셔널캐주얼      91\n",
       "니트단품          91\n",
       "정장셔츠          90\n",
       "엘레강스캐주얼       78\n",
       "피혁A           75\n",
       "장신구           68\n",
       "피혁B           56\n",
       "디자이너부띠끄       51\n",
       "문화완구          38\n",
       "조리욕실          28\n",
       "가전            18\n",
       "기타바이어         12\n",
       "도자기크리스탈       11\n",
       "침구수예           8\n",
       "가구             7\n",
       "타운모피           6\n",
       "Name: count, dtype: int64"
      ]
     },
     "execution_count": 31,
     "metadata": {},
     "output_type": "execute_result"
    }
   ],
   "source": [
    "dataP[obj].value_counts()"
   ]
  },
  {
   "cell_type": "code",
   "execution_count": 32,
   "id": "ad1d1968-5d40-41ad-ba0e-c7136f9b259c",
   "metadata": {},
   "outputs": [],
   "source": [
    "dataP[obj] = dataP[obj].apply(lambda x: x.astype('category').cat.codes)"
   ]
  },
  {
   "cell_type": "code",
   "execution_count": 33,
   "id": "e42583ec-afaa-4438-bb1f-b0d3026c246f",
   "metadata": {},
   "outputs": [
    {
     "data": {
      "text/plain": [
       "주구매코너\n",
       "14       1306\n",
       "24       1206\n",
       "12        410\n",
       "13        383\n",
       "9         301\n",
       "11        246\n",
       "19        188\n",
       "8         136\n",
       "7          96\n",
       "21         91\n",
       "3          91\n",
       "16         90\n",
       "10         78\n",
       "22         75\n",
       "15         68\n",
       "23         56\n",
       "5          51\n",
       "6          38\n",
       "17         28\n",
       "1          18\n",
       "2          12\n",
       "4          11\n",
       "18          8\n",
       "0           7\n",
       "20          6\n",
       "Name: count, dtype: int64"
      ]
     },
     "execution_count": 33,
     "metadata": {},
     "output_type": "execute_result"
    }
   ],
   "source": [
    "dataP[obj].value_counts()"
   ]
  },
  {
   "cell_type": "code",
   "execution_count": 34,
   "id": "d0c45d2b-e41b-4249-a986-7a6f23edc8f5",
   "metadata": {},
   "outputs": [
    {
     "name": "stdout",
     "output_type": "stream",
     "text": [
      "<class 'pandas.core.frame.DataFrame'>\n",
      "RangeIndex: 5000 entries, 0 to 4999\n",
      "Data columns (total 18 columns):\n",
      " #   Column     Non-Null Count  Dtype  \n",
      "---  ------     --------------  -----  \n",
      " 0   custid     5000 non-null   int64  \n",
      " 1   gender     5000 non-null   int64  \n",
      " 2   총구매액       5000 non-null   int64  \n",
      " 3   구매건수       5000 non-null   int64  \n",
      " 4   평균구매가격     5000 non-null   int64  \n",
      " 5   평균할부개월수    5000 non-null   float64\n",
      " 6   구매브랜드종류    5000 non-null   int64  \n",
      " 7   내점일수       5000 non-null   int64  \n",
      " 8   수입상품_구매비율  5000 non-null   float64\n",
      " 9   주말방문비율     5000 non-null   float64\n",
      " 10  가을_구매건수    4055 non-null   float64\n",
      " 11  겨울_구매건수    4103 non-null   float64\n",
      " 12  봄_구매건수     4311 non-null   float64\n",
      " 13  여름_구매건수    3978 non-null   float64\n",
      " 14  아침_구매건수    3558 non-null   float64\n",
      " 15  저녁_구매건수    4033 non-null   float64\n",
      " 16  점심_구매건수    4855 non-null   float64\n",
      " 17  주구매코너      5000 non-null   int8   \n",
      "dtypes: float64(10), int64(7), int8(1)\n",
      "memory usage: 669.1 KB\n"
     ]
    }
   ],
   "source": [
    "dataP.info()"
   ]
  },
  {
   "cell_type": "code",
   "execution_count": 35,
   "id": "cfdd2a7b-1708-419e-b408-4d14ce5e355b",
   "metadata": {},
   "outputs": [
    {
     "data": {
      "text/plain": [
       "custid          0\n",
       "gender          0\n",
       "총구매액            0\n",
       "구매건수            0\n",
       "평균구매가격          0\n",
       "평균할부개월수         0\n",
       "구매브랜드종류         0\n",
       "내점일수            0\n",
       "수입상품_구매비율       0\n",
       "주말방문비율          0\n",
       "가을_구매건수       945\n",
       "겨울_구매건수       897\n",
       "봄_구매건수        689\n",
       "여름_구매건수      1022\n",
       "아침_구매건수      1442\n",
       "저녁_구매건수       967\n",
       "점심_구매건수       145\n",
       "주구매코너           0\n",
       "dtype: int64"
      ]
     },
     "execution_count": 35,
     "metadata": {},
     "output_type": "execute_result"
    }
   ],
   "source": [
    "# 결측치 처리\n",
    "dataP.isnull().sum()"
   ]
  },
  {
   "cell_type": "code",
   "execution_count": 36,
   "id": "c6b58931-f590-402e-a78c-92c78148c07e",
   "metadata": {},
   "outputs": [],
   "source": [
    "con = ['가을_구매건수', '겨울_구매건수', '봄_구매건수', '여름_구매건수', '아침_구매건수', '저녁_구매건수', '점심_구매건수'] "
   ]
  },
  {
   "cell_type": "code",
   "execution_count": 37,
   "id": "8f47d61d-b7e6-4ba1-857d-cc593c523f68",
   "metadata": {},
   "outputs": [
    {
     "data": {
      "text/plain": [
       "(2235, 18)"
      ]
     },
     "execution_count": 37,
     "metadata": {},
     "output_type": "execute_result"
    }
   ],
   "source": [
    "# 1. 결측치 제거\n",
    "dataP_drop = dataP.dropna(subset=con)\n",
    "dataP_drop.shape"
   ]
  },
  {
   "cell_type": "code",
   "execution_count": 38,
   "id": "1f961076-0970-41d8-b70c-664ba5042181",
   "metadata": {},
   "outputs": [
    {
     "data": {
      "text/plain": [
       "(5000, 18)"
      ]
     },
     "execution_count": 38,
     "metadata": {},
     "output_type": "execute_result"
    }
   ],
   "source": [
    "# 2. 결측치 대체\n",
    "from sklearn.impute import SimpleImputer\n",
    "imputer_con = SimpleImputer(strategy=\"most_frequent\")\n",
    "dataP[con] = imputer_con.fit_transform(dataP[con])\n",
    "dataP.shape"
   ]
  },
  {
   "cell_type": "code",
   "execution_count": 39,
   "id": "a27edbb5-c333-480b-92b7-47243247d353",
   "metadata": {},
   "outputs": [
    {
     "data": {
      "text/plain": [
       "custid       0\n",
       "gender       0\n",
       "총구매액         0\n",
       "구매건수         0\n",
       "평균구매가격       0\n",
       "평균할부개월수      0\n",
       "구매브랜드종류      0\n",
       "내점일수         0\n",
       "수입상품_구매비율    0\n",
       "주말방문비율       0\n",
       "가을_구매건수      0\n",
       "겨울_구매건수      0\n",
       "봄_구매건수       0\n",
       "여름_구매건수      0\n",
       "아침_구매건수      0\n",
       "저녁_구매건수      0\n",
       "점심_구매건수      0\n",
       "주구매코너        0\n",
       "dtype: int64"
      ]
     },
     "execution_count": 39,
     "metadata": {},
     "output_type": "execute_result"
    }
   ],
   "source": [
    "dataP.isnull().sum()"
   ]
  },
  {
   "cell_type": "code",
   "execution_count": 40,
   "id": "ccc82fe6-f4b1-4c28-b662-7cb6fdaffb58",
   "metadata": {},
   "outputs": [
    {
     "data": {
      "text/plain": [
       "gender\n",
       "0    3479\n",
       "1    1521\n",
       "Name: count, dtype: int64"
      ]
     },
     "execution_count": 40,
     "metadata": {},
     "output_type": "execute_result"
    }
   ],
   "source": [
    "dataP.gender.value_counts()\n",
    "# 여성이 70%\n",
    "# 남성이 30%"
   ]
  },
  {
   "cell_type": "code",
   "execution_count": 59,
   "id": "100f43a2-8f7c-404d-ad46-6f6ca29e37f9",
   "metadata": {},
   "outputs": [],
   "source": [
    "# dfX= dataP.drop(['custid','주말방문비율','평균할부개월수', 'gender'], axis=1)\n",
    "dfX= dataP.drop(['custid', 'gender'], axis=1)\n",
    "dfy= dataP['gender']"
   ]
  },
  {
   "cell_type": "code",
   "execution_count": 42,
   "id": "e3b41aa7-cbda-41b8-9321-0d9a08911a85",
   "metadata": {},
   "outputs": [],
   "source": [
    "from sklearn.model_selection import train_test_split\n",
    "X_train, X_test, y_train, y_test = train_test_split(dfX, dfy, test_size=0.25, random_state=0)"
   ]
  },
  {
   "cell_type": "code",
   "execution_count": 43,
   "id": "33e800b0-6660-4c5d-b4a8-273d35dc2c4d",
   "metadata": {},
   "outputs": [
    {
     "data": {
      "text/plain": [
       "0.7362666666666666"
      ]
     },
     "execution_count": 43,
     "metadata": {},
     "output_type": "execute_result"
    }
   ],
   "source": [
    "from sklearn.tree import DecisionTreeClassifier\n",
    "tree = DecisionTreeClassifier(max_depth=6, random_state=0)\n",
    "tree.fit(X_train, y_train).score(X_train, y_train)"
   ]
  },
  {
   "cell_type": "code",
   "execution_count": 44,
   "id": "9abee498-141d-4bdc-8c65-cc916b744b21",
   "metadata": {},
   "outputs": [
    {
     "data": {
      "text/plain": [
       "0.7064"
      ]
     },
     "execution_count": 44,
     "metadata": {},
     "output_type": "execute_result"
    }
   ],
   "source": [
    "from sklearn.dummy import DummyClassifier\n",
    "DummyClassifier(strategy='most_frequent').fit(X_train, y_train).score(X_test, y_test)"
   ]
  },
  {
   "cell_type": "code",
   "execution_count": 45,
   "id": "7de41c38-43ef-478a-9666-36d3d52bafb2",
   "metadata": {},
   "outputs": [
    {
     "name": "stdout",
     "output_type": "stream",
     "text": [
      "              precision    recall  f1-score   support\n",
      "\n",
      "           0       0.71      0.93      0.81       883\n",
      "           1       0.35      0.09      0.14       367\n",
      "\n",
      "    accuracy                           0.68      1250\n",
      "   macro avg       0.53      0.51      0.47      1250\n",
      "weighted avg       0.60      0.68      0.61      1250\n",
      "\n"
     ]
    }
   ],
   "source": [
    "from sklearn.metrics import classification_report\n",
    "y_pred = tree.predict(X_test)\n",
    "print(classification_report(y_test, y_pred))"
   ]
  },
  {
   "cell_type": "code",
   "execution_count": 46,
   "id": "526fe5c4-633d-448c-8fc0-e654b56143a7",
   "metadata": {},
   "outputs": [
    {
     "data": {
      "text/plain": [
       "0.6368"
      ]
     },
     "execution_count": 46,
     "metadata": {},
     "output_type": "execute_result"
    }
   ],
   "source": [
    "# 비대칭 데이터 처리\n",
    "# 1. Under-Sampling\n",
    "from imblearn.under_sampling import TomekLinks\n",
    "XX, yy = TomekLinks().fit_resample(X_train, y_train)\n",
    "tree0 = DecisionTreeClassifier(max_depth=6, random_state=0)\n",
    "tree0.fit(XX, yy)\n",
    "tree0.score(X_test, y_test)"
   ]
  },
  {
   "cell_type": "code",
   "execution_count": 47,
   "id": "08225a48-3a99-4a62-a446-5f4d2cff55a2",
   "metadata": {},
   "outputs": [
    {
     "name": "stdout",
     "output_type": "stream",
     "text": [
      "              precision    recall  f1-score   support\n",
      "\n",
      "           0       0.71      0.83      0.76       883\n",
      "           1       0.30      0.17      0.22       367\n",
      "\n",
      "    accuracy                           0.64      1250\n",
      "   macro avg       0.50      0.50      0.49      1250\n",
      "weighted avg       0.59      0.64      0.60      1250\n",
      "\n"
     ]
    }
   ],
   "source": [
    "# Under-Sampling 기법은 개선이 미미함\n",
    "y_pred0 = tree0.predict(X_test)\n",
    "print(classification_report(y_test, y_pred0))"
   ]
  },
  {
   "cell_type": "code",
   "execution_count": 48,
   "id": "204e10b5-b5a4-4965-b99d-b1c141381c62",
   "metadata": {},
   "outputs": [
    {
     "data": {
      "text/plain": [
       "0.5696"
      ]
     },
     "execution_count": 48,
     "metadata": {},
     "output_type": "execute_result"
    }
   ],
   "source": [
    "# Over - Sampling\n",
    "from imblearn.over_sampling import SMOTE\n",
    "XX, yy = SMOTE().fit_resample(X_train, y_train)\n",
    "tree2 = DecisionTreeClassifier(max_depth=6, random_state=0)\n",
    "tree2.fit(XX, yy).score(X_test, y_test)"
   ]
  },
  {
   "cell_type": "code",
   "execution_count": 77,
   "id": "c1947b41-8deb-4321-a369-63863d44c57c",
   "metadata": {},
   "outputs": [
    {
     "data": {
      "text/plain": [
       "0.5576"
      ]
     },
     "execution_count": 77,
     "metadata": {},
     "output_type": "execute_result"
    }
   ],
   "source": [
    "# 2.Hybrid-Sampling : Over and Under\n",
    "from imblearn.combine import SMOTETomek\n",
    "XX, yy = SMOTETomek().fit_resample(X_train, y_train)\n",
    "tree1 = DecisionTreeClassifier(max_depth=6, random_state=0)\n",
    "tree1.fit(XX, yy).score(X_test, y_test)"
   ]
  },
  {
   "cell_type": "code",
   "execution_count": 60,
   "id": "d7bcee71-9b7c-41f5-9f12-41e3c57ed519",
   "metadata": {},
   "outputs": [
    {
     "data": {
      "text/plain": [
       "0.6312"
      ]
     },
     "execution_count": 60,
     "metadata": {},
     "output_type": "execute_result"
    }
   ],
   "source": [
    "# 랜덤포레스트 알고리즘 대입\n",
    "from sklearn.ensemble import RandomForestClassifier\n",
    "tree_rf = RandomForestClassifier(n_estimators=100, random_state=0)\n",
    "tree_rf.fit(XX, yy).score(X_test, y_test)\n"
   ]
  },
  {
   "cell_type": "code",
   "execution_count": 63,
   "id": "7d5bb509-f2d9-47da-a36a-5267f699acfb",
   "metadata": {},
   "outputs": [
    {
     "data": {
      "text/html": [
       "<div>\n",
       "<style scoped>\n",
       "    .dataframe tbody tr th:only-of-type {\n",
       "        vertical-align: middle;\n",
       "    }\n",
       "\n",
       "    .dataframe tbody tr th {\n",
       "        vertical-align: top;\n",
       "    }\n",
       "\n",
       "    .dataframe thead th {\n",
       "        text-align: right;\n",
       "    }\n",
       "</style>\n",
       "<table border=\"1\" class=\"dataframe\">\n",
       "  <thead>\n",
       "    <tr style=\"text-align: right;\">\n",
       "      <th></th>\n",
       "      <th>주구매코너</th>\n",
       "      <th>코너별구매건</th>\n",
       "    </tr>\n",
       "  </thead>\n",
       "  <tbody>\n",
       "    <tr>\n",
       "      <th>0</th>\n",
       "      <td>0</td>\n",
       "      <td>100</td>\n",
       "    </tr>\n",
       "    <tr>\n",
       "      <th>1</th>\n",
       "      <td>1</td>\n",
       "      <td>315</td>\n",
       "    </tr>\n",
       "    <tr>\n",
       "      <th>2</th>\n",
       "      <td>2</td>\n",
       "      <td>149</td>\n",
       "    </tr>\n",
       "    <tr>\n",
       "      <th>3</th>\n",
       "      <td>3</td>\n",
       "      <td>2542</td>\n",
       "    </tr>\n",
       "    <tr>\n",
       "      <th>4</th>\n",
       "      <td>4</td>\n",
       "      <td>261</td>\n",
       "    </tr>\n",
       "  </tbody>\n",
       "</table>\n",
       "</div>"
      ],
      "text/plain": [
       "   주구매코너  코너별구매건\n",
       "0      0     100\n",
       "1      1     315\n",
       "2      2     149\n",
       "3      3    2542\n",
       "4      4     261"
      ]
     },
     "execution_count": 63,
     "metadata": {},
     "output_type": "execute_result"
    }
   ],
   "source": [
    "# Features engineering\n",
    "df0 = dataP.groupby(['주구매코너'])['구매건수'].sum()\n",
    "df0 = df0.to_frame().reset_index()\n",
    "df0.columns = ['주구매코너', '코너별구매건']\n",
    "df0.head()"
   ]
  },
  {
   "cell_type": "code",
   "execution_count": 66,
   "id": "fc0a30a2-fce5-4b26-b52a-4a338fdaae6f",
   "metadata": {},
   "outputs": [
    {
     "data": {
      "text/plain": [
       "(25, 2)"
      ]
     },
     "execution_count": 66,
     "metadata": {},
     "output_type": "execute_result"
    }
   ],
   "source": [
    "df0.shape"
   ]
  },
  {
   "cell_type": "code",
   "execution_count": 68,
   "id": "6f0ffa1f-0520-48a6-aa63-8a9b8fc94c0e",
   "metadata": {},
   "outputs": [
    {
     "data": {
      "text/html": [
       "<div>\n",
       "<style scoped>\n",
       "    .dataframe tbody tr th:only-of-type {\n",
       "        vertical-align: middle;\n",
       "    }\n",
       "\n",
       "    .dataframe tbody tr th {\n",
       "        vertical-align: top;\n",
       "    }\n",
       "\n",
       "    .dataframe thead th {\n",
       "        text-align: right;\n",
       "    }\n",
       "</style>\n",
       "<table border=\"1\" class=\"dataframe\">\n",
       "  <thead>\n",
       "    <tr style=\"text-align: right;\">\n",
       "      <th></th>\n",
       "      <th>custid</th>\n",
       "      <th>gender</th>\n",
       "      <th>총구매액</th>\n",
       "      <th>구매건수</th>\n",
       "      <th>평균구매가격</th>\n",
       "      <th>평균할부개월수</th>\n",
       "      <th>구매브랜드종류</th>\n",
       "      <th>내점일수</th>\n",
       "      <th>수입상품_구매비율</th>\n",
       "      <th>주말방문비율</th>\n",
       "      <th>가을_구매건수</th>\n",
       "      <th>겨울_구매건수</th>\n",
       "      <th>봄_구매건수</th>\n",
       "      <th>여름_구매건수</th>\n",
       "      <th>아침_구매건수</th>\n",
       "      <th>저녁_구매건수</th>\n",
       "      <th>점심_구매건수</th>\n",
       "      <th>주구매코너</th>\n",
       "      <th>코너별구매건</th>\n",
       "    </tr>\n",
       "  </thead>\n",
       "  <tbody>\n",
       "    <tr>\n",
       "      <th>0</th>\n",
       "      <td>18</td>\n",
       "      <td>0</td>\n",
       "      <td>680100</td>\n",
       "      <td>15</td>\n",
       "      <td>45340</td>\n",
       "      <td>1.7</td>\n",
       "      <td>9</td>\n",
       "      <td>10</td>\n",
       "      <td>26.7</td>\n",
       "      <td>100.0</td>\n",
       "      <td>1.0</td>\n",
       "      <td>9.0</td>\n",
       "      <td>6.0</td>\n",
       "      <td>1.0</td>\n",
       "      <td>1.0</td>\n",
       "      <td>6.0</td>\n",
       "      <td>9.0</td>\n",
       "      <td>24</td>\n",
       "      <td>25740</td>\n",
       "    </tr>\n",
       "    <tr>\n",
       "      <th>1</th>\n",
       "      <td>21</td>\n",
       "      <td>0</td>\n",
       "      <td>353450</td>\n",
       "      <td>9</td>\n",
       "      <td>39272</td>\n",
       "      <td>1.2</td>\n",
       "      <td>6</td>\n",
       "      <td>8</td>\n",
       "      <td>11.1</td>\n",
       "      <td>37.5</td>\n",
       "      <td>1.0</td>\n",
       "      <td>5.0</td>\n",
       "      <td>4.0</td>\n",
       "      <td>1.0</td>\n",
       "      <td>3.0</td>\n",
       "      <td>1.0</td>\n",
       "      <td>6.0</td>\n",
       "      <td>11</td>\n",
       "      <td>8285</td>\n",
       "    </tr>\n",
       "    <tr>\n",
       "      <th>2</th>\n",
       "      <td>23</td>\n",
       "      <td>0</td>\n",
       "      <td>5671400</td>\n",
       "      <td>36</td>\n",
       "      <td>157539</td>\n",
       "      <td>2.8</td>\n",
       "      <td>22</td>\n",
       "      <td>16</td>\n",
       "      <td>5.6</td>\n",
       "      <td>37.5</td>\n",
       "      <td>7.0</td>\n",
       "      <td>17.0</td>\n",
       "      <td>12.0</td>\n",
       "      <td>1.0</td>\n",
       "      <td>10.0</td>\n",
       "      <td>11.0</td>\n",
       "      <td>15.0</td>\n",
       "      <td>15</td>\n",
       "      <td>1165</td>\n",
       "    </tr>\n",
       "    <tr>\n",
       "      <th>3</th>\n",
       "      <td>26</td>\n",
       "      <td>0</td>\n",
       "      <td>1964000</td>\n",
       "      <td>28</td>\n",
       "      <td>70143</td>\n",
       "      <td>1.4</td>\n",
       "      <td>15</td>\n",
       "      <td>14</td>\n",
       "      <td>39.3</td>\n",
       "      <td>28.6</td>\n",
       "      <td>5.0</td>\n",
       "      <td>8.0</td>\n",
       "      <td>15.0</td>\n",
       "      <td>1.0</td>\n",
       "      <td>1.0</td>\n",
       "      <td>18.0</td>\n",
       "      <td>10.0</td>\n",
       "      <td>24</td>\n",
       "      <td>25740</td>\n",
       "    </tr>\n",
       "    <tr>\n",
       "      <th>4</th>\n",
       "      <td>35</td>\n",
       "      <td>0</td>\n",
       "      <td>885000</td>\n",
       "      <td>5</td>\n",
       "      <td>177000</td>\n",
       "      <td>6.0</td>\n",
       "      <td>5</td>\n",
       "      <td>2</td>\n",
       "      <td>0.0</td>\n",
       "      <td>100.0</td>\n",
       "      <td>1.0</td>\n",
       "      <td>1.0</td>\n",
       "      <td>5.0</td>\n",
       "      <td>1.0</td>\n",
       "      <td>1.0</td>\n",
       "      <td>5.0</td>\n",
       "      <td>2.0</td>\n",
       "      <td>22</td>\n",
       "      <td>880</td>\n",
       "    </tr>\n",
       "  </tbody>\n",
       "</table>\n",
       "</div>"
      ],
      "text/plain": [
       "   custid  gender     총구매액  구매건수  평균구매가격  평균할부개월수  구매브랜드종류  내점일수  수입상품_구매비율  \\\n",
       "0      18       0   680100    15   45340      1.7        9    10       26.7   \n",
       "1      21       0   353450     9   39272      1.2        6     8       11.1   \n",
       "2      23       0  5671400    36  157539      2.8       22    16        5.6   \n",
       "3      26       0  1964000    28   70143      1.4       15    14       39.3   \n",
       "4      35       0   885000     5  177000      6.0        5     2        0.0   \n",
       "\n",
       "   주말방문비율  가을_구매건수  겨울_구매건수  봄_구매건수  여름_구매건수  아침_구매건수  저녁_구매건수  점심_구매건수  \\\n",
       "0   100.0      1.0      9.0     6.0      1.0      1.0      6.0      9.0   \n",
       "1    37.5      1.0      5.0     4.0      1.0      3.0      1.0      6.0   \n",
       "2    37.5      7.0     17.0    12.0      1.0     10.0     11.0     15.0   \n",
       "3    28.6      5.0      8.0    15.0      1.0      1.0     18.0     10.0   \n",
       "4   100.0      1.0      1.0     5.0      1.0      1.0      5.0      2.0   \n",
       "\n",
       "   주구매코너  코너별구매건  \n",
       "0     24   25740  \n",
       "1     11    8285  \n",
       "2     15    1165  \n",
       "3     24   25740  \n",
       "4     22     880  "
      ]
     },
     "execution_count": 68,
     "metadata": {},
     "output_type": "execute_result"
    }
   ],
   "source": [
    "dataP_ = pd.merge(dataP, df0, on='주구매코너')\n",
    "dataP_.head()"
   ]
  },
  {
   "cell_type": "code",
   "execution_count": 74,
   "id": "b0136311-de87-4c74-ab03-c65b6002a171",
   "metadata": {},
   "outputs": [],
   "source": [
    "# 건수 Feature들을 최소단위 정보인 구매건당 구매액로 변경\n",
    "def createFeatures(df_p):\n",
    "    df_p['아침구매액'] = np.round(df_p['총구매액']*(df_p['아침_구매건수'] /df_p['구매건수'] ), 3)\n",
    "    df_p['점심구매액'] = np.round(df_p['총구매액']*(df_p['점심_구매건수'] /df_p['구매건수'] ), 3)\n",
    "    df_p['저녁구매액'] = np.round(df_p['총구매액']*(df_p['저녁_구매건수'] /df_p['구매건수'] ), 3)  \n",
    "    df_p['봄구매액']   = np.round(df_p['총구매액']*(df_p['봄_구매건수'] /df_p['구매건수'] ), 3) \n",
    "    df_p['여름구매액'] = np.round(df_p['총구매액']*(df_p['여름_구매건수'] /df_p['구매건수'] ), 3) \n",
    "    df_p['가을구매액'] = np.round(df_p['총구매액']*(df_p['가을_구매건수'] /df_p['구매건수'] ), 3)  \n",
    "    df_p['겨울구매액'] = np.round(df_p['총구매액']*(df_p['겨울_구매건수'] /df_p['구매건수'] ), 3)  \n",
    "    df_p['내점구매율'] = np.round(df_p['구매건수'] /df_p['내점일수'], 3)\n",
    "    \n",
    "def dropFeatures(df_p):\n",
    "    drop_cols = ['아침_구매건수', '점심_구매건수', '저녁_구매건수', '총구매액', '구매건수',\n",
    "         '봄_구매건수', '여름_구매건수', '가을_구매건수', '겨울_구매건수', '내점일수'] \n",
    "    \n",
    "    return df_p.drop(drop_cols, axis=1)"
   ]
  },
  {
   "cell_type": "code",
   "execution_count": 75,
   "id": "9442fa44-0e0c-4c40-bef1-640521c596c7",
   "metadata": {},
   "outputs": [
    {
     "data": {
      "text/html": [
       "<div>\n",
       "<style scoped>\n",
       "    .dataframe tbody tr th:only-of-type {\n",
       "        vertical-align: middle;\n",
       "    }\n",
       "\n",
       "    .dataframe tbody tr th {\n",
       "        vertical-align: top;\n",
       "    }\n",
       "\n",
       "    .dataframe thead th {\n",
       "        text-align: right;\n",
       "    }\n",
       "</style>\n",
       "<table border=\"1\" class=\"dataframe\">\n",
       "  <thead>\n",
       "    <tr style=\"text-align: right;\">\n",
       "      <th></th>\n",
       "      <th>custid</th>\n",
       "      <th>gender</th>\n",
       "      <th>평균구매가격</th>\n",
       "      <th>평균할부개월수</th>\n",
       "      <th>구매브랜드종류</th>\n",
       "      <th>수입상품_구매비율</th>\n",
       "      <th>주말방문비율</th>\n",
       "      <th>주구매코너</th>\n",
       "      <th>코너별구매건</th>\n",
       "      <th>아침구매액</th>\n",
       "      <th>점심구매액</th>\n",
       "      <th>저녁구매액</th>\n",
       "      <th>봄구매액</th>\n",
       "      <th>여름구매액</th>\n",
       "      <th>가을구매액</th>\n",
       "      <th>겨울구매액</th>\n",
       "      <th>내점구매율</th>\n",
       "    </tr>\n",
       "  </thead>\n",
       "  <tbody>\n",
       "    <tr>\n",
       "      <th>0</th>\n",
       "      <td>18</td>\n",
       "      <td>0</td>\n",
       "      <td>45340</td>\n",
       "      <td>1.7</td>\n",
       "      <td>9</td>\n",
       "      <td>26.7</td>\n",
       "      <td>100.0</td>\n",
       "      <td>24</td>\n",
       "      <td>25740</td>\n",
       "      <td>45340.000</td>\n",
       "      <td>408060.000</td>\n",
       "      <td>272040.000</td>\n",
       "      <td>272040.000</td>\n",
       "      <td>45340.000</td>\n",
       "      <td>45340.000</td>\n",
       "      <td>408060.000</td>\n",
       "      <td>1.500</td>\n",
       "    </tr>\n",
       "    <tr>\n",
       "      <th>1</th>\n",
       "      <td>21</td>\n",
       "      <td>0</td>\n",
       "      <td>39272</td>\n",
       "      <td>1.2</td>\n",
       "      <td>6</td>\n",
       "      <td>11.1</td>\n",
       "      <td>37.5</td>\n",
       "      <td>11</td>\n",
       "      <td>8285</td>\n",
       "      <td>117816.667</td>\n",
       "      <td>235633.333</td>\n",
       "      <td>39272.222</td>\n",
       "      <td>157088.889</td>\n",
       "      <td>39272.222</td>\n",
       "      <td>39272.222</td>\n",
       "      <td>196361.111</td>\n",
       "      <td>1.125</td>\n",
       "    </tr>\n",
       "    <tr>\n",
       "      <th>2</th>\n",
       "      <td>23</td>\n",
       "      <td>0</td>\n",
       "      <td>157539</td>\n",
       "      <td>2.8</td>\n",
       "      <td>22</td>\n",
       "      <td>5.6</td>\n",
       "      <td>37.5</td>\n",
       "      <td>15</td>\n",
       "      <td>1165</td>\n",
       "      <td>1575388.889</td>\n",
       "      <td>2363083.333</td>\n",
       "      <td>1732927.778</td>\n",
       "      <td>1890466.667</td>\n",
       "      <td>157538.889</td>\n",
       "      <td>1102772.222</td>\n",
       "      <td>2678161.111</td>\n",
       "      <td>2.250</td>\n",
       "    </tr>\n",
       "  </tbody>\n",
       "</table>\n",
       "</div>"
      ],
      "text/plain": [
       "   custid  gender  평균구매가격  평균할부개월수  구매브랜드종류  수입상품_구매비율  주말방문비율  주구매코너  코너별구매건  \\\n",
       "0      18       0   45340      1.7        9       26.7   100.0     24   25740   \n",
       "1      21       0   39272      1.2        6       11.1    37.5     11    8285   \n",
       "2      23       0  157539      2.8       22        5.6    37.5     15    1165   \n",
       "\n",
       "         아침구매액        점심구매액        저녁구매액         봄구매액       여름구매액  \\\n",
       "0    45340.000   408060.000   272040.000   272040.000   45340.000   \n",
       "1   117816.667   235633.333    39272.222   157088.889   39272.222   \n",
       "2  1575388.889  2363083.333  1732927.778  1890466.667  157538.889   \n",
       "\n",
       "         가을구매액        겨울구매액  내점구매율  \n",
       "0    45340.000   408060.000  1.500  \n",
       "1    39272.222   196361.111  1.125  \n",
       "2  1102772.222  2678161.111  2.250  "
      ]
     },
     "execution_count": 75,
     "metadata": {},
     "output_type": "execute_result"
    }
   ],
   "source": [
    "createFeatures(dataP_)\n",
    "dataPP=dropFeatures(dataP_)\n",
    "dataPP.head(3)"
   ]
  },
  {
   "cell_type": "code",
   "execution_count": 84,
   "id": "f1d3b679-02c9-4953-9744-cdaf975e7955",
   "metadata": {},
   "outputs": [
    {
     "data": {
      "text/plain": [
       "0.652"
      ]
     },
     "execution_count": 84,
     "metadata": {},
     "output_type": "execute_result"
    }
   ],
   "source": [
    "dfX= dataPP.drop(['custid', 'gender'], axis=1)\n",
    "dfy= dataPP['gender']\n",
    "\n",
    "X_train, X_test, y_train, y_test = train_test_split(dfX, dfy, test_size=0.25, random_state=0)\n",
    "\n",
    "XX, yy = SMOTE().fit_resample(X_train, y_train)\n",
    "\n",
    "tree_rf = RandomForestClassifier(n_estimators=100, random_state=0)\n",
    "tree_rf.fit(XX, yy).score(X_test, y_test)"
   ]
  },
  {
   "cell_type": "code",
   "execution_count": 92,
   "id": "475a6593-7d8d-4cca-acef-3ebd5d31da4d",
   "metadata": {},
   "outputs": [
    {
     "name": "stdout",
     "output_type": "stream",
     "text": [
      "gender\n",
      "0    3479\n",
      "1    3479\n",
      "Name: count, dtype: int64\n"
     ]
    }
   ],
   "source": [
    "from sklearn.utils import resample\n",
    "men_data = data[data['gender'] == 1]\n",
    "\n",
    "men_data_upsampled = resample(men_data, \n",
    "                               replace=True,    \n",
    "                               n_samples=3479,   \n",
    "                               random_state=42)  \n",
    "\n",
    "women_data = data[data['gender'] == 0]\n",
    "\n",
    "balanced_data = pd.concat([men_data_upsampled, women_data], axis=0)\n",
    "\n",
    "balanced_data = balanced_data.sample(frac=1, random_state=42).reset_index(drop=True)\n",
    "\n",
    "print(balanced_data['gender'].value_counts())"
   ]
  },
  {
   "cell_type": "code",
   "execution_count": 93,
   "id": "0e047400-441c-4135-ba6a-71cb5e60f8c8",
   "metadata": {},
   "outputs": [],
   "source": [
    "from sklearn.preprocessing import LabelEncoder as LE\n",
    "categorical_columns = [\"주구매코너\"]\n",
    "\n",
    "lebel = LE()\n",
    "for column in categorical_columns:\n",
    "    data[column] = lebel.fit_transform(data[column])\n",
    "\n",
    "X = balanced_data.drop([\"custid\", \"gender\", \"주말방문비율\"], axis=1)\n",
    "\n",
    "Y = balanced_data[\"gender\"]\n",
    "\n",
    "X_train, X_test, Y_train, Y_test = train_test_split(X, Y, test_size=0.2, random_state=42)"
   ]
  },
  {
   "cell_type": "code",
   "execution_count": 100,
   "id": "62868001-195d-4207-b881-526b49267260",
   "metadata": {},
   "outputs": [
    {
     "data": {
      "text/plain": [
       "0.8793103448275862"
      ]
     },
     "execution_count": 100,
     "metadata": {},
     "output_type": "execute_result"
    }
   ],
   "source": [
    "from sklearn.ensemble import RandomForestClassifier as rfc\n",
    "rf_model = rfc(n_estimators = 100 , random_state = 42)\n",
    "rf_model = rf_model.fit(X_train , Y_train)\n",
    "Y_pred_rf = rf_model.predict(X_test)\n",
    "accuracy_rf = accuracy_score(Y_test , Y_pred_rf)\n",
    "accuracy_rf"
   ]
  },
  {
   "cell_type": "code",
   "execution_count": null,
   "id": "0e33f380-6e52-4af3-ad51-e84c32a79eb2",
   "metadata": {},
   "outputs": [],
   "source": []
  }
 ],
 "metadata": {
  "kernelspec": {
   "display_name": "Python 3 (ipykernel)",
   "language": "python",
   "name": "python3"
  },
  "language_info": {
   "codemirror_mode": {
    "name": "ipython",
    "version": 3
   },
   "file_extension": ".py",
   "mimetype": "text/x-python",
   "name": "python",
   "nbconvert_exporter": "python",
   "pygments_lexer": "ipython3",
   "version": "3.12.3"
  }
 },
 "nbformat": 4,
 "nbformat_minor": 5
}
