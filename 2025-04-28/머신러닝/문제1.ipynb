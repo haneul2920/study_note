{
 "cells": [
  {
   "cell_type": "code",
   "execution_count": 1,
   "id": "a22217e4-c3df-45c7-ba32-483a6868583f",
   "metadata": {},
   "outputs": [],
   "source": [
    "import pandas as pd\n",
    "import numpy as np"
   ]
  },
  {
   "cell_type": "code",
   "execution_count": 2,
   "id": "f155ed8a-ee1f-46cb-be48-fccaca6405c6",
   "metadata": {},
   "outputs": [],
   "source": [
    "mem_data = pd.read_csv('mem_data.csv')"
   ]
  },
  {
   "cell_type": "code",
   "execution_count": 3,
   "id": "b8a3819b-a525-4a44-8cba-2eddfcc7d9a6",
   "metadata": {},
   "outputs": [
    {
     "data": {
      "text/html": [
       "<div>\n",
       "<style scoped>\n",
       "    .dataframe tbody tr th:only-of-type {\n",
       "        vertical-align: middle;\n",
       "    }\n",
       "\n",
       "    .dataframe tbody tr th {\n",
       "        vertical-align: top;\n",
       "    }\n",
       "\n",
       "    .dataframe thead th {\n",
       "        text-align: right;\n",
       "    }\n",
       "</style>\n",
       "<table border=\"1\" class=\"dataframe\">\n",
       "  <thead>\n",
       "    <tr style=\"text-align: right;\">\n",
       "      <th></th>\n",
       "      <th>MEM_ID</th>\n",
       "      <th>M_STORE_ID</th>\n",
       "      <th>GENDER</th>\n",
       "      <th>BIRTH_DT</th>\n",
       "      <th>BIRTH_SL</th>\n",
       "      <th>ZIP_CD</th>\n",
       "      <th>RGST_DT</th>\n",
       "      <th>VISIT_CNT</th>\n",
       "      <th>SALES_AMT</th>\n",
       "      <th>LAST_VST_DT</th>\n",
       "      <th>USABLE_PNT</th>\n",
       "      <th>USED_PNT</th>\n",
       "      <th>ACC_PNT</th>\n",
       "      <th>USABLE_INIT</th>\n",
       "      <th>SMS</th>\n",
       "    </tr>\n",
       "  </thead>\n",
       "  <tbody>\n",
       "    <tr>\n",
       "      <th>0</th>\n",
       "      <td>1427535</td>\n",
       "      <td>30017</td>\n",
       "      <td>M</td>\n",
       "      <td>NaN</td>\n",
       "      <td>S</td>\n",
       "      <td>-</td>\n",
       "      <td>00:00.6</td>\n",
       "      <td>2</td>\n",
       "      <td>11000</td>\n",
       "      <td>10:00.2</td>\n",
       "      <td>338</td>\n",
       "      <td>0</td>\n",
       "      <td>338</td>\n",
       "      <td>0</td>\n",
       "      <td>Y</td>\n",
       "    </tr>\n",
       "    <tr>\n",
       "      <th>1</th>\n",
       "      <td>1427464</td>\n",
       "      <td>997</td>\n",
       "      <td>F</td>\n",
       "      <td>1983-10-12</td>\n",
       "      <td>L</td>\n",
       "      <td>-</td>\n",
       "      <td>00:01.2</td>\n",
       "      <td>2</td>\n",
       "      <td>36900</td>\n",
       "      <td>37:17.0</td>\n",
       "      <td>856</td>\n",
       "      <td>0</td>\n",
       "      <td>856</td>\n",
       "      <td>0</td>\n",
       "      <td>Y</td>\n",
       "    </tr>\n",
       "    <tr>\n",
       "      <th>2</th>\n",
       "      <td>1427447</td>\n",
       "      <td>825</td>\n",
       "      <td>M</td>\n",
       "      <td>NaN</td>\n",
       "      <td>S</td>\n",
       "      <td>-</td>\n",
       "      <td>00:01.2</td>\n",
       "      <td>1</td>\n",
       "      <td>26100</td>\n",
       "      <td>47:23.0</td>\n",
       "      <td>522</td>\n",
       "      <td>0</td>\n",
       "      <td>522</td>\n",
       "      <td>0</td>\n",
       "      <td>Y</td>\n",
       "    </tr>\n",
       "    <tr>\n",
       "      <th>3</th>\n",
       "      <td>1427437</td>\n",
       "      <td>997</td>\n",
       "      <td>F</td>\n",
       "      <td>1986-12-18</td>\n",
       "      <td>L</td>\n",
       "      <td>-</td>\n",
       "      <td>00:01.2</td>\n",
       "      <td>3</td>\n",
       "      <td>47200</td>\n",
       "      <td>52:09.0</td>\n",
       "      <td>944</td>\n",
       "      <td>0</td>\n",
       "      <td>944</td>\n",
       "      <td>0</td>\n",
       "      <td>Y</td>\n",
       "    </tr>\n",
       "    <tr>\n",
       "      <th>4</th>\n",
       "      <td>1427418</td>\n",
       "      <td>997</td>\n",
       "      <td>UNKNOWN</td>\n",
       "      <td>1984-06-07</td>\n",
       "      <td>L</td>\n",
       "      <td>-</td>\n",
       "      <td>00:01.2</td>\n",
       "      <td>1</td>\n",
       "      <td>27900</td>\n",
       "      <td>29:28.4</td>\n",
       "      <td>558</td>\n",
       "      <td>0</td>\n",
       "      <td>558</td>\n",
       "      <td>0</td>\n",
       "      <td>Y</td>\n",
       "    </tr>\n",
       "  </tbody>\n",
       "</table>\n",
       "</div>"
      ],
      "text/plain": [
       "    MEM_ID  M_STORE_ID   GENDER    BIRTH_DT BIRTH_SL ZIP_CD  RGST_DT  \\\n",
       "0  1427535       30017        M         NaN        S      -  00:00.6   \n",
       "1  1427464         997        F  1983-10-12        L      -  00:01.2   \n",
       "2  1427447         825        M         NaN        S      -  00:01.2   \n",
       "3  1427437         997        F  1986-12-18        L      -  00:01.2   \n",
       "4  1427418         997  UNKNOWN  1984-06-07        L      -  00:01.2   \n",
       "\n",
       "   VISIT_CNT  SALES_AMT LAST_VST_DT  USABLE_PNT  USED_PNT  ACC_PNT  \\\n",
       "0          2      11000     10:00.2         338         0      338   \n",
       "1          2      36900     37:17.0         856         0      856   \n",
       "2          1      26100     47:23.0         522         0      522   \n",
       "3          3      47200     52:09.0         944         0      944   \n",
       "4          1      27900     29:28.4         558         0      558   \n",
       "\n",
       "   USABLE_INIT SMS  \n",
       "0            0   Y  \n",
       "1            0   Y  \n",
       "2            0   Y  \n",
       "3            0   Y  \n",
       "4            0   Y  "
      ]
     },
     "execution_count": 3,
     "metadata": {},
     "output_type": "execute_result"
    }
   ],
   "source": [
    "mem_data.head()"
   ]
  },
  {
   "cell_type": "code",
   "execution_count": 4,
   "id": "41bbb7f6-e09b-49b2-b6db-24822b54b71e",
   "metadata": {},
   "outputs": [
    {
     "data": {
      "text/plain": [
       "GENDER\n",
       "M          3759\n",
       "F          3754\n",
       "UNKNOWN    3220\n",
       "Name: count, dtype: int64"
      ]
     },
     "execution_count": 4,
     "metadata": {},
     "output_type": "execute_result"
    }
   ],
   "source": [
    "mem_data['GENDER'].value_counts()"
   ]
  },
  {
   "cell_type": "code",
   "execution_count": 5,
   "id": "c050d6cb-163d-4f27-90dd-bee630f82e53",
   "metadata": {},
   "outputs": [
    {
     "data": {
      "text/plain": [
       "MEM_ID            0\n",
       "M_STORE_ID        0\n",
       "GENDER            0\n",
       "BIRTH_DT       4761\n",
       "BIRTH_SL          0\n",
       "ZIP_CD            0\n",
       "RGST_DT           0\n",
       "VISIT_CNT         0\n",
       "SALES_AMT         0\n",
       "LAST_VST_DT       0\n",
       "USABLE_PNT        0\n",
       "USED_PNT          0\n",
       "ACC_PNT           0\n",
       "USABLE_INIT       0\n",
       "SMS               0\n",
       "dtype: int64"
      ]
     },
     "execution_count": 5,
     "metadata": {},
     "output_type": "execute_result"
    }
   ],
   "source": [
    "mem_data.isnull().sum()"
   ]
  },
  {
   "cell_type": "code",
   "execution_count": 6,
   "id": "a84b63f7-a29d-4f31-a23d-aca91e5f5340",
   "metadata": {},
   "outputs": [
    {
     "name": "stdout",
     "output_type": "stream",
     "text": [
      "<class 'pandas.core.frame.DataFrame'>\n",
      "RangeIndex: 10733 entries, 0 to 10732\n",
      "Data columns (total 15 columns):\n",
      " #   Column       Non-Null Count  Dtype \n",
      "---  ------       --------------  ----- \n",
      " 0   MEM_ID       10733 non-null  int64 \n",
      " 1   M_STORE_ID   10733 non-null  int64 \n",
      " 2   GENDER       10733 non-null  object\n",
      " 3   BIRTH_DT     5972 non-null   object\n",
      " 4   BIRTH_SL     10733 non-null  object\n",
      " 5   ZIP_CD       10733 non-null  object\n",
      " 6   RGST_DT      10733 non-null  object\n",
      " 7   VISIT_CNT    10733 non-null  int64 \n",
      " 8   SALES_AMT    10733 non-null  int64 \n",
      " 9   LAST_VST_DT  10733 non-null  object\n",
      " 10  USABLE_PNT   10733 non-null  int64 \n",
      " 11  USED_PNT     10733 non-null  int64 \n",
      " 12  ACC_PNT      10733 non-null  int64 \n",
      " 13  USABLE_INIT  10733 non-null  int64 \n",
      " 14  SMS          10733 non-null  object\n",
      "dtypes: int64(8), object(7)\n",
      "memory usage: 1.2+ MB\n"
     ]
    }
   ],
   "source": [
    "mem_data.info()"
   ]
  },
  {
   "cell_type": "code",
   "execution_count": 7,
   "id": "29ec83be-bf7a-4819-899d-d29c490e73f3",
   "metadata": {},
   "outputs": [],
   "source": [
    "mem_data = mem_data[mem_data['GENDER'] != 'UNKNOWN']"
   ]
  },
  {
   "cell_type": "code",
   "execution_count": 8,
   "id": "664a9096-0cc2-44d6-ace3-0076e1aa6401",
   "metadata": {},
   "outputs": [
    {
     "data": {
      "text/plain": [
       "GENDER\n",
       "M    3759\n",
       "F    3754\n",
       "Name: count, dtype: int64"
      ]
     },
     "execution_count": 8,
     "metadata": {},
     "output_type": "execute_result"
    }
   ],
   "source": [
    "mem_data['GENDER'].value_counts()"
   ]
  },
  {
   "cell_type": "code",
   "execution_count": 9,
   "id": "2e77081d-b9f6-49ad-a7c2-9552eed2e2b1",
   "metadata": {},
   "outputs": [],
   "source": [
    "obj = ['GENDER','BIRTH_SL','ZIP_CD','RGST_DT','LAST_VST_DT','SMS']\n",
    "mem_data[obj] = mem_data[obj].apply(lambda x: x.astype('category').cat.codes) "
   ]
  },
  {
   "cell_type": "code",
   "execution_count": 10,
   "id": "94dadd3d-0671-48ed-a7f6-df2664471464",
   "metadata": {},
   "outputs": [
    {
     "name": "stdout",
     "output_type": "stream",
     "text": [
      "<class 'pandas.core.frame.DataFrame'>\n",
      "Index: 7513 entries, 0 to 10732\n",
      "Data columns (total 15 columns):\n",
      " #   Column       Non-Null Count  Dtype \n",
      "---  ------       --------------  ----- \n",
      " 0   MEM_ID       7513 non-null   int64 \n",
      " 1   M_STORE_ID   7513 non-null   int64 \n",
      " 2   GENDER       7513 non-null   int8  \n",
      " 3   BIRTH_DT     4174 non-null   object\n",
      " 4   BIRTH_SL     7513 non-null   int8  \n",
      " 5   ZIP_CD       7513 non-null   int16 \n",
      " 6   RGST_DT      7513 non-null   int8  \n",
      " 7   VISIT_CNT    7513 non-null   int64 \n",
      " 8   SALES_AMT    7513 non-null   int64 \n",
      " 9   LAST_VST_DT  7513 non-null   int16 \n",
      " 10  USABLE_PNT   7513 non-null   int64 \n",
      " 11  USED_PNT     7513 non-null   int64 \n",
      " 12  ACC_PNT      7513 non-null   int64 \n",
      " 13  USABLE_INIT  7513 non-null   int64 \n",
      " 14  SMS          7513 non-null   int8  \n",
      "dtypes: int16(2), int64(8), int8(4), object(1)\n",
      "memory usage: 645.6+ KB\n"
     ]
    }
   ],
   "source": [
    "mem_data.info()"
   ]
  },
  {
   "cell_type": "code",
   "execution_count": 11,
   "id": "c37c6e33-4ec5-4b75-b572-cd504e594b75",
   "metadata": {},
   "outputs": [
    {
     "data": {
      "text/html": [
       "<div>\n",
       "<style scoped>\n",
       "    .dataframe tbody tr th:only-of-type {\n",
       "        vertical-align: middle;\n",
       "    }\n",
       "\n",
       "    .dataframe tbody tr th {\n",
       "        vertical-align: top;\n",
       "    }\n",
       "\n",
       "    .dataframe thead th {\n",
       "        text-align: right;\n",
       "    }\n",
       "</style>\n",
       "<table border=\"1\" class=\"dataframe\">\n",
       "  <thead>\n",
       "    <tr style=\"text-align: right;\">\n",
       "      <th></th>\n",
       "      <th>MEM_ID</th>\n",
       "      <th>M_STORE_ID</th>\n",
       "      <th>GENDER</th>\n",
       "      <th>BIRTH_DT</th>\n",
       "      <th>BIRTH_SL</th>\n",
       "      <th>ZIP_CD</th>\n",
       "      <th>RGST_DT</th>\n",
       "      <th>VISIT_CNT</th>\n",
       "      <th>SALES_AMT</th>\n",
       "      <th>LAST_VST_DT</th>\n",
       "      <th>USABLE_PNT</th>\n",
       "      <th>USED_PNT</th>\n",
       "      <th>ACC_PNT</th>\n",
       "      <th>USABLE_INIT</th>\n",
       "      <th>SMS</th>\n",
       "    </tr>\n",
       "  </thead>\n",
       "  <tbody>\n",
       "    <tr>\n",
       "      <th>0</th>\n",
       "      <td>1427535</td>\n",
       "      <td>30017</td>\n",
       "      <td>1</td>\n",
       "      <td>NaN</td>\n",
       "      <td>1</td>\n",
       "      <td>0</td>\n",
       "      <td>0</td>\n",
       "      <td>2</td>\n",
       "      <td>11000</td>\n",
       "      <td>1097</td>\n",
       "      <td>338</td>\n",
       "      <td>0</td>\n",
       "      <td>338</td>\n",
       "      <td>0</td>\n",
       "      <td>1</td>\n",
       "    </tr>\n",
       "    <tr>\n",
       "      <th>1</th>\n",
       "      <td>1427464</td>\n",
       "      <td>997</td>\n",
       "      <td>0</td>\n",
       "      <td>1983-10-12</td>\n",
       "      <td>0</td>\n",
       "      <td>0</td>\n",
       "      <td>1</td>\n",
       "      <td>2</td>\n",
       "      <td>36900</td>\n",
       "      <td>4355</td>\n",
       "      <td>856</td>\n",
       "      <td>0</td>\n",
       "      <td>856</td>\n",
       "      <td>0</td>\n",
       "      <td>1</td>\n",
       "    </tr>\n",
       "    <tr>\n",
       "      <th>2</th>\n",
       "      <td>1427447</td>\n",
       "      <td>825</td>\n",
       "      <td>1</td>\n",
       "      <td>NaN</td>\n",
       "      <td>1</td>\n",
       "      <td>0</td>\n",
       "      <td>1</td>\n",
       "      <td>1</td>\n",
       "      <td>26100</td>\n",
       "      <td>5466</td>\n",
       "      <td>522</td>\n",
       "      <td>0</td>\n",
       "      <td>522</td>\n",
       "      <td>0</td>\n",
       "      <td>1</td>\n",
       "    </tr>\n",
       "    <tr>\n",
       "      <th>3</th>\n",
       "      <td>1427437</td>\n",
       "      <td>997</td>\n",
       "      <td>0</td>\n",
       "      <td>1986-12-18</td>\n",
       "      <td>0</td>\n",
       "      <td>0</td>\n",
       "      <td>1</td>\n",
       "      <td>3</td>\n",
       "      <td>47200</td>\n",
       "      <td>5989</td>\n",
       "      <td>944</td>\n",
       "      <td>0</td>\n",
       "      <td>944</td>\n",
       "      <td>0</td>\n",
       "      <td>1</td>\n",
       "    </tr>\n",
       "    <tr>\n",
       "      <th>5</th>\n",
       "      <td>1427393</td>\n",
       "      <td>997</td>\n",
       "      <td>0</td>\n",
       "      <td>1967-12-03</td>\n",
       "      <td>0</td>\n",
       "      <td>0</td>\n",
       "      <td>1</td>\n",
       "      <td>3</td>\n",
       "      <td>34900</td>\n",
       "      <td>3532</td>\n",
       "      <td>698</td>\n",
       "      <td>0</td>\n",
       "      <td>698</td>\n",
       "      <td>0</td>\n",
       "      <td>0</td>\n",
       "    </tr>\n",
       "  </tbody>\n",
       "</table>\n",
       "</div>"
      ],
      "text/plain": [
       "    MEM_ID  M_STORE_ID  GENDER    BIRTH_DT  BIRTH_SL  ZIP_CD  RGST_DT  \\\n",
       "0  1427535       30017       1         NaN         1       0        0   \n",
       "1  1427464         997       0  1983-10-12         0       0        1   \n",
       "2  1427447         825       1         NaN         1       0        1   \n",
       "3  1427437         997       0  1986-12-18         0       0        1   \n",
       "5  1427393         997       0  1967-12-03         0       0        1   \n",
       "\n",
       "   VISIT_CNT  SALES_AMT  LAST_VST_DT  USABLE_PNT  USED_PNT  ACC_PNT  \\\n",
       "0          2      11000         1097         338         0      338   \n",
       "1          2      36900         4355         856         0      856   \n",
       "2          1      26100         5466         522         0      522   \n",
       "3          3      47200         5989         944         0      944   \n",
       "5          3      34900         3532         698         0      698   \n",
       "\n",
       "   USABLE_INIT  SMS  \n",
       "0            0    1  \n",
       "1            0    1  \n",
       "2            0    1  \n",
       "3            0    1  \n",
       "5            0    0  "
      ]
     },
     "execution_count": 11,
     "metadata": {},
     "output_type": "execute_result"
    }
   ],
   "source": [
    "mem_data.head()"
   ]
  },
  {
   "cell_type": "code",
   "execution_count": 24,
   "id": "3e0b80fa-93b0-4991-aae8-5a7fd2243635",
   "metadata": {},
   "outputs": [],
   "source": [
    "from sklearn.model_selection import train_test_split\n",
    "dfX = mem_data.drop(['MEM_ID','GENDER','BIRTH_DT'], axis=1) \n",
    "dfy = mem_data['GENDER']\n",
    "X_train, X_test, y_train, y_test = train_test_split(dfX, dfy, test_size=0.25, random_state=0)"
   ]
  },
  {
   "cell_type": "code",
   "execution_count": 25,
   "id": "602973db-d1f0-4da0-8d55-bdbac075a3a5",
   "metadata": {},
   "outputs": [],
   "source": [
    "from sklearn.dummy import DummyClassifier\n",
    "dummy = DummyClassifier(strategy='most_frequent').fit(X_train, y_train)\n",
    "pred_dummy = dummy.predict(X_test)"
   ]
  },
  {
   "cell_type": "code",
   "execution_count": 26,
   "id": "55fa5d11-53ff-4c8b-bd4f-4a69518a3966",
   "metadata": {},
   "outputs": [],
   "source": [
    "from sklearn.tree import DecisionTreeClassifier\n",
    "tree = DecisionTreeClassifier(max_depth=6).fit(X_train, y_train)\n",
    "pred_tree = tree.predict(X_test)"
   ]
  },
  {
   "cell_type": "code",
   "execution_count": 27,
   "id": "af6f4080-399a-4d84-aacd-a5c4d027b80e",
   "metadata": {},
   "outputs": [
    {
     "name": "stdout",
     "output_type": "stream",
     "text": [
      "Dummy model:\n",
      "0.49281532730175626\n",
      "Decision tree:\n",
      "0.8616285258116019\n"
     ]
    }
   ],
   "source": [
    "from sklearn.metrics import accuracy_score\n",
    "print(\"Dummy model:\")\n",
    "print(accuracy_score(y_test, pred_dummy))\n",
    "print(\"Decision tree:\")\n",
    "print(accuracy_score(y_test, pred_tree))"
   ]
  },
  {
   "cell_type": "code",
   "execution_count": 33,
   "id": "d328081b-1461-42a0-ba7b-78092a6c50d2",
   "metadata": {},
   "outputs": [
    {
     "data": {
      "text/plain": [
       "0.866418307610431"
      ]
     },
     "execution_count": 33,
     "metadata": {},
     "output_type": "execute_result"
    }
   ],
   "source": [
    "from sklearn.ensemble import RandomForestClassifier\n",
    "from imblearn.over_sampling import SMOTE\n",
    "XX, yy = SMOTE().fit_resample(X_train, y_train)\n",
    "tree_rf = RandomForestClassifier(n_estimators=100, random_state=0)\n",
    "tree_rf.fit(XX, yy).score(X_test, y_test)"
   ]
  },
  {
   "cell_type": "code",
   "execution_count": null,
   "id": "dceb7808-7b00-46be-a5e5-243033c40708",
   "metadata": {},
   "outputs": [],
   "source": []
  }
 ],
 "metadata": {
  "kernelspec": {
   "display_name": "Python 3 (ipykernel)",
   "language": "python",
   "name": "python3"
  },
  "language_info": {
   "codemirror_mode": {
    "name": "ipython",
    "version": 3
   },
   "file_extension": ".py",
   "mimetype": "text/x-python",
   "name": "python",
   "nbconvert_exporter": "python",
   "pygments_lexer": "ipython3",
   "version": "3.12.3"
  }
 },
 "nbformat": 4,
 "nbformat_minor": 5
}
