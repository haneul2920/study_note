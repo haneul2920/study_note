{
 "cells": [
  {
   "cell_type": "code",
   "execution_count": null,
   "id": "e676406d-8a4a-4592-95b0-d524bbd43ffc",
   "metadata": {},
   "outputs": [],
   "source": [
    "from sklearn.metrics import mean_squared_error\n",
    "import numpy as np"
   ]
  },
  {
   "cell_type": "markdown",
   "id": "d51a83b6-82ea-435f-9336-61f1b1825d4b",
   "metadata": {},
   "source": [
    "### 추천 시스템 평가방법\n",
    "- RMSE (평점 예측의 정확도 평가):\t낮을수록 예측이 정확함\n",
    "- Precision@K (추천 리스트의 정확도):\t높을수록 추천된 여행지가 실제로 좋은 여행지\n",
    "- Recall@K\t(추천 리스트의 포괄성): 높을수록 사용자가 좋아하는 여행지를 많이 추천함\n",
    "- NDCG (추천 순서의 품질 평가): 높을수록 좋은 여행지를 상위에 배치함"
   ]
  },
  {
   "cell_type": "code",
   "execution_count": 2,
   "id": "ed288199-7514-41c2-8c9b-56cc3ccf9e41",
   "metadata": {},
   "outputs": [],
   "source": [
    "# RMSE 계산\n",
    "def rmse(actual_ratings, predicted_ratings):\n",
    "    return np.sqrt(mean_squared_error(actual_ratings, predicted_ratings))\n",
    "\n",
    "# Precision@K 계산\n",
    "def precision_at_k(actual, recommended, k):\n",
    "    recommended_k = recommended[:k]\n",
    "    relevant = set(actual) & set(recommended_k)\n",
    "    return len(relevant) / k\n",
    "\n",
    "# Recall@K 계산\n",
    "def recall_at_k(actual, recommended, k):\n",
    "    relevant = set(actual) & set(recommended[:k])\n",
    "    return len(relevant) / len(actual) if len(actual) > 0 else 0\n",
    "\n",
    "# NDCG@K 계산\n",
    "def dcg_at_k(relevances, k):\n",
    "    relevances = np.array(relevances)[:k]\n",
    "    return np.sum(relevances / np.log2(np.arange(2, relevances.size + 2)))\n",
    "\n",
    "def ndcg_at_k(actual_ratings, predicted_ratings, k):\n",
    "    ideal_ratings = sorted(actual_ratings, reverse=True)[:k]\n",
    "    return dcg_at_k(predicted_ratings, k) / dcg_at_k(ideal_ratings, k)"
   ]
  },
  {
   "cell_type": "code",
   "execution_count": 3,
   "id": "0fa935da-7504-44fe-9534-2591b7792fd8",
   "metadata": {},
   "outputs": [],
   "source": [
    "# 샘플 데이터\n",
    "actual_ratings = [5, 4, 3, 5, 2]\n",
    "predicted_ratings = [4.8, 3.9, 3.2, 4.5, 2.5]\n",
    "\n",
    "actual_likes = [10, 20, 30, 40, 50]\n",
    "recommended_list = [10, 25, 30, 45, 50, 60, 70, 80]"
   ]
  },
  {
   "cell_type": "code",
   "execution_count": 4,
   "id": "822952c7-ec93-4112-874f-999d2b62327a",
   "metadata": {},
   "outputs": [
    {
     "name": "stdout",
     "output_type": "stream",
     "text": [
      "RMSE: 0.3435\n",
      "Precision@5: 0.6000\n",
      "Recall@5: 0.6000\n",
      "NDCG@5: 0.9628\n"
     ]
    }
   ],
   "source": [
    "# 평가\n",
    "k = 5\n",
    "print(f'RMSE: {rmse(actual_ratings, predicted_ratings):.4f}')\n",
    "print(f'Precision@{k}: {precision_at_k(actual_likes, recommended_list, k):.4f}')\n",
    "print(f'Recall@{k}: {recall_at_k(actual_likes, recommended_list, k):.4f}')\n",
    "print(f'NDCG@{k}: {ndcg_at_k(actual_ratings, predicted_ratings, k):.4f}')"
   ]
  },
  {
   "cell_type": "code",
   "execution_count": null,
   "id": "6a4d5289-56a4-4be7-a89d-01d66f2d5613",
   "metadata": {},
   "outputs": [],
   "source": []
  }
 ],
 "metadata": {
  "kernelspec": {
   "display_name": "Python 3 (ipykernel)",
   "language": "python",
   "name": "python3"
  },
  "language_info": {
   "codemirror_mode": {
    "name": "ipython",
    "version": 3
   },
   "file_extension": ".py",
   "mimetype": "text/x-python",
   "name": "python",
   "nbconvert_exporter": "python",
   "pygments_lexer": "ipython3",
   "version": "3.12.7"
  }
 },
 "nbformat": 4,
 "nbformat_minor": 5
}
