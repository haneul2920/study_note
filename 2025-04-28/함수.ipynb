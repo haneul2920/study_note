{
 "cells": [
  {
   "cell_type": "code",
   "execution_count": 26,
   "id": "e442bc93-c679-4684-aec2-80214416753f",
   "metadata": {},
   "outputs": [],
   "source": [
    "def say_myself(name, age, man=True):\n",
    "    print(\"나의 이름은 %s 입니다.\"%name)\n",
    "    print(\"나이는 %d 살 입니다.\"%age)\n",
    "    if man:\n",
    "        print(\"남자입니다.\")\n",
    "    else:\n",
    "        print(\"여자입니다.\")       \n",
    "\n"
   ]
  },
  {
   "cell_type": "code",
   "execution_count": 21,
   "id": "c3a8783a-7561-4fa9-b995-2427fee0098e",
   "metadata": {},
   "outputs": [
    {
     "name": "stdout",
     "output_type": "stream",
     "text": [
      "나의 이름은 박응용 입니다.\n",
      "나이는 27 살 입니다.\n",
      "남자입니다.\n"
     ]
    }
   ],
   "source": [
    "say_myself(\"박응용\",27)"
   ]
  },
  {
   "cell_type": "code",
   "execution_count": 24,
   "id": "e1b5ec78-b3c2-45ae-9c1f-51c765a7d11d",
   "metadata": {},
   "outputs": [],
   "source": [
    "a = 1\n",
    "def vartest(a):\n",
    "    a = a + 1"
   ]
  },
  {
   "cell_type": "code",
   "execution_count": 27,
   "id": "bacdbbdd-1d1a-4cb3-8818-76f372d9d8df",
   "metadata": {},
   "outputs": [
    {
     "name": "stdout",
     "output_type": "stream",
     "text": [
      "1\n"
     ]
    }
   ],
   "source": [
    "vartest(a)\n",
    "print(a)"
   ]
  },
  {
   "cell_type": "code",
   "execution_count": 34,
   "id": "11c7ffb1-3a73-463e-b57c-464c6935ac9f",
   "metadata": {},
   "outputs": [
    {
     "name": "stdout",
     "output_type": "stream",
     "text": [
      "???? 숫자 맞추기 게임을 시작합니다! ????\n"
     ]
    },
    {
     "name": "stdin",
     "output_type": "stream",
     "text": [
      "난이도를 선택하세요 (쉬움, 보통, 어려움):  쉬움\n"
     ]
    },
    {
     "name": "stdout",
     "output_type": "stream",
     "text": [
      "1부터 100 사이의 숫자를 맞혀보세요! (기회 10번)\n"
     ]
    },
    {
     "name": "stdin",
     "output_type": "stream",
     "text": [
      "1번째 시도:  1\n"
     ]
    },
    {
     "name": "stdout",
     "output_type": "stream",
     "text": [
      "???? 더 큰 숫자입니다!\n"
     ]
    },
    {
     "name": "stdin",
     "output_type": "stream",
     "text": [
      "2번째 시도:  2\n"
     ]
    },
    {
     "name": "stdout",
     "output_type": "stream",
     "text": [
      "???? 더 큰 숫자입니다!\n"
     ]
    },
    {
     "name": "stdin",
     "output_type": "stream",
     "text": [
      "3번째 시도:  3\n"
     ]
    },
    {
     "name": "stdout",
     "output_type": "stream",
     "text": [
      "???? 축하합니다! 3번 만에 숫자를 맞혔습니다! ????\n"
     ]
    }
   ],
   "source": [
    "\t\n",
    "import random\n",
    "\n",
    "def play_game():\n",
    "   print(\"???? 숫자 맞추기 게임을 시작합니다! ????\")\n",
    "   \n",
    "   # 난이도 설정\n",
    "   difficulty = input(\"난이도를 선택하세요 (쉬움, 보통, 어려움): \").strip().lower()\n",
    "   max_attempts = {\"쉬움\": 10, \"보통\": 7, \"어려움\": 5}.get(difficulty, 7)\n",
    "   \n",
    "   # 랜덤 숫자 생성\n",
    "   secret_number = random.randint(1, 10)\n",
    "   \n",
    "   print(f\"1부터 10 사이의 숫자를 맞혀보세요! (기회 {max_attempts}번)\")\n",
    "   \n",
    "   for attempt in range(1, max_attempts + 1):\n",
    "       try:\n",
    "           guess = int(input(f\"{attempt}번째 시도: \"))\n",
    "       except ValueError:\n",
    "           print(\"⚠️ 숫자를 입력하세요!\")\n",
    "           continue\n",
    "\n",
    "       # if, elif, else 활용 프로그램을 완성하시오.\n",
    "\n",
    "     \n",
    "       if secret_number > guess:\n",
    "           print(\"???? 더 큰 숫자입니다!\")\n",
    "       elif secret_number < guess :\n",
    "           print(\"???? 더 작은 숫자입니다!\")\n",
    "       elif secret_number == guess:\n",
    "           print(f\"???? 축하합니다! {attempt}번 만에 숫자를 맞혔습니다! ????\")   \n",
    "           return\n",
    "       else:\n",
    "           print(f\"???? 기회를 모두 사용했습니다. 정답은 {secret_number}였습니다.\")\n",
    "           return\n",
    "\n",
    "# 게임 시작\n",
    "play_game()"
   ]
  },
  {
   "cell_type": "code",
   "execution_count": 54,
   "id": "c4e06615-b74a-4565-beea-6b691e1bc752",
   "metadata": {},
   "outputs": [
    {
     "name": "stdout",
     "output_type": "stream",
     "text": [
      "✊✌️✋ 가위바위보 게임을 시작합니다! ✊✌️✋\n",
      "\n",
      "???? 1번째 대결! ????\n"
     ]
    },
    {
     "name": "stdin",
     "output_type": "stream",
     "text": [
      "가위, 바위, 보 중 하나를 선택하세요:  바위\n"
     ]
    },
    {
     "name": "stdout",
     "output_type": "stream",
     "text": [
      "컴퓨터의 선택: 바위\n",
      "???? 비겼습니다!\n",
      "\n",
      "???? 2번째 대결! ????\n"
     ]
    },
    {
     "name": "stdin",
     "output_type": "stream",
     "text": [
      "가위, 바위, 보 중 하나를 선택하세요:  바위\n"
     ]
    },
    {
     "name": "stdout",
     "output_type": "stream",
     "text": [
      "컴퓨터의 선택: 바위\n",
      "???? 비겼습니다!\n",
      "\n",
      "???? 3번째 대결! ????\n"
     ]
    },
    {
     "name": "stdin",
     "output_type": "stream",
     "text": [
      "가위, 바위, 보 중 하나를 선택하세요:  바위\n"
     ]
    },
    {
     "name": "stdout",
     "output_type": "stream",
     "text": [
      "컴퓨터의 선택: 보\n",
      "???? 컴퓨터가 이겼습니다.\n",
      "\n",
      "???? 최종 결과 ????\n",
      "???? 컴퓨터가 승리했습니다!\n"
     ]
    }
   ],
   "source": [
    "import random\n",
    "\n",
    "def play_rock_paper_scissors():\n",
    "   print(\"✊✌️✋ 가위바위보 게임을 시작합니다! ✊✌️✋\")\n",
    "   choices = [\"가위\", \"바위\", \"보\"]\n",
    "   score = {\"플레이어\": 0, \"컴퓨터\": 0}\n",
    "\n",
    "   \n",
    "   for round_num in range(1,4):\n",
    "       print(f\"\\n???? {round_num}번째 대결! ????\")\n",
    "       player_choice = input(\"가위, 바위, 보 중 하나를 선택하세요: \").strip()\n",
    "\n",
    "       if player_choice not in choices:\n",
    "           print(\"⚠️ 잘못된 입력입니다. 다시 입력하세요!\")\n",
    "           continue\n",
    "       \n",
    "       computer_choice = random.choice(choices)\n",
    "       print(f\"컴퓨터의 선택: {computer_choice}\")\n",
    "\n",
    "       # 승부 결정\n",
    "       if player_choice == computer_choice:\n",
    "           print(\"???? 비겼습니다!\")\n",
    "       elif (player_choice == \"가위\" and computer_choice == \"보\") or \\\n",
    "            (player_choice == \"바위\" and computer_choice == \"가위\") or \\\n",
    "            (player_choice == \"보\" and computer_choice == \"바위\"):\n",
    "           print(\"???? 당신이 이겼습니다!\")\n",
    "           score[\"플레이어\"] += 1\n",
    "       else:\n",
    "           print(\"???? 컴퓨터가 이겼습니다.\")\n",
    "           score[\"컴퓨터\"] += 1\n",
    "\n",
    "   # 최종 결과\n",
    "   print(\"\\n???? 최종 결과 ????\")\n",
    "   if score[\"플레이어\"] > score[\"컴퓨터\"]:\n",
    "       print(\"???? 당신이 승리했습니다! ????\")\n",
    "   elif score[\"플레이어\"] < score[\"컴퓨터\"]:\n",
    "       print(\"???? 컴퓨터가 승리했습니다!\")\n",
    "   else:\n",
    "       print(\"???? 무승부입니다!\")\n",
    "\n",
    "# 게임 시작\n",
    "play_rock_paper_scissors()"
   ]
  },
  {
   "cell_type": "code",
   "execution_count": 60,
   "id": "68bca2bb-9ef0-4f72-8227-bd095745c91a",
   "metadata": {},
   "outputs": [
    {
     "name": "stdout",
     "output_type": "stream",
     "text": [
      "???? 미로 탈출 게임을 시작합니다! ????\n",
      "출구까지 가는 길을 찾으세요! (왼쪽, 오른쪽, 위, 아래)\n",
      "ㅇ ⬛ ⬜ ⬜ ⬜ \n",
      "⬜ ⬛ ⬜ ⬛ ⬜ \n",
      "⬜ ⬜ ⬜ ⬛ ⬜ \n",
      "⬛ ⬛ ⬜ ⬛ ⬜ \n",
      "⬜ ⬜ ⬜ ⬜ ???? \n",
      "\n"
     ]
    },
    {
     "name": "stdin",
     "output_type": "stream",
     "text": [
      "???? 1번째 이동 (왼쪽/오른쪽/위/아래):  아래\n"
     ]
    },
    {
     "name": "stdout",
     "output_type": "stream",
     "text": [
      "⬜ ⬛ ⬜ ⬜ ⬜ \n",
      "ㅇ ⬛ ⬜ ⬛ ⬜ \n",
      "⬜ ⬜ ⬜ ⬛ ⬜ \n",
      "⬛ ⬛ ⬜ ⬛ ⬜ \n",
      "⬜ ⬜ ⬜ ⬜ ???? \n",
      "\n"
     ]
    },
    {
     "name": "stdin",
     "output_type": "stream",
     "text": [
      "???? 2번째 이동 (왼쪽/오른쪽/위/아래):  ㅇㅏ래\n"
     ]
    },
    {
     "name": "stdout",
     "output_type": "stream",
     "text": [
      "⚠️ 잘못된 입력입니다! 다시 입력하세요.\n",
      "⬜ ⬛ ⬜ ⬜ ⬜ \n",
      "ㅇ ⬛ ⬜ ⬛ ⬜ \n",
      "⬜ ⬜ ⬜ ⬛ ⬜ \n",
      "⬛ ⬛ ⬜ ⬛ ⬜ \n",
      "⬜ ⬜ ⬜ ⬜ ???? \n",
      "\n"
     ]
    },
    {
     "name": "stdin",
     "output_type": "stream",
     "text": [
      "???? 3번째 이동 (왼쪽/오른쪽/위/아래):  아래\n"
     ]
    },
    {
     "name": "stdout",
     "output_type": "stream",
     "text": [
      "⬜ ⬛ ⬜ ⬜ ⬜ \n",
      "⬜ ⬛ ⬜ ⬛ ⬜ \n",
      "ㅇ ⬜ ⬜ ⬛ ⬜ \n",
      "⬛ ⬛ ⬜ ⬛ ⬜ \n",
      "⬜ ⬜ ⬜ ⬜ ???? \n",
      "\n"
     ]
    },
    {
     "name": "stdin",
     "output_type": "stream",
     "text": [
      "???? 4번째 이동 (왼쪽/오른쪽/위/아래):  오른쪽\n"
     ]
    },
    {
     "name": "stdout",
     "output_type": "stream",
     "text": [
      "⬜ ⬛ ⬜ ⬜ ⬜ \n",
      "⬜ ⬛ ⬜ ⬛ ⬜ \n",
      "⬜ ㅇ ⬜ ⬛ ⬜ \n",
      "⬛ ⬛ ⬜ ⬛ ⬜ \n",
      "⬜ ⬜ ⬜ ⬜ ???? \n",
      "\n"
     ]
    },
    {
     "name": "stdin",
     "output_type": "stream",
     "text": [
      "???? 5번째 이동 (왼쪽/오른쪽/위/아래):  오른쪽\n"
     ]
    },
    {
     "name": "stdout",
     "output_type": "stream",
     "text": [
      "⬜ ⬛ ⬜ ⬜ ⬜ \n",
      "⬜ ⬛ ⬜ ⬛ ⬜ \n",
      "⬜ ⬜ ㅇ ⬛ ⬜ \n",
      "⬛ ⬛ ⬜ ⬛ ⬜ \n",
      "⬜ ⬜ ⬜ ⬜ ???? \n",
      "\n"
     ]
    },
    {
     "name": "stdin",
     "output_type": "stream",
     "text": [
      "???? 6번째 이동 (왼쪽/오른쪽/위/아래):  아래\n"
     ]
    },
    {
     "name": "stdout",
     "output_type": "stream",
     "text": [
      "⬜ ⬛ ⬜ ⬜ ⬜ \n",
      "⬜ ⬛ ⬜ ⬛ ⬜ \n",
      "⬜ ⬜ ⬜ ⬛ ⬜ \n",
      "⬛ ⬛ ㅇ ⬛ ⬜ \n",
      "⬜ ⬜ ⬜ ⬜ ???? \n",
      "\n"
     ]
    },
    {
     "name": "stdin",
     "output_type": "stream",
     "text": [
      "???? 7번째 이동 (왼쪽/오른쪽/위/아래):  아래\n"
     ]
    },
    {
     "name": "stdout",
     "output_type": "stream",
     "text": [
      "⬜ ⬛ ⬜ ⬜ ⬜ \n",
      "⬜ ⬛ ⬜ ⬛ ⬜ \n",
      "⬜ ⬜ ⬜ ⬛ ⬜ \n",
      "⬛ ⬛ ⬜ ⬛ ⬜ \n",
      "⬜ ⬜ ㅇ ⬜ ???? \n",
      "\n"
     ]
    },
    {
     "name": "stdin",
     "output_type": "stream",
     "text": [
      "???? 8번째 이동 (왼쪽/오른쪽/위/아래):  오른쪽\n"
     ]
    },
    {
     "name": "stdout",
     "output_type": "stream",
     "text": [
      "⬜ ⬛ ⬜ ⬜ ⬜ \n",
      "⬜ ⬛ ⬜ ⬛ ⬜ \n",
      "⬜ ⬜ ⬜ ⬛ ⬜ \n",
      "⬛ ⬛ ⬜ ⬛ ⬜ \n",
      "⬜ ⬜ ⬜ ㅇ ???? \n",
      "\n"
     ]
    },
    {
     "name": "stdin",
     "output_type": "stream",
     "text": [
      "???? 9번째 이동 (왼쪽/오른쪽/위/아래):  오른쪽\n"
     ]
    },
    {
     "name": "stdout",
     "output_type": "stream",
     "text": [
      "⬜ ⬛ ⬜ ⬜ ⬜ \n",
      "⬜ ⬛ ⬜ ⬛ ⬜ \n",
      "⬜ ⬜ ⬜ ⬛ ⬜ \n",
      "⬛ ⬛ ⬜ ⬛ ⬜ \n",
      "⬜ ⬜ ⬜ ⬜ ㅇ \n",
      "\n",
      "???? 축하합니다! 미로를 탈출했습니다! ????\n"
     ]
    }
   ],
   "source": [
    "def print_maze(maze, player_pos):\n",
    "   \"\"\"미로를 출력하는 함수\"\"\"\n",
    "   for r in range(len(maze)):\n",
    "       for c in range(len(maze[0])):\n",
    "           if (r, c) == player_pos:\n",
    "               print(\"ㅇ\", end=\" \")  # 플레이어 위치\n",
    "           else:\n",
    "               print(maze[r][c], end=\" \")\n",
    "       print()  # 줄 바꿈\n",
    "   print()  # 가독성을 위한 줄 바꿈\n",
    "\n",
    " \n",
    "\n",
    "def escape_maze():\n",
    "   print(\"???? 미로 탈출 게임을 시작합니다! ????\")\n",
    "   print(\"출구까지 가는 길을 찾으세요! (왼쪽, 오른쪽, 위, 아래)\")\n",
    "\n",
    "   # 5x5 미로 맵 ('⬜'은 길, '⬛'은 벽, '????'는 출구)\n",
    "   maze = [\n",
    "       [\"⬜\", \"⬛\", \"⬜\", \"⬜\", \"⬜\"],\n",
    "       [\"⬜\", \"⬛\", \"⬜\", \"⬛\", \"⬜\"],\n",
    "       [\"⬜\", \"⬜\", \"⬜\", \"⬛\", \"⬜\"],\n",
    "       [\"⬛\", \"⬛\", \"⬜\", \"⬛\", \"⬜\"],\n",
    "       [\"⬜\", \"⬜\", \"⬜\", \"⬜\", \"????\"],\n",
    "   ]\n",
    "\n",
    "   player_pos = (0, 0)  # 플레이어 시작 위치 (좌상단)\n",
    "   exit_pos = (4, 4)  # 출구 위치 (우하단)\n",
    "\n",
    "   moves = {\"왼쪽\": (0, -1), \"오른쪽\": (0, 1), \"위\": (-1, 0), \"아래\": (1, 0)}\n",
    "\n",
    "   for step in range(0,10): # 최대 10번 이동 가능\n",
    "       print_maze(maze, player_pos)\n",
    "\n",
    "       move = input(f\"???? {step+1}번째 이동 (왼쪽/오른쪽/위/아래): \").strip()\n",
    "\n",
    "       if move not in moves: # not in 활용\n",
    "           print(\"⚠️ 잘못된 입력입니다! 다시 입력하세요.\")\n",
    "           continue\n",
    "\n",
    "       # 새로운 위치 계산\n",
    "       new_r = player_pos[0] + moves[move][0]\n",
    "       new_c = player_pos[1] + moves[move][1]\n",
    "\n",
    "       # 이동 가능 여부 확인\n",
    "       if 0 <= new_r < 5 and 0 <= new_c < 5 and maze[new_r][new_c] != \"⬛\":\n",
    "           player_pos = (new_r, new_c)\n",
    "       else:\n",
    "           print(\"❌ 벽이 있거나 범위를 벗어났습니다!\")\n",
    "\n",
    "       # 출구 도착 체크\n",
    "       if new_r == 4 and new_c == 4:\n",
    "           print_maze(maze, player_pos)\n",
    "           print(\"???? 축하합니다! 미로를 탈출했습니다! ????\")\n",
    "           return\n",
    "\n",
    "   print(\"???? 이동 횟수를 모두 소진했습니다. 다시 도전하세요!\")\n",
    "\n",
    "# 게임 시작\n",
    "escape_maze()"
   ]
  },
  {
   "cell_type": "code",
   "execution_count": null,
   "id": "35f2ef98-800f-421a-bf78-e436cf75401a",
   "metadata": {},
   "outputs": [],
   "source": []
  }
 ],
 "metadata": {
  "kernelspec": {
   "display_name": "Python 3 (ipykernel)",
   "language": "python",
   "name": "python3"
  },
  "language_info": {
   "codemirror_mode": {
    "name": "ipython",
    "version": 3
   },
   "file_extension": ".py",
   "mimetype": "text/x-python",
   "name": "python",
   "nbconvert_exporter": "python",
   "pygments_lexer": "ipython3",
   "version": "3.12.7"
  }
 },
 "nbformat": 4,
 "nbformat_minor": 5
}
